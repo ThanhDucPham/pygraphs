{
 "cells": [
  {
   "cell_type": "markdown",
   "metadata": {},
   "source": [
    "# Do logarithmic proximity measures outperform plain ones in graph clustering?"
   ]
  },
  {
   "cell_type": "code",
   "execution_count": 1,
   "metadata": {},
   "outputs": [],
   "source": [
    "from collections import defaultdict\n",
    "from itertools import combinations\n",
    "import pickle\n",
    "import numpy as np\n",
    "import matplotlib.pyplot as plt\n",
    "%matplotlib inline\n",
    "from tqdm import tqdm_notebook as tqdm\n",
    "from sklearn.metrics import adjusted_rand_score"
   ]
  },
  {
   "cell_type": "code",
   "execution_count": 2,
   "metadata": {},
   "outputs": [],
   "source": [
    "import warnings\n",
    "warnings.filterwarnings(\"ignore\")"
   ]
  },
  {
   "cell_type": "code",
   "execution_count": 3,
   "metadata": {},
   "outputs": [],
   "source": [
    "from py_graphs.graphs.generator import StochasticBlockModel\n",
    "from py_graphs.measure import *\n",
    "from py_graphs.cluster.ward import Ward"
   ]
  },
  {
   "cell_type": "markdown",
   "metadata": {},
   "source": [
    "## 2. Logarithmic vs. plain measures\n",
    "Let $G(N,(m)p_{in}, p_{out})$ be the model of generating random graphs on $N$ nodes divided into $m$ classes of the same size, with $p_{in}$ and pout being the probability of $(i, j) \\in E(G)$ for $i$ and $j$ belonging to the same class and different classes, respectively, where $E(G)$ is the edge set of $G$.\n",
    "\n",
    "The curves in Figures 1–3 present the adjusted Rand index (averaged over 200 random graphs) for clustering with Ward’s\n",
    "method."
   ]
  },
  {
   "cell_type": "code",
   "execution_count": 4,
   "metadata": {},
   "outputs": [],
   "source": [
    "def classic_plot(measure_class, graphs, n_class):\n",
    "    raw_param_dict = defaultdict(list)\n",
    "    for graph_idx, (edges, nodes) in enumerate(tqdm(graphs, desc=measure_class.name)):\n",
    "        measure = measure_class(edges)\n",
    "        for param_flat in np.linspace(0, 1, 31):\n",
    "            try:\n",
    "                param = measure.scaler.scale(param_flat)\n",
    "                K = measure.get_K(param)\n",
    "                y_pred = Ward(n_class).predict(K)\n",
    "                ari = adjusted_rand_score(nodes, y_pred)\n",
    "                raw_param_dict[param_flat].append(ari)\n",
    "            except Exception as e:\n",
    "#                 print(\"{}, {:.2f}, graph {}: {}\".format(measure_class.name, param, graph_idx, e))\n",
    "                pass\n",
    "    for param, values in raw_param_dict.items():\n",
    "        raw_param_dict[param] = np.nanmean(values)\n",
    "    return list(zip(*sorted(raw_param_dict.items(), key=lambda x: x[0])))"
   ]
  },
  {
   "cell_type": "code",
   "execution_count": 5,
   "metadata": {},
   "outputs": [],
   "source": [
    "def draw(results):\n",
    "    fig, ax = plt.subplots(1, 4, figsize=(15, 4))\n",
    "    for idx, names in enumerate([\n",
    "        [('pWalk H', 'pWalk'), ('Walk H', 'Walk')],\n",
    "        [('For H', 'For'), ('logFor H', 'logFor')],\n",
    "        [('Comm H', 'Comm'), ('logComm H', 'logComm')],\n",
    "        [('Heat H', 'Heat'), ('logHeat H', 'logHeat')]\n",
    "    ]):\n",
    "        ax[idx].plot(results[names[0][0]][0], results[names[0][0]][1], label=names[0][1])\n",
    "        ax[idx].plot(results[names[1][0]][0], results[names[1][0]][1], label=names[1][1])\n",
    "        ax[idx].set_xlim(0, 1)\n",
    "        ax[idx].set_ylim(0.2, 1)\n",
    "        ax[idx].legend()"
   ]
  },
  {
   "cell_type": "markdown",
   "metadata": {},
   "source": [
    "### **Fig. 1** Logarithmic vs. plain measures for G(100,(2)0.2,0.05)"
   ]
  },
  {
   "cell_type": "code",
   "execution_count": null,
   "metadata": {
    "scrolled": true
   },
   "outputs": [
    {
     "data": {
      "application/vnd.jupyter.widget-view+json": {
       "model_id": "a6e9fffbc7fe4d9bb846b3e88d3dd71e",
       "version_major": 2,
       "version_minor": 0
      },
      "text/plain": [
       "HBox(children=(IntProgress(value=0, description='pWalk H', max=200), HTML(value='')))"
      ]
     },
     "metadata": {},
     "output_type": "display_data"
    }
   ],
   "source": [
    "results = defaultdict(list)\n",
    "graphs, info = StochasticBlockModel(100, 2, 0.2, 0.05).generate_graphs(200)\n",
    "for measure_class in [pWalk_H, Walk_H, For_H, logFor_H, Comm_H, logComm_H, Heat_H, logHeat_H]:\n",
    "    results[measure_class.name] = classic_plot(measure_class, graphs, 2)\n",
    "with open('results/2_1.pkl', 'wb') as f:\n",
    "    pickle.dump(results, f)"
   ]
  },
  {
   "cell_type": "code",
   "execution_count": null,
   "metadata": {},
   "outputs": [],
   "source": [
    "draw(results)"
   ]
  },
  {
   "cell_type": "markdown",
   "metadata": {},
   "source": [
    "### **Fig. 2** Logarithmic vs. plain measures for G(100,(3)0.3,0.1)"
   ]
  },
  {
   "cell_type": "code",
   "execution_count": null,
   "metadata": {},
   "outputs": [],
   "source": [
    "results = defaultdict(list)\n",
    "graphs, info = StochasticBlockModel(100, 3, 0.3, 0.1).generate_graphs(200)\n",
    "for measure_class in [pWalk_H, Walk_H, For_H, logFor_H, Comm_H, logComm_H, Heat_H, logHeat_H]:\n",
    "    results[measure_class.name] = classic_plot(measure_class, graphs, 3)\n",
    "with open('results/2_2.pkl', 'wb') as f:\n",
    "    pickle.dump(results, f)"
   ]
  },
  {
   "cell_type": "code",
   "execution_count": null,
   "metadata": {},
   "outputs": [],
   "source": [
    "draw(results)"
   ]
  },
  {
   "cell_type": "markdown",
   "metadata": {},
   "source": [
    "### **Fig. 3** Logarithmic vs. plain measures for G(200,(2)0.3,0.1)"
   ]
  },
  {
   "cell_type": "code",
   "execution_count": null,
   "metadata": {},
   "outputs": [],
   "source": [
    "results = defaultdict(list)\n",
    "graphs, info = StochasticBlockModel(200, 2, 0.3, 0.1).generate_graphs(100)\n",
    "for measure_class in [pWalk_H, Walk_H, For_H, logFor_H, Comm_H, logComm_H, Heat_H, logHeat_H]:\n",
    "    results[measure_class.name] = classic_plot(measure_class, graphs, 2)\n",
    "with open('results/2_3.pkl', 'wb') as f:\n",
    "    pickle.dump(results, f)"
   ]
  },
  {
   "cell_type": "code",
   "execution_count": null,
   "metadata": {},
   "outputs": [],
   "source": [
    "draw(results)"
   ]
  },
  {
   "cell_type": "markdown",
   "metadata": {},
   "source": [
    "## 3. Competition by Copeland’s score\n",
    "The competition has been performed on random graphs generated with the $G(N,(m)p_{in}, p_{out})$ model and the following parameters: $N \\in {100, 200}$, the number of classes $m \\in {2, 4}$, $p_{in} = 0.3$, $p_{out} \\in {0.1, 0.15}$. For every combination of parameters, we generated 50 graphs and for each of them we computed the best ARI’s the measure families reached. The results are presented in Table 1(a)."
   ]
  },
  {
   "cell_type": "markdown",
   "metadata": {},
   "source": [
    "### find best params and 95% percentile"
   ]
  },
  {
   "cell_type": "code",
   "execution_count": null,
   "metadata": {},
   "outputs": [],
   "source": [
    "results = defaultdict(lambda: defaultdict(0))\n",
    "for n_nodes in [100, 200]:\n",
    "    for n_classes in [2, 4]:\n",
    "        for p_out in [0.1, 0.15]:\n",
    "            column = (n_nodes, n_classes, p_out)\n",
    "            graphs, info = StochasticBlockModel(n_nodes, n_classes, 0.3, p_out).generate_graphs(50)\n",
    "            for measure_class in H_kernels_plus_RSP_FE:\n",
    "                results[column][measure_class.name] = classic_plot(measure_class, graphs, n_classes)"
   ]
  },
  {
   "cell_type": "markdown",
   "metadata": {},
   "source": [
    "### calc competition for given params"
   ]
  },
  {
   "cell_type": "code",
   "execution_count": null,
   "metadata": {},
   "outputs": [],
   "source": [
    "def copeland(results):\n",
    "    scores = defaultdict(lambda: 0)\n",
    "    for a, b in list(combinations(enumerate(results), 2)):\n",
    "        if a[1] > b[1]:\n",
    "            scores[a[0]] += 1 \n",
    "            scores[b[0]] -= 1\n",
    "        elif a[1] < b[1]:\n",
    "            scores[a[0]] -= 1\n",
    "            scores[b[0]] += 1\n",
    "    return scores"
   ]
  },
  {
   "cell_type": "raw",
   "metadata": {},
   "source": [
    "results = defaultdict(lambda: defaultdict(0))\n",
    "for n_nodes in [100, 200]:\n",
    "    for n_classes in [2, 4]:\n",
    "        for p_out in [0.1, 0.15]:\n",
    "            column = (n_nodes, n_classes, p_out)\n",
    "            graphs, info = StochasticBlockModel(n_nodes, n_classes, 0.3, p_out).generate_graphs(50)\n",
    "            for graph in tqdm(graphs, desc=str(column)):\n",
    "                for measure_class in H_kernels_plus_RSP_FE, desc=str(column):\n",
    "                    for \n",
    "                "
   ]
  },
  {
   "cell_type": "code",
   "execution_count": null,
   "metadata": {},
   "outputs": [],
   "source": []
  }
 ],
 "metadata": {
  "kernelspec": {
   "display_name": "Python 3",
   "language": "python",
   "name": "python3"
  },
  "language_info": {
   "codemirror_mode": {
    "name": "ipython",
    "version": 3
   },
   "file_extension": ".py",
   "mimetype": "text/x-python",
   "name": "python",
   "nbconvert_exporter": "python",
   "pygments_lexer": "ipython3",
   "version": "3.6.5"
  }
 },
 "nbformat": 4,
 "nbformat_minor": 2
}
