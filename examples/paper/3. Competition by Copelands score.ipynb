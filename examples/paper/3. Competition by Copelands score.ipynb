{
 "cells": [
  {
   "cell_type": "markdown",
   "metadata": {},
   "source": [
    "# Do logarithmic proximity measures outperform plain ones in graph clustering?"
   ]
  },
  {
   "cell_type": "code",
   "execution_count": 1,
   "metadata": {},
   "outputs": [],
   "source": [
    "import os\n",
    "os.environ[\"OPENBLAS_NUM_THREADS\"] = \"1\""
   ]
  },
  {
   "cell_type": "code",
   "execution_count": 13,
   "metadata": {},
   "outputs": [],
   "source": [
    "import sys\n",
    "from pylab import *\n",
    "from collections import defaultdict\n",
    "from itertools import combinations, product\n",
    "import pickle\n",
    "import numpy as np\n",
    "import matplotlib.pyplot as plt\n",
    "%matplotlib inline\n",
    "from tqdm import tqdm_notebook as tqdm\n",
    "from sklearn.metrics import adjusted_rand_score"
   ]
  },
  {
   "cell_type": "code",
   "execution_count": 3,
   "metadata": {},
   "outputs": [],
   "source": [
    "import warnings\n",
    "warnings.filterwarnings(\"ignore\")"
   ]
  },
  {
   "cell_type": "code",
   "execution_count": 4,
   "metadata": {},
   "outputs": [],
   "source": [
    "sys.path.append('..')\n",
    "from py_graphs.graphs.generator import StochasticBlockModel\n",
    "from py_graphs.measure import *\n",
    "from py_graphs.measure import H_kernels_plus_RSP_FE\n",
    "from py_graphs.cluster.ward import Ward\n",
    "from py_graphs.colors import d3\n",
    "from py_graphs.scenario import *\n",
    "from py_graphs.scorer import copeland"
   ]
  },
  {
   "cell_type": "code",
   "execution_count": 5,
   "metadata": {},
   "outputs": [],
   "source": [
    "def load_or_calc_and_save(filename):\n",
    "    def my_decorator(func):\n",
    "        def wrapped():\n",
    "            if os.path.exists(filename):\n",
    "                print('File exist! Skip calculations')\n",
    "                with open(filename, 'rb') as f:\n",
    "                    result = pickle.load(f)\n",
    "            else:\n",
    "                result = func()\n",
    "                with open(filename, 'wb') as f:\n",
    "                    pickle.dump(result, f)\n",
    "            return result\n",
    "        return wrapped\n",
    "    return my_decorator"
   ]
  },
  {
   "cell_type": "code",
   "execution_count": 6,
   "metadata": {},
   "outputs": [],
   "source": [
    "def ddict2dict(d):\n",
    "    for k, v in d.items():\n",
    "        if isinstance(v, dict):\n",
    "            d[k] = ddict2dict(v)\n",
    "    return dict(d)"
   ]
  },
  {
   "cell_type": "code",
   "execution_count": 16,
   "metadata": {},
   "outputs": [],
   "source": [
    "measures_right_order = [\n",
    "    'pWalk H',\n",
    "    'Walk H',\n",
    "    'For H',\n",
    "    'logFor H',\n",
    "    'Comm H',\n",
    "    'logComm H',\n",
    "    'Heat H',\n",
    "    'logHeat H',\n",
    "    'SCT H',\n",
    "    'SCCT H',\n",
    "    'RSP K',\n",
    "    'FE K',    \n",
    "    'SP-CT H'\n",
    "]"
   ]
  },
  {
   "cell_type": "markdown",
   "metadata": {},
   "source": [
    "## 3. Competition by Copeland’s score\n",
    "The competition has been performed on random graphs generated with the $G(N,(m)p_{in}, p_{out})$ model and the following parameters: $N \\in {100, 200}$, the number of classes $m \\in {2, 4}$, $p_{in} = 0.3$, $p_{out} \\in {0.1, 0.15}$. For every combination of parameters, we generated 50 graphs and for each of them we computed the best ARI’s the measure families reached. The results are presented in Table 1(a)."
   ]
  },
  {
   "cell_type": "markdown",
   "metadata": {},
   "source": [
    "### find best params and 95% percentile"
   ]
  },
  {
   "cell_type": "code",
   "execution_count": 22,
   "metadata": {},
   "outputs": [
    {
     "data": {
      "application/vnd.jupyter.widget-view+json": {
       "model_id": "b2309d50d08f4c95ad3ee8a2b2f7d9f9",
       "version_major": 2,
       "version_minor": 0
      },
      "text/html": [
       "<p>Failed to display Jupyter Widget of type <code>HBox</code>.</p>\n",
       "<p>\n",
       "  If you're reading this message in the Jupyter Notebook or JupyterLab Notebook, it may mean\n",
       "  that the widgets JavaScript is still loading. If this message persists, it\n",
       "  likely means that the widgets JavaScript library is either not installed or\n",
       "  not enabled. See the <a href=\"https://ipywidgets.readthedocs.io/en/stable/user_install.html\">Jupyter\n",
       "  Widgets Documentation</a> for setup instructions.\n",
       "</p>\n",
       "<p>\n",
       "  If you're reading this message in another frontend (for example, a static\n",
       "  rendering on GitHub or <a href=\"https://nbviewer.jupyter.org/\">NBViewer</a>),\n",
       "  it may mean that your frontend doesn't currently support widgets.\n",
       "</p>\n"
      ],
      "text/plain": [
       "HBox(children=(IntProgress(value=0, max=8), HTML(value='')))"
      ]
     },
     "metadata": {},
     "output_type": "display_data"
    },
    {
     "data": {
      "application/vnd.jupyter.widget-view+json": {
       "model_id": "9493ffbe0a324a779ecf461d7b4f2f7f",
       "version_major": 2,
       "version_minor": 0
      },
      "text/html": [
       "<p>Failed to display Jupyter Widget of type <code>HBox</code>.</p>\n",
       "<p>\n",
       "  If you're reading this message in the Jupyter Notebook or JupyterLab Notebook, it may mean\n",
       "  that the widgets JavaScript is still loading. If this message persists, it\n",
       "  likely means that the widgets JavaScript library is either not installed or\n",
       "  not enabled. See the <a href=\"https://ipywidgets.readthedocs.io/en/stable/user_install.html\">Jupyter\n",
       "  Widgets Documentation</a> for setup instructions.\n",
       "</p>\n",
       "<p>\n",
       "  If you're reading this message in another frontend (for example, a static\n",
       "  rendering on GitHub or <a href=\"https://nbviewer.jupyter.org/\">NBViewer</a>),\n",
       "  it may mean that your frontend doesn't currently support widgets.\n",
       "</p>\n"
      ],
      "text/plain": [
       "HBox(children=(IntProgress(value=0, description='(100, 2, 0.1)', max=13), HTML(value='')))"
      ]
     },
     "metadata": {},
     "output_type": "display_data"
    },
    {
     "data": {
      "application/vnd.jupyter.widget-view+json": {
       "model_id": "58f415631b254b61accffe47214f44c1",
       "version_major": 2,
       "version_minor": 0
      },
      "text/html": [
       "<p>Failed to display Jupyter Widget of type <code>HBox</code>.</p>\n",
       "<p>\n",
       "  If you're reading this message in the Jupyter Notebook or JupyterLab Notebook, it may mean\n",
       "  that the widgets JavaScript is still loading. If this message persists, it\n",
       "  likely means that the widgets JavaScript library is either not installed or\n",
       "  not enabled. See the <a href=\"https://ipywidgets.readthedocs.io/en/stable/user_install.html\">Jupyter\n",
       "  Widgets Documentation</a> for setup instructions.\n",
       "</p>\n",
       "<p>\n",
       "  If you're reading this message in another frontend (for example, a static\n",
       "  rendering on GitHub or <a href=\"https://nbviewer.jupyter.org/\">NBViewer</a>),\n",
       "  it may mean that your frontend doesn't currently support widgets.\n",
       "</p>\n"
      ],
      "text/plain": [
       "HBox(children=(IntProgress(value=0, description='(100, 2, 0.15)', max=13), HTML(value='')))"
      ]
     },
     "metadata": {},
     "output_type": "display_data"
    },
    {
     "data": {
      "application/vnd.jupyter.widget-view+json": {
       "model_id": "065a90a37f704f1585f91d909fda454a",
       "version_major": 2,
       "version_minor": 0
      },
      "text/html": [
       "<p>Failed to display Jupyter Widget of type <code>HBox</code>.</p>\n",
       "<p>\n",
       "  If you're reading this message in the Jupyter Notebook or JupyterLab Notebook, it may mean\n",
       "  that the widgets JavaScript is still loading. If this message persists, it\n",
       "  likely means that the widgets JavaScript library is either not installed or\n",
       "  not enabled. See the <a href=\"https://ipywidgets.readthedocs.io/en/stable/user_install.html\">Jupyter\n",
       "  Widgets Documentation</a> for setup instructions.\n",
       "</p>\n",
       "<p>\n",
       "  If you're reading this message in another frontend (for example, a static\n",
       "  rendering on GitHub or <a href=\"https://nbviewer.jupyter.org/\">NBViewer</a>),\n",
       "  it may mean that your frontend doesn't currently support widgets.\n",
       "</p>\n"
      ],
      "text/plain": [
       "HBox(children=(IntProgress(value=0, description='(100, 4, 0.1)', max=13), HTML(value='')))"
      ]
     },
     "metadata": {},
     "output_type": "display_data"
    },
    {
     "data": {
      "application/vnd.jupyter.widget-view+json": {
       "model_id": "7b71f10ff6a34c838951bdb731a4ee6e",
       "version_major": 2,
       "version_minor": 0
      },
      "text/html": [
       "<p>Failed to display Jupyter Widget of type <code>HBox</code>.</p>\n",
       "<p>\n",
       "  If you're reading this message in the Jupyter Notebook or JupyterLab Notebook, it may mean\n",
       "  that the widgets JavaScript is still loading. If this message persists, it\n",
       "  likely means that the widgets JavaScript library is either not installed or\n",
       "  not enabled. See the <a href=\"https://ipywidgets.readthedocs.io/en/stable/user_install.html\">Jupyter\n",
       "  Widgets Documentation</a> for setup instructions.\n",
       "</p>\n",
       "<p>\n",
       "  If you're reading this message in another frontend (for example, a static\n",
       "  rendering on GitHub or <a href=\"https://nbviewer.jupyter.org/\">NBViewer</a>),\n",
       "  it may mean that your frontend doesn't currently support widgets.\n",
       "</p>\n"
      ],
      "text/plain": [
       "HBox(children=(IntProgress(value=0, description='(100, 4, 0.15)', max=13), HTML(value='')))"
      ]
     },
     "metadata": {},
     "output_type": "display_data"
    },
    {
     "data": {
      "application/vnd.jupyter.widget-view+json": {
       "model_id": "a8eadcbb3d664e57bfa1c3280215be85",
       "version_major": 2,
       "version_minor": 0
      },
      "text/html": [
       "<p>Failed to display Jupyter Widget of type <code>HBox</code>.</p>\n",
       "<p>\n",
       "  If you're reading this message in the Jupyter Notebook or JupyterLab Notebook, it may mean\n",
       "  that the widgets JavaScript is still loading. If this message persists, it\n",
       "  likely means that the widgets JavaScript library is either not installed or\n",
       "  not enabled. See the <a href=\"https://ipywidgets.readthedocs.io/en/stable/user_install.html\">Jupyter\n",
       "  Widgets Documentation</a> for setup instructions.\n",
       "</p>\n",
       "<p>\n",
       "  If you're reading this message in another frontend (for example, a static\n",
       "  rendering on GitHub or <a href=\"https://nbviewer.jupyter.org/\">NBViewer</a>),\n",
       "  it may mean that your frontend doesn't currently support widgets.\n",
       "</p>\n"
      ],
      "text/plain": [
       "HBox(children=(IntProgress(value=0, description='(200, 2, 0.1)', max=13), HTML(value='')))"
      ]
     },
     "metadata": {},
     "output_type": "display_data"
    },
    {
     "data": {
      "application/vnd.jupyter.widget-view+json": {
       "model_id": "8fe3893630d248798be2d1785cc89e5a",
       "version_major": 2,
       "version_minor": 0
      },
      "text/html": [
       "<p>Failed to display Jupyter Widget of type <code>HBox</code>.</p>\n",
       "<p>\n",
       "  If you're reading this message in the Jupyter Notebook or JupyterLab Notebook, it may mean\n",
       "  that the widgets JavaScript is still loading. If this message persists, it\n",
       "  likely means that the widgets JavaScript library is either not installed or\n",
       "  not enabled. See the <a href=\"https://ipywidgets.readthedocs.io/en/stable/user_install.html\">Jupyter\n",
       "  Widgets Documentation</a> for setup instructions.\n",
       "</p>\n",
       "<p>\n",
       "  If you're reading this message in another frontend (for example, a static\n",
       "  rendering on GitHub or <a href=\"https://nbviewer.jupyter.org/\">NBViewer</a>),\n",
       "  it may mean that your frontend doesn't currently support widgets.\n",
       "</p>\n"
      ],
      "text/plain": [
       "HBox(children=(IntProgress(value=0, description='(200, 2, 0.15)', max=13), HTML(value='')))"
      ]
     },
     "metadata": {},
     "output_type": "display_data"
    },
    {
     "data": {
      "application/vnd.jupyter.widget-view+json": {
       "model_id": "0239b5bdb1f84313aba3935aa649a6fe",
       "version_major": 2,
       "version_minor": 0
      },
      "text/html": [
       "<p>Failed to display Jupyter Widget of type <code>HBox</code>.</p>\n",
       "<p>\n",
       "  If you're reading this message in the Jupyter Notebook or JupyterLab Notebook, it may mean\n",
       "  that the widgets JavaScript is still loading. If this message persists, it\n",
       "  likely means that the widgets JavaScript library is either not installed or\n",
       "  not enabled. See the <a href=\"https://ipywidgets.readthedocs.io/en/stable/user_install.html\">Jupyter\n",
       "  Widgets Documentation</a> for setup instructions.\n",
       "</p>\n",
       "<p>\n",
       "  If you're reading this message in another frontend (for example, a static\n",
       "  rendering on GitHub or <a href=\"https://nbviewer.jupyter.org/\">NBViewer</a>),\n",
       "  it may mean that your frontend doesn't currently support widgets.\n",
       "</p>\n"
      ],
      "text/plain": [
       "HBox(children=(IntProgress(value=0, description='(200, 4, 0.1)', max=13), HTML(value='')))"
      ]
     },
     "metadata": {},
     "output_type": "display_data"
    },
    {
     "data": {
      "application/vnd.jupyter.widget-view+json": {
       "model_id": "ccf9784c14104a6382f610f0c1770d3c",
       "version_major": 2,
       "version_minor": 0
      },
      "text/html": [
       "<p>Failed to display Jupyter Widget of type <code>HBox</code>.</p>\n",
       "<p>\n",
       "  If you're reading this message in the Jupyter Notebook or JupyterLab Notebook, it may mean\n",
       "  that the widgets JavaScript is still loading. If this message persists, it\n",
       "  likely means that the widgets JavaScript library is either not installed or\n",
       "  not enabled. See the <a href=\"https://ipywidgets.readthedocs.io/en/stable/user_install.html\">Jupyter\n",
       "  Widgets Documentation</a> for setup instructions.\n",
       "</p>\n",
       "<p>\n",
       "  If you're reading this message in another frontend (for example, a static\n",
       "  rendering on GitHub or <a href=\"https://nbviewer.jupyter.org/\">NBViewer</a>),\n",
       "  it may mean that your frontend doesn't currently support widgets.\n",
       "</p>\n"
      ],
      "text/plain": [
       "HBox(children=(IntProgress(value=0, description='(200, 4, 0.15)', max=13), HTML(value='')))"
      ]
     },
     "metadata": {},
     "output_type": "display_data"
    },
    {
     "name": "stdout",
     "output_type": "stream",
     "text": [
      "\n",
      "(100, 4, 0.1)\tHeat H  \t0.00 (0.40)\t0.77 (0.11)\n",
      "(100, 4, 0.1)\tFE K    \t0.83 (0.64)\t0.87 (0.63)\n",
      "(100, 4, 0.1)\tlogComm H\t0.53 (0.76)\t0.50 (0.75)\n",
      "(100, 4, 0.1)\tSCCT H  \t0.27 (0.66)\t0.40 (0.66)\n",
      "(100, 4, 0.1)\tFor H   \t0.00 (0.40)\t0.13 (0.01)\n",
      "(100, 4, 0.1)\tRSP K   \t0.93 (0.63)\t0.87 (0.61)\n",
      "(100, 4, 0.1)\tlogHeat H\t0.37 (0.69)\t0.27 (0.67)\n",
      "(100, 4, 0.1)\tpWalk H \t0.73 (0.64)\t0.77 (0.64)\n",
      "(100, 4, 0.1)\tlogFor H\t0.43 (0.64)\t0.30 (0.63)\n",
      "(100, 4, 0.1)\tSP-CT H \t0.10 (0.42)\t0.07 (0.41)\n",
      "(100, 4, 0.1)\tSCT H   \t0.47 (0.64)\t0.60 (0.63)\n",
      "(100, 4, 0.1)\tWalk H  \t0.47 (0.64)\t0.70 (0.64)\n",
      "(100, 4, 0.1)\tComm H  \t0.37 (0.69)\t0.27 (0.67)\n",
      "(100, 2, 0.1)\tHeat H  \t0.67 (0.86)\t0.63 (0.86)\n",
      "(100, 2, 0.1)\tFE K    \t0.83 (0.92)\t0.93 (0.92)\n",
      "(100, 2, 0.1)\tlogComm H\t0.47 (1.00)\t0.73 (1.00)\n",
      "(100, 2, 0.1)\tSCCT H  \t0.53 (0.99)\t0.03 (0.98)\n",
      "(100, 2, 0.1)\tFor H   \t0.93 (0.61)\t0.83 (0.60)\n",
      "(100, 2, 0.1)\tRSP K   \t0.97 (0.94)\t0.87 (0.89)\n",
      "(100, 2, 0.1)\tlogHeat H\t0.47 (0.99)\t0.43 (0.98)\n",
      "(100, 2, 0.1)\tpWalk H \t0.83 (0.92)\t0.73 (0.92)\n",
      "(100, 2, 0.1)\tlogFor H\t0.33 (0.95)\t0.43 (0.93)\n",
      "(100, 2, 0.1)\tSP-CT H \t0.03 (0.79)\t0.50 (0.77)\n",
      "(100, 2, 0.1)\tSCT H   \t0.47 (0.94)\t0.57 (0.93)\n",
      "(100, 2, 0.1)\tWalk H  \t0.57 (0.93)\t0.77 (0.93)\n",
      "(100, 2, 0.1)\tComm H  \t0.37 (0.99)\t0.30 (0.97)\n",
      "(200, 2, 0.15)\tHeat H  \t0.63 (0.83)\t0.57 (0.81)\n",
      "(200, 2, 0.15)\tFE K    \t0.73 (0.79)\t0.83 (0.78)\n",
      "(200, 2, 0.15)\tlogComm H\t0.53 (1.00)\t0.57 (1.00)\n",
      "(200, 2, 0.15)\tSCCT H  \t0.03 (0.95)\t0.13 (0.95)\n",
      "(200, 2, 0.15)\tFor H   \t0.00 (0.05)\t0.40 (0.01)\n",
      "(200, 2, 0.15)\tRSP K   \t0.97 (0.83)\t0.87 (0.76)\n",
      "(200, 2, 0.15)\tlogHeat H\t0.30 (0.94)\t0.23 (0.90)\n",
      "(200, 2, 0.15)\tpWalk H \t0.83 (0.81)\t0.80 (0.80)\n",
      "(200, 2, 0.15)\tlogFor H\t0.10 (0.81)\t0.13 (0.80)\n",
      "(200, 2, 0.15)\tSP-CT H \t0.03 (0.55)\t0.20 (0.54)\n",
      "(200, 2, 0.15)\tSCT H   \t0.47 (0.85)\t0.40 (0.84)\n",
      "(200, 2, 0.15)\tWalk H  \t0.53 (0.82)\t0.60 (0.81)\n",
      "(200, 2, 0.15)\tComm H  \t0.20 (0.90)\t0.13 (0.86)\n",
      "(200, 2, 0.1)\tHeat H  \t0.33 (1.00)\t0.33 (1.00)\n",
      "(200, 2, 0.1)\tFE K    \t0.80 (0.97)\t0.70 (0.97)\n",
      "(200, 2, 0.1)\tlogComm H\t0.23 (1.00)\t0.23 (1.00)\n",
      "(200, 2, 0.1)\tSCCT H  \t0.03 (1.00)\t0.03 (1.00)\n",
      "(200, 2, 0.1)\tFor H   \t0.97 (0.86)\t0.73 (0.86)\n",
      "(200, 2, 0.1)\tRSP K   \t0.97 (0.98)\t0.87 (0.95)\n",
      "(200, 2, 0.1)\tlogHeat H\t0.33 (1.00)\t0.33 (1.00)\n",
      "(200, 2, 0.1)\tpWalk H \t0.83 (0.98)\t0.87 (0.97)\n",
      "(200, 2, 0.1)\tlogFor H\t0.23 (0.98)\t0.10 (0.97)\n",
      "(200, 2, 0.1)\tSP-CT H \t0.00 (0.86)\t0.17 (0.84)\n",
      "(200, 2, 0.1)\tSCT H   \t0.73 (0.98)\t0.70 (0.98)\n",
      "(200, 2, 0.1)\tWalk H  \t0.57 (0.97)\t0.43 (0.97)\n",
      "(200, 2, 0.1)\tComm H  \t0.23 (1.00)\t0.17 (0.99)\n",
      "(200, 4, 0.15)\tHeat H  \t0.00 (0.57)\t0.67 (0.03)\n",
      "(200, 4, 0.15)\tFE K    \t0.77 (0.37)\t0.63 (0.37)\n",
      "(200, 4, 0.15)\tlogComm H\t0.50 (0.70)\t0.43 (0.68)\n",
      "(200, 4, 0.15)\tSCCT H  \t0.67 (0.48)\t0.20 (0.48)\n",
      "(200, 4, 0.15)\tFor H   \t0.00 (0.57)\t0.03 (0.00)\n",
      "(200, 4, 0.15)\tRSP K   \t0.93 (0.38)\t0.90 (0.37)\n",
      "(200, 4, 0.15)\tlogHeat H\t0.13 (0.43)\t0.07 (0.39)\n",
      "(200, 4, 0.15)\tpWalk H \t0.00 (0.57)\t0.87 (0.40)\n",
      "(200, 4, 0.15)\tlogFor H\t0.10 (0.39)\t0.03 (0.38)\n",
      "(200, 4, 0.15)\tSP-CT H \t0.13 (0.17)\t0.10 (0.16)\n",
      "(200, 4, 0.15)\tSCT H   \t0.43 (0.41)\t0.63 (0.40)\n",
      "(200, 4, 0.15)\tWalk H  \t0.50 (0.42)\t0.40 (0.40)\n",
      "(200, 4, 0.15)\tComm H  \t0.00 (0.57)\t0.13 (0.42)\n",
      "(100, 4, 0.15)\tHeat H  \t0.00 (0.40)\t0.87 (0.03)\n",
      "(100, 4, 0.15)\tFE K    \t0.83 (0.23)\t0.73 (0.22)\n",
      "(100, 4, 0.15)\tlogComm H\t0.47 (0.29)\t0.60 (0.28)\n",
      "(100, 4, 0.15)\tSCCT H  \t0.00 (0.31)\t0.67 (0.21)\n",
      "(100, 4, 0.15)\tFor H   \t0.00 (0.40)\t0.23 (0.00)\n",
      "(100, 4, 0.15)\tRSP K   \t0.90 (0.24)\t0.97 (0.22)\n",
      "(100, 4, 0.15)\tlogHeat H\t0.17 (0.25)\t0.23 (0.23)\n",
      "(100, 4, 0.15)\tpWalk H \t0.00 (0.40)\t0.70 (0.23)\n",
      "(100, 4, 0.15)\tlogFor H\t0.37 (0.24)\t0.27 (0.23)\n",
      "(100, 4, 0.15)\tSP-CT H \t1.00 (0.16)\t0.37 (0.14)\n",
      "(100, 4, 0.15)\tSCT H   \t0.00 (0.31)\t0.93 (0.22)\n",
      "(100, 4, 0.15)\tWalk H  \t0.77 (0.24)\t0.80 (0.23)\n",
      "(100, 4, 0.15)\tComm H  \t0.00 (0.40)\t0.27 (0.24)\n",
      "(200, 4, 0.1)\tHeat H  \t0.00 (0.57)\t0.50 (0.49)\n",
      "(200, 4, 0.1)\tFE K    \t0.87 (0.78)\t0.73 (0.78)\n",
      "(200, 4, 0.1)\tlogComm H\t0.47 (0.98)\t0.43 (0.98)\n",
      "(200, 4, 0.1)\tSCCT H  \t0.53 (0.92)\t0.57 (0.92)\n",
      "(200, 4, 0.1)\tFor H   \t0.00 (0.57)\t0.90 (0.03)\n",
      "(200, 4, 0.1)\tRSP K   \t0.97 (0.80)\t0.87 (0.75)\n",
      "(200, 4, 0.1)\tlogHeat H\t0.33 (0.92)\t0.27 (0.87)\n",
      "(200, 4, 0.1)\tpWalk H \t0.83 (0.81)\t0.77 (0.80)\n",
      "(200, 4, 0.1)\tlogFor H\t0.20 (0.82)\t0.13 (0.81)\n",
      "(200, 4, 0.1)\tSP-CT H \t0.03 (0.51)\t0.80 (0.49)\n",
      "(200, 4, 0.1)\tSCT H   \t0.40 (0.84)\t0.47 (0.82)\n",
      "(200, 4, 0.1)\tWalk H  \t0.60 (0.83)\t0.53 (0.82)\n",
      "(200, 4, 0.1)\tComm H  \t0.27 (0.90)\t0.20 (0.86)\n",
      "(100, 2, 0.15)\tHeat H  \t0.83 (0.19)\t0.77 (0.17)\n",
      "(100, 2, 0.15)\tFE K    \t0.77 (0.64)\t0.93 (0.62)\n",
      "(100, 2, 0.15)\tlogComm H\t0.67 (0.90)\t0.80 (0.89)\n",
      "(100, 2, 0.15)\tSCCT H  \t0.03 (0.78)\t0.07 (0.78)\n",
      "(100, 2, 0.15)\tFor H   \t0.03 (0.00)\t0.03 (0.00)\n",
      "(100, 2, 0.15)\tRSP K   \t0.93 (0.68)\t0.90 (0.63)\n",
      "(100, 2, 0.15)\tlogHeat H\t0.33 (0.78)\t0.23 (0.72)\n",
      "(100, 2, 0.15)\tpWalk H \t0.77 (0.65)\t0.73 (0.64)\n",
      "(100, 2, 0.15)\tlogFor H\t0.23 (0.66)\t0.13 (0.65)\n",
      "(100, 2, 0.15)\tSP-CT H \t0.03 (0.46)\t0.50 (0.45)\n",
      "(100, 2, 0.15)\tSCT H   \t0.47 (0.69)\t0.93 (0.69)\n",
      "(100, 2, 0.15)\tWalk H  \t0.67 (0.68)\t0.70 (0.67)\n",
      "(100, 2, 0.15)\tComm H  \t0.30 (0.76)\t0.33 (0.68)\n"
     ]
    }
   ],
   "source": [
    "@load_or_calc_and_save('results/3_best_params_2.pkl')\n",
    "def calc():\n",
    "    # calc data to find best params\n",
    "    results = defaultdict(lambda: defaultdict(lambda: 0))\n",
    "    for column in tqdm(list(product([100, 200], [2, 4], [0.1, 0.15]))):\n",
    "        n_nodes, n_classes, p_out = column\n",
    "        graphs, info = StochasticBlockModel(n_nodes, n_classes, 0.3, p_out).generate_graphs(50)\n",
    "        classic_plot = ParallelByGraphs(adjusted_rand_score, np.linspace(0, 1, 31), progressbar=False)\n",
    "        for measure_class in tqdm(H_kernels_plus_RSP_FE, desc=str(column)):\n",
    "            results[column][measure_class.name] = classic_plot.perform(Ward, measure_class, graphs, n_classes, n_jobs=6)\n",
    "            \n",
    "    # find best params\n",
    "    best_params = defaultdict(lambda: defaultdict(lambda: 0))\n",
    "    percentile_params = defaultdict(lambda: defaultdict(lambda: 0))\n",
    "    for column, measures in results.items():\n",
    "        for measure_name, measure_results in measures.items():\n",
    "            x, y, error = measure_results\n",
    "            best_idx = np.argmax(y)\n",
    "            percentile_idx = list(y).index(np.percentile(y, 90, interpolation='lower'))\n",
    "\n",
    "            print('{}\\t{}\\t{:0.2f} ({:0.2f})\\t{:0.2f} ({:0.2f})'.format(\n",
    "                column, measure_name.ljust(8, ' '), x[best_idx], y[best_idx], x[percentile_idx], y[percentile_idx]))\n",
    "            best_params[column][measure_name] = x[best_idx]\n",
    "            percentile_params[column][measure_name] = x[percentile_idx]\n",
    "    return (ddict2dict(best_params), ddict2dict(percentile_params))\n",
    "\n",
    "best_params, percentile_params = calc()"
   ]
  },
  {
   "cell_type": "markdown",
   "metadata": {},
   "source": [
    "### calc competition for given params"
   ]
  },
  {
   "cell_type": "code",
   "execution_count": 14,
   "metadata": {},
   "outputs": [
    {
     "data": {
      "application/vnd.jupyter.widget-view+json": {
       "model_id": "2f5a3de1f35c4d64bdb933cf3fcbb9a2",
       "version_major": 2,
       "version_minor": 0
      },
      "text/html": [
       "<p>Failed to display Jupyter Widget of type <code>HBox</code>.</p>\n",
       "<p>\n",
       "  If you're reading this message in the Jupyter Notebook or JupyterLab Notebook, it may mean\n",
       "  that the widgets JavaScript is still loading. If this message persists, it\n",
       "  likely means that the widgets JavaScript library is either not installed or\n",
       "  not enabled. See the <a href=\"https://ipywidgets.readthedocs.io/en/stable/user_install.html\">Jupyter\n",
       "  Widgets Documentation</a> for setup instructions.\n",
       "</p>\n",
       "<p>\n",
       "  If you're reading this message in another frontend (for example, a static\n",
       "  rendering on GitHub or <a href=\"https://nbviewer.jupyter.org/\">NBViewer</a>),\n",
       "  it may mean that your frontend doesn't currently support widgets.\n",
       "</p>\n"
      ],
      "text/plain": [
       "HBox(children=(IntProgress(value=0, max=8), HTML(value='')))"
      ]
     },
     "metadata": {},
     "output_type": "display_data"
    },
    {
     "data": {
      "application/vnd.jupyter.widget-view+json": {
       "model_id": "6246ad3585574038886b704e8a78605c",
       "version_major": 2,
       "version_minor": 0
      },
      "text/html": [
       "<p>Failed to display Jupyter Widget of type <code>HBox</code>.</p>\n",
       "<p>\n",
       "  If you're reading this message in the Jupyter Notebook or JupyterLab Notebook, it may mean\n",
       "  that the widgets JavaScript is still loading. If this message persists, it\n",
       "  likely means that the widgets JavaScript library is either not installed or\n",
       "  not enabled. See the <a href=\"https://ipywidgets.readthedocs.io/en/stable/user_install.html\">Jupyter\n",
       "  Widgets Documentation</a> for setup instructions.\n",
       "</p>\n",
       "<p>\n",
       "  If you're reading this message in another frontend (for example, a static\n",
       "  rendering on GitHub or <a href=\"https://nbviewer.jupyter.org/\">NBViewer</a>),\n",
       "  it may mean that your frontend doesn't currently support widgets.\n",
       "</p>\n"
      ],
      "text/plain": [
       "HBox(children=(IntProgress(value=0, description='(100, 2, 0.1)'), HTML(value='')))"
      ]
     },
     "metadata": {},
     "output_type": "display_data"
    },
    {
     "name": "stderr",
     "output_type": "stream",
     "text": [
      "Exception in thread Thread-4:\n",
      "Traceback (most recent call last):\n",
      "  File \"/usr/lib/python3.5/threading.py\", line 914, in _bootstrap_inner\n",
      "    self.run()\n",
      "  File \"/usr/local/lib/python3.5/dist-packages/tqdm/_tqdm.py\", line 148, in run\n",
      "    for instance in self.tqdm_cls._instances:\n",
      "  File \"/usr/lib/python3.5/_weakrefset.py\", line 60, in __iter__\n",
      "    for itemref in self.data:\n",
      "RuntimeError: Set changed size during iteration\n",
      "\n"
     ]
    },
    {
     "data": {
      "application/vnd.jupyter.widget-view+json": {
       "model_id": "9d3c21ceefea400c8921270c7d7029bf",
       "version_major": 2,
       "version_minor": 0
      },
      "text/html": [
       "<p>Failed to display Jupyter Widget of type <code>HBox</code>.</p>\n",
       "<p>\n",
       "  If you're reading this message in the Jupyter Notebook or JupyterLab Notebook, it may mean\n",
       "  that the widgets JavaScript is still loading. If this message persists, it\n",
       "  likely means that the widgets JavaScript library is either not installed or\n",
       "  not enabled. See the <a href=\"https://ipywidgets.readthedocs.io/en/stable/user_install.html\">Jupyter\n",
       "  Widgets Documentation</a> for setup instructions.\n",
       "</p>\n",
       "<p>\n",
       "  If you're reading this message in another frontend (for example, a static\n",
       "  rendering on GitHub or <a href=\"https://nbviewer.jupyter.org/\">NBViewer</a>),\n",
       "  it may mean that your frontend doesn't currently support widgets.\n",
       "</p>\n"
      ],
      "text/plain": [
       "HBox(children=(IntProgress(value=0, description='(100, 2, 0.15)'), HTML(value='')))"
      ]
     },
     "metadata": {},
     "output_type": "display_data"
    },
    {
     "data": {
      "application/vnd.jupyter.widget-view+json": {
       "model_id": "d80e257e01c24274aa2917edc0138ed1",
       "version_major": 2,
       "version_minor": 0
      },
      "text/html": [
       "<p>Failed to display Jupyter Widget of type <code>HBox</code>.</p>\n",
       "<p>\n",
       "  If you're reading this message in the Jupyter Notebook or JupyterLab Notebook, it may mean\n",
       "  that the widgets JavaScript is still loading. If this message persists, it\n",
       "  likely means that the widgets JavaScript library is either not installed or\n",
       "  not enabled. See the <a href=\"https://ipywidgets.readthedocs.io/en/stable/user_install.html\">Jupyter\n",
       "  Widgets Documentation</a> for setup instructions.\n",
       "</p>\n",
       "<p>\n",
       "  If you're reading this message in another frontend (for example, a static\n",
       "  rendering on GitHub or <a href=\"https://nbviewer.jupyter.org/\">NBViewer</a>),\n",
       "  it may mean that your frontend doesn't currently support widgets.\n",
       "</p>\n"
      ],
      "text/plain": [
       "HBox(children=(IntProgress(value=0, description='(100, 4, 0.1)'), HTML(value='')))"
      ]
     },
     "metadata": {},
     "output_type": "display_data"
    },
    {
     "data": {
      "application/vnd.jupyter.widget-view+json": {
       "model_id": "a0efa2705dea4e06b7979f7d053642b3",
       "version_major": 2,
       "version_minor": 0
      },
      "text/html": [
       "<p>Failed to display Jupyter Widget of type <code>HBox</code>.</p>\n",
       "<p>\n",
       "  If you're reading this message in the Jupyter Notebook or JupyterLab Notebook, it may mean\n",
       "  that the widgets JavaScript is still loading. If this message persists, it\n",
       "  likely means that the widgets JavaScript library is either not installed or\n",
       "  not enabled. See the <a href=\"https://ipywidgets.readthedocs.io/en/stable/user_install.html\">Jupyter\n",
       "  Widgets Documentation</a> for setup instructions.\n",
       "</p>\n",
       "<p>\n",
       "  If you're reading this message in another frontend (for example, a static\n",
       "  rendering on GitHub or <a href=\"https://nbviewer.jupyter.org/\">NBViewer</a>),\n",
       "  it may mean that your frontend doesn't currently support widgets.\n",
       "</p>\n"
      ],
      "text/plain": [
       "HBox(children=(IntProgress(value=0, description='(100, 4, 0.15)'), HTML(value='')))"
      ]
     },
     "metadata": {},
     "output_type": "display_data"
    },
    {
     "data": {
      "application/vnd.jupyter.widget-view+json": {
       "model_id": "ddf1a169d05c4b7dba76894eceaaa3db",
       "version_major": 2,
       "version_minor": 0
      },
      "text/html": [
       "<p>Failed to display Jupyter Widget of type <code>HBox</code>.</p>\n",
       "<p>\n",
       "  If you're reading this message in the Jupyter Notebook or JupyterLab Notebook, it may mean\n",
       "  that the widgets JavaScript is still loading. If this message persists, it\n",
       "  likely means that the widgets JavaScript library is either not installed or\n",
       "  not enabled. See the <a href=\"https://ipywidgets.readthedocs.io/en/stable/user_install.html\">Jupyter\n",
       "  Widgets Documentation</a> for setup instructions.\n",
       "</p>\n",
       "<p>\n",
       "  If you're reading this message in another frontend (for example, a static\n",
       "  rendering on GitHub or <a href=\"https://nbviewer.jupyter.org/\">NBViewer</a>),\n",
       "  it may mean that your frontend doesn't currently support widgets.\n",
       "</p>\n"
      ],
      "text/plain": [
       "HBox(children=(IntProgress(value=0, description='(200, 2, 0.1)'), HTML(value='')))"
      ]
     },
     "metadata": {},
     "output_type": "display_data"
    },
    {
     "data": {
      "application/vnd.jupyter.widget-view+json": {
       "model_id": "7b4906b442134c83b917c6f803658bab",
       "version_major": 2,
       "version_minor": 0
      },
      "text/html": [
       "<p>Failed to display Jupyter Widget of type <code>HBox</code>.</p>\n",
       "<p>\n",
       "  If you're reading this message in the Jupyter Notebook or JupyterLab Notebook, it may mean\n",
       "  that the widgets JavaScript is still loading. If this message persists, it\n",
       "  likely means that the widgets JavaScript library is either not installed or\n",
       "  not enabled. See the <a href=\"https://ipywidgets.readthedocs.io/en/stable/user_install.html\">Jupyter\n",
       "  Widgets Documentation</a> for setup instructions.\n",
       "</p>\n",
       "<p>\n",
       "  If you're reading this message in another frontend (for example, a static\n",
       "  rendering on GitHub or <a href=\"https://nbviewer.jupyter.org/\">NBViewer</a>),\n",
       "  it may mean that your frontend doesn't currently support widgets.\n",
       "</p>\n"
      ],
      "text/plain": [
       "HBox(children=(IntProgress(value=0, description='(200, 2, 0.15)'), HTML(value='')))"
      ]
     },
     "metadata": {},
     "output_type": "display_data"
    },
    {
     "data": {
      "application/vnd.jupyter.widget-view+json": {
       "model_id": "7508db7d9d5d45078f1601e3251c0cda",
       "version_major": 2,
       "version_minor": 0
      },
      "text/html": [
       "<p>Failed to display Jupyter Widget of type <code>HBox</code>.</p>\n",
       "<p>\n",
       "  If you're reading this message in the Jupyter Notebook or JupyterLab Notebook, it may mean\n",
       "  that the widgets JavaScript is still loading. If this message persists, it\n",
       "  likely means that the widgets JavaScript library is either not installed or\n",
       "  not enabled. See the <a href=\"https://ipywidgets.readthedocs.io/en/stable/user_install.html\">Jupyter\n",
       "  Widgets Documentation</a> for setup instructions.\n",
       "</p>\n",
       "<p>\n",
       "  If you're reading this message in another frontend (for example, a static\n",
       "  rendering on GitHub or <a href=\"https://nbviewer.jupyter.org/\">NBViewer</a>),\n",
       "  it may mean that your frontend doesn't currently support widgets.\n",
       "</p>\n"
      ],
      "text/plain": [
       "HBox(children=(IntProgress(value=0, description='(200, 4, 0.1)'), HTML(value='')))"
      ]
     },
     "metadata": {},
     "output_type": "display_data"
    },
    {
     "data": {
      "application/vnd.jupyter.widget-view+json": {
       "model_id": "55f5fa45fc4f4784bf2afa85833b667c",
       "version_major": 2,
       "version_minor": 0
      },
      "text/html": [
       "<p>Failed to display Jupyter Widget of type <code>HBox</code>.</p>\n",
       "<p>\n",
       "  If you're reading this message in the Jupyter Notebook or JupyterLab Notebook, it may mean\n",
       "  that the widgets JavaScript is still loading. If this message persists, it\n",
       "  likely means that the widgets JavaScript library is either not installed or\n",
       "  not enabled. See the <a href=\"https://ipywidgets.readthedocs.io/en/stable/user_install.html\">Jupyter\n",
       "  Widgets Documentation</a> for setup instructions.\n",
       "</p>\n",
       "<p>\n",
       "  If you're reading this message in another frontend (for example, a static\n",
       "  rendering on GitHub or <a href=\"https://nbviewer.jupyter.org/\">NBViewer</a>),\n",
       "  it may mean that your frontend doesn't currently support widgets.\n",
       "</p>\n"
      ],
      "text/plain": [
       "HBox(children=(IntProgress(value=0, description='(200, 4, 0.15)'), HTML(value='')))"
      ]
     },
     "metadata": {},
     "output_type": "display_data"
    },
    {
     "name": "stdout",
     "output_type": "stream",
     "text": [
      "divide by zero encountered in double_scalars\n",
      "divide by zero encountered in double_scalars\n",
      "divide by zero encountered in double_scalars\n",
      "divide by zero encountered in double_scalars\n",
      "divide by zero encountered in double_scalars\n",
      "divide by zero encountered in double_scalars\n",
      "divide by zero encountered in double_scalars\n",
      "divide by zero encountered in double_scalars\n",
      "divide by zero encountered in double_scalars\n",
      "divide by zero encountered in double_scalars\n",
      "divide by zero encountered in double_scalars\n",
      "divide by zero encountered in double_scalars\n",
      "divide by zero encountered in double_scalars\n",
      "divide by zero encountered in double_scalars\n",
      "divide by zero encountered in double_scalars\n",
      "divide by zero encountered in double_scalars\n",
      "divide by zero encountered in double_scalars\n",
      "divide by zero encountered in double_scalars\n",
      "divide by zero encountered in double_scalars\n",
      "divide by zero encountered in double_scalars\n",
      "divide by zero encountered in double_scalars\n",
      "divide by zero encountered in double_scalars\n",
      "divide by zero encountered in double_scalars\n",
      "divide by zero encountered in double_scalars\n",
      "divide by zero encountered in double_scalars\n",
      "divide by zero encountered in double_scalars\n",
      "divide by zero encountered in double_scalars\n",
      "divide by zero encountered in double_scalars\n",
      "divide by zero encountered in double_scalars\n",
      "divide by zero encountered in double_scalars\n",
      "divide by zero encountered in double_scalars\n",
      "divide by zero encountered in double_scalars\n",
      "divide by zero encountered in double_scalars\n",
      "divide by zero encountered in double_scalars\n",
      "\n"
     ]
    },
    {
     "ename": "KeyboardInterrupt",
     "evalue": "",
     "output_type": "error",
     "traceback": [
      "\u001b[0;31m---------------------------------------------------------------------------\u001b[0m",
      "\u001b[0;31mKeyboardInterrupt\u001b[0m                         Traceback (most recent call last)",
      "\u001b[0;32m<ipython-input-14-db2322b72ff5>\u001b[0m in \u001b[0;36m<module>\u001b[0;34m()\u001b[0m\n\u001b[1;32m     12\u001b[0m                 \u001b[0mparam\u001b[0m \u001b[0;34m=\u001b[0m \u001b[0mkernel\u001b[0m\u001b[0;34m.\u001b[0m\u001b[0mscaler\u001b[0m\u001b[0;34m.\u001b[0m\u001b[0mscale\u001b[0m\u001b[0;34m(\u001b[0m\u001b[0mbest_param\u001b[0m\u001b[0;34m)\u001b[0m\u001b[0;34m\u001b[0m\u001b[0m\n\u001b[1;32m     13\u001b[0m                 \u001b[0mK\u001b[0m \u001b[0;34m=\u001b[0m \u001b[0mkernel\u001b[0m\u001b[0;34m.\u001b[0m\u001b[0mget_K\u001b[0m\u001b[0;34m(\u001b[0m\u001b[0mparam\u001b[0m\u001b[0;34m)\u001b[0m\u001b[0;34m\u001b[0m\u001b[0m\n\u001b[0;32m---> 14\u001b[0;31m                 \u001b[0my_pred\u001b[0m \u001b[0;34m=\u001b[0m \u001b[0mWard\u001b[0m\u001b[0;34m(\u001b[0m\u001b[0mn_classes\u001b[0m\u001b[0;34m)\u001b[0m\u001b[0;34m.\u001b[0m\u001b[0mpredict\u001b[0m\u001b[0;34m(\u001b[0m\u001b[0mK\u001b[0m\u001b[0;34m)\u001b[0m\u001b[0;34m\u001b[0m\u001b[0m\n\u001b[0m\u001b[1;32m     15\u001b[0m                 \u001b[0mari\u001b[0m \u001b[0;34m=\u001b[0m \u001b[0madjusted_rand_score\u001b[0m\u001b[0;34m(\u001b[0m\u001b[0mnodes\u001b[0m\u001b[0;34m,\u001b[0m \u001b[0my_pred\u001b[0m\u001b[0;34m)\u001b[0m\u001b[0;34m\u001b[0m\u001b[0m\n\u001b[1;32m     16\u001b[0m                 \u001b[0msingle_competition_best\u001b[0m\u001b[0;34m[\u001b[0m\u001b[0mkernel_class\u001b[0m\u001b[0;34m.\u001b[0m\u001b[0mname\u001b[0m\u001b[0;34m]\u001b[0m \u001b[0;34m=\u001b[0m \u001b[0mari\u001b[0m\u001b[0;34m\u001b[0m\u001b[0m\n",
      "\u001b[0;32m/notebook/GitHub/py_graphs/py_graphs/cluster/ward.py\u001b[0m in \u001b[0;36mpredict\u001b[0;34m(self, K)\u001b[0m\n\u001b[1;32m     38\u001b[0m         \u001b[0mclusters\u001b[0m \u001b[0;34m=\u001b[0m \u001b[0;34m[\u001b[0m\u001b[0mCluster\u001b[0m\u001b[0;34m(\u001b[0m\u001b[0;34m[\u001b[0m\u001b[0mi\u001b[0m\u001b[0;34m]\u001b[0m\u001b[0;34m,\u001b[0m \u001b[0mK\u001b[0m\u001b[0;34m.\u001b[0m\u001b[0mshape\u001b[0m\u001b[0;34m[\u001b[0m\u001b[0;36m0\u001b[0m\u001b[0;34m]\u001b[0m\u001b[0;34m)\u001b[0m \u001b[0;32mfor\u001b[0m \u001b[0mi\u001b[0m \u001b[0;32min\u001b[0m \u001b[0mrange\u001b[0m\u001b[0;34m(\u001b[0m\u001b[0mK\u001b[0m\u001b[0;34m.\u001b[0m\u001b[0mshape\u001b[0m\u001b[0;34m[\u001b[0m\u001b[0;36m0\u001b[0m\u001b[0;34m]\u001b[0m\u001b[0;34m)\u001b[0m\u001b[0;34m]\u001b[0m\u001b[0;34m\u001b[0m\u001b[0m\n\u001b[1;32m     39\u001b[0m         \u001b[0;32mfor\u001b[0m \u001b[0mi\u001b[0m \u001b[0;32min\u001b[0m \u001b[0mrange\u001b[0m\u001b[0;34m(\u001b[0m\u001b[0mK\u001b[0m\u001b[0;34m.\u001b[0m\u001b[0mshape\u001b[0m\u001b[0;34m[\u001b[0m\u001b[0;36m0\u001b[0m\u001b[0;34m]\u001b[0m \u001b[0;34m-\u001b[0m \u001b[0mself\u001b[0m\u001b[0;34m.\u001b[0m\u001b[0mn_clusters\u001b[0m\u001b[0;34m)\u001b[0m\u001b[0;34m:\u001b[0m\u001b[0;34m\u001b[0m\u001b[0m\n\u001b[0;32m---> 40\u001b[0;31m             \u001b[0mself\u001b[0m\u001b[0;34m.\u001b[0m\u001b[0m_iteration\u001b[0m\u001b[0;34m(\u001b[0m\u001b[0mK\u001b[0m\u001b[0;34m,\u001b[0m \u001b[0mclusters\u001b[0m\u001b[0;34m)\u001b[0m\u001b[0;34m\u001b[0m\u001b[0m\n\u001b[0m\u001b[1;32m     41\u001b[0m \u001b[0;34m\u001b[0m\u001b[0m\n\u001b[1;32m     42\u001b[0m         \u001b[0mresult\u001b[0m \u001b[0;34m=\u001b[0m \u001b[0mnp\u001b[0m\u001b[0;34m.\u001b[0m\u001b[0mzeros\u001b[0m\u001b[0;34m(\u001b[0m\u001b[0;34m(\u001b[0m\u001b[0mK\u001b[0m\u001b[0;34m.\u001b[0m\u001b[0mshape\u001b[0m\u001b[0;34m[\u001b[0m\u001b[0;36m0\u001b[0m\u001b[0;34m]\u001b[0m\u001b[0;34m,\u001b[0m\u001b[0;34m)\u001b[0m\u001b[0;34m,\u001b[0m \u001b[0mdtype\u001b[0m\u001b[0;34m=\u001b[0m\u001b[0mnp\u001b[0m\u001b[0;34m.\u001b[0m\u001b[0mint\u001b[0m\u001b[0;34m)\u001b[0m\u001b[0;34m\u001b[0m\u001b[0m\n",
      "\u001b[0;32m/notebook/GitHub/py_graphs/py_graphs/cluster/ward.py\u001b[0m in \u001b[0;36m_iteration\u001b[0;34m(self, K, clusters)\u001b[0m\n\u001b[1;32m     50\u001b[0m         \u001b[0;32mfor\u001b[0m \u001b[0mCk_idx\u001b[0m\u001b[0;34m,\u001b[0m \u001b[0mCk\u001b[0m \u001b[0;32min\u001b[0m \u001b[0menumerate\u001b[0m\u001b[0;34m(\u001b[0m\u001b[0mclusters\u001b[0m\u001b[0;34m)\u001b[0m\u001b[0;34m:\u001b[0m\u001b[0;34m\u001b[0m\u001b[0m\n\u001b[1;32m     51\u001b[0m             \u001b[0;32mfor\u001b[0m \u001b[0mCl_idx\u001b[0m\u001b[0;34m,\u001b[0m \u001b[0mCl\u001b[0m \u001b[0;32min\u001b[0m \u001b[0menumerate\u001b[0m\u001b[0;34m(\u001b[0m\u001b[0mclusters\u001b[0m\u001b[0;34m[\u001b[0m\u001b[0mCk_idx\u001b[0m \u001b[0;34m+\u001b[0m \u001b[0;36m1\u001b[0m\u001b[0;34m:\u001b[0m\u001b[0;34m]\u001b[0m\u001b[0;34m)\u001b[0m\u001b[0;34m:\u001b[0m\u001b[0;34m\u001b[0m\u001b[0m\n\u001b[0;32m---> 52\u001b[0;31m                 \u001b[0mcurrentΔJ\u001b[0m \u001b[0;34m=\u001b[0m \u001b[0mCk\u001b[0m\u001b[0;34m.\u001b[0m\u001b[0mgetΔJ\u001b[0m\u001b[0;34m(\u001b[0m\u001b[0mK\u001b[0m\u001b[0;34m,\u001b[0m \u001b[0mCl\u001b[0m\u001b[0;34m)\u001b[0m\u001b[0;34m\u001b[0m\u001b[0m\n\u001b[0m\u001b[1;32m     53\u001b[0m                 \u001b[0;32mif\u001b[0m \u001b[0mcurrentΔJ\u001b[0m \u001b[0;34m<\u001b[0m \u001b[0mminΔJ\u001b[0m\u001b[0;34m:\u001b[0m\u001b[0;34m\u001b[0m\u001b[0m\n\u001b[1;32m     54\u001b[0m                     \u001b[0mminCk\u001b[0m\u001b[0;34m,\u001b[0m \u001b[0mminCl\u001b[0m\u001b[0;34m,\u001b[0m \u001b[0mminΔJ\u001b[0m \u001b[0;34m=\u001b[0m \u001b[0mCk\u001b[0m\u001b[0;34m,\u001b[0m \u001b[0mCl\u001b[0m\u001b[0;34m,\u001b[0m \u001b[0mcurrentΔJ\u001b[0m\u001b[0;34m\u001b[0m\u001b[0m\n",
      "\u001b[0;32m/notebook/GitHub/py_graphs/py_graphs/cluster/ward.py\u001b[0m in \u001b[0;36mgetΔJ\u001b[0;34m(self, K, Cl)\u001b[0m\n\u001b[1;32m     16\u001b[0m \u001b[0;34m\u001b[0m\u001b[0m\n\u001b[1;32m     17\u001b[0m     \u001b[0;32mdef\u001b[0m \u001b[0mgetΔJ\u001b[0m\u001b[0;34m(\u001b[0m\u001b[0mself\u001b[0m\u001b[0;34m,\u001b[0m \u001b[0mK\u001b[0m\u001b[0;34m,\u001b[0m \u001b[0mCl\u001b[0m\u001b[0;34m)\u001b[0m\u001b[0;34m:\u001b[0m\u001b[0;34m\u001b[0m\u001b[0m\n\u001b[0;32m---> 18\u001b[0;31m         \u001b[0;32mreturn\u001b[0m \u001b[0mself\u001b[0m\u001b[0;34m.\u001b[0m\u001b[0mΔJ\u001b[0m\u001b[0;34m[\u001b[0m\u001b[0mCl\u001b[0m\u001b[0;34m]\u001b[0m \u001b[0;32mif\u001b[0m \u001b[0mCl\u001b[0m \u001b[0;32min\u001b[0m \u001b[0mself\u001b[0m\u001b[0;34m.\u001b[0m\u001b[0mΔJ\u001b[0m \u001b[0;32melse\u001b[0m \u001b[0mself\u001b[0m\u001b[0;34m.\u001b[0m\u001b[0mcalcΔJ\u001b[0m\u001b[0;34m(\u001b[0m\u001b[0mK\u001b[0m\u001b[0;34m,\u001b[0m \u001b[0mCl\u001b[0m\u001b[0;34m)\u001b[0m\u001b[0;34m\u001b[0m\u001b[0m\n\u001b[0m\u001b[1;32m     19\u001b[0m \u001b[0;34m\u001b[0m\u001b[0m\n\u001b[1;32m     20\u001b[0m     \u001b[0;31m# ΔJ = (n_k * n_l)/(n_k + n_l) * (h_k - h_l)^T * K * (h_k - h_l)\u001b[0m\u001b[0;34m\u001b[0m\u001b[0;34m\u001b[0m\u001b[0m\n",
      "\u001b[0;32m/notebook/GitHub/py_graphs/py_graphs/cluster/ward.py\u001b[0m in \u001b[0;36mcalcΔJ\u001b[0;34m(self, K, Cl)\u001b[0m\n\u001b[1;32m     20\u001b[0m     \u001b[0;31m# ΔJ = (n_k * n_l)/(n_k + n_l) * (h_k - h_l)^T * K * (h_k - h_l)\u001b[0m\u001b[0;34m\u001b[0m\u001b[0;34m\u001b[0m\u001b[0m\n\u001b[1;32m     21\u001b[0m     \u001b[0;32mdef\u001b[0m \u001b[0mcalcΔJ\u001b[0m\u001b[0;34m(\u001b[0m\u001b[0mself\u001b[0m\u001b[0;34m,\u001b[0m \u001b[0mK\u001b[0m\u001b[0;34m,\u001b[0m \u001b[0mCl\u001b[0m\u001b[0;34m)\u001b[0m\u001b[0;34m:\u001b[0m\u001b[0;34m\u001b[0m\u001b[0m\n\u001b[0;32m---> 22\u001b[0;31m         \u001b[0mhkhl\u001b[0m \u001b[0;34m=\u001b[0m \u001b[0mnp\u001b[0m\u001b[0;34m.\u001b[0m\u001b[0marray\u001b[0m\u001b[0;34m(\u001b[0m\u001b[0mself\u001b[0m\u001b[0;34m.\u001b[0m\u001b[0mh\u001b[0m \u001b[0;34m-\u001b[0m \u001b[0mCl\u001b[0m\u001b[0;34m.\u001b[0m\u001b[0mh\u001b[0m\u001b[0;34m)\u001b[0m\u001b[0;34m.\u001b[0m\u001b[0mreshape\u001b[0m\u001b[0;34m(\u001b[0m\u001b[0;34m(\u001b[0m\u001b[0;34m-\u001b[0m\u001b[0;36m1\u001b[0m\u001b[0;34m,\u001b[0m \u001b[0;36m1\u001b[0m\u001b[0;34m)\u001b[0m\u001b[0;34m)\u001b[0m\u001b[0;34m\u001b[0m\u001b[0m\n\u001b[0m\u001b[1;32m     23\u001b[0m         \u001b[0mhkhlT\u001b[0m \u001b[0;34m=\u001b[0m \u001b[0mhkhl\u001b[0m\u001b[0;34m.\u001b[0m\u001b[0mT\u001b[0m\u001b[0;34m\u001b[0m\u001b[0m\n\u001b[1;32m     24\u001b[0m         \u001b[0mcurrentΔJ\u001b[0m \u001b[0;34m=\u001b[0m \u001b[0;34m(\u001b[0m\u001b[0mself\u001b[0m\u001b[0;34m.\u001b[0m\u001b[0mn\u001b[0m \u001b[0;34m*\u001b[0m \u001b[0mCl\u001b[0m\u001b[0;34m.\u001b[0m\u001b[0mn\u001b[0m\u001b[0;34m)\u001b[0m \u001b[0;34m*\u001b[0m \u001b[0mhkhlT\u001b[0m\u001b[0;34m.\u001b[0m\u001b[0mdot\u001b[0m\u001b[0;34m(\u001b[0m\u001b[0mK\u001b[0m\u001b[0;34m)\u001b[0m\u001b[0;34m.\u001b[0m\u001b[0mdot\u001b[0m\u001b[0;34m(\u001b[0m\u001b[0mhkhl\u001b[0m\u001b[0;34m)\u001b[0m\u001b[0;34m[\u001b[0m\u001b[0;36m0\u001b[0m\u001b[0;34m]\u001b[0m\u001b[0;34m[\u001b[0m\u001b[0;36m0\u001b[0m\u001b[0;34m]\u001b[0m \u001b[0;34m/\u001b[0m \u001b[0;34m(\u001b[0m\u001b[0mself\u001b[0m\u001b[0;34m.\u001b[0m\u001b[0mn\u001b[0m \u001b[0;34m+\u001b[0m \u001b[0mCl\u001b[0m\u001b[0;34m.\u001b[0m\u001b[0mn\u001b[0m\u001b[0;34m)\u001b[0m\u001b[0;34m\u001b[0m\u001b[0m\n",
      "\u001b[0;31mKeyboardInterrupt\u001b[0m: "
     ]
    }
   ],
   "source": [
    "results = defaultdict(lambda: defaultdict(lambda: 0))\n",
    "for column in tqdm(list(product([100, 200], [2, 4], [0.1, 0.15]))):\n",
    "    n_nodes, n_classes, p_out = column\n",
    "    graphs, info = StochasticBlockModel(n_nodes, n_classes, 0.3, p_out).generate_graphs(100)\n",
    "    success = 0\n",
    "    for edges, nodes in tqdm(graphs, desc=str(column)):\n",
    "        try:\n",
    "            single_competition_best = {}\n",
    "            for kernel_class in H_kernels_plus_RSP_FE:\n",
    "                best_param = best_params[column][kernel_class.name]\n",
    "                kernel = kernel_class(edges)\n",
    "                param = kernel.scaler.scale(best_param)\n",
    "                K = kernel.get_K(param)\n",
    "                y_pred = Ward(n_classes).predict(K)\n",
    "                ari = adjusted_rand_score(nodes, y_pred)\n",
    "                single_competition_best[kernel_class.name] = ari\n",
    "            single_competition_score = copeland(single_competition_best.items())\n",
    "            for measure_name, delta in single_competition_score.items():\n",
    "                results[column][measure_name] += delta\n",
    "                results['sum'][measure_name] += delta\n",
    "            success += 1\n",
    "        except Exception or FloatingPointError as e:\n",
    "            print(e)\n",
    "        if success == 50:\n",
    "            break"
   ]
  },
  {
   "cell_type": "code",
   "execution_count": 19,
   "metadata": {},
   "outputs": [
    {
     "name": "stdout",
     "output_type": "stream",
     "text": [
      "pWalk H\tWalk H\tFor H\tlogFor H\tComm H\tlogComm H\tHeat H\tlogHeat H\tSCT H\tSCCT H\tRSP K\tFE K\tSP-CT H\n",
      "(100, 4, 0.1)\t 56\t 78\t -456\t -24\t 308\t 476\t -456\t 180\t 78\t 166\t 62\t -44\t -424\t \n",
      "(100, 2, 0.1)\t -81\t -90\t -387\t -92\t 249\t 383\t 221\t 308\t -74\t 316\t -96\t -202\t -455\t \n",
      "sum\t 165\t -560\t -2568\t -611\t 1953\t 2798\t -137\t 1503\t 151\t 1922\t -449\t -972\t -3195\t \n",
      "(200, 2, 0.15)\t -155\t -125\t -574\t -92\t 212\t 565\t 205\t 321\t -24\t 392\t -85\t -169\t -471\t \n",
      "(200, 2, 0.1)\t -105\t -149\t -525\t -63\t 291\t 301\t 295\t 301\t 47\t 293\t -32\t -135\t -519\t \n",
      "(100, 4, 0.15)\t 418\t -222\t 418\t -264\t 418\t -66\t 418\t -264\t 44\t 44\t -272\t -224\t -448\t \n",
      "(200, 4, 0.1)\t 6\t -26\t -478\t -32\t 325\t 592\t -478\t 343\t 44\t 412\t -30\t -134\t -544\t \n",
      "(100, 2, 0.15)\t 26\t -26\t -566\t -44\t 150\t 547\t -342\t 314\t 36\t 299\t 4\t -64\t -334\t \n"
     ]
    }
   ],
   "source": [
    "print('\\t'.join(measures_right_order))\n",
    "for column_name, column_results in results.items():\n",
    "    print('{}\\t'.format(column_name), end=\" \")\n",
    "    for measure_name in measures_right_order:\n",
    "        measure_results = column_results[measure_name]\n",
    "        print('{}\\t'.format(measure_results), end=\" \")\n",
    "    print()"
   ]
  },
  {
   "cell_type": "code",
   "execution_count": null,
   "metadata": {},
   "outputs": [],
   "source": []
  },
  {
   "cell_type": "code",
   "execution_count": 20,
   "metadata": {},
   "outputs": [
    {
     "data": {
      "application/vnd.jupyter.widget-view+json": {
       "model_id": "21e24d12ebcf438db47dd627941482e6",
       "version_major": 2,
       "version_minor": 0
      },
      "text/html": [
       "<p>Failed to display Jupyter Widget of type <code>HBox</code>.</p>\n",
       "<p>\n",
       "  If you're reading this message in the Jupyter Notebook or JupyterLab Notebook, it may mean\n",
       "  that the widgets JavaScript is still loading. If this message persists, it\n",
       "  likely means that the widgets JavaScript library is either not installed or\n",
       "  not enabled. See the <a href=\"https://ipywidgets.readthedocs.io/en/stable/user_install.html\">Jupyter\n",
       "  Widgets Documentation</a> for setup instructions.\n",
       "</p>\n",
       "<p>\n",
       "  If you're reading this message in another frontend (for example, a static\n",
       "  rendering on GitHub or <a href=\"https://nbviewer.jupyter.org/\">NBViewer</a>),\n",
       "  it may mean that your frontend doesn't currently support widgets.\n",
       "</p>\n"
      ],
      "text/plain": [
       "HBox(children=(IntProgress(value=0, max=8), HTML(value='')))"
      ]
     },
     "metadata": {},
     "output_type": "display_data"
    },
    {
     "data": {
      "application/vnd.jupyter.widget-view+json": {
       "model_id": "80ab5a772f814c66a88ead277744c450",
       "version_major": 2,
       "version_minor": 0
      },
      "text/html": [
       "<p>Failed to display Jupyter Widget of type <code>HBox</code>.</p>\n",
       "<p>\n",
       "  If you're reading this message in the Jupyter Notebook or JupyterLab Notebook, it may mean\n",
       "  that the widgets JavaScript is still loading. If this message persists, it\n",
       "  likely means that the widgets JavaScript library is either not installed or\n",
       "  not enabled. See the <a href=\"https://ipywidgets.readthedocs.io/en/stable/user_install.html\">Jupyter\n",
       "  Widgets Documentation</a> for setup instructions.\n",
       "</p>\n",
       "<p>\n",
       "  If you're reading this message in another frontend (for example, a static\n",
       "  rendering on GitHub or <a href=\"https://nbviewer.jupyter.org/\">NBViewer</a>),\n",
       "  it may mean that your frontend doesn't currently support widgets.\n",
       "</p>\n"
      ],
      "text/plain": [
       "HBox(children=(IntProgress(value=0, description='(100, 2, 0.1)'), HTML(value='')))"
      ]
     },
     "metadata": {},
     "output_type": "display_data"
    },
    {
     "data": {
      "application/vnd.jupyter.widget-view+json": {
       "model_id": "ab741b49c63f4b8998e0d39333a37377",
       "version_major": 2,
       "version_minor": 0
      },
      "text/html": [
       "<p>Failed to display Jupyter Widget of type <code>HBox</code>.</p>\n",
       "<p>\n",
       "  If you're reading this message in the Jupyter Notebook or JupyterLab Notebook, it may mean\n",
       "  that the widgets JavaScript is still loading. If this message persists, it\n",
       "  likely means that the widgets JavaScript library is either not installed or\n",
       "  not enabled. See the <a href=\"https://ipywidgets.readthedocs.io/en/stable/user_install.html\">Jupyter\n",
       "  Widgets Documentation</a> for setup instructions.\n",
       "</p>\n",
       "<p>\n",
       "  If you're reading this message in another frontend (for example, a static\n",
       "  rendering on GitHub or <a href=\"https://nbviewer.jupyter.org/\">NBViewer</a>),\n",
       "  it may mean that your frontend doesn't currently support widgets.\n",
       "</p>\n"
      ],
      "text/plain": [
       "HBox(children=(IntProgress(value=0, description='(100, 2, 0.15)'), HTML(value='')))"
      ]
     },
     "metadata": {},
     "output_type": "display_data"
    },
    {
     "name": "stderr",
     "output_type": "stream",
     "text": [
      "Exception in thread Thread-5:\n",
      "Traceback (most recent call last):\n",
      "  File \"/usr/lib/python3.5/threading.py\", line 914, in _bootstrap_inner\n",
      "    self.run()\n",
      "  File \"/usr/local/lib/python3.5/dist-packages/tqdm/_tqdm.py\", line 148, in run\n",
      "    for instance in self.tqdm_cls._instances:\n",
      "  File \"/usr/lib/python3.5/_weakrefset.py\", line 60, in __iter__\n",
      "    for itemref in self.data:\n",
      "RuntimeError: Set changed size during iteration\n",
      "\n"
     ]
    },
    {
     "data": {
      "application/vnd.jupyter.widget-view+json": {
       "model_id": "a6e41b6cc01d480fbc5ec64d2b27c0b2",
       "version_major": 2,
       "version_minor": 0
      },
      "text/html": [
       "<p>Failed to display Jupyter Widget of type <code>HBox</code>.</p>\n",
       "<p>\n",
       "  If you're reading this message in the Jupyter Notebook or JupyterLab Notebook, it may mean\n",
       "  that the widgets JavaScript is still loading. If this message persists, it\n",
       "  likely means that the widgets JavaScript library is either not installed or\n",
       "  not enabled. See the <a href=\"https://ipywidgets.readthedocs.io/en/stable/user_install.html\">Jupyter\n",
       "  Widgets Documentation</a> for setup instructions.\n",
       "</p>\n",
       "<p>\n",
       "  If you're reading this message in another frontend (for example, a static\n",
       "  rendering on GitHub or <a href=\"https://nbviewer.jupyter.org/\">NBViewer</a>),\n",
       "  it may mean that your frontend doesn't currently support widgets.\n",
       "</p>\n"
      ],
      "text/plain": [
       "HBox(children=(IntProgress(value=0, description='(100, 4, 0.1)'), HTML(value='')))"
      ]
     },
     "metadata": {},
     "output_type": "display_data"
    },
    {
     "data": {
      "application/vnd.jupyter.widget-view+json": {
       "model_id": "ccc0aab1944242c188168720a69c6d93",
       "version_major": 2,
       "version_minor": 0
      },
      "text/html": [
       "<p>Failed to display Jupyter Widget of type <code>HBox</code>.</p>\n",
       "<p>\n",
       "  If you're reading this message in the Jupyter Notebook or JupyterLab Notebook, it may mean\n",
       "  that the widgets JavaScript is still loading. If this message persists, it\n",
       "  likely means that the widgets JavaScript library is either not installed or\n",
       "  not enabled. See the <a href=\"https://ipywidgets.readthedocs.io/en/stable/user_install.html\">Jupyter\n",
       "  Widgets Documentation</a> for setup instructions.\n",
       "</p>\n",
       "<p>\n",
       "  If you're reading this message in another frontend (for example, a static\n",
       "  rendering on GitHub or <a href=\"https://nbviewer.jupyter.org/\">NBViewer</a>),\n",
       "  it may mean that your frontend doesn't currently support widgets.\n",
       "</p>\n"
      ],
      "text/plain": [
       "HBox(children=(IntProgress(value=0, description='(100, 4, 0.15)'), HTML(value='')))"
      ]
     },
     "metadata": {},
     "output_type": "display_data"
    },
    {
     "data": {
      "application/vnd.jupyter.widget-view+json": {
       "model_id": "e585a6c0e895475bb061d1432fd1ffc1",
       "version_major": 2,
       "version_minor": 0
      },
      "text/html": [
       "<p>Failed to display Jupyter Widget of type <code>HBox</code>.</p>\n",
       "<p>\n",
       "  If you're reading this message in the Jupyter Notebook or JupyterLab Notebook, it may mean\n",
       "  that the widgets JavaScript is still loading. If this message persists, it\n",
       "  likely means that the widgets JavaScript library is either not installed or\n",
       "  not enabled. See the <a href=\"https://ipywidgets.readthedocs.io/en/stable/user_install.html\">Jupyter\n",
       "  Widgets Documentation</a> for setup instructions.\n",
       "</p>\n",
       "<p>\n",
       "  If you're reading this message in another frontend (for example, a static\n",
       "  rendering on GitHub or <a href=\"https://nbviewer.jupyter.org/\">NBViewer</a>),\n",
       "  it may mean that your frontend doesn't currently support widgets.\n",
       "</p>\n"
      ],
      "text/plain": [
       "HBox(children=(IntProgress(value=0, description='(200, 2, 0.1)'), HTML(value='')))"
      ]
     },
     "metadata": {},
     "output_type": "display_data"
    },
    {
     "data": {
      "application/vnd.jupyter.widget-view+json": {
       "model_id": "21daa837d5cb49a8b55a6fd23c25cd2f",
       "version_major": 2,
       "version_minor": 0
      },
      "text/html": [
       "<p>Failed to display Jupyter Widget of type <code>HBox</code>.</p>\n",
       "<p>\n",
       "  If you're reading this message in the Jupyter Notebook or JupyterLab Notebook, it may mean\n",
       "  that the widgets JavaScript is still loading. If this message persists, it\n",
       "  likely means that the widgets JavaScript library is either not installed or\n",
       "  not enabled. See the <a href=\"https://ipywidgets.readthedocs.io/en/stable/user_install.html\">Jupyter\n",
       "  Widgets Documentation</a> for setup instructions.\n",
       "</p>\n",
       "<p>\n",
       "  If you're reading this message in another frontend (for example, a static\n",
       "  rendering on GitHub or <a href=\"https://nbviewer.jupyter.org/\">NBViewer</a>),\n",
       "  it may mean that your frontend doesn't currently support widgets.\n",
       "</p>\n"
      ],
      "text/plain": [
       "HBox(children=(IntProgress(value=0, description='(200, 2, 0.15)'), HTML(value='')))"
      ]
     },
     "metadata": {},
     "output_type": "display_data"
    },
    {
     "data": {
      "application/vnd.jupyter.widget-view+json": {
       "model_id": "b937bc1ea41e4ab0bee43bfaddcb361a",
       "version_major": 2,
       "version_minor": 0
      },
      "text/html": [
       "<p>Failed to display Jupyter Widget of type <code>HBox</code>.</p>\n",
       "<p>\n",
       "  If you're reading this message in the Jupyter Notebook or JupyterLab Notebook, it may mean\n",
       "  that the widgets JavaScript is still loading. If this message persists, it\n",
       "  likely means that the widgets JavaScript library is either not installed or\n",
       "  not enabled. See the <a href=\"https://ipywidgets.readthedocs.io/en/stable/user_install.html\">Jupyter\n",
       "  Widgets Documentation</a> for setup instructions.\n",
       "</p>\n",
       "<p>\n",
       "  If you're reading this message in another frontend (for example, a static\n",
       "  rendering on GitHub or <a href=\"https://nbviewer.jupyter.org/\">NBViewer</a>),\n",
       "  it may mean that your frontend doesn't currently support widgets.\n",
       "</p>\n"
      ],
      "text/plain": [
       "HBox(children=(IntProgress(value=0, description='(200, 4, 0.1)'), HTML(value='')))"
      ]
     },
     "metadata": {},
     "output_type": "display_data"
    },
    {
     "data": {
      "application/vnd.jupyter.widget-view+json": {
       "model_id": "1a249c3e8cb64668832bea6eabd922eb",
       "version_major": 2,
       "version_minor": 0
      },
      "text/html": [
       "<p>Failed to display Jupyter Widget of type <code>HBox</code>.</p>\n",
       "<p>\n",
       "  If you're reading this message in the Jupyter Notebook or JupyterLab Notebook, it may mean\n",
       "  that the widgets JavaScript is still loading. If this message persists, it\n",
       "  likely means that the widgets JavaScript library is either not installed or\n",
       "  not enabled. See the <a href=\"https://ipywidgets.readthedocs.io/en/stable/user_install.html\">Jupyter\n",
       "  Widgets Documentation</a> for setup instructions.\n",
       "</p>\n",
       "<p>\n",
       "  If you're reading this message in another frontend (for example, a static\n",
       "  rendering on GitHub or <a href=\"https://nbviewer.jupyter.org/\">NBViewer</a>),\n",
       "  it may mean that your frontend doesn't currently support widgets.\n",
       "</p>\n"
      ],
      "text/plain": [
       "HBox(children=(IntProgress(value=0, description='(200, 4, 0.15)'), HTML(value='')))"
      ]
     },
     "metadata": {},
     "output_type": "display_data"
    },
    {
     "name": "stdout",
     "output_type": "stream",
     "text": [
      "\n"
     ]
    }
   ],
   "source": [
    "results = defaultdict(lambda: defaultdict(lambda: 0))\n",
    "for column in tqdm(list(product([100, 200], [2, 4], [0.1, 0.15]))):\n",
    "    n_nodes, n_classes, p_out = column\n",
    "    graphs, info = StochasticBlockModel(n_nodes, n_classes, 0.3, p_out).generate_graphs(100)\n",
    "    success = 0\n",
    "    for edges, nodes in tqdm(graphs, desc=str(column)):\n",
    "        try:\n",
    "            single_competition_best = {}\n",
    "            for kernel_class in H_kernels_plus_RSP_FE:\n",
    "                best_param = percentile_params[column][kernel_class.name]\n",
    "                kernel = kernel_class(edges)\n",
    "                param = kernel.scaler.scale(best_param)\n",
    "                K = kernel.get_K(param)\n",
    "                y_pred = Ward(n_classes).predict(K)\n",
    "                ari = adjusted_rand_score(nodes, y_pred)\n",
    "                single_competition_best[kernel_class.name] = ari\n",
    "            single_competition_score = copeland(single_competition_best.items())\n",
    "            for measure_name, delta in single_competition_score.items():\n",
    "                results[column][measure_name] += delta\n",
    "                results['sum'][measure_name] += delta\n",
    "            success += 1\n",
    "        except Exception or FloatingPointError as e:\n",
    "            print(e)\n",
    "        if success == 50:\n",
    "            break"
   ]
  },
  {
   "cell_type": "code",
   "execution_count": 21,
   "metadata": {},
   "outputs": [
    {
     "name": "stdout",
     "output_type": "stream",
     "text": [
      "pWalk H\tWalk H\tFor H\tlogFor H\tComm H\tlogComm H\tHeat H\tlogHeat H\tSCT H\tSCCT H\tRSP K\tFE K\tSP-CT H\n",
      "(100, 4, 0.1)\t 54\t 132\t -588\t 56\t 222\t 448\t -502\t 290\t 46\t 136\t -8\t 34\t -320\t \n",
      "(100, 2, 0.1)\t -125\t -84\t -390\t -114\t 168\t 413\t 299\t 318\t 58\t 269\t -151\t -198\t -463\t \n",
      "sum\t -295\t -5\t -4377\t 34\t 1768\t 3881\t -1472\t 1846\t 499\t 2271\t -521\t -411\t -3218\t \n",
      "(200, 2, 0.15)\t -79\t -85\t -583\t -115\t 258\t 568\t 154\t 273\t 45\t 391\t -179\t -186\t -462\t \n",
      "(200, 2, 0.1)\t -163\t -140\t -490\t -55\t 286\t 332\t 340\t 340\t 26\t 340\t -138\t -120\t -558\t \n",
      "(200, 4, 0.15)\t -14\t 66\t -583\t 88\t 178\t 598\t -515\t 98\t 104\t 360\t -16\t 32\t -396\t \n",
      "(100, 4, 0.15)\t 74\t 86\t -588\t 110\t 172\t 356\t -490\t 142\t 90\t 78\t 78\t 120\t -228\t \n",
      "(200, 4, 0.1)\t -2\t 30\t -591\t 4\t 333\t 598\t -417\t 202\t 38\t 423\t -106\t -66\t -446\t \n",
      "(100, 2, 0.15)\t -40\t -10\t -564\t 60\t 151\t 568\t -341\t 183\t 92\t 274\t -1\t -27\t -345\t \n"
     ]
    }
   ],
   "source": [
    "print('\\t'.join(measures_right_order))\n",
    "for column_name, column_results in results.items():\n",
    "    print('{}\\t'.format(column_name), end=\" \")\n",
    "    for measure_name in measures_right_order:\n",
    "        measure_results = column_results[measure_name]\n",
    "        print('{}\\t'.format(measure_results), end=\" \")\n",
    "    print()"
   ]
  },
  {
   "cell_type": "code",
   "execution_count": null,
   "metadata": {},
   "outputs": [],
   "source": []
  }
 ],
 "metadata": {
  "kernelspec": {
   "display_name": "Python 3",
   "language": "python",
   "name": "python3"
  },
  "language_info": {
   "codemirror_mode": {
    "name": "ipython",
    "version": 3
   },
   "file_extension": ".py",
   "mimetype": "text/x-python",
   "name": "python",
   "nbconvert_exporter": "python",
   "pygments_lexer": "ipython3",
   "version": "3.5.2"
  }
 },
 "nbformat": 4,
 "nbformat_minor": 2
}
