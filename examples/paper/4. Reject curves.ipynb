{
 "cells": [
  {
   "cell_type": "markdown",
   "metadata": {},
   "source": [
    "# Do logarithmic proximity measures outperform plain ones in graph clustering?"
   ]
  },
  {
   "cell_type": "code",
   "execution_count": 1,
   "metadata": {},
   "outputs": [],
   "source": [
    "import os\n",
    "os.environ[\"OPENBLAS_NUM_THREADS\"] = \"1\""
   ]
  },
  {
   "cell_type": "code",
   "execution_count": 2,
   "metadata": {},
   "outputs": [],
   "source": [
    "import sys\n",
    "import inspect\n",
    "from collections import defaultdict\n",
    "from contextlib import contextmanager\n",
    "from itertools import combinations, product\n",
    "import pickle\n",
    "import numpy as np\n",
    "import matplotlib.pyplot as plt\n",
    "%matplotlib inline\n",
    "from tqdm import tqdm_notebook as tqdm\n",
    "from sklearn.metrics import adjusted_rand_score\n",
    "# from pylab import *\n",
    "import math"
   ]
  },
  {
   "cell_type": "code",
   "execution_count": 3,
   "metadata": {},
   "outputs": [],
   "source": [
    "import warnings\n",
    "warnings.filterwarnings(\"ignore\")"
   ]
  },
  {
   "cell_type": "code",
   "execution_count": 4,
   "metadata": {},
   "outputs": [],
   "source": [
    "sys.path.append('../..')\n",
    "from py_graphs.graphs.generator import StochasticBlockModel\n",
    "from py_graphs.measure import *\n",
    "from py_graphs.measure import H_kernels_plus_RSP_FE, distances, scaler, kernel\n",
    "from py_graphs.measure.distance import Distance\n",
    "from py_graphs.cluster.ward import Ward\n",
    "from py_graphs.colors import d3, d3_category20\n",
    "from py_graphs.scenario import *\n",
    "from py_graphs.scorer import copeland"
   ]
  },
  {
   "cell_type": "code",
   "execution_count": 5,
   "metadata": {},
   "outputs": [],
   "source": [
    "def load_or_calc_and_save(filename):\n",
    "    def my_decorator(func):\n",
    "        def wrapped():\n",
    "            if os.path.exists(filename):\n",
    "                print('File exist! Skip calculations')\n",
    "                with open(filename, 'rb') as f:\n",
    "                    result = pickle.load(f)\n",
    "            else:\n",
    "                result = func()\n",
    "                with open(filename, 'wb') as f:\n",
    "                    pickle.dump(result, f)\n",
    "            return result\n",
    "        return wrapped\n",
    "    return my_decorator"
   ]
  },
  {
   "cell_type": "code",
   "execution_count": 6,
   "metadata": {},
   "outputs": [],
   "source": [
    "def ddict2dict(d):\n",
    "    for k, v in d.items():\n",
    "        if isinstance(v, dict):\n",
    "            d[k] = ddict2dict(v)\n",
    "    return dict(d)"
   ]
  },
  {
   "cell_type": "code",
   "execution_count": 7,
   "metadata": {},
   "outputs": [],
   "source": [
    "d3_right_order = []\n",
    "for i in range(6):\n",
    "    d3_right_order.extend([d3_category20[2*i + 1], d3_category20[2*i]])\n",
    "d3_right_order.append(d3_category20[12])"
   ]
  },
  {
   "cell_type": "markdown",
   "metadata": {},
   "source": [
    "## 4. Reject curves\n",
    "The optimal values of the family parameters (adjusted to the $[0, 1]$ segment) w.r.t. the ARI in clustering based on Ward’s method for three $G(N,(m)p_{in}, p_{out})$ models are presented in Table 2.\n",
    "\n",
    "Measure $G(100,(2)0.3,0.05)$, $G(100,(2)0.3,0.1)$, $G(100,(2)0.3,0.15)$"
   ]
  },
  {
   "cell_type": "code",
   "execution_count": 8,
   "metadata": {},
   "outputs": [],
   "source": [
    "measures_right_order = [\n",
    "    'pWalk H',\n",
    "    'Walk H',\n",
    "    'For H',\n",
    "    'logFor H',\n",
    "    'Comm H',\n",
    "    'logComm H',\n",
    "    'Heat H',\n",
    "    'logHeat H',\n",
    "    'SCT H',\n",
    "    'SCCT H',\n",
    "    'RSP K',\n",
    "    'FE K',    \n",
    "    'SP-CT H'\n",
    "]\n",
    "columns = [\n",
    "    (100, 2, 0.05),\n",
    "    (100, 2, 0.10),\n",
    "    (100, 2, 0.15)\n",
    "]"
   ]
  },
  {
   "cell_type": "code",
   "execution_count": 9,
   "metadata": {},
   "outputs": [],
   "source": [
    "best_params_raw = {\n",
    "    'pWalk H':   (0.86, 0.9653, 0.90, 0.8308, 0.66, 0.5298),\n",
    "    'Walk H':    (0.86, 0.9664, 0.74, 0.8442, 0.64, 0.5357),\n",
    "    'For H':     (1.00, 0.5816, 0.98, 0.3671, 0.00, 0.2007),\n",
    "    'logFor H':  (0.62, 0.9704, 0.56, 0.8542, 0.52, 0.5541),\n",
    "    'Comm H':    (0.38, 0.9761, 0.32, 0.8708, 0.26, 0.5661),\n",
    "    'logComm H': (0.68, 0.9838, 0.54, 0.9466, 0.62, 0.7488),\n",
    "    'Heat H':    (0.86, 0.6128, 0.86, 0.5646, 0.78, 0.2879),\n",
    "    'logHeat H': (0.52, 0.9827, 0.40, 0.8911, 0.28, 0.5561),\n",
    "    'SCT H':     (0.74, 0.9651, 0.62, 0.8550, 0.64, 0.5531),\n",
    "    'SCCT H':    (0.36, 0.9834, 0.26, 0.9130, 0.22, 0.6626),\n",
    "    'RSP K':     (0.99, 0.9712, 0.98, 0.8444, 0.98, 0.5430),\n",
    "    'FE K':      (0.94, 0.9697, 0.94, 0.8482, 0.86, 0.5460),\n",
    "    'SP-CT H':   (0.28, 0.9172, 0.34, 0.6782, 0.42, 0.4103)\n",
    "}"
   ]
  },
  {
   "cell_type": "code",
   "execution_count": 10,
   "metadata": {},
   "outputs": [],
   "source": [
    "best_params = {\n",
    "    (100, 2, 0.05): dict([(measure_name, best_params_raw[measure_name][0]) for measure_name in best_params_raw.keys()]),\n",
    "    (100, 2, 0.10): dict([(measure_name, best_params_raw[measure_name][2]) for measure_name in best_params_raw.keys()]),\n",
    "    (100, 2, 0.15): dict([(measure_name, best_params_raw[measure_name][4]) for measure_name in best_params_raw.keys()])\n",
    "}"
   ]
  },
  {
   "cell_type": "code",
   "execution_count": 11,
   "metadata": {
    "scrolled": false
   },
   "outputs": [
    {
     "name": "stdout",
     "output_type": "stream",
     "text": [
      "File exist! Skip calculations\n"
     ]
    },
    {
     "data": {
      "text/plain": [
       "{(100, 2, 0.05): {'Comm H': 0.34,\n",
       "  'FE K': 0.88,\n",
       "  'For H': 0.84,\n",
       "  'Heat H': 0.4,\n",
       "  'RSP K': 0.98,\n",
       "  'SCCT H': 0.02,\n",
       "  'SCT H': 0.48,\n",
       "  'SP-CT H': 0.0,\n",
       "  'Walk H': 0.9,\n",
       "  'logComm H': 0.34,\n",
       "  'logFor H': 0.28,\n",
       "  'logHeat H': 0.36,\n",
       "  'pWalk H': 0.9400000000000001},\n",
       " (100, 2, 0.1): {'Comm H': 0.36,\n",
       "  'FE K': 0.88,\n",
       "  'For H': 0.9400000000000001,\n",
       "  'Heat H': 0.52,\n",
       "  'RSP K': 0.9400000000000001,\n",
       "  'SCCT H': 0.66,\n",
       "  'SCT H': 0.48,\n",
       "  'SP-CT H': 0.04,\n",
       "  'Walk H': 0.74,\n",
       "  'logComm H': 0.48,\n",
       "  'logFor H': 0.26,\n",
       "  'logHeat H': 0.46,\n",
       "  'pWalk H': 0.88},\n",
       " (100, 2, 0.15): {'Comm H': 0.28,\n",
       "  'FE K': 0.92,\n",
       "  'For H': 0.14,\n",
       "  'Heat H': 0.58,\n",
       "  'RSP K': 0.98,\n",
       "  'SCCT H': 0.46,\n",
       "  'SCT H': 0.42,\n",
       "  'SP-CT H': 0.04,\n",
       "  'Walk H': 0.72,\n",
       "  'logComm H': 0.68,\n",
       "  'logFor H': 0.18,\n",
       "  'logHeat H': 0.32,\n",
       "  'pWalk H': 0.9}}"
      ]
     },
     "execution_count": 11,
     "metadata": {},
     "output_type": "execute_result"
    }
   ],
   "source": [
    "@load_or_calc_and_save('results/4_best_params_3.pkl')\n",
    "def calc():\n",
    "    # calc data to find best params\n",
    "    results = defaultdict(lambda: defaultdict(lambda: 0))\n",
    "    for column in tqdm(list(product([100], [2], [0.05, 0.1, 0.15]))):\n",
    "        n_nodes, n_classes, p_out = column\n",
    "        graphs, info = StochasticBlockModel(n_nodes, n_classes, 0.3, p_out).generate_graphs(50)\n",
    "        classic_plot = ParallelByGraphs(adjusted_rand_score, np.linspace(0, 1, 51), progressbar=False)\n",
    "        for measure_class in tqdm(H_kernels_plus_RSP_FE, desc=str(column)):\n",
    "            results[column][measure_class.name] = classic_plot.perform(Ward, measure_class, graphs, n_classes, n_jobs=12)\n",
    "            \n",
    "    # find best params\n",
    "    best_params = defaultdict(lambda: defaultdict(lambda: 0))\n",
    "    for column, measures in results.items():\n",
    "        for measure_name, measure_results in measures.items():\n",
    "            x, y, error = measure_results\n",
    "            best_idx = np.argmax(y)\n",
    "            print('{}\\t{}\\t{:0.2f} ({:0.2f})'.format(column, measure_name.ljust(8, ' '), x[best_idx], y[best_idx]))\n",
    "            best_params[column][measure_name] = x[best_idx]\n",
    "    return ddict2dict(best_params)\n",
    "\n",
    "best_params = calc()\n",
    "best_params"
   ]
  },
  {
   "cell_type": "code",
   "execution_count": 12,
   "metadata": {},
   "outputs": [],
   "source": [
    "def reject_curve(K, y_true):\n",
    "    y_true_combinations = [0 if a == b else 1 for a, b in combinations(y_true, 2)]\n",
    "    K_combinations = [K[a, b] for a, b in combinations(range(K.shape[0]), 2)]\n",
    "    pairs = sorted(zip(K_combinations, y_true_combinations), key=lambda x: x[0])\n",
    "    tpr, fpr = [0], [0]\n",
    "    for _, class_ in pairs:\n",
    "        if class_ == 1:\n",
    "            increment = 1, 0\n",
    "        else:\n",
    "            increment = 0, 1\n",
    "        tpr.append(tpr[-1] + increment[0])\n",
    "        fpr.append(fpr[-1] + increment[1])\n",
    "#     print(tpr)\n",
    "#     raise Exception()\n",
    "    return np.array(tpr, dtype=np.float) / tpr[-1], np.array(fpr, dtype=np.float) / fpr[-1]"
   ]
  },
  {
   "cell_type": "code",
   "execution_count": null,
   "metadata": {
    "scrolled": true
   },
   "outputs": [
    {
     "data": {
      "application/vnd.jupyter.widget-view+json": {
       "model_id": "7b3e5e97416e4becb672c34d4146b28b",
       "version_major": 2,
       "version_minor": 0
      },
      "text/html": [
       "<p>Failed to display Jupyter Widget of type <code>HBox</code>.</p>\n",
       "<p>\n",
       "  If you're reading this message in the Jupyter Notebook or JupyterLab Notebook, it may mean\n",
       "  that the widgets JavaScript is still loading. If this message persists, it\n",
       "  likely means that the widgets JavaScript library is either not installed or\n",
       "  not enabled. See the <a href=\"https://ipywidgets.readthedocs.io/en/stable/user_install.html\">Jupyter\n",
       "  Widgets Documentation</a> for setup instructions.\n",
       "</p>\n",
       "<p>\n",
       "  If you're reading this message in another frontend (for example, a static\n",
       "  rendering on GitHub or <a href=\"https://nbviewer.jupyter.org/\">NBViewer</a>),\n",
       "  it may mean that your frontend doesn't currently support widgets.\n",
       "</p>\n"
      ],
      "text/plain": [
       "HBox(children=(IntProgress(value=0, max=3), HTML(value='')))"
      ]
     },
     "metadata": {},
     "output_type": "display_data"
    },
    {
     "data": {
      "application/vnd.jupyter.widget-view+json": {
       "model_id": "837bd09def8249909eb16d3ea5c020da",
       "version_major": 2,
       "version_minor": 0
      },
      "text/html": [
       "<p>Failed to display Jupyter Widget of type <code>HBox</code>.</p>\n",
       "<p>\n",
       "  If you're reading this message in the Jupyter Notebook or JupyterLab Notebook, it may mean\n",
       "  that the widgets JavaScript is still loading. If this message persists, it\n",
       "  likely means that the widgets JavaScript library is either not installed or\n",
       "  not enabled. See the <a href=\"https://ipywidgets.readthedocs.io/en/stable/user_install.html\">Jupyter\n",
       "  Widgets Documentation</a> for setup instructions.\n",
       "</p>\n",
       "<p>\n",
       "  If you're reading this message in another frontend (for example, a static\n",
       "  rendering on GitHub or <a href=\"https://nbviewer.jupyter.org/\">NBViewer</a>),\n",
       "  it may mean that your frontend doesn't currently support widgets.\n",
       "</p>\n"
      ],
      "text/plain": [
       "HBox(children=(IntProgress(value=0, description='(100, 2, 0.1)'), HTML(value='')))"
      ]
     },
     "metadata": {},
     "output_type": "display_data"
    }
   ],
   "source": [
    "results = defaultdict(lambda: defaultdict(lambda: list()))\n",
    "for column in tqdm(best_params.keys()): \n",
    "    n_nodes, n_classes, p_out = column\n",
    "    graphs, info = StochasticBlockModel(n_nodes, n_classes, 0.3, p_out).generate_graphs(100)\n",
    "    for edges, nodes in tqdm(graphs, desc=str(column)):\n",
    "        single_competition_best = {}\n",
    "        for kernel_class in distances:\n",
    "            try:\n",
    "                param_flat = best_params[column][kernel_class.name + ' H']\n",
    "                mname = kernel_class.name + ' H'\n",
    "            except:\n",
    "                param_flat = best_params[column][kernel_class.name + ' K']\n",
    "                mname = kernel_class.name + ' K'\n",
    "            kernel = kernel_class(edges)\n",
    "            best_param = kernel.scaler.scale(param_flat)\n",
    "            K = kernel.get_D(best_param)\n",
    "            tpr, fpr = reject_curve(K, nodes)\n",
    "            results[column][mname].append((tpr, fpr))"
   ]
  },
  {
   "cell_type": "code",
   "execution_count": null,
   "metadata": {
    "scrolled": true
   },
   "outputs": [],
   "source": [
    "plt.plot(results[(100, 2, 0.1)]['Walk H'][0][0])\n",
    "plt.plot(results[(100, 2, 0.1)]['Walk H'][0][1])"
   ]
  },
  {
   "cell_type": "code",
   "execution_count": null,
   "metadata": {
    "scrolled": true
   },
   "outputs": [],
   "source": [
    "fig, ax = plt.subplots(13, 3, figsize=(15,65))\n",
    "for column_idx, column in enumerate(columns):\n",
    "    for measure_name_idx, measure_name in enumerate(measures_right_order):\n",
    "        axi = ax[measure_name_idx][column_idx]\n",
    "        for graph_idx, (tpr, fpr) in enumerate(results[column][measure_name]):\n",
    "            if graph_idx == 1:\n",
    "                axi.plot(tpr, fpr, label=\"G({}, ({})0.3, {}), {}\".format(*column, measure_name), color='black', alpha=0.1)\n",
    "            else:\n",
    "                axi.plot(tpr, fpr, color='black', alpha=0.1)\n",
    "\n",
    "        axi.set_xlabel(\"nodes from different classes\")\n",
    "        axi.set_ylabel(\"nodes from the same class\")\n",
    "        axi.set_xlim(0,1)\n",
    "        axi.set_ylim(0,1)\n",
    "        axi.legend(loc=4)\n",
    "# gcf().suptitle(\"G(100,(2)0.3,0.05), G(100,(2)0.3,0.1), G(100,(2)0.3,0.15)\");"
   ]
  },
  {
   "cell_type": "code",
   "execution_count": null,
   "metadata": {
    "scrolled": true
   },
   "outputs": [],
   "source": [
    "for measure_name_idx, measure_name in enumerate(measures_right_order):\n",
    "    fig, axi = plt.subplots(1, figsize=(4,4))\n",
    "    for graph_idx, (tpr, fpr) in enumerate(results[(100, 2, 0.10)][measure_name]):\n",
    "        if graph_idx == 1:\n",
    "            axi.plot(tpr, fpr, label=measure_name, color='black', alpha=0.1)\n",
    "        else:\n",
    "            axi.plot(tpr, fpr, color='black', alpha=0.1)\n",
    "\n",
    "    axi.set_xlabel(\"nodes from different classes\")\n",
    "    axi.set_ylabel(\"nodes from the same class\")\n",
    "    axi.set_xlim(0,1)\n",
    "    axi.set_ylim(0,1)\n",
    "    axi.legend(loc=4)\n",
    "# gcf().suptitle(\"G(100,(2)0.3,0.05), G(100,(2)0.3,0.1), G(100,(2)0.3,0.15)\");"
   ]
  },
  {
   "cell_type": "code",
   "execution_count": null,
   "metadata": {
    "scrolled": true
   },
   "outputs": [],
   "source": [
    "d3c = (x for x in d3_right_order)\n",
    "\n",
    "fig, axi = plt.subplots(1, figsize=(5, 4))\n",
    "for measure_name_idx, measure_name in enumerate(measures_right_order):\n",
    "    tpr_all = defaultdict(list)\n",
    "    for graph_idx, (tpr, fpr) in enumerate(results[(100, 2, 0.10)][measure_name]):\n",
    "        tprg = defaultdict(list)\n",
    "        for ti, fi in zip(fpr, tpr):\n",
    "            tprg[math.floor(fi * 100)].append(ti)\n",
    "        for bucket, fis in tprg.items():\n",
    "            tpr_all[bucket].append(np.mean(fis))\n",
    "    for bucket, fis in tpr_all.items():\n",
    "        tpr_all[bucket] = np.mean(fis)\n",
    "    \n",
    "    axi.plot(np.array(list(tpr_all.keys()), dtype=np.float) / 100, tpr_all.values(), label=measure_name, color=d3c.__next__())\n",
    "\n",
    "axi.set_xlabel(\"nodes from different classes\")\n",
    "axi.set_ylabel(\"nodes from the same class\")\n",
    "\n",
    "box = axi.get_position()\n",
    "axi.set_position([box.x0, box.y0, box.width * 0.8, box.height])\n",
    "axi.set_xlim(0,1)\n",
    "axi.set_ylim(0,1)\n",
    "axi.legend(loc='center left', bbox_to_anchor=(1, 0.5))\n",
    "# gcf().suptitle(\"G(100,(2)0.3,0.05), G(100,(2)0.3,0.1), G(100,(2)0.3,0.15)\");"
   ]
  },
  {
   "cell_type": "code",
   "execution_count": null,
   "metadata": {
    "scrolled": true
   },
   "outputs": [],
   "source": [
    "d3c = (x for x in d3_right_order)\n",
    "\n",
    "fig, axi = plt.subplots(1, figsize=(5, 4))\n",
    "for measure_name_idx, measure_name in enumerate(measures_right_order):\n",
    "    tpr_all = defaultdict(list)\n",
    "    for graph_idx, (tpr, fpr) in enumerate(results[(100, 2, 0.10)][measure_name]):\n",
    "        tprg = defaultdict(list)\n",
    "        for ti, fi in zip(fpr, tpr):\n",
    "            tprg[math.floor(fi * 100)].append(ti)\n",
    "        for bucket, fis in tprg.items():\n",
    "            tpr_all[bucket].append(np.mean(fis))\n",
    "    for bucket, fis in tpr_all.items():\n",
    "        tpr_all[bucket] = np.mean(fis)\n",
    "    \n",
    "    color = d3c.__next__()\n",
    "    \n",
    "    if measure_name not in ['logComm H', 'logFor H', 'logHeat H', 'SCCT H']:\n",
    "        continue\n",
    "    \n",
    "    axi.plot(np.array(list(tpr_all.keys()), dtype=np.float) / 100, tpr_all.values(), label=measure_name, color=color)\n",
    "\n",
    "axi.set_xlabel(\"nodes from different classes\")\n",
    "axi.set_ylabel(\"nodes from the same class\")\n",
    "\n",
    "box = axi.get_position()\n",
    "axi.set_position([box.x0, box.y0, box.width * 0.8, box.height])\n",
    "axi.set_xlim(0,1)\n",
    "axi.set_ylim(0,1)\n",
    "axi.legend(loc='center left', bbox_to_anchor=(1, 0.5))\n",
    "# gcf().suptitle(\"G(100,(2)0.3,0.05), G(100,(2)0.3,0.1), G(100,(2)0.3,0.15)\");"
   ]
  },
  {
   "cell_type": "code",
   "execution_count": null,
   "metadata": {},
   "outputs": [],
   "source": []
  }
 ],
 "metadata": {
  "kernelspec": {
   "display_name": "Python 3",
   "language": "python",
   "name": "python3"
  },
  "language_info": {
   "codemirror_mode": {
    "name": "ipython",
    "version": 3
   },
   "file_extension": ".py",
   "mimetype": "text/x-python",
   "name": "python",
   "nbconvert_exporter": "python",
   "pygments_lexer": "ipython3",
   "version": "3.5.2"
  }
 },
 "nbformat": 4,
 "nbformat_minor": 2
}
