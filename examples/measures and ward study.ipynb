{
 "cells": [
  {
   "cell_type": "code",
   "execution_count": 1,
   "metadata": {
    "collapsed": true
   },
   "outputs": [],
   "source": [
    "import operator\n",
    "import unittest\n",
    "\n",
    "from sklearn.cluster import AgglomerativeClustering\n",
    "from sklearn.metrics import adjusted_rand_score\n",
    "\n",
    "from graphs import datasets\n",
    "from measure.distance import *\n",
    "from measure.kernel import *\n",
    "from measure.shortcuts import *\n",
    "from scorer import rand_index\n",
    "\n",
    "from tqdm import tqdm_notebook\n",
    "import matplotlib.pyplot as plt\n",
    "%matplotlib inline\n",
    "\n",
    "from scipy.cluster.hierarchy import fcluster, ward\n",
    "from scipy.linalg import sqrtm\n",
    "from ward import Ward\n",
    "from scipy.cluster._hierarchy import nn_chain"
   ]
  },
  {
   "cell_type": "code",
   "execution_count": 2,
   "metadata": {
    "collapsed": true
   },
   "outputs": [],
   "source": [
    "d3_category20 = [\n",
    "    '#aec7e8',\n",
    "    '#1f77b4',\n",
    "    '#ffbb78',\n",
    "    '#ff7f0e',\n",
    "    '#98df8a',\n",
    "    '#2ca02c',\n",
    "    '#ff9896',\n",
    "    '#d62728',\n",
    "    '#c5b0d5',\n",
    "    '#9467bd',\n",
    "    '#c49c94',\n",
    "    '#8c564b',\n",
    "    '#7f7f7f'\n",
    "] "
   ]
  },
  {
   "cell_type": "code",
   "execution_count": 3,
   "metadata": {
    "collapsed": true
   },
   "outputs": [],
   "source": [
    "def linspace(start, end, count):\n",
    "    count -= 4\n",
    "    grid = list(np.linspace(start, end, count))\n",
    "    step = (end - start) / (count - 1)\n",
    "    grid.extend([0.1 * step, 0.5 * step, end - 0.1 * step, end - 0.5 * step])\n",
    "    return grid"
   ]
  },
  {
   "cell_type": "markdown",
   "metadata": {},
   "source": [
    "## kernel-based Ward (DIY version)"
   ]
  },
  {
   "cell_type": "code",
   "execution_count": 34,
   "metadata": {
    "scrolled": true
   },
   "outputs": [
    {
     "name": "stdout",
     "output_type": "stream",
     "text": [
      "\n",
      "DONE: pWalk H\tparam: 0.02 score: 0.6898595196737533\n",
      "\n",
      "\n"
     ]
    },
    {
     "name": "stderr",
     "output_type": "stream",
     "text": [
      "C:\\Users\\illusionww\\Documents\\GitHub\\py_graphs\\measure\\shortcuts.py:21: RuntimeWarning: divide by zero encountered in log\n",
      "  return np.log(H0)\n"
     ]
    },
    {
     "name": "stdout",
     "output_type": "stream",
     "text": [
      "Error in Walk H 0.0\t| 'NoneType' object has no attribute 'nodes'\n"
     ]
    },
    {
     "name": "stderr",
     "output_type": "stream",
     "text": [
      "C:\\Users\\illusionww\\Anaconda3\\lib\\site-packages\\numpy\\core\\_methods.py:59: RuntimeWarning: Mean of empty slice.\n",
      "  warnings.warn(\"Mean of empty slice.\", RuntimeWarning)\n",
      "C:\\Users\\illusionww\\Anaconda3\\lib\\site-packages\\numpy\\core\\_methods.py:70: RuntimeWarning: invalid value encountered in double_scalars\n",
      "  ret = ret.dtype.type(ret / rcount)\n",
      "C:\\Users\\illusionww\\Documents\\GitHub\\py_graphs\\measure\\shortcuts.py:21: RuntimeWarning: invalid value encountered in log\n",
      "  return np.log(H0)\n"
     ]
    },
    {
     "name": "stdout",
     "output_type": "stream",
     "text": [
      "Error in Walk H 0.02\t| 'NoneType' object has no attribute 'nodes'\n",
      "Error in Walk H 0.04\t| 'NoneType' object has no attribute 'nodes'\n",
      "Error in Walk H 0.002\t| 'NoneType' object has no attribute 'nodes'\n",
      "Error in Walk H 0.01\t| 'NoneType' object has no attribute 'nodes'\n",
      "\n",
      "DONE: Walk H\tparam: 0.22 score: 0.7183469631697055\n",
      "\n",
      "\n"
     ]
    },
    {
     "name": "stderr",
     "output_type": "stream",
     "text": [
      "C:\\Users\\illusionww\\Documents\\GitHub\\py_graphs\\measure\\scale.py:35: RuntimeWarning: divide by zero encountered in double_scalars\n",
      "  return 0.5 * t / (1.0 - t)\n",
      "C:\\Users\\illusionww\\Documents\\GitHub\\py_graphs\\measure\\kernel.py:66: RuntimeWarning: invalid value encountered in multiply\n",
      "  return np.linalg.pinv(np.eye(size) + t * getL(A))\n"
     ]
    },
    {
     "name": "stdout",
     "output_type": "stream",
     "text": [
      "Error in For H 1.0\t| On entry to DLASCL parameter number 4 had an illegal value\n",
      "\n",
      "DONE: For H\tparam: 0.04 score: 0.6652034350034067\n",
      "\n",
      "\n",
      "Error in logFor H 0.0\t| 'NoneType' object has no attribute 'nodes'\n",
      "Error in logFor H 1.0\t| On entry to DLASCL parameter number 4 had an illegal value\n",
      "Error in logFor H 0.002\t| 'NoneType' object has no attribute 'nodes'\n",
      "\n",
      "DONE: logFor H\tparam: 0.86 score: 0.6898595196737533\n",
      "\n",
      "\n",
      "Error in Comm H 1.0\t| 'NoneType' object has no attribute 'shape'\n",
      "Error in Comm H 0.998\t| 'NoneType' object has no attribute 'shape'\n",
      "Error in Comm H 0.99\t| 'NoneType' object has no attribute 'shape'\n",
      "\n",
      "DONE: Comm H\tparam: 0.02 score: 0.6898595196737533\n",
      "\n",
      "\n",
      "Error in logComm H 0.0\t| 'NoneType' object has no attribute 'nodes'\n",
      "Error in logComm H 1.0\t| 'NoneType' object has no attribute 'log'\n",
      "Error in logComm H 0.998\t| 'NoneType' object has no attribute 'log'\n",
      "Error in logComm H 0.99\t| 'NoneType' object has no attribute 'log'\n",
      "\n",
      "DONE: logComm H\tparam: 0.22 score: 0.7183469631697055\n",
      "\n",
      "\n"
     ]
    },
    {
     "name": "stderr",
     "output_type": "stream",
     "text": [
      "C:\\Users\\illusionww\\Documents\\GitHub\\py_graphs\\measure\\kernel.py:109: RuntimeWarning: invalid value encountered in multiply\n",
      "  return expm(-t * getL(A))\n"
     ]
    },
    {
     "name": "stdout",
     "output_type": "stream",
     "text": [
      "Error in Heat H 1.0\t| cannot convert float NaN to integer\n",
      "\n",
      "DONE: Heat H\tparam: 0.96 score: 0.7084821777789366\n",
      "\n",
      "\n",
      "Error in logHeat H 0.0\t| 'NoneType' object has no attribute 'nodes'\n",
      "Error in logHeat H 1.0\t| cannot convert float NaN to integer\n",
      "\n",
      "DONE: logHeat H\tparam: 0.96 score: 0.7084821777789366\n",
      "\n",
      "\n",
      "\n",
      "DONE: SCT H\tparam: 0.44 score: 0.6898595196737533\n",
      "\n",
      "\n",
      "\n",
      "DONE: SCCT H\tparam: 0.02 score: 0.6934337633869492\n",
      "\n",
      "\n"
     ]
    },
    {
     "name": "stderr",
     "output_type": "stream",
     "text": [
      "C:\\Users\\illusionww\\Documents\\GitHub\\py_graphs\\measure\\scale.py:41: RuntimeWarning: divide by zero encountered in double_scalars\n",
      "  return (1.0 - beta) / beta\n",
      "C:\\Users\\illusionww\\Documents\\GitHub\\py_graphs\\measure\\distance.py:90: RuntimeWarning: invalid value encountered in multiply\n",
      "  W = Pref * np.exp(-beta * C)\n"
     ]
    },
    {
     "name": "stdout",
     "output_type": "stream",
     "text": [
      "Error in RSP K 0.0\t| On entry to DLASCL parameter number 4 had an illegal value\n"
     ]
    },
    {
     "name": "stderr",
     "output_type": "stream",
     "text": [
      "C:\\Users\\illusionww\\Documents\\GitHub\\py_graphs\\measure\\distance.py:92: RuntimeWarning: divide by zero encountered in true_divide\n",
      "  S = (Z.dot(C * W).dot(Z)) / Z\n",
      "C:\\Users\\illusionww\\Documents\\GitHub\\py_graphs\\measure\\distance.py:94: RuntimeWarning: invalid value encountered in add\n",
      "  Δ_RSP = 0.5 * (C_ + C_.transpose())\n"
     ]
    },
    {
     "name": "stdout",
     "output_type": "stream",
     "text": [
      "Error in RSP K 0.02\t| 'NoneType' object has no attribute 'nodes'\n",
      "Error in RSP K 0.04\t| 'NoneType' object has no attribute 'nodes'\n",
      "Error in RSP K 0.06\t| 'NoneType' object has no attribute 'nodes'\n",
      "Error in RSP K 0.08\t| 'NoneType' object has no attribute 'nodes'\n",
      "Error in RSP K 0.1\t| 'NoneType' object has no attribute 'nodes'\n",
      "Error in RSP K 0.12\t| 'NoneType' object has no attribute 'nodes'\n",
      "Error in RSP K 0.14\t| 'NoneType' object has no attribute 'nodes'\n",
      "Error in RSP K 0.16\t| 'NoneType' object has no attribute 'nodes'\n"
     ]
    },
    {
     "name": "stderr",
     "output_type": "stream",
     "text": [
      "C:\\Users\\illusionww\\Documents\\GitHub\\py_graphs\\measure\\distance.py:92: RuntimeWarning: invalid value encountered in true_divide\n",
      "  S = (Z.dot(C * W).dot(Z)) / Z\n"
     ]
    },
    {
     "name": "stdout",
     "output_type": "stream",
     "text": [
      "Error in RSP K 0.002\t| 'NoneType' object has no attribute 'nodes'\n",
      "Error in RSP K 0.01\t| 'NoneType' object has no attribute 'nodes'\n",
      "\n",
      "DONE: RSP K\tparam: 0.9400000000000001 score: 0.7268379212538431\n",
      "\n",
      "\n"
     ]
    },
    {
     "name": "stderr",
     "output_type": "stream",
     "text": [
      "C:\\Users\\illusionww\\Documents\\GitHub\\py_graphs\\measure\\distance.py:114: RuntimeWarning: invalid value encountered in multiply\n",
      "  W = Pref * np.exp(-beta * C)\n"
     ]
    },
    {
     "name": "stdout",
     "output_type": "stream",
     "text": [
      "Error in FE K 0.0\t| On entry to DLASCL parameter number 4 had an illegal value\n"
     ]
    },
    {
     "name": "stderr",
     "output_type": "stream",
     "text": [
      "C:\\Users\\illusionww\\Documents\\GitHub\\py_graphs\\measure\\distance.py:118: RuntimeWarning: divide by zero encountered in log\n",
      "  Φ = np.log(Zh) / -beta\n",
      "C:\\Users\\illusionww\\Documents\\GitHub\\py_graphs\\measure\\distance.py:118: RuntimeWarning: invalid value encountered in log\n",
      "  Φ = np.log(Zh) / -beta\n"
     ]
    },
    {
     "name": "stdout",
     "output_type": "stream",
     "text": [
      "Error in FE K 0.02\t| 'NoneType' object has no attribute 'nodes'\n",
      "Error in FE K 0.04\t| 'NoneType' object has no attribute 'nodes'\n",
      "Error in FE K 0.06\t| 'NoneType' object has no attribute 'nodes'\n",
      "Error in FE K 0.08\t| 'NoneType' object has no attribute 'nodes'\n",
      "Error in FE K 0.1\t| 'NoneType' object has no attribute 'nodes'\n",
      "Error in FE K 0.12\t| 'NoneType' object has no attribute 'nodes'\n",
      "Error in FE K 0.14\t| 'NoneType' object has no attribute 'nodes'\n",
      "Error in FE K 0.16\t| 'NoneType' object has no attribute 'nodes'\n",
      "Error in FE K 0.18\t| 'NoneType' object has no attribute 'nodes'\n",
      "Error in FE K 0.2\t| 'NoneType' object has no attribute 'nodes'\n"
     ]
    },
    {
     "name": "stderr",
     "output_type": "stream",
     "text": [
      "C:\\Users\\illusionww\\Documents\\GitHub\\py_graphs\\measure\\distance.py:118: RuntimeWarning: divide by zero encountered in true_divide\n",
      "  Φ = np.log(Zh) / -beta\n",
      "C:\\Users\\illusionww\\Documents\\GitHub\\py_graphs\\measure\\distance.py:118: RuntimeWarning: invalid value encountered in true_divide\n",
      "  Φ = np.log(Zh) / -beta\n",
      "C:\\Users\\illusionww\\Documents\\GitHub\\py_graphs\\measure\\distance.py:120: RuntimeWarning: invalid value encountered in subtract\n",
      "  return Δ_FE - np.diag(np.diag(Δ_FE))\n"
     ]
    },
    {
     "name": "stdout",
     "output_type": "stream",
     "text": [
      "Error in FE K 1.0\t| 'NoneType' object has no attribute 'nodes'\n",
      "Error in FE K 0.002\t| 'NoneType' object has no attribute 'nodes'\n",
      "Error in FE K 0.01\t| 'NoneType' object has no attribute 'nodes'\n",
      "\n",
      "DONE: FE K\tparam: 0.98 score: 0.6898595196737533\n",
      "\n",
      "\n",
      "\n",
      "DONE: SP-CT H\tparam: 0.02 score: 0.6888336748547904\n",
      "\n",
      "\n"
     ]
    },
    {
     "data": {
      "text/plain": [
       "<matplotlib.text.Text at 0x17fabb4b390>"
      ]
     },
     "execution_count": 34,
     "metadata": {},
     "output_type": "execute_result"
    },
    {
     "data": {
      "image/png": "[encoded data removed]",
      "text/plain": [
       "<matplotlib.figure.Figure at 0x17fab1109e8>"
      ]
     },
     "metadata": {},
     "output_type": "display_data"
    }
   ],
   "source": [
    "# fig, ax = plt.subplots(1, figsize=(5,3.5))\n",
    "\n",
    "kbward_data = {}\n",
    "graphs, info = datasets.polbooks\n",
    "for m_num, measure in enumerate(Kernel.get_all_H_plus_RSP_FE()):\n",
    "    measureparamdict = {}\n",
    "    for param in tqdm_notebook(linspace(0, 1, 55), desc=measure.name):\n",
    "        mean = []\n",
    "        for edges, nodes in graphs:\n",
    "            try:\n",
    "                D = measure.get_K(edges, measure.scale().calc(edges, param))\n",
    "                n_clusters=len(list(set(nodes)))\n",
    "                y_pred = Ward().predict(D, n_clusters)\n",
    "                ri = adjusted_rand_score(nodes, y_pred)\n",
    "                mean.append(ri)\n",
    "            except KeyboardInterrupt:\n",
    "                raise KeyboardInterrupt()\n",
    "            except Exception as e:\n",
    "                print('Error in {} {}\\t| {}'.format(measure.name, param, e))\n",
    "        mean = [m for m in mean if m is not None and m == m]\n",
    "        score = np.array(mean).mean()\n",
    "        if score is not None and score == score:\n",
    "            measureparamdict[param] = score\n",
    "    maxparam = max(measureparamdict.items(), key=operator.itemgetter(1))[0]\n",
    "    print(\"DONE: {}\\tparam: {} score: {}\\n\\n\".format(measure.name, maxparam, measureparamdict[maxparam]))\n",
    "    measureparamdict = np.array(sorted(measureparamdict.items(), key=operator.itemgetter(0)))\n",
    "    kbward_data[measure.name] = measureparamdict\n",
    "    plt.plot(range(measureparamdict.shape[0]), sorted(measureparamdict[:, 1])[::-1], color=d3_category20[m_num], label=measure.name, linewidth=2)\n",
    "plt.xlim(0, 55)\n",
    "plt.ylim(.58, .73)\n",
    "plt.title('python ARI')"
   ]
  },
  {
   "cell_type": "markdown",
   "metadata": {},
   "source": [
    "## distance-based Ward (scipy version)"
   ]
  },
  {
   "cell_type": "code",
   "execution_count": null,
   "metadata": {
    "collapsed": true
   },
   "outputs": [],
   "source": [
    "def flat_triangle(D):\n",
    "    newD = []\n",
    "    for i in range(D.shape[0]):\n",
    "        for j in range(i + 1, D.shape[0]):\n",
    "            newD.append(D[i, j])\n",
    "    assert len(newD) == D.shape[0] * (D.shape[0] - 1) / 2\n",
    "    return np.array(newD)"
   ]
  },
  {
   "cell_type": "code",
   "execution_count": null,
   "metadata": {
    "collapsed": true
   },
   "outputs": [],
   "source": [
    "fig, ax = plt.subplots(1, figsize=(5,3.5))\n",
    "\n",
    "dbward_data = {}\n",
    "graphs, info = datasets.polbooks\n",
    "for m_num, measure in enumerate(Distance.get_all()):\n",
    "    measureparamdict = {}\n",
    "    for param in tqdm_notebook(linspace(0, 1, 55), desc=measure.name):\n",
    "        mean = []\n",
    "        for edges, nodes in graphs:\n",
    "            try:\n",
    "                D = measure.get_D(edges, measure.scale().calc(edges, param))\n",
    "                n_clusters=len(list(set(nodes)))\n",
    "                \n",
    "                n = int(D.shape[0] * (D.shape[0] - 1) / 2)\n",
    "                D = flat_triangle(D)\n",
    "                \n",
    "                y_pred = fcluster(ward(D), n_clusters, criterion='maxclust')\n",
    "                ari = adjusted_rand_score(nodes, y_pred)\n",
    "                mean.append(ari)\n",
    "            except KeyboardInterrupt:\n",
    "                raise KeyboardInterrupt()\n",
    "            except Exception as e:\n",
    "                print('Error in {} {}\\t| {}'.format(measure.name, param, e))\n",
    "        mean = [m for m in mean if m is not None and m == m]\n",
    "        score = np.array(mean).mean()\n",
    "        if score is not None and score == score:\n",
    "            measureparamdict[param] = score\n",
    "    maxparam = max(measureparamdict.items(), key=operator.itemgetter(1))[0]\n",
    "    print(\"DONE: {}\\tparam: {} score: {}\\n\\n\".format(measure.name, maxparam, measureparamdict[maxparam]))\n",
    "    measureparamdict = np.array(sorted(measureparamdict.items(), key=operator.itemgetter(0)))\n",
    "    dbward_data[measure.name] = measureparamdict\n",
    "    plt.plot(range(measureparamdict.shape[0]), measureparamdict[:, 1], color=d3_category20[m_num], label=measure.name, linewidth=2)\n",
    "plt.xlim(0, 55)\n",
    "plt.ylim(0.65, .73)"
   ]
  },
  {
   "cell_type": "markdown",
   "metadata": {
    "collapsed": true
   },
   "source": [
    "## object-feature based (sklearn version)"
   ]
  },
  {
   "cell_type": "code",
   "execution_count": null,
   "metadata": {
    "collapsed": true,
    "scrolled": true
   },
   "outputs": [],
   "source": [
    "fig, ax = plt.subplots(1, figsize=(5,3.5))\n",
    "\n",
    "graphs, info = datasets.polbooks\n",
    "for m_num, measure in enumerate(Kernel.get_all_H_plus_RSP_FE()):\n",
    "    measureparamdict = {}\n",
    "    for param in tqdm_notebook(linspace(0, 1, 55), desc=measure.name):\n",
    "        mean = []\n",
    "        for edges, nodes in graphs:\n",
    "            try:\n",
    "                D = measure.get_K(edges, measure.scale().calc(edges, param))\n",
    "                if not is_semipos_def(D):\n",
    "                    raise Exception('Not positive definite')\n",
    "                D = sqrtm(D).T\n",
    "                n_clusters=len(list(set(nodes)))\n",
    "                y_pred = AgglomerativeClustering(n_clusters=n_clusters).fit_predict(D)\n",
    "                ari = adjusted_rand_score(nodes, y_pred)\n",
    "                mean.append(ari)\n",
    "            except KeyboardInterrupt:\n",
    "                raise KeyboardInterrupt()\n",
    "            except Exception as e:\n",
    "                print('Error in {} {}\\t| {}'.format(measure.name, param, e))\n",
    "        mean = [m for m in mean if m is not None and m == m]\n",
    "        score = np.array(mean).mean()\n",
    "        if score is not None and score == score:\n",
    "            measureparamdict[param] = score\n",
    "    if len(measureparamdict) == 0:\n",
    "        print('Not positive devinite ' + measure.name)\n",
    "        continue\n",
    "    maxparam = max(measureparamdict.items(), key=operator.itemgetter(1))[0]\n",
    "    print(\"DONE: {}\\tparam: {} score: {}\\n\\n\".format(measure.name, maxparam, measureparamdict[maxparam]))\n",
    "    measureparamdict = np.array(sorted(measureparamdict.items(), key=operator.itemgetter(1), reverse=True))\n",
    "    plt.plot(range(measureparamdict.shape[0]), measureparamdict[:, 1], color=d3_category20[m_num], label=measure.name, linewidth=2)\n",
    "plt.xlim(0, 55)\n",
    "plt.ylim(0.64, .73)"
   ]
  },
  {
   "cell_type": "markdown",
   "metadata": {},
   "source": [
    "## from java"
   ]
  },
  {
   "cell_type": "code",
   "execution_count": 33,
   "metadata": {},
   "outputs": [
    {
     "data": {
      "text/plain": [
       "<matplotlib.text.Text at 0x17fac339f98>"
      ]
     },
     "execution_count": 33,
     "metadata": {},
     "output_type": "execute_result"
    },
    {
     "data": {
      "image/png": "[encoded data removed]",
      "text/plain": [
       "<matplotlib.figure.Figure at 0x17fabb32cc0>"
      ]
     },
     "metadata": {},
     "output_type": "display_data"
    }
   ],
   "source": [
    "# fig, ax = plt.subplots(1, figsize=(5,3.5))\n",
    "\n",
    "old_kdward_df = pd.read_csv('polbooks.csv', '\\t')\n",
    "old_kdward_df.index = old_kdward_df['param'].apply(lambda x: \"{:1.3f}\".format(x))\n",
    "old_kdward_df = old_kdward_df[old_kdward_df.columns[1:]]\n",
    "old_kdward_df.head()\n",
    "for m_num, column in enumerate(['pWalk H', 'Walk H', 'For H', 'logFor H', 'Comm H', 'logComm H',\n",
    "               'Heat H', 'logHeat H', 'SCT H', 'SCCT H', 'RSP K', 'FE K', 'SP-CT H']):\n",
    "    plt.plot(range(old_kdward_df.shape[0]), sorted(list(old_kdward_df[column]))[::-1],\n",
    "             color=d3_category20[m_num], label=measure.name, linewidth=2)\n",
    "plt.xlim(0, 55)\n",
    "plt.ylim(0.8, .87)\n",
    "plt.title('java RI')"
   ]
  },
  {
   "cell_type": "markdown",
   "metadata": {
    "collapsed": true
   },
   "source": [
    "# differences"
   ]
  },
  {
   "cell_type": "code",
   "execution_count": 5,
   "metadata": {
    "collapsed": true
   },
   "outputs": [],
   "source": [
    "import pandas as pd"
   ]
  },
  {
   "cell_type": "code",
   "execution_count": null,
   "metadata": {
    "collapsed": true
   },
   "outputs": [],
   "source": [
    "dbward_df = pd.DataFrame()\n",
    "for measure in dbward_data.keys():\n",
    "    df2 = pd.DataFrame(dbward_data[measure])\n",
    "    df2.columns = ['param', measure]\n",
    "    df2.index = df2['param'].apply(lambda x: \"{:1.3f}\".format(x))\n",
    "    dbward_df[measure] = df2[measure]\n",
    "dbward_df.head()"
   ]
  },
  {
   "cell_type": "code",
   "execution_count": 6,
   "metadata": {},
   "outputs": [
    {
     "data": {
      "text/html": [
       "<div>\n",
       "<table border=\"1\" class=\"dataframe\">\n",
       "  <thead>\n",
       "    <tr style=\"text-align: right;\">\n",
       "      <th></th>\n",
       "      <th>pWalk H</th>\n",
       "      <th>Walk H</th>\n",
       "      <th>For H</th>\n",
       "      <th>logFor H</th>\n",
       "      <th>Comm H</th>\n",
       "      <th>logComm H</th>\n",
       "      <th>Heat H</th>\n",
       "      <th>logHeat H</th>\n",
       "      <th>SCT H</th>\n",
       "      <th>SCCT H</th>\n",
       "      <th>RSP K</th>\n",
       "      <th>FE K</th>\n",
       "      <th>SP-CT H</th>\n",
       "    </tr>\n",
       "    <tr>\n",
       "      <th>param</th>\n",
       "      <th></th>\n",
       "      <th></th>\n",
       "      <th></th>\n",
       "      <th></th>\n",
       "      <th></th>\n",
       "      <th></th>\n",
       "      <th></th>\n",
       "      <th></th>\n",
       "      <th></th>\n",
       "      <th></th>\n",
       "      <th></th>\n",
       "      <th></th>\n",
       "      <th></th>\n",
       "    </tr>\n",
       "  </thead>\n",
       "  <tbody>\n",
       "    <tr>\n",
       "      <th>0.000</th>\n",
       "      <td>0.619231</td>\n",
       "      <td>NaN</td>\n",
       "      <td>0.619231</td>\n",
       "      <td>NaN</td>\n",
       "      <td>0.619231</td>\n",
       "      <td>NaN</td>\n",
       "      <td>0.619231</td>\n",
       "      <td>NaN</td>\n",
       "      <td>0.647070</td>\n",
       "      <td>0.647070</td>\n",
       "      <td>NaN</td>\n",
       "      <td>NaN</td>\n",
       "      <td>0.835348</td>\n",
       "    </tr>\n",
       "    <tr>\n",
       "      <th>0.002</th>\n",
       "      <td>0.850366</td>\n",
       "      <td>NaN</td>\n",
       "      <td>0.440110</td>\n",
       "      <td>NaN</td>\n",
       "      <td>0.850366</td>\n",
       "      <td>0.835897</td>\n",
       "      <td>0.440110</td>\n",
       "      <td>0.827656</td>\n",
       "      <td>0.829121</td>\n",
       "      <td>0.851832</td>\n",
       "      <td>NaN</td>\n",
       "      <td>NaN</td>\n",
       "      <td>0.850733</td>\n",
       "    </tr>\n",
       "    <tr>\n",
       "      <th>0.010</th>\n",
       "      <td>0.850366</td>\n",
       "      <td>NaN</td>\n",
       "      <td>0.829121</td>\n",
       "      <td>0.85</td>\n",
       "      <td>0.850366</td>\n",
       "      <td>0.835897</td>\n",
       "      <td>0.829121</td>\n",
       "      <td>0.827656</td>\n",
       "      <td>0.829121</td>\n",
       "      <td>0.851832</td>\n",
       "      <td>NaN</td>\n",
       "      <td>NaN</td>\n",
       "      <td>0.850733</td>\n",
       "    </tr>\n",
       "    <tr>\n",
       "      <th>0.020</th>\n",
       "      <td>0.850366</td>\n",
       "      <td>NaN</td>\n",
       "      <td>0.812637</td>\n",
       "      <td>0.85</td>\n",
       "      <td>0.850366</td>\n",
       "      <td>0.835897</td>\n",
       "      <td>0.829121</td>\n",
       "      <td>0.827656</td>\n",
       "      <td>0.829121</td>\n",
       "      <td>0.851832</td>\n",
       "      <td>NaN</td>\n",
       "      <td>NaN</td>\n",
       "      <td>0.850733</td>\n",
       "    </tr>\n",
       "    <tr>\n",
       "      <th>0.040</th>\n",
       "      <td>0.850366</td>\n",
       "      <td>NaN</td>\n",
       "      <td>0.834249</td>\n",
       "      <td>0.85</td>\n",
       "      <td>0.850366</td>\n",
       "      <td>0.835897</td>\n",
       "      <td>0.812637</td>\n",
       "      <td>0.833883</td>\n",
       "      <td>0.829121</td>\n",
       "      <td>0.851832</td>\n",
       "      <td>NaN</td>\n",
       "      <td>NaN</td>\n",
       "      <td>0.850733</td>\n",
       "    </tr>\n",
       "  </tbody>\n",
       "</table>\n",
       "</div>"
      ],
      "text/plain": [
       "        pWalk H  Walk H     For H  logFor H    Comm H  logComm H    Heat H  \\\n",
       "param                                                                        \n",
       "0.000  0.619231     NaN  0.619231       NaN  0.619231        NaN  0.619231   \n",
       "0.002  0.850366     NaN  0.440110       NaN  0.850366   0.835897  0.440110   \n",
       "0.010  0.850366     NaN  0.829121      0.85  0.850366   0.835897  0.829121   \n",
       "0.020  0.850366     NaN  0.812637      0.85  0.850366   0.835897  0.829121   \n",
       "0.040  0.850366     NaN  0.834249      0.85  0.850366   0.835897  0.812637   \n",
       "\n",
       "       logHeat H     SCT H    SCCT H  RSP K  FE K   SP-CT H  \n",
       "param                                                        \n",
       "0.000        NaN  0.647070  0.647070    NaN   NaN  0.835348  \n",
       "0.002   0.827656  0.829121  0.851832    NaN   NaN  0.850733  \n",
       "0.010   0.827656  0.829121  0.851832    NaN   NaN  0.850733  \n",
       "0.020   0.827656  0.829121  0.851832    NaN   NaN  0.850733  \n",
       "0.040   0.833883  0.829121  0.851832    NaN   NaN  0.850733  "
      ]
     },
     "execution_count": 6,
     "metadata": {},
     "output_type": "execute_result"
    }
   ],
   "source": [
    "kbward_df = pd.DataFrame()\n",
    "for measure in kbward_data.keys():\n",
    "    df2 = pd.DataFrame(kbward_data[measure])\n",
    "    df2.columns = ['param', measure]\n",
    "    df2.index = df2['param'].apply(lambda x: \"{:1.3f}\".format(x))\n",
    "    kbward_df[measure] = df2[measure]\n",
    "kbward_df.head()"
   ]
  },
  {
   "cell_type": "code",
   "execution_count": 7,
   "metadata": {
    "scrolled": true
   },
   "outputs": [
    {
     "data": {
      "text/html": [
       "<div>\n",
       "<table border=\"1\" class=\"dataframe\">\n",
       "  <thead>\n",
       "    <tr style=\"text-align: right;\">\n",
       "      <th></th>\n",
       "      <th>logHeat H</th>\n",
       "      <th>Heat H</th>\n",
       "      <th>logFor H</th>\n",
       "      <th>FE K</th>\n",
       "      <th>SP-CT H</th>\n",
       "      <th>Walk H</th>\n",
       "      <th>RSP K</th>\n",
       "      <th>Comm H</th>\n",
       "      <th>pWalk H</th>\n",
       "      <th>SCCT H</th>\n",
       "      <th>SCT H</th>\n",
       "      <th>For H</th>\n",
       "      <th>logComm H</th>\n",
       "      <th>Unnamed: 14</th>\n",
       "    </tr>\n",
       "    <tr>\n",
       "      <th>param</th>\n",
       "      <th></th>\n",
       "      <th></th>\n",
       "      <th></th>\n",
       "      <th></th>\n",
       "      <th></th>\n",
       "      <th></th>\n",
       "      <th></th>\n",
       "      <th></th>\n",
       "      <th></th>\n",
       "      <th></th>\n",
       "      <th></th>\n",
       "      <th></th>\n",
       "      <th></th>\n",
       "      <th></th>\n",
       "    </tr>\n",
       "  </thead>\n",
       "  <tbody>\n",
       "    <tr>\n",
       "      <th>0.000</th>\n",
       "      <td>NaN</td>\n",
       "      <td>0.622894</td>\n",
       "      <td>NaN</td>\n",
       "      <td>NaN</td>\n",
       "      <td>0.841941</td>\n",
       "      <td>NaN</td>\n",
       "      <td>NaN</td>\n",
       "      <td>0.622894</td>\n",
       "      <td>0.622894</td>\n",
       "      <td>0.459524</td>\n",
       "      <td>0.459524</td>\n",
       "      <td>0.622894</td>\n",
       "      <td>NaN</td>\n",
       "      <td>NaN</td>\n",
       "    </tr>\n",
       "    <tr>\n",
       "      <th>0.002</th>\n",
       "      <td>0.827656</td>\n",
       "      <td>0.440110</td>\n",
       "      <td>0.85</td>\n",
       "      <td>NaN</td>\n",
       "      <td>0.850733</td>\n",
       "      <td>0.835897</td>\n",
       "      <td>NaN</td>\n",
       "      <td>0.850366</td>\n",
       "      <td>0.850366</td>\n",
       "      <td>0.851832</td>\n",
       "      <td>0.829121</td>\n",
       "      <td>0.440110</td>\n",
       "      <td>0.835897</td>\n",
       "      <td>NaN</td>\n",
       "    </tr>\n",
       "    <tr>\n",
       "      <th>0.010</th>\n",
       "      <td>0.827656</td>\n",
       "      <td>0.829121</td>\n",
       "      <td>0.85</td>\n",
       "      <td>NaN</td>\n",
       "      <td>0.850733</td>\n",
       "      <td>0.835897</td>\n",
       "      <td>0.834249</td>\n",
       "      <td>0.850366</td>\n",
       "      <td>0.850366</td>\n",
       "      <td>0.851832</td>\n",
       "      <td>0.829121</td>\n",
       "      <td>0.829121</td>\n",
       "      <td>0.835897</td>\n",
       "      <td>NaN</td>\n",
       "    </tr>\n",
       "    <tr>\n",
       "      <th>0.020</th>\n",
       "      <td>0.827656</td>\n",
       "      <td>0.829121</td>\n",
       "      <td>0.85</td>\n",
       "      <td>0.819780</td>\n",
       "      <td>0.850733</td>\n",
       "      <td>0.835897</td>\n",
       "      <td>0.825824</td>\n",
       "      <td>0.850366</td>\n",
       "      <td>0.850366</td>\n",
       "      <td>0.851832</td>\n",
       "      <td>0.829121</td>\n",
       "      <td>0.812637</td>\n",
       "      <td>0.835897</td>\n",
       "      <td>NaN</td>\n",
       "    </tr>\n",
       "    <tr>\n",
       "      <th>0.040</th>\n",
       "      <td>0.833883</td>\n",
       "      <td>0.812637</td>\n",
       "      <td>0.85</td>\n",
       "      <td>0.825458</td>\n",
       "      <td>0.850733</td>\n",
       "      <td>0.835897</td>\n",
       "      <td>0.809707</td>\n",
       "      <td>0.850366</td>\n",
       "      <td>0.850366</td>\n",
       "      <td>0.851832</td>\n",
       "      <td>0.829121</td>\n",
       "      <td>0.834249</td>\n",
       "      <td>0.835897</td>\n",
       "      <td>NaN</td>\n",
       "    </tr>\n",
       "  </tbody>\n",
       "</table>\n",
       "</div>"
      ],
      "text/plain": [
       "       logHeat H    Heat H  logFor H      FE K   SP-CT H    Walk H     RSP K  \\\n",
       "param                                                                          \n",
       "0.000        NaN  0.622894       NaN       NaN  0.841941       NaN       NaN   \n",
       "0.002   0.827656  0.440110      0.85       NaN  0.850733  0.835897       NaN   \n",
       "0.010   0.827656  0.829121      0.85       NaN  0.850733  0.835897  0.834249   \n",
       "0.020   0.827656  0.829121      0.85  0.819780  0.850733  0.835897  0.825824   \n",
       "0.040   0.833883  0.812637      0.85  0.825458  0.850733  0.835897  0.809707   \n",
       "\n",
       "         Comm H   pWalk H    SCCT H     SCT H     For H  logComm H  \\\n",
       "param                                                                \n",
       "0.000  0.622894  0.622894  0.459524  0.459524  0.622894        NaN   \n",
       "0.002  0.850366  0.850366  0.851832  0.829121  0.440110   0.835897   \n",
       "0.010  0.850366  0.850366  0.851832  0.829121  0.829121   0.835897   \n",
       "0.020  0.850366  0.850366  0.851832  0.829121  0.812637   0.835897   \n",
       "0.040  0.850366  0.850366  0.851832  0.829121  0.834249   0.835897   \n",
       "\n",
       "       Unnamed: 14  \n",
       "param               \n",
       "0.000          NaN  \n",
       "0.002          NaN  \n",
       "0.010          NaN  \n",
       "0.020          NaN  \n",
       "0.040          NaN  "
      ]
     },
     "execution_count": 7,
     "metadata": {},
     "output_type": "execute_result"
    }
   ],
   "source": [
    "old_kdward_df = pd.read_csv('polbooks.csv', '\\t')\n",
    "old_kdward_df.index = old_kdward_df['param'].apply(lambda x: \"{:1.3f}\".format(x))\n",
    "old_kdward_df = old_kdward_df[old_kdward_df.columns[1:]]\n",
    "old_kdward_df.head()"
   ]
  },
  {
   "cell_type": "code",
   "execution_count": 13,
   "metadata": {},
   "outputs": [
    {
     "data": {
      "image/png": "[encoded data removed]",
      "text/plain": [
       "<matplotlib.figure.Figure at 0x17fa9d600f0>"
      ]
     },
     "metadata": {},
     "output_type": "display_data"
    }
   ],
   "source": [
    "fig, ax = plt.subplots(5, 3, figsize=(15,15))\n",
    "for idx, measure in enumerate(kbward_data.keys()):\n",
    "    diff = old_kdward_df[measure] - kbward_df[measure]\n",
    "    ax[idx//3, idx%3].plot(diff)\n",
    "    ax[idx//3, idx%3].set_title(measure)\n",
    "    ax[idx//3, idx%3].set_xlim((0, 1))\n",
    "    ax[idx//3, idx%3].set_ylim((-0.015, 0.015))"
   ]
  },
  {
   "cell_type": "code",
   "execution_count": 16,
   "metadata": {},
   "outputs": [
    {
     "data": {
      "image/png": "iVBORw0KGgoAAAANSUhEUgAAA38AAANeCAYAAACiR7ccAAAABHNCSVQICAgIfAhkiAAAAAlwSFlz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\noVH4YJ4/IDl7XNP7xget_K80R8Ublr76i0CfH9pZclcnv7dcS3290l7HfDL6JM+z/1+XF+NX2VzAp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\nquxkx+FG8wAAAABJRU5ErkJggg==\n",
      "text/plain": [
       "<matplotlib.figure.Figure at 0x17fab76be10>"
      ]
     },
     "metadata": {},
     "output_type": "display_data"
    }
   ],
   "source": [
    "fig, ax = plt.subplots(5, 3, figsize=(15,15))\n",
    "for idx, measure in enumerate(kbward_data.keys()):\n",
    "    ax[idx//3, idx%3].plot(old_kdward_df[measure], label='java')\n",
    "    ax[idx//3, idx%3].plot(kbward_df[measure], '--', label='python')\n",
    "    ax[idx//3, idx%3].legend()\n",
    "    ax[idx//3, idx%3].set_title(measure)\n",
    "    ax[idx//3, idx%3].set_xlim((0, 1))"
   ]
  },
  {
   "cell_type": "markdown",
   "metadata": {
    "collapsed": true
   },
   "source": [
    "# reject curve"
   ]
  },
  {
   "cell_type": "code",
   "execution_count": null,
   "metadata": {
    "collapsed": true
   },
   "outputs": [],
   "source": [
    "edges, nodes = datasets.polbooks[0][0]\n",
    "measure = pWalk_H()\n",
    "param = 0.5\n",
    "K = measure.get_K(edges, measure.scale().calc(edges, param))\n",
    "n_clusters=len(list(set(nodes)))\n",
    "y_pred = Ward().predict(K, n_clusters)\n",
    "\n",
    "RI(nodes, y_pred)"
   ]
  },
  {
   "cell_type": "code",
   "execution_count": null,
   "metadata": {
    "collapsed": true
   },
   "outputs": [],
   "source": [
    "points = []\n",
    "for i in range(D.shape[0]):\n",
    "    for j in range(i + 1, D.shape[1]):\n",
    "        points.append((D[i, j], nodes[i] == nodes[j]))\n",
    "points = sorted(points, key=lambda x: x[0])\n",
    "points = np.array(points)\n",
    "\n",
    "top_step = 1 / np.sum(points[:, 1])\n",
    "left_step = 1 / np.sum(points[:, 1] == 0)\n",
    "\n",
    "steps = [np.zeros(2)]\n",
    "for point in points:\n",
    "    steps.append(steps[-1] + ((0, top_step) if point[1] else (left_step, 0)))\n",
    "steps = np.array(steps)\n",
    "\n",
    "fig, ax = plt.subplots(1, figsize=(4, 4))\n",
    "plt.plot(steps[:, 0], steps[:, 1])"
   ]
  },
  {
   "cell_type": "code",
   "execution_count": null,
   "metadata": {
    "collapsed": true
   },
   "outputs": [],
   "source": [
    "def RI(y_true, y_pred):\n",
    "    tp, tn, fp, fn = 0, 0, 0, 0\n",
    "    for i in range(len(y_true)):\n",
    "        for j in range(len(y_true)):\n",
    "            if y_true[i] == y_true[j]:\n",
    "                if y_pred[i] == y_pred[j]:\n",
    "                    tp += 1\n",
    "                else:\n",
    "                    fp += 1\n",
    "            else:\n",
    "                if y_pred[i] == y_pred[j]:\n",
    "                    fn += 1\n",
    "                else:\n",
    "                    tn += 1\n",
    "    return (tp + tn) / (tp + tn + fp + fn)"
   ]
  }
 ],
 "metadata": {
  "anaconda-cloud": {},
  "kernelspec": {
   "display_name": "Python 3",
   "language": "python",
   "name": "python3"
  },
  "language_info": {
   "codemirror_mode": {
    "name": "ipython",
    "version": 3
   },
   "file_extension": ".py",
   "mimetype": "text/x-python",
   "name": "python",
   "nbconvert_exporter": "python",
   "pygments_lexer": "ipython3",
   "version": "3.6.4"
  },
  "widgets": {
   "state": {
    "06105882e6cb4883bca583a8611192c6": {
     "views": [
      {
       "cell_index": 4
      }
     ]
    },
    "0b5cc92d8f6f452dad13b7ca65095766": {
     "views": [
      {
       "cell_index": 4
      }
     ]
    },
    "0bf74dbff33a4ef185fa6301099648bf": {
     "views": [
      {
       "cell_index": 4
      }
     ]
    },
    "10ab804296d144b0805af461bb1aea4f": {
     "views": [
      {
       "cell_index": 4
      }
     ]
    },
    "122a9a6dedd54ee8a8507c759b62da1d": {
     "views": [
      {
       "cell_index": 4
      }
     ]
    },
    "12d71670accc490abf24d58dba3a42dd": {
     "views": [
      {
       "cell_index": 4
      }
     ]
    },
    "14127fefd43649a6b5e745fcee73062a": {
     "views": [
      {
       "cell_index": 4
      }
     ]
    },
    "1abcb762bb95413bac1482c65e3ea33d": {
     "views": [
      {
       "cell_index": 4
      }
     ]
    },
    "1b7c59a762244f29ae851f70fc7fbcca": {
     "views": [
      {
       "cell_index": 4
      }
     ]
    },
    "21b13f2f49ea4b9c89468b9054368373": {
     "views": [
      {
       "cell_index": 4
      }
     ]
    },
    "256325d6eff148898365c848b4f0a430": {
     "views": [
      {
       "cell_index": 4
      }
     ]
    },
    "256bc7204f5a4ae9935b06e7dcaba52a": {
     "views": [
      {
       "cell_index": 4
      }
     ]
    },
    "2590b2a99dd54edbb1c116e6f3601bc7": {
     "views": [
      {
       "cell_index": 4
      }
     ]
    },
    "25d781ab7e1e457588d96671a8e78402": {
     "views": [
      {
       "cell_index": 4
      }
     ]
    },
    "292be4afa92a4d688ab078923e4bb887": {
     "views": [
      {
       "cell_index": 4
      }
     ]
    },
    "29a5a57b47454f6b8d911e9923ce71b2": {
     "views": [
      {
       "cell_index": 4
      }
     ]
    },
    "2edaba356399489da6d2986b0bc13aa3": {
     "views": [
      {
       "cell_index": 4
      }
     ]
    },
    "348116f50c004cb6a6eba7317557331c": {
     "views": [
      {
       "cell_index": 4
      }
     ]
    },
    "380d94435fdb4fd68fe77386dc62d954": {
     "views": [
      {
       "cell_index": 4
      }
     ]
    },
    "3b5740849f15463f9ba4253f86ce0123": {
     "views": [
      {
       "cell_index": 4
      }
     ]
    },
    "3ce0c8a2a6a84f0498b8b4bed58c6a13": {
     "views": [
      {
       "cell_index": 4
      }
     ]
    },
    "480eb9e3c5644af796ad43c09fe842cf": {
     "views": [
      {
       "cell_index": 4
      }
     ]
    },
    "48dbf1ac57f0433db0c287bca0515de2": {
     "views": [
      {
       "cell_index": 4
      }
     ]
    },
    "55c9d02fceb946cfb120a750c360240f": {
     "views": [
      {
       "cell_index": 4
      }
     ]
    },
    "5f456876e6ff47f6b12b87a124fd6ced": {
     "views": [
      {
       "cell_index": 4
      }
     ]
    },
    "6f9795603ea347d38e9579eacb15ebf6": {
     "views": [
      {
       "cell_index": 4
      }
     ]
    },
    "7174fef1d4b242a2b011a3f6d11107aa": {
     "views": [
      {
       "cell_index": 4
      }
     ]
    },
    "787edd62bb76466296da1741f7ad5037": {
     "views": [
      {
       "cell_index": 4
      }
     ]
    },
    "7aea554bd0554647aeb51ddfd8c22f7f": {
     "views": [
      {
       "cell_index": 4
      }
     ]
    },
    "7d7bbbe0bcba47bb88b3950ef5065f17": {
     "views": [
      {
       "cell_index": 4
      }
     ]
    },
    "7e573922b47e4691ab1b5e9b28f35a4b": {
     "views": [
      {
       "cell_index": 4
      }
     ]
    },
    "83f94d2b09ba4194b2c01455c182c93f": {
     "views": [
      {
       "cell_index": 4
      }
     ]
    },
    "8470374549d748d693b18cd705fb1ad7": {
     "views": [
      {
       "cell_index": 4
      }
     ]
    },
    "8cc4e047d94b4e94a15c1419bb7872be": {
     "views": [
      {
       "cell_index": 4
      }
     ]
    },
    "8e8f889ceeb747d8a8a1fd41cebb1f12": {
     "views": [
      {
       "cell_index": 4
      }
     ]
    },
    "91140fce2afe409095869eb23eed76d5": {
     "views": [
      {
       "cell_index": 4
      }
     ]
    },
    "9459706c7aa0454fb3d156b52b139aa9": {
     "views": [
      {
       "cell_index": 4
      }
     ]
    },
    "97a280ff062a477d8cf5002d5562d14a": {
     "views": [
      {
       "cell_index": 4
      }
     ]
    },
    "9b3a57bbfdc446daadca87e2049a43f9": {
     "views": [
      {
       "cell_index": 4
      }
     ]
    },
    "9ba14851f792481eb8e725e81c62e736": {
     "views": [
      {
       "cell_index": 4
      }
     ]
    },
    "9bc8efd4031d4216ae3762c0e1ae73df": {
     "views": [
      {
       "cell_index": 4
      }
     ]
    },
    "9bdf64ebc9594ae2b8f9c329638454c1": {
     "views": [
      {
       "cell_index": 4
      }
     ]
    },
    "9cfec241e51649d5a848aa5c63e7ef86": {
     "views": [
      {
       "cell_index": 4
      }
     ]
    },
    "9f8a5e6bbb0740909bdd0923da31878d": {
     "views": [
      {
       "cell_index": 4
      }
     ]
    },
    "9fafb4e5a2814accac4727c832c52290": {
     "views": [
      {
       "cell_index": 4
      }
     ]
    },
    "a02ab865fd814dd8813a14d9a91c128f": {
     "views": [
      {
       "cell_index": 4
      }
     ]
    },
    "a0d378ea3fcc43ba99109104d580300e": {
     "views": [
      {
       "cell_index": 4
      }
     ]
    },
    "a81df56560934233b84c3fa68aa8a64f": {
     "views": [
      {
       "cell_index": 4
      }
     ]
    },
    "ab0e32f4810b44a48adc5dafc77dffac": {
     "views": [
      {
       "cell_index": 4
      }
     ]
    },
    "b6e4f07b10394452958a2e0451163260": {
     "views": [
      {
       "cell_index": 4
      }
     ]
    },
    "ba714148f7e842a7bd48870c412defb6": {
     "views": [
      {
       "cell_index": 4
      }
     ]
    },
    "c003ed1fc16b46999b3de03aca0035a1": {
     "views": [
      {
       "cell_index": 4
      }
     ]
    },
    "c1335cddd80a41b1ad0511dbd141b23a": {
     "views": [
      {
       "cell_index": 4
      }
     ]
    },
    "c1f5cc860a36449aa9ddde99e4b6476d": {
     "views": [
      {
       "cell_index": 4
      }
     ]
    },
    "c21b4ec5df674377ad9df8b1450de0ae": {
     "views": [
      {
       "cell_index": 4
      }
     ]
    },
    "c4141ff60a454614a3298464c6596237": {
     "views": [
      {
       "cell_index": 4
      }
     ]
    },
    "c6a787abd4cc445b8049baeef2cc494b": {
     "views": [
      {
       "cell_index": 4
      }
     ]
    },
    "c8042e18af2249f8ae269c4383ff1720": {
     "views": [
      {
       "cell_index": 4
      }
     ]
    },
    "c81ed1d8bb504dd7a2ab731eb3a30c2c": {
     "views": [
      {
       "cell_index": 4
      }
     ]
    },
    "c83661e5f53a496ba8ac8f087057f5bb": {
     "views": [
      {
       "cell_index": 4
      }
     ]
    },
    "c9735a388a064d829bfb11878a4302cc": {
     "views": [
      {
       "cell_index": 4
      }
     ]
    },
    "cf7337abcb304443a11ec4303c87dcbc": {
     "views": [
      {
       "cell_index": 4
      }
     ]
    },
    "d1adff9289c5464c8dae6ee14c54a7f9": {
     "views": [
      {
       "cell_index": 4
      }
     ]
    },
    "d24a4b379def49cbb228d5b10d618e64": {
     "views": [
      {
       "cell_index": 4
      }
     ]
    },
    "d58159b5753740b387c7e823f6b3239b": {
     "views": [
      {
       "cell_index": 4
      }
     ]
    },
    "d588cc816fe5476c8202923ef9a184ba": {
     "views": [
      {
       "cell_index": 4
      }
     ]
    },
    "d5dd872f5ce14f109de5a17ec811a0b0": {
     "views": [
      {
       "cell_index": 4
      }
     ]
    },
    "d6b080dc5b8b4563b46a409ac3dba579": {
     "views": [
      {
       "cell_index": 4
      }
     ]
    },
    "da2cf28e45a64f6e9ab5ffb3180fc240": {
     "views": [
      {
       "cell_index": 4
      }
     ]
    },
    "dd0bd47a805b46609a98733cd8d408e4": {
     "views": [
      {
       "cell_index": 4
      }
     ]
    },
    "e404f50094dd44fca8ada9cd77b5f90b": {
     "views": [
      {
       "cell_index": 4
      }
     ]
    },
    "ecde4ac0d0954d19a88befc0b45987d2": {
     "views": [
      {
       "cell_index": 4
      }
     ]
    },
    "f0fc159f392e492f84819375db9af68e": {
     "views": [
      {
       "cell_index": 4
      }
     ]
    },
    "f1bd67c0ba264bcdb144b994a9c693a6": {
     "views": [
      {
       "cell_index": 4
      }
     ]
    },
    "f2b8286fce87400bb48a29782e4e611b": {
     "views": [
      {
       "cell_index": 4
      }
     ]
    },
    "f3666cd7ff924078bde0c73c814d3b42": {
     "views": [
      {
       "cell_index": 4
      }
     ]
    },
    "f6cb271dccd3431b939081a5caa47c75": {
     "views": [
      {
       "cell_index": 4
      }
     ]
    },
    "f9cc0e2425d141d9a3b5011eb6f3cacc": {
     "views": [
      {
       "cell_index": 4
      }
     ]
    },
    "fe9af18b0956432ca83c12bab25eb7d5": {
     "views": [
      {
       "cell_index": 4
      }
     ]
    }
   },
   "version": "1.2.0"
  }
 },
 "nbformat": 4,
 "nbformat_minor": 1
}
