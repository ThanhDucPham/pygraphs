{
 "cells": [
  {
   "cell_type": "code",
   "execution_count": 1,
   "metadata": {
    "collapsed": true
   },
   "outputs": [],
   "source": [
    "import operator\n",
    "import unittest\n",
    "\n",
    "from sklearn.cluster import AgglomerativeClustering\n",
    "from sklearn.metrics import adjusted_rand_score\n",
    "\n",
    "from graphs import datasets\n",
    "from measure.distance import *\n",
    "from measure.kernel import *\n",
    "from measure.kernel_new import *\n",
    "from measure.shortcuts import *\n",
    "from scorer import rand_index\n",
    "\n",
    "from tqdm import tqdm_notebook\n",
    "import matplotlib.pyplot as plt\n",
    "%matplotlib inline\n",
    "\n",
    "from scipy.cluster.hierarchy import fcluster, ward\n",
    "from scipy.linalg import sqrtm\n",
    "from ward import Ward\n",
    "from scipy.cluster._hierarchy import nn_chain"
   ]
  },
  {
   "cell_type": "code",
   "execution_count": 2,
   "metadata": {
    "collapsed": true
   },
   "outputs": [],
   "source": [
    "d3_category20 = [\n",
    "    '#aec7e8',\n",
    "    '#1f77b4',\n",
    "    '#ffbb78',\n",
    "    '#ff7f0e',\n",
    "    '#98df8a',\n",
    "    '#2ca02c',\n",
    "    '#ff9896',\n",
    "    '#d62728',\n",
    "    '#c5b0d5',\n",
    "    '#9467bd',\n",
    "    '#c49c94',\n",
    "    '#8c564b',\n",
    "    '#7f7f7f',\n",
    "    \n",
    "    '#aec7e8',\n",
    "    '#1f77b4',\n",
    "    '#ffbb78',\n",
    "    '#ff7f0e',\n",
    "    '#98df8a',\n",
    "    '#2ca02c',\n",
    "    '#ff9896',\n",
    "    '#d62728',\n",
    "    '#c5b0d5',\n",
    "    '#9467bd',\n",
    "    '#c49c94',\n",
    "    '#8c564b',\n",
    "    '#7f7f7f',\n",
    "] "
   ]
  },
  {
   "cell_type": "code",
   "execution_count": 3,
   "metadata": {
    "collapsed": true
   },
   "outputs": [],
   "source": [
    "def linspace(start, end, count):\n",
    "    count -= 4\n",
    "    grid = list(np.linspace(start, end, count))\n",
    "    step = (end - start) / (count - 1)\n",
    "    grid.extend([0.1 * step, 0.5 * step, end - 0.1 * step, end - 0.5 * step])\n",
    "    return grid"
   ]
  },
  {
   "cell_type": "code",
   "execution_count": 4,
   "metadata": {
    "scrolled": false
   },
   "outputs": [
    {
     "data": {
      "text/plain": [
       "A Jupyter Widget"
      ]
     },
     "metadata": {},
     "output_type": "display_data"
    },
    {
     "name": "stderr",
     "output_type": "stream",
     "text": [
      "/Users/illusionww/Documents/GitHub/py_graphs/measure/kernel_new.py:45: RuntimeWarning: divide by zero encountered in log\n",
      "  return np.log(K)\n"
     ]
    },
    {
     "name": "stdout",
     "output_type": "stream",
     "text": [
      "Error in Katz 0.0\t| 'NoneType' object has no attribute 'nodes'\n"
     ]
    },
    {
     "name": "stderr",
     "output_type": "stream",
     "text": [
      "/usr/local/lib/python3.6/site-packages/ipykernel_launcher.py:28: RuntimeWarning: Mean of empty slice.\n",
      "/usr/local/lib/python3.6/site-packages/numpy/core/_methods.py:80: RuntimeWarning: invalid value encountered in double_scalars\n",
      "  ret = ret.dtype.type(ret / rcount)\n",
      "/Users/illusionww/Documents/GitHub/py_graphs/measure/kernel_new.py:45: RuntimeWarning: invalid value encountered in log\n",
      "  return np.log(K)\n"
     ]
    },
    {
     "name": "stdout",
     "output_type": "stream",
     "text": [
      "Error in Katz 1.0\t| 'NoneType' object has no attribute 'nodes'\n",
      "\n",
      "DONE: Katz\tparam: 0.22 score: 0.7183469631697055\n",
      "\n",
      "\n"
     ]
    },
    {
     "data": {
      "text/plain": [
       "A Jupyter Widget"
      ]
     },
     "metadata": {},
     "output_type": "display_data"
    },
    {
     "name": "stderr",
     "output_type": "stream",
     "text": [
      "/Users/illusionww/Documents/GitHub/py_graphs/measure/kernel_new.py:54: RuntimeWarning: divide by zero encountered in log\n",
      "  return np.log(K)\n"
     ]
    },
    {
     "name": "stdout",
     "output_type": "stream",
     "text": [
      "Error in Estrada 0.0\t| 'NoneType' object has no attribute 'nodes'\n"
     ]
    },
    {
     "name": "stderr",
     "output_type": "stream",
     "text": [
      "/Users/illusionww/Documents/GitHub/py_graphs/measure/scaler.py:42: RuntimeWarning: divide by zero encountered in double_scalars\n",
      "  yield 0.5 * t / (1.0 - t)\n",
      "/Users/illusionww/Documents/GitHub/py_graphs/measure/kernel_new.py:53: RuntimeWarning: invalid value encountered in multiply\n",
      "  K = KernelNew.mat_exp(t * self.A)\n"
     ]
    },
    {
     "name": "stdout",
     "output_type": "stream",
     "text": [
      "Error in Estrada 1.0\t| 'NoneType' object has no attribute 'nodes'\n",
      "\n",
      "DONE: Estrada\tparam: 0.22 score: 0.7183469631697055\n",
      "\n",
      "\n"
     ]
    },
    {
     "data": {
      "text/plain": [
       "A Jupyter Widget"
      ]
     },
     "metadata": {},
     "output_type": "display_data"
    },
    {
     "name": "stderr",
     "output_type": "stream",
     "text": [
      "/Users/illusionww/Documents/GitHub/py_graphs/measure/kernel_new.py:68: RuntimeWarning: divide by zero encountered in log\n",
      "  return np.log(K)\n"
     ]
    },
    {
     "name": "stdout",
     "output_type": "stream",
     "text": [
      "Error in Heat 0.0\t| 'NoneType' object has no attribute 'nodes'\n",
      "0.690476190476 K < 0\n",
      "Error in Heat 0.58\t| 'NoneType' object has no attribute 'shape'\n",
      "0.75 K < 0\n",
      "Error in Heat 0.6\t| 'NoneType' object has no attribute 'shape'\n",
      "0.815789473684 K < 0\n",
      "Error in Heat 0.62\t| 'NoneType' object has no attribute 'shape'\n",
      "0.888888888889 K < 0\n",
      "Error in Heat 0.64\t| 'NoneType' object has no attribute 'shape'\n",
      "0.970588235294 K < 0\n",
      "Error in Heat 0.66\t| 'NoneType' object has no attribute 'shape'\n",
      "1.0625 K < 0\n",
      "Error in Heat 0.68\t| 'NoneType' object has no attribute 'shape'\n",
      "1.16666666667 K < 0\n",
      "Error in Heat 0.7000000000000001\t| 'NoneType' object has no attribute 'shape'\n",
      "1.28571428571 K < 0\n",
      "Error in Heat 0.72\t| 'NoneType' object has no attribute 'shape'\n",
      "1.42307692308 K < 0\n",
      "Error in Heat 0.74\t| 'NoneType' object has no attribute 'shape'\n",
      "1.58333333333 K < 0\n",
      "Error in Heat 0.76\t| 'NoneType' object has no attribute 'shape'\n",
      "1.77272727273 K < 0\n",
      "Error in Heat 0.78\t| 'NoneType' object has no attribute 'shape'\n",
      "2.0 K < 0\n",
      "Error in Heat 0.8\t| 'NoneType' object has no attribute 'shape'\n",
      "2.27777777778 K < 0\n",
      "Error in Heat 0.8200000000000001\t| 'NoneType' object has no attribute 'shape'\n",
      "2.625 K < 0\n",
      "Error in Heat 0.84\t| 'NoneType' object has no attribute 'shape'\n",
      "3.07142857143 K < 0\n",
      "Error in Heat 0.86\t| 'NoneType' object has no attribute 'shape'\n",
      "3.66666666667 K < 0\n",
      "Error in Heat 0.88\t| 'NoneType' object has no attribute 'shape'\n",
      "4.5 K < 0\n",
      "Error in Heat 0.9\t| 'NoneType' object has no attribute 'shape'\n",
      "5.75 K < 0\n",
      "Error in Heat 0.92\t| 'NoneType' object has no attribute 'shape'\n",
      "7.83333333333 K < 0\n",
      "Error in Heat 0.9400000000000001\t| 'NoneType' object has no attribute 'shape'\n",
      "12.0 K < 0\n",
      "Error in Heat 0.96\t| 'NoneType' object has no attribute 'shape'\n",
      "24.5 K < 0\n",
      "Error in Heat 0.98\t| 'NoneType' object has no attribute 'shape'\n"
     ]
    },
    {
     "name": "stderr",
     "output_type": "stream",
     "text": [
      "/Users/illusionww/Documents/GitHub/py_graphs/measure/kernel_new.py:64: RuntimeWarning: invalid value encountered in multiply\n",
      "  K = KernelNew.mat_exp(- t * self.L, n=50)\n",
      "/Users/illusionww/Documents/GitHub/py_graphs/measure/kernel_new.py:65: RuntimeWarning: invalid value encountered in less\n",
      "  if np.any(K < 0):\n"
     ]
    },
    {
     "name": "stdout",
     "output_type": "stream",
     "text": [
      "Error in Heat 1.0\t| 'NoneType' object has no attribute 'nodes'\n",
      "249.49999999999977 K < 0\n",
      "Error in Heat 0.998\t| 'NoneType' object has no attribute 'shape'\n",
      "49.49999999999996 K < 0\n",
      "Error in Heat 0.99\t| 'NoneType' object has no attribute 'shape'\n",
      "\n",
      "DONE: Heat\tparam: 0.46 score: 0.6753658997646265\n",
      "\n",
      "\n"
     ]
    },
    {
     "data": {
      "text/plain": [
       "A Jupyter Widget"
      ]
     },
     "metadata": {},
     "output_type": "display_data"
    },
    {
     "name": "stdout",
     "output_type": "stream",
     "text": [
      "Error in NormalizedHeat 0.0\t| 'NoneType' object has no attribute 'nodes'"
     ]
    },
    {
     "name": "stderr",
     "output_type": "stream",
     "text": [
      "/Users/illusionww/Documents/GitHub/py_graphs/measure/kernel_new.py:84: RuntimeWarning: divide by zero encountered in log\n",
      "  return np.log(K)\n"
     ]
    },
    {
     "name": "stdout",
     "output_type": "stream",
     "text": [
      "\n"
     ]
    },
    {
     "ename": "KeyboardInterrupt",
     "evalue": "",
     "traceback": [
      "\u001b[0;31m---------------------------------------------------------------------------\u001b[0m",
      "\u001b[0;31mTypeError\u001b[0m                                 Traceback (most recent call last)",
      "\u001b[0;32m/usr/local/lib/python3.6/site-packages/numpy/matrixlib/defmatrix.py\u001b[0m in \u001b[0;36m__getitem__\u001b[0;34m(self, index)\u001b[0m\n\u001b[1;32m    296\u001b[0m             \u001b[0;32mtry\u001b[0m\u001b[0;34m:\u001b[0m\u001b[0;34m\u001b[0m\u001b[0m\n\u001b[0;32m--> 297\u001b[0;31m                 \u001b[0mn\u001b[0m \u001b[0;34m=\u001b[0m \u001b[0mlen\u001b[0m\u001b[0;34m(\u001b[0m\u001b[0mindex\u001b[0m\u001b[0;34m)\u001b[0m\u001b[0;34m\u001b[0m\u001b[0m\n\u001b[0m\u001b[1;32m    298\u001b[0m             \u001b[0;32mexcept\u001b[0m\u001b[0;34m:\u001b[0m\u001b[0;34m\u001b[0m\u001b[0m\n",
      "\u001b[0;31mTypeError\u001b[0m: object of type 'int' has no len()",
      "\nDuring handling of the above exception, another exception occurred:\n",
      "\u001b[0;31mKeyboardInterrupt\u001b[0m                         Traceback (most recent call last)",
      "\u001b[0;32m<ipython-input-4-f2c71b602421>\u001b[0m in \u001b[0;36m<module>\u001b[0;34m()\u001b[0m\n\u001b[1;32m     17\u001b[0m                 \u001b[0mn_clusters\u001b[0m\u001b[0;34m=\u001b[0m\u001b[0mlen\u001b[0m\u001b[0;34m(\u001b[0m\u001b[0mlist\u001b[0m\u001b[0;34m(\u001b[0m\u001b[0mset\u001b[0m\u001b[0;34m(\u001b[0m\u001b[0mnodes\u001b[0m\u001b[0;34m)\u001b[0m\u001b[0;34m)\u001b[0m\u001b[0;34m)\u001b[0m\u001b[0;34m\u001b[0m\u001b[0m\n\u001b[0;32m---> 18\u001b[0;31m                 \u001b[0my_pred\u001b[0m \u001b[0;34m=\u001b[0m \u001b[0mWard\u001b[0m\u001b[0;34m(\u001b[0m\u001b[0;34m)\u001b[0m\u001b[0;34m.\u001b[0m\u001b[0mpredict\u001b[0m\u001b[0;34m(\u001b[0m\u001b[0mD\u001b[0m\u001b[0;34m,\u001b[0m \u001b[0mn_clusters\u001b[0m\u001b[0;34m)\u001b[0m\u001b[0;34m\u001b[0m\u001b[0m\n\u001b[0m\u001b[1;32m     19\u001b[0m                 \u001b[0mri\u001b[0m \u001b[0;34m=\u001b[0m \u001b[0madjusted_rand_score\u001b[0m\u001b[0;34m(\u001b[0m\u001b[0mnodes\u001b[0m\u001b[0;34m,\u001b[0m \u001b[0my_pred\u001b[0m\u001b[0;34m)\u001b[0m\u001b[0;34m\u001b[0m\u001b[0m\n",
      "\u001b[0;32m~/Documents/GitHub/py_graphs/ward.py\u001b[0m in \u001b[0;36mpredict\u001b[0;34m(self, K, clusters_count)\u001b[0m\n\u001b[1;32m     30\u001b[0m         \u001b[0;32mfor\u001b[0m \u001b[0mi\u001b[0m \u001b[0;32min\u001b[0m \u001b[0mrange\u001b[0m\u001b[0;34m(\u001b[0m\u001b[0mK\u001b[0m\u001b[0;34m.\u001b[0m\u001b[0mshape\u001b[0m\u001b[0;34m[\u001b[0m\u001b[0;36m0\u001b[0m\u001b[0;34m]\u001b[0m \u001b[0;34m-\u001b[0m \u001b[0mclusters_count\u001b[0m\u001b[0;34m)\u001b[0m\u001b[0;34m:\u001b[0m\u001b[0;34m\u001b[0m\u001b[0m\n\u001b[0;32m---> 31\u001b[0;31m             \u001b[0mself\u001b[0m\u001b[0;34m.\u001b[0m\u001b[0miteration\u001b[0m\u001b[0;34m(\u001b[0m\u001b[0mK\u001b[0m\u001b[0;34m,\u001b[0m \u001b[0mclusters\u001b[0m\u001b[0;34m)\u001b[0m\u001b[0;34m\u001b[0m\u001b[0m\n\u001b[0m\u001b[1;32m     32\u001b[0m \u001b[0;34m\u001b[0m\u001b[0m\n",
      "\u001b[0;32m~/Documents/GitHub/py_graphs/ward.py\u001b[0m in \u001b[0;36miteration\u001b[0;34m(self, K, clusters)\u001b[0m\n\u001b[1;32m     42\u001b[0m             \u001b[0;32mfor\u001b[0m \u001b[0mCl_idx\u001b[0m\u001b[0;34m,\u001b[0m \u001b[0mCl\u001b[0m \u001b[0;32min\u001b[0m \u001b[0menumerate\u001b[0m\u001b[0;34m(\u001b[0m\u001b[0mclusters\u001b[0m\u001b[0;34m[\u001b[0m\u001b[0mCk_idx\u001b[0m \u001b[0;34m+\u001b[0m \u001b[0;36m1\u001b[0m\u001b[0;34m:\u001b[0m\u001b[0;34m]\u001b[0m\u001b[0;34m)\u001b[0m\u001b[0;34m:\u001b[0m\u001b[0;34m\u001b[0m\u001b[0m\n\u001b[0;32m---> 43\u001b[0;31m                 \u001b[0mcurrentΔJ\u001b[0m \u001b[0;34m=\u001b[0m \u001b[0mCk\u001b[0m\u001b[0;34m.\u001b[0m\u001b[0mgetΔJ\u001b[0m\u001b[0;34m(\u001b[0m\u001b[0mK\u001b[0m\u001b[0;34m,\u001b[0m \u001b[0mCl\u001b[0m\u001b[0;34m)\u001b[0m\u001b[0;34m\u001b[0m\u001b[0m\n\u001b[0m\u001b[1;32m     44\u001b[0m                 \u001b[0;32mif\u001b[0m \u001b[0mcurrentΔJ\u001b[0m \u001b[0;34m<\u001b[0m \u001b[0mminΔJ\u001b[0m\u001b[0;34m:\u001b[0m\u001b[0;34m\u001b[0m\u001b[0m\n",
      "\u001b[0;32m~/Documents/GitHub/py_graphs/ward.py\u001b[0m in \u001b[0;36mgetΔJ\u001b[0;34m(self, K, Cl)\u001b[0m\n\u001b[1;32m     15\u001b[0m     \u001b[0;32mdef\u001b[0m \u001b[0mgetΔJ\u001b[0m\u001b[0;34m(\u001b[0m\u001b[0mself\u001b[0m\u001b[0;34m,\u001b[0m \u001b[0mK\u001b[0m\u001b[0;34m,\u001b[0m \u001b[0mCl\u001b[0m\u001b[0;34m)\u001b[0m\u001b[0;34m:\u001b[0m\u001b[0;34m\u001b[0m\u001b[0m\n\u001b[0;32m---> 16\u001b[0;31m         \u001b[0;32mreturn\u001b[0m \u001b[0mself\u001b[0m\u001b[0;34m.\u001b[0m\u001b[0mΔJ\u001b[0m\u001b[0;34m[\u001b[0m\u001b[0mCl\u001b[0m\u001b[0;34m]\u001b[0m \u001b[0;32mif\u001b[0m \u001b[0mCl\u001b[0m \u001b[0;32min\u001b[0m \u001b[0mself\u001b[0m\u001b[0;34m.\u001b[0m\u001b[0mΔJ\u001b[0m \u001b[0;32melse\u001b[0m \u001b[0mself\u001b[0m\u001b[0;34m.\u001b[0m\u001b[0mcalcΔJ\u001b[0m\u001b[0;34m(\u001b[0m\u001b[0mK\u001b[0m\u001b[0;34m,\u001b[0m \u001b[0mCl\u001b[0m\u001b[0;34m)\u001b[0m\u001b[0;34m\u001b[0m\u001b[0m\n\u001b[0m\u001b[1;32m     17\u001b[0m \u001b[0;34m\u001b[0m\u001b[0m\n",
      "\u001b[0;32m~/Documents/GitHub/py_graphs/ward.py\u001b[0m in \u001b[0;36mcalcΔJ\u001b[0;34m(self, K, Cl)\u001b[0m\n\u001b[1;32m     21\u001b[0m         \u001b[0mhkhlT\u001b[0m \u001b[0;34m=\u001b[0m \u001b[0mhkhl\u001b[0m\u001b[0;34m.\u001b[0m\u001b[0mT\u001b[0m\u001b[0;34m\u001b[0m\u001b[0m\n\u001b[0;32m---> 22\u001b[0;31m         \u001b[0mcurrentΔJ\u001b[0m \u001b[0;34m=\u001b[0m \u001b[0;34m(\u001b[0m\u001b[0mself\u001b[0m\u001b[0;34m.\u001b[0m\u001b[0mn\u001b[0m \u001b[0;34m*\u001b[0m \u001b[0mCl\u001b[0m\u001b[0;34m.\u001b[0m\u001b[0mn\u001b[0m\u001b[0;34m)\u001b[0m \u001b[0;34m*\u001b[0m \u001b[0mhkhlT\u001b[0m\u001b[0;34m.\u001b[0m\u001b[0mdot\u001b[0m\u001b[0;34m(\u001b[0m\u001b[0mK\u001b[0m\u001b[0;34m)\u001b[0m\u001b[0;34m.\u001b[0m\u001b[0mdot\u001b[0m\u001b[0;34m(\u001b[0m\u001b[0mhkhl\u001b[0m\u001b[0;34m)\u001b[0m\u001b[0;34m[\u001b[0m\u001b[0;36m0\u001b[0m\u001b[0;34m]\u001b[0m\u001b[0;34m[\u001b[0m\u001b[0;36m0\u001b[0m\u001b[0;34m]\u001b[0m \u001b[0;34m/\u001b[0m \u001b[0;34m(\u001b[0m\u001b[0mself\u001b[0m\u001b[0;34m.\u001b[0m\u001b[0mn\u001b[0m \u001b[0;34m+\u001b[0m \u001b[0mCl\u001b[0m\u001b[0;34m.\u001b[0m\u001b[0mn\u001b[0m\u001b[0;34m)\u001b[0m\u001b[0;34m\u001b[0m\u001b[0m\n\u001b[0m\u001b[1;32m     23\u001b[0m         \u001b[0mself\u001b[0m\u001b[0;34m.\u001b[0m\u001b[0mΔJ\u001b[0m\u001b[0;34m[\u001b[0m\u001b[0mCl\u001b[0m\u001b[0;34m]\u001b[0m \u001b[0;34m=\u001b[0m \u001b[0mcurrentΔJ\u001b[0m\u001b[0;34m\u001b[0m\u001b[0m\n",
      "\u001b[0;32m/usr/local/lib/python3.6/site-packages/numpy/matrixlib/defmatrix.py\u001b[0m in \u001b[0;36m__getitem__\u001b[0;34m(self, index)\u001b[0m\n\u001b[1;32m    296\u001b[0m             \u001b[0;32mtry\u001b[0m\u001b[0;34m:\u001b[0m\u001b[0;34m\u001b[0m\u001b[0m\n\u001b[0;32m--> 297\u001b[0;31m                 \u001b[0mn\u001b[0m \u001b[0;34m=\u001b[0m \u001b[0mlen\u001b[0m\u001b[0;34m(\u001b[0m\u001b[0mindex\u001b[0m\u001b[0;34m)\u001b[0m\u001b[0;34m\u001b[0m\u001b[0m\n\u001b[0m\u001b[1;32m    298\u001b[0m             \u001b[0;32mexcept\u001b[0m\u001b[0;34m:\u001b[0m\u001b[0;34m\u001b[0m\u001b[0m\n",
      "\u001b[0;31mKeyboardInterrupt\u001b[0m: ",
      "\nDuring handling of the above exception, another exception occurred:\n",
      "\u001b[0;31mKeyboardInterrupt\u001b[0m                         Traceback (most recent call last)",
      "\u001b[0;32m<ipython-input-4-f2c71b602421>\u001b[0m in \u001b[0;36m<module>\u001b[0;34m()\u001b[0m\n\u001b[1;32m     20\u001b[0m                 \u001b[0mmean\u001b[0m\u001b[0;34m.\u001b[0m\u001b[0mappend\u001b[0m\u001b[0;34m(\u001b[0m\u001b[0mri\u001b[0m\u001b[0;34m)\u001b[0m\u001b[0;34m\u001b[0m\u001b[0m\n\u001b[1;32m     21\u001b[0m             \u001b[0;32mexcept\u001b[0m \u001b[0mKeyboardInterrupt\u001b[0m\u001b[0;34m:\u001b[0m\u001b[0;34m\u001b[0m\u001b[0m\n\u001b[0;32m---> 22\u001b[0;31m                 \u001b[0;32mraise\u001b[0m \u001b[0mKeyboardInterrupt\u001b[0m\u001b[0;34m(\u001b[0m\u001b[0;34m)\u001b[0m\u001b[0;34m\u001b[0m\u001b[0m\n\u001b[0m\u001b[1;32m     23\u001b[0m             \u001b[0;32mexcept\u001b[0m \u001b[0mException\u001b[0m \u001b[0;32mas\u001b[0m \u001b[0me\u001b[0m\u001b[0;34m:\u001b[0m\u001b[0;34m\u001b[0m\u001b[0m\n\u001b[1;32m     24\u001b[0m                 \u001b[0mprint\u001b[0m\u001b[0;34m(\u001b[0m\u001b[0;34m'Error in {} {}\\t| {}'\u001b[0m\u001b[0;34m.\u001b[0m\u001b[0mformat\u001b[0m\u001b[0;34m(\u001b[0m\u001b[0mmeasure\u001b[0m\u001b[0;34m.\u001b[0m\u001b[0m__name__\u001b[0m\u001b[0;34m,\u001b[0m \u001b[0mparam\u001b[0m\u001b[0;34m,\u001b[0m \u001b[0me\u001b[0m\u001b[0;34m)\u001b[0m\u001b[0;34m)\u001b[0m\u001b[0;34m\u001b[0m\u001b[0m\n",
      "\u001b[0;31mKeyboardInterrupt\u001b[0m: "
     ],
     "output_type": "error"
    },
    {
     "data": {
      "image/png": "[encoded data removed]",
      "text/plain": [
       "<matplotlib.figure.Figure at 0x10ddabbe0>"
      ]
     },
     "metadata": {},
     "output_type": "display_data"
    }
   ],
   "source": [
    "kbward_data = {}\n",
    "graphs, info = datasets.polbooks\n",
    "for m_num, measure in enumerate([\n",
    "            Katz, Estrada, Heat,\n",
    "            NormalizedHeat,\n",
    "            RegularizedLaplacian,\n",
    "            PersonalizedPageRank,\n",
    "            ModifiedPersonalizedPageRank,\n",
    "            HeatPersonalizedPareRank\n",
    "        ]):\n",
    "    measureparamdict = {}\n",
    "    for param in tqdm_notebook(linspace(0, 1, 55), desc=measure.__name__):\n",
    "        mean = []\n",
    "        for edges, nodes in graphs:\n",
    "            try:\n",
    "                D = measure(edges).get_K(list(measure(edges).scaler.scale([param]))[0])\n",
    "                n_clusters=len(list(set(nodes)))\n",
    "                y_pred = Ward().predict(D, n_clusters)\n",
    "                ri = adjusted_rand_score(nodes, y_pred)\n",
    "                mean.append(ri)\n",
    "            except KeyboardInterrupt:\n",
    "                raise KeyboardInterrupt()\n",
    "            except Exception as e:\n",
    "                print('Error in {} {}\\t| {}'.format(measure.__name__, param, e))\n",
    "            except np.linalg.linalg.LinAlgError as err:\n",
    "                print('Suka blyat')\n",
    "        mean = [m for m in mean if m is not None and m == m]\n",
    "        score = np.array(mean).mean()\n",
    "        if score is not None and score == score:\n",
    "            measureparamdict[param] = score\n",
    "    \n",
    "    if len(list(measureparamdict.items())) > 0:\n",
    "        maxparam = max(measureparamdict.items(), key=operator.itemgetter(1))[0]\n",
    "        print(\"DONE: {}\\tparam: {} score: {}\\n\\n\".format(measure.__name__, maxparam, measureparamdict[maxparam]))\n",
    "        measureparamdict = np.array(sorted(measureparamdict.items(), key=operator.itemgetter(0)))\n",
    "        kbward_data[measure.__name__] = measureparamdict\n",
    "        plt.plot(range(measureparamdict.shape[0]), sorted(measureparamdict[:, 1])[::-1], color=d3_category20[m_num], label=measure.__name__, linewidth=2)\n",
    "        plt.title(measure.__name__)\n",
    "#         plt.show()\n",
    "    else:\n",
    "        print(\"DONE: {}\\tfailed\\n\\n\".format(measure.__name__))\n",
    "\n",
    "plt.xlim(0, 55)\n",
    "plt.ylim(.58, .73)\n",
    "plt.title('python ARI')\n",
    "plt.legend()"
   ]
  },
  {
   "cell_type": "code",
   "execution_count": null,
   "metadata": {
    "collapsed": true
   },
   "outputs": [],
   "source": []
  }
 ],
 "metadata": {
  "kernelspec": {
   "display_name": "Python 3",
   "language": "python",
   "name": "python3"
  },
  "language_info": {
   "codemirror_mode": {
    "name": "ipython",
    "version": 3
   },
   "file_extension": ".py",
   "mimetype": "text/x-python",
   "name": "python",
   "nbconvert_exporter": "python",
   "pygments_lexer": "ipython3",
   "version": "3.6.4"
  }
 },
 "nbformat": 4,
 "nbformat_minor": 2
}
