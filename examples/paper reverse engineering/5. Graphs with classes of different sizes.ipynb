{
 "cells": [
  {
   "cell_type": "markdown",
   "metadata": {},
   "source": [
    "# Do logarithmic proximity measures outperform plain ones in graph clustering?"
   ]
  },
  {
   "cell_type": "code",
   "execution_count": 1,
   "metadata": {},
   "outputs": [],
   "source": [
    "import os\n",
    "os.environ[\"OPENBLAS_NUM_THREADS\"] = \"1\""
   ]
  },
  {
   "cell_type": "code",
   "execution_count": 2,
   "metadata": {},
   "outputs": [],
   "source": [
    "import sys\n",
    "import inspect\n",
    "from collections import defaultdict\n",
    "from contextlib import contextmanager\n",
    "from itertools import combinations, product\n",
    "import pickle\n",
    "import numpy as np\n",
    "import matplotlib.pyplot as plt\n",
    "%matplotlib inline\n",
    "from tqdm import tqdm_notebook as tqdm\n",
    "from sklearn.metrics import adjusted_rand_score\n",
    "from pylab import *"
   ]
  },
  {
   "cell_type": "code",
   "execution_count": 3,
   "metadata": {},
   "outputs": [],
   "source": [
    "import warnings\n",
    "warnings.filterwarnings(\"ignore\")"
   ]
  },
  {
   "cell_type": "code",
   "execution_count": 4,
   "metadata": {},
   "outputs": [],
   "source": [
    "sys.path.append('../..')\n",
    "from pygraphs.graphs.generators import StochasticBlockModel\n",
    "from pygraphs.measure import *\n",
    "from pygraphs.measure import H_kernels_plus_RSP_FE\n",
    "from pygraphs.cluster.ward import Ward\n",
    "from pygraphs.colors import d3, d3_category20\n",
    "from pygraphs.scenario import *\n",
    "from pygraphs.scenario import ParallelByGraphs, measures_right_order, d3_right_order\n",
    "from pygraphs.util import load_or_calc_and_save, ddict2dict"
   ]
  },
  {
   "cell_type": "markdown",
   "metadata": {},
   "source": [
    "## 5. Graphs with classes of different sizes\n",
    "\n",
    "The $G(N,(m)p_{in}, p_{out})$ model generates graphs with nodes divided into classes of the same size. We now consider graphs with $N = 100$ nodes divided into two classes of different sizes. The size of the first class, $N_1$, is shown along the horizontal axis in Fig. 6."
   ]
  },
  {
   "cell_type": "markdown",
   "metadata": {},
   "source": [
    "### 5.1 Vary first class"
   ]
  },
  {
   "cell_type": "code",
   "execution_count": 5,
   "metadata": {
    "scrolled": false
   },
   "outputs": [
    {
     "data": {
      "application/vnd.jupyter.widget-view+json": {
       "model_id": "0b15455c8e0b4e30b80177f058b1de2c",
       "version_major": 2,
       "version_minor": 0
      },
      "text/plain": [
       "HBox(children=(IntProgress(value=0, max=15), HTML(value='')))"
      ]
     },
     "metadata": {},
     "output_type": "display_data"
    },
    {
     "name": "stdout",
     "output_type": "stream",
     "text": [
      "\n"
     ]
    },
    {
     "ename": "TypeError",
     "evalue": "__init__() got an unexpected keyword argument 'cluster_sizes'",
     "output_type": "error",
     "traceback": [
      "\u001b[0;31m---------------------------------------------------------------------------\u001b[0m",
      "\u001b[0;31mTypeError\u001b[0m                                 Traceback (most recent call last)",
      "\u001b[0;32m<ipython-input-5-7b8e525051b3>\u001b[0m in \u001b[0;36m<module>\u001b[0;34m()\u001b[0m\n\u001b[1;32m     12\u001b[0m     \u001b[0;32mreturn\u001b[0m \u001b[0mddict2dict\u001b[0m\u001b[0;34m(\u001b[0m\u001b[0mresults\u001b[0m\u001b[0;34m)\u001b[0m\u001b[0;34m\u001b[0m\u001b[0m\n\u001b[1;32m     13\u001b[0m \u001b[0;34m\u001b[0m\u001b[0m\n\u001b[0;32m---> 14\u001b[0;31m \u001b[0mresults\u001b[0m \u001b[0;34m=\u001b[0m \u001b[0mcalc\u001b[0m\u001b[0;34m(\u001b[0m\u001b[0;34m)\u001b[0m\u001b[0;34m\u001b[0m\u001b[0m\n\u001b[0m",
      "\u001b[0;32m/notebook/GitHub/pygraphs/pygraphs/util.py\u001b[0m in \u001b[0;36mwrapped\u001b[0;34m()\u001b[0m\n\u001b[1;32m     46\u001b[0m                     \u001b[0mresult\u001b[0m \u001b[0;34m=\u001b[0m \u001b[0mpickle\u001b[0m\u001b[0;34m.\u001b[0m\u001b[0mload\u001b[0m\u001b[0;34m(\u001b[0m\u001b[0mf\u001b[0m\u001b[0;34m)\u001b[0m\u001b[0;34m\u001b[0m\u001b[0m\n\u001b[1;32m     47\u001b[0m             \u001b[0;32melse\u001b[0m\u001b[0;34m:\u001b[0m\u001b[0;34m\u001b[0m\u001b[0m\n\u001b[0;32m---> 48\u001b[0;31m                 \u001b[0mresult\u001b[0m \u001b[0;34m=\u001b[0m \u001b[0mfunc\u001b[0m\u001b[0;34m(\u001b[0m\u001b[0;34m)\u001b[0m\u001b[0;34m\u001b[0m\u001b[0m\n\u001b[0m\u001b[1;32m     49\u001b[0m                 \u001b[0;32mwith\u001b[0m \u001b[0mopen\u001b[0m\u001b[0;34m(\u001b[0m\u001b[0mfilename\u001b[0m\u001b[0;34m,\u001b[0m \u001b[0;34m'wb'\u001b[0m\u001b[0;34m)\u001b[0m \u001b[0;32mas\u001b[0m \u001b[0mf\u001b[0m\u001b[0;34m:\u001b[0m\u001b[0;34m\u001b[0m\u001b[0m\n\u001b[1;32m     50\u001b[0m                     \u001b[0mpickle\u001b[0m\u001b[0;34m.\u001b[0m\u001b[0mdump\u001b[0m\u001b[0;34m(\u001b[0m\u001b[0mresult\u001b[0m\u001b[0;34m,\u001b[0m \u001b[0mf\u001b[0m\u001b[0;34m)\u001b[0m\u001b[0;34m\u001b[0m\u001b[0m\n",
      "\u001b[0;32m<ipython-input-5-7b8e525051b3>\u001b[0m in \u001b[0;36mcalc\u001b[0;34m()\u001b[0m\n\u001b[1;32m      4\u001b[0m     \u001b[0mclassic_plot\u001b[0m \u001b[0;34m=\u001b[0m \u001b[0mParallelByGraphs\u001b[0m\u001b[0;34m(\u001b[0m\u001b[0madjusted_rand_score\u001b[0m\u001b[0;34m,\u001b[0m \u001b[0mnp\u001b[0m\u001b[0;34m.\u001b[0m\u001b[0mlinspace\u001b[0m\u001b[0;34m(\u001b[0m\u001b[0;36m0\u001b[0m\u001b[0;34m,\u001b[0m \u001b[0;36m1\u001b[0m\u001b[0;34m,\u001b[0m \u001b[0;36m51\u001b[0m\u001b[0;34m)\u001b[0m\u001b[0;34m,\u001b[0m \u001b[0mprogressbar\u001b[0m\u001b[0;34m=\u001b[0m\u001b[0;32mTrue\u001b[0m\u001b[0;34m)\u001b[0m\u001b[0;34m\u001b[0m\u001b[0m\n\u001b[1;32m      5\u001b[0m     \u001b[0;32mfor\u001b[0m \u001b[0mfirst_class\u001b[0m \u001b[0;32min\u001b[0m \u001b[0mtqdm\u001b[0m\u001b[0;34m(\u001b[0m\u001b[0;34m[\u001b[0m\u001b[0;36m1\u001b[0m\u001b[0;34m,\u001b[0m \u001b[0;36m2\u001b[0m\u001b[0;34m,\u001b[0m \u001b[0;36m3\u001b[0m\u001b[0;34m,\u001b[0m \u001b[0;36m7\u001b[0m\u001b[0;34m]\u001b[0m \u001b[0;34m+\u001b[0m \u001b[0mlist\u001b[0m\u001b[0;34m(\u001b[0m\u001b[0mrange\u001b[0m\u001b[0;34m(\u001b[0m\u001b[0;36m0\u001b[0m\u001b[0;34m,\u001b[0m \u001b[0;36m51\u001b[0m\u001b[0;34m,\u001b[0m \u001b[0;36m5\u001b[0m\u001b[0;34m)\u001b[0m\u001b[0;34m)\u001b[0m\u001b[0;34m)\u001b[0m\u001b[0;34m:\u001b[0m\u001b[0;34m\u001b[0m\u001b[0m\n\u001b[0;32m----> 6\u001b[0;31m         \u001b[0mgraphs\u001b[0m\u001b[0;34m,\u001b[0m \u001b[0minfo\u001b[0m \u001b[0;34m=\u001b[0m \u001b[0mStochasticBlockModel\u001b[0m\u001b[0;34m(\u001b[0m\u001b[0;36m100\u001b[0m\u001b[0;34m,\u001b[0m \u001b[0;36m2\u001b[0m\u001b[0;34m,\u001b[0m \u001b[0;36m0.3\u001b[0m\u001b[0;34m,\u001b[0m \u001b[0;36m0.1\u001b[0m\u001b[0;34m,\u001b[0m \u001b[0mcluster_sizes\u001b[0m\u001b[0;34m=\u001b[0m\u001b[0;34m[\u001b[0m\u001b[0mfirst_class\u001b[0m\u001b[0;34m,\u001b[0m \u001b[0;36m100\u001b[0m \u001b[0;34m-\u001b[0m \u001b[0mfirst_class\u001b[0m\u001b[0;34m]\u001b[0m\u001b[0;34m)\u001b[0m                                                                                                 \u001b[0;34m.\u001b[0m\u001b[0mgenerate_graphs\u001b[0m\u001b[0;34m(\u001b[0m\u001b[0;36m200\u001b[0m\u001b[0;34m)\u001b[0m\u001b[0;34m\u001b[0m\u001b[0m\n\u001b[0m\u001b[1;32m      7\u001b[0m         \u001b[0;32mfor\u001b[0m \u001b[0mmeasure_class\u001b[0m \u001b[0;32min\u001b[0m \u001b[0mH_kernels_plus_RSP_FE\u001b[0m\u001b[0;34m:\u001b[0m\u001b[0;34m\u001b[0m\u001b[0m\n\u001b[1;32m      8\u001b[0m             \u001b[0mx\u001b[0m\u001b[0;34m,\u001b[0m \u001b[0my\u001b[0m\u001b[0;34m,\u001b[0m \u001b[0merror\u001b[0m \u001b[0;34m=\u001b[0m \u001b[0mclassic_plot\u001b[0m\u001b[0;34m.\u001b[0m\u001b[0mperform\u001b[0m\u001b[0;34m(\u001b[0m\u001b[0mWard\u001b[0m\u001b[0;34m,\u001b[0m \u001b[0mmeasure_class\u001b[0m\u001b[0;34m,\u001b[0m \u001b[0mgraphs\u001b[0m\u001b[0;34m,\u001b[0m \u001b[0;36m2\u001b[0m\u001b[0;34m,\u001b[0m \u001b[0mn_jobs\u001b[0m\u001b[0;34m=\u001b[0m\u001b[0;36m12\u001b[0m\u001b[0;34m)\u001b[0m\u001b[0;34m\u001b[0m\u001b[0m\n",
      "\u001b[0;31mTypeError\u001b[0m: __init__() got an unexpected keyword argument 'cluster_sizes'"
     ]
    }
   ],
   "source": [
    "@load_or_calc_and_save('results/5_2class_2.pkl')\n",
    "def calc():\n",
    "    results = defaultdict(lambda: defaultdict(list))\n",
    "    classic_plot = ParallelByGraphs(adjusted_rand_score, np.linspace(0, 1, 51), progressbar=True)\n",
    "    for first_class in tqdm([1, 2, 3, 7] + list(range(0, 51, 5))):\n",
    "        graphs, info = StochasticBlockModel(100, 2, 0.3, 0.1, cluster_sizes=[first_class, 100 - first_class]) \\\n",
    "                                                                                                .generate_graphs(200)\n",
    "        for measure_class in H_kernels_plus_RSP_FE:\n",
    "            x, y, error = classic_plot.perform(Ward, measure_class, graphs, 2, n_jobs=12)\n",
    "            _, best_y = sorted(zip(x, y), key=lambda x: -x[1])[0]\n",
    "            mean_y = np.mean(y)\n",
    "            results[measure_class.name][first_class] = (best_y, mean_y)\n",
    "    return ddict2dict(results)\n",
    "\n",
    "results = calc()"
   ]
  },
  {
   "cell_type": "code",
   "execution_count": null,
   "metadata": {},
   "outputs": [],
   "source": [
    "fig = plt.figure(figsize=(6,4))\n",
    "ax = fig.add_subplot(1,1,1)\n",
    "\n",
    "d3c = (x for x in d3_right_order)\n",
    "\n",
    "for measure_name in measures_right_order:\n",
    "    measure_result = results[measure_name]\n",
    "    x, y = zip(*sorted([(x, y[0]) for x, y in measure_result.items()], key=lambda x: x[0]))\n",
    "    ax.plot(x, y, label=measure_name, color=d3c.__next__())\n",
    "\n",
    "# Shrink current axis by 20%\n",
    "box = ax.get_position()\n",
    "ax.set_position([box.x0, box.y0, box.width * 0.8, box.height])\n",
    "ax.set_xlabel('Nodes in the first class')\n",
    "ax.set_ylabel('ARI')\n",
    "ax.set_xlim(0, 50)\n",
    "ax.set_ylim(0, 1)\n",
    "\n",
    "# Put a legend to the right of the current axis\n",
    "ax.legend(loc='center left', bbox_to_anchor=(1, 0.5))\n",
    "# plt.savefig(filename[:-4] + '.png', bbox_inches='tight', dpi=400)\n",
    "# gcf().suptitle(\"Fig. 6 Graphs with two classes of different sizes: clustering with optimal parameter values\");"
   ]
  },
  {
   "cell_type": "code",
   "execution_count": null,
   "metadata": {},
   "outputs": [],
   "source": [
    "fig = plt.figure(figsize=(6,4))\n",
    "ax = fig.add_subplot(1,1,1)\n",
    "\n",
    "d3c = (x for x in d3_right_order)\n",
    "\n",
    "for measure_name in measures_right_order:\n",
    "    measure_result = results[measure_name]\n",
    "    x, y = zip(*sorted([(x, y[0]) for x, y in measure_result.items()], key=lambda x: x[0]))\n",
    "    ax.plot(x, y, label=measure_name, color=d3c.__next__())\n",
    "\n",
    "# Shrink current axis by 20%\n",
    "box = ax.get_position()\n",
    "ax.set_position([box.x0, box.y0, box.width * 0.8, box.height])\n",
    "ax.set_xlabel('Nodes in the first class')\n",
    "ax.set_ylabel('ARI')\n",
    "ax.set_xlim(0, 50)\n",
    "ax.set_ylim(0.8, 1)\n",
    "\n",
    "# Put a legend to the right of the current axis\n",
    "ax.legend(loc='center left', bbox_to_anchor=(1, 0.5))\n",
    "# plt.savefig(filename[:-4] + '.png', bbox_inches='tight', dpi=400)\n",
    "# gcf().suptitle(\"Fig. 6 Graphs with two classes of different sizes: clustering with optimal parameter values\");"
   ]
  },
  {
   "cell_type": "code",
   "execution_count": null,
   "metadata": {},
   "outputs": [],
   "source": [
    "fig = plt.figure(figsize=(6,4))\n",
    "ax = fig.add_subplot(1,1,1)\n",
    "\n",
    "d3c = (x for x in d3_right_order)\n",
    "\n",
    "for measure_name in measures_right_order:\n",
    "    measure_result = results[measure_name]\n",
    "    x, y = zip(*sorted([(x, y[1]) for x, y in measure_result.items()], key=lambda x: x[0]))\n",
    "    ax.plot(x, y, label=measure_name, color=d3c.__next__())\n",
    "\n",
    "# Shrink current axis by 20%\n",
    "box = ax.get_position()\n",
    "ax.set_position([box.x0, box.y0, box.width * 0.8, box.height])\n",
    "ax.set_xlabel('Nodes in the first class')\n",
    "ax.set_ylabel('ARI')\n",
    "ax.set_xlim(0, 50)\n",
    "ax.set_ylim(0, 1)\n",
    "\n",
    "# Put a legend to the right of the current axis\n",
    "ax.legend(loc='center left', bbox_to_anchor=(1, 0.5))\n",
    "# plt.savefig(filename[:-4] + '.png', bbox_inches='tight', dpi=400)\n",
    "# gcf().suptitle(\"Fig. 7 Graphs with two classes of different sizes: random parameter values\");"
   ]
  },
  {
   "cell_type": "markdown",
   "metadata": {},
   "source": [
    "## Six clusters"
   ]
  },
  {
   "cell_type": "code",
   "execution_count": null,
   "metadata": {},
   "outputs": [],
   "source": [
    "cluster_sizes = [65, 35, 25, 13, 8, 4]\n",
    "\n",
    "probabilities = [\n",
    "    [0.30, 0.20, 0.10, 0.15, 0.07, 0.25],\n",
    "    [0.20, 0.24, 0.08, 0.13, 0.05, 0.17],\n",
    "    [0.10, 0.08, 0.16, 0.09, 0.04, 0.12],\n",
    "    [0.15, 0.13, 0.09, 0.20, 0.02, 0.14],\n",
    "    [0.07, 0.05, 0.04, 0.02, 0.12, 0.04],\n",
    "    [0.25, 0.17, 0.12, 0.14, 0.04, 0.40]\n",
    "]"
   ]
  },
  {
   "cell_type": "code",
   "execution_count": null,
   "metadata": {
    "scrolled": false
   },
   "outputs": [],
   "source": [
    "@load_or_calc_and_save('results/5_six_2.pkl')\n",
    "def calc():\n",
    "    results = {}\n",
    "    graphs, info = StochasticBlockModel(150, 6, 0.3, 0.1, cluster_sizes=cluster_sizes, probabilities=probabilities) \\\n",
    "                    .generate_graphs(100)\n",
    "    classic_plot = ParallelByGraphs(adjusted_rand_score, np.linspace(0, 1, 51), progressbar=True)\n",
    "    for measure_class in H_kernels_plus_RSP_FE:\n",
    "        x, y, error = classic_plot.perform(Ward, measure_class, graphs, 2, n_jobs=12)\n",
    "        results[measure_class.name] = (x, y, error)\n",
    "    return results\n",
    "\n",
    "results = calc()"
   ]
  },
  {
   "cell_type": "code",
   "execution_count": null,
   "metadata": {
    "scrolled": false
   },
   "outputs": [],
   "source": [
    "d3c = (x for x in d3_right_order)\n",
    "for measure_name in measures_right_order:\n",
    "    x, y, error = results[measure_name]\n",
    "    plt.plot(range(len(y)), sorted(y, reverse=True), color=d3c.__next__())\n",
    "plt.xlim(0, 50)\n",
    "plt.ylim(0, 0.4)\n",
    "plt.show()"
   ]
  },
  {
   "cell_type": "code",
   "execution_count": null,
   "metadata": {},
   "outputs": [],
   "source": []
  },
  {
   "cell_type": "code",
   "execution_count": null,
   "metadata": {},
   "outputs": [],
   "source": []
  }
 ],
 "metadata": {
  "kernelspec": {
   "display_name": "Python 3",
   "language": "python",
   "name": "python3"
  },
  "language_info": {
   "codemirror_mode": {
    "name": "ipython",
    "version": 3
   },
   "file_extension": ".py",
   "mimetype": "text/x-python",
   "name": "python",
   "nbconvert_exporter": "python",
   "pygments_lexer": "ipython3",
   "version": "3.5.2"
  }
 },
 "nbformat": 4,
 "nbformat_minor": 2
}
