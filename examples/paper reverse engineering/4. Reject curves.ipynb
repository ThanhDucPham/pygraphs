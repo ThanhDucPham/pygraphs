{
 "cells": [
  {
   "cell_type": "markdown",
   "metadata": {},
   "source": [
    "# Do logarithmic proximity measures outperform plain ones in graph clustering?"
   ]
  },
  {
   "cell_type": "code",
   "execution_count": 1,
   "metadata": {},
   "outputs": [],
   "source": [
    "import os\n",
    "os.environ[\"OPENBLAS_NUM_THREADS\"] = \"1\"\n",
    "import warnings\n",
    "warnings.filterwarnings(\"ignore\")\n",
    "import sys\n",
    "sys.path.append('../..')"
   ]
  },
  {
   "cell_type": "code",
   "execution_count": 2,
   "metadata": {},
   "outputs": [],
   "source": [
    "import itertools\n",
    "import numpy as np\n",
    "import matplotlib.pyplot as plt\n",
    "%matplotlib inline\n",
    "from collections import defaultdict"
   ]
  },
  {
   "cell_type": "code",
   "execution_count": 3,
   "metadata": {},
   "outputs": [],
   "source": [
    "from pygraphs.cluster import KernelKMeans, Ward\n",
    "from pygraphs.graphs.generator import StochasticBlockModel\n",
    "from pygraphs.measure import *\n",
    "from pygraphs.measure import H_kernels_plus_RSP_FE\n",
    "from pygraphs.scenario import ParallelByGraphs, RejectCurve, d3_right_order, measures_right_order"
   ]
  },
  {
   "cell_type": "markdown",
   "metadata": {},
   "source": [
    "## 4. Reject curves\n",
    "The optimal values of the family parameters (adjusted to the $[0, 1]$ segment) w.r.t. the ARI in clustering based on Ward’s method for three $G(N,(m)p_{in}, p_{out})$ models are presented in Table 2.\n",
    "\n",
    "Measure $G(100,(2)0.3,0.05)$, $G(100,(2)0.3,0.1)$, $G(100,(2)0.3,0.15)$"
   ]
  },
  {
   "cell_type": "code",
   "execution_count": 4,
   "metadata": {},
   "outputs": [],
   "source": [
    "all_measures = H_kernels_plus_RSP_FE + [SP_K, CT_H]\n",
    "all_distances = [\n",
    "    pWalk,\n",
    "    Walk,\n",
    "    For,\n",
    "    logFor,\n",
    "    Comm,\n",
    "    logComm,\n",
    "    Heat,\n",
    "    logHeat,\n",
    "    SCT,\n",
    "    SCCT,\n",
    "    RSP,\n",
    "    FE,\n",
    "    SPCT,\n",
    "    SP,\n",
    "    CT\n",
    "]"
   ]
  },
  {
   "cell_type": "code",
   "execution_count": 5,
   "metadata": {},
   "outputs": [],
   "source": [
    "rc = RejectCurve([100], [2], [0.3], [0.05, 0.1, 0.15], all_measures, all_distances, StochasticBlockModel, Ward)"
   ]
  },
  {
   "cell_type": "raw",
   "metadata": {},
   "source": [
    "results_params = rc.calc(100, -1)"
   ]
  },
  {
   "cell_type": "code",
   "execution_count": 6,
   "metadata": {},
   "outputs": [],
   "source": [
    "result_params = {\n",
    "    (100, 2, 0.3, 0.05): {\n",
    "        \"CT H\": 0.00,\n",
    "        \"SP K\": 0.00,\n",
    "        \"Comm H\": 0.42,\n",
    "        \"logComm H\": 0.46,\n",
    "        \"Heat H\": 0.70,\n",
    "        \"Walk H\": 0.82,\n",
    "        \"logHeat H\": 0.70,\n",
    "        \"SCT H\": 0.46,\n",
    "        \"logFor H\": 0.72,\n",
    "        \"RSP K\": 0.98,\n",
    "        \"For H\": 0.96,\n",
    "        \"FE K\": 0.96,\n",
    "        \"SCCT H\": 0.98,\n",
    "        \"pWalk H\": 0.86,\n",
    "        \"SP-CT H\": 0.00\n",
    "    },\n",
    "    (100, 2, 0.3, 0.1): {\n",
    "        \"CT H\": 0.00,\n",
    "        \"SP K\": 0.00,\n",
    "        \"Comm H\": 0.36,\n",
    "        \"logComm H\": 0.54,\n",
    "        \"Heat H\": 0.74,\n",
    "        \"Walk H\": 0.76,\n",
    "        \"logHeat H\": 0.46,\n",
    "        \"SCT H\": 0.50,\n",
    "        \"logFor H\": 0.40,\n",
    "        \"RSP K\": 0.98,\n",
    "        \"For H\": 0.98,\n",
    "        \"FE K\": 0.92,\n",
    "        \"SCCT H\": 0.74,\n",
    "        \"pWalk H\": 0.80,\n",
    "        \"SP-CT H\": 0.04\n",
    "    },\n",
    "    (100, 2, 0.3, 0.15): {\n",
    "        \"CT H\": 0.00,\n",
    "        \"SP K\": 0.00,\n",
    "        \"Comm H\": 0.24,\n",
    "        \"logComm H\": 0.64,\n",
    "        \"Heat H\": 0.82,\n",
    "        \"Walk H\": 0.76,\n",
    "        \"logHeat H\": 0.18,\n",
    "        \"SCT H\": 0.48,\n",
    "        \"logFor H\": 0.28,\n",
    "        \"RSP K\": 0.98,\n",
    "        \"For H\": 0.44,\n",
    "        \"FE K\": 0.76,\n",
    "        \"SCCT H\": 0.44,\n",
    "        \"pWalk H\": 0.86,\n",
    "        \"SP-CT H\": 0.36\n",
    "    }\n",
    "}\n",
    "rc.best_params = result_params"
   ]
  },
  {
   "cell_type": "code",
   "execution_count": null,
   "metadata": {},
   "outputs": [
    {
     "data": {
      "application/vnd.jupyter.widget-view+json": {
       "model_id": "27e251af2d694a938a20b69f94ff1bdd",
       "version_major": 2,
       "version_minor": 0
      },
      "text/plain": [
       "HBox(children=(IntProgress(value=0, max=3), HTML(value='')))"
      ]
     },
     "metadata": {},
     "output_type": "display_data"
    }
   ],
   "source": [
    "results_rc = rc.perform(100)"
   ]
  },
  {
   "cell_type": "code",
   "execution_count": null,
   "metadata": {
    "scrolled": false
   },
   "outputs": [],
   "source": [
    "fig, ax = plt.subplots(15, 3, figsize=(15,65), sharex=True, sharey=True)\n",
    "for column_idx, column in enumerate(results_rc.keys()):\n",
    "    for measure_name_idx, measure_name in enumerate(measures_right_order):\n",
    "        measure_name = measure_name[:-2]\n",
    "        axi = ax[measure_name_idx][column_idx]\n",
    "        for graph_idx, (tpr, fpr) in enumerate(results_rc[column][measure_name]):\n",
    "            if graph_idx == 1:\n",
    "                axi.plot(tpr, fpr, label=\"G({}, ({}){}, {}), {}\".format(*column, measure_name), color='black', alpha=0.1)\n",
    "            else:\n",
    "                axi.plot(tpr, fpr, color='black', alpha=0.1)\n",
    "\n",
    "        axi.set_xlabel(\"nodes from different classes\")\n",
    "        axi.set_ylabel(\"nodes from the same class\")\n",
    "        axi.set_xlim(0,1)\n",
    "        axi.set_ylim(0,1)\n",
    "        axi.legend(loc=4)\n",
    "# gcf().suptitle(\"G(100,(2)0.3,0.05), G(100,(2)0.3,0.1), G(100,(2)0.3,0.15)\");"
   ]
  },
  {
   "cell_type": "code",
   "execution_count": null,
   "metadata": {
    "scrolled": true
   },
   "outputs": [],
   "source": [
    "d3c = (x for x in itertools.chain(d3_right_order, d3_right_order))\n",
    "\n",
    "fig, axi = plt.subplots(1, figsize=(5, 4))\n",
    "for measure_name_idx, measure_name in enumerate(measures_right_order):\n",
    "    measure_name = measure_name[:-2]\n",
    "    tpr_all = defaultdict(list)\n",
    "    for graph_idx, (tpr, fpr) in enumerate(results_rc[(100, 2, 0.3, 0.10)][measure_name]):\n",
    "        tprg = defaultdict(list)\n",
    "        for ti, fi in zip(fpr, tpr):\n",
    "            tprg[np.floor(fi * 100)].append(ti)\n",
    "        for bucket, fis in tprg.items():\n",
    "            tpr_all[bucket].append(np.mean(fis))\n",
    "    for bucket, fis in tpr_all.items():\n",
    "        tpr_all[bucket] = np.mean(fis)\n",
    "    \n",
    "    axi.plot(np.array(list(tpr_all.keys()), dtype=np.float) / 100, tpr_all.values(), label=measure_name, color=d3c.__next__())\n",
    "\n",
    "axi.set_xlabel(\"nodes from different classes\")\n",
    "axi.set_ylabel(\"nodes from the same class\")\n",
    "\n",
    "box = axi.get_position()\n",
    "axi.set_position([box.x0, box.y0, box.width * 0.8, box.height])\n",
    "axi.set_xlim(0,1)\n",
    "axi.set_ylim(0,1)\n",
    "axi.legend(loc='center left', bbox_to_anchor=(1, 0.5))\n",
    "# gcf().suptitle(\"G(100,(2)0.3,0.05), G(100,(2)0.3,0.1), G(100,(2)0.3,0.15)\");"
   ]
  },
  {
   "cell_type": "code",
   "execution_count": null,
   "metadata": {
    "scrolled": true
   },
   "outputs": [],
   "source": [
    "d3c = (x for x in itertools.chain(d3_right_order, d3_right_order))\n",
    "\n",
    "fig, axi = plt.subplots(1, figsize=(5, 4))\n",
    "for measure_name_idx, measure_name in enumerate(measures_right_order):\n",
    "    measure_name = measure_name[:-2]\n",
    "    tpr_all = defaultdict(list)\n",
    "    for graph_idx, (tpr, fpr) in enumerate(results_rc[(100, 2, 0.3, 0.10)][measure_name]):\n",
    "        tprg = defaultdict(list)\n",
    "        for ti, fi in zip(fpr, tpr):\n",
    "            tprg[np.floor(fi * 100)].append(ti)\n",
    "        for bucket, fis in tprg.items():\n",
    "            tpr_all[bucket].append(np.mean(fis))\n",
    "    for bucket, fis in tpr_all.items():\n",
    "        tpr_all[bucket] = np.mean(fis)\n",
    "    \n",
    "    color = d3c.__next__()\n",
    "    \n",
    "    if measure_name not in ['logComm', 'logFor', 'logHeat', 'SCCT']:\n",
    "        continue\n",
    "    \n",
    "    axi.plot(np.array(list(tpr_all.keys()), dtype=np.float) / 100, tpr_all.values(), label=measure_name, color=color)\n",
    "\n",
    "axi.set_xlabel(\"nodes from different classes\")\n",
    "axi.set_ylabel(\"nodes from the same class\")\n",
    "\n",
    "box = axi.get_position()\n",
    "axi.set_position([box.x0, box.y0, box.width * 0.8, box.height])\n",
    "axi.set_xlim(0,1)\n",
    "axi.set_ylim(0,1)\n",
    "axi.legend(loc='center left', bbox_to_anchor=(1, 0.5))\n",
    "# gcf().suptitle(\"G(100,(2)0.3,0.05), G(100,(2)0.3,0.1), G(100,(2)0.3,0.15)\");"
   ]
  },
  {
   "cell_type": "code",
   "execution_count": null,
   "metadata": {},
   "outputs": [],
   "source": []
  }
 ],
 "metadata": {
  "kernelspec": {
   "display_name": "Python 3",
   "language": "python",
   "name": "python3"
  },
  "language_info": {
   "codemirror_mode": {
    "name": "ipython",
    "version": 3
   },
   "file_extension": ".py",
   "mimetype": "text/x-python",
   "name": "python",
   "nbconvert_exporter": "python",
   "pygments_lexer": "ipython3",
   "version": "3.6.5"
  }
 },
 "nbformat": 4,
 "nbformat_minor": 2
}
