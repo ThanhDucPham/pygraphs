{
 "cells": [
  {
   "cell_type": "markdown",
   "metadata": {},
   "source": [
    "# Do logarithmic proximity measures outperform plain ones in graph clustering?"
   ]
  },
  {
   "cell_type": "code",
   "execution_count": 1,
   "metadata": {},
   "outputs": [],
   "source": [
    "import os\n",
    "os.environ[\"OPENBLAS_NUM_THREADS\"] = \"1\"\n",
    "import warnings\n",
    "warnings.filterwarnings(\"ignore\")\n",
    "import sys\n",
    "sys.path.append('../..')"
   ]
  },
  {
   "cell_type": "code",
   "execution_count": 2,
   "metadata": {},
   "outputs": [],
   "source": [
    "from collections import defaultdict\n",
    "import numpy as np\n",
    "import matplotlib.pyplot as plt\n",
    "%matplotlib inline\n",
    "from tqdm import tqdm_notebook as tqdm\n",
    "from sklearn.metrics import adjusted_rand_score"
   ]
  },
  {
   "cell_type": "code",
   "execution_count": 3,
   "metadata": {},
   "outputs": [],
   "source": [
    "from pygraphs.graphs import StochasticBlockModel\n",
    "from pygraphs.measure import *\n",
    "from pygraphs.measure import kernels\n",
    "from pygraphs.cluster import KKMeans, KWard\n",
    "from pygraphs.scenario import ParallelByGraphs, plot_results\n",
    "from pygraphs.scorer import rand_index\n",
    "from pygraphs.util import load_or_calc_and_save"
   ]
  },
  {
   "cell_type": "markdown",
   "metadata": {},
   "source": [
    "## 2. Logarithmic vs. plain measures\n",
    "Let $G(N,(m)p_{in}, p_{out})$ be the model of generating random graphs on $N$ nodes divided into $m$ classes of the same size, with $p_{in}$ and pout being the probability of $(i, j) \\in E(G)$ for $i$ and $j$ belonging to the same class and different classes, respectively, where $E(G)$ is the edge set of $G$.\n",
    "\n",
    "The curves in Figures 1–3 present the adjusted Rand index (averaged over 200 random graphs) for clustering with Ward’s\n",
    "method."
   ]
  },
  {
   "cell_type": "code",
   "execution_count": 4,
   "metadata": {},
   "outputs": [],
   "source": [
    "def plot_log_results(results):\n",
    "    fig, ax = plt.subplots(2, 8, figsize=(15, 6))\n",
    "    for idx_i, clustring_method in enumerate(tqdm([KKMeans, KWard])):\n",
    "        ax[idx_i][0].set_ylabel(f'{clustring_method.name}, f1')\n",
    "        for idx_j, (name1, name2, xlim, ylim) in enumerate([\n",
    "            [(f'{clustring_method.name}_pWalk', 'pWalk'), (f'{clustring_method.name}_Walk', 'Walk'), (0, 1), (0, 1)],\n",
    "            [(f'{clustring_method.name}_For', 'For'), (f'{clustring_method.name}_logFor', 'logFor'), (0, 1), (0, 1)],\n",
    "            [(f'{clustring_method.name}_Comm', 'Comm'), (f'{clustring_method.name}_logComm', 'logComm'), (0, 0.83), (0, 1)],\n",
    "            [(f'{clustring_method.name}_Heat', 'Heat'), (f'{clustring_method.name}_logHeat', 'logHeat'), (0, 0.83), (0, 1)],\n",
    "            [(f'{clustring_method.name}_NHeat', 'NHeat'), (f'{clustring_method.name}_logNHeat', 'logNHeat'), (0, 0.83), (0, 1)],\n",
    "            [(f'{clustring_method.name}_PPR', 'PPR'), (f'{clustring_method.name}_logPPR', 'logPPR'), (0, 1), (0, 1)],\n",
    "            [(f'{clustring_method.name}_ModifPPR', 'ModifPPR'), (f'{clustring_method.name}_logModifPPR', 'logModifPPR'), (0, 1), (0, 1)],\n",
    "            [(f'{clustring_method.name}_HeatPPR', 'HeatPPR'), (f'{clustring_method.name}_logHeatPPR', 'logHeatPPR'), (0, 1), (0, 1)]\n",
    "        ]):\n",
    "            try:\n",
    "                toplot = [\n",
    "                    (name1[1], *results[name1[0]]),\n",
    "                    (name2[1], *results[name2[0]]),\n",
    "                ]\n",
    "                plot_results(ax[idx_i][idx_j], toplot, xlim, ylim)\n",
    "            except:\n",
    "                print('..')"
   ]
  },
  {
   "cell_type": "code",
   "execution_count": 5,
   "metadata": {},
   "outputs": [],
   "source": [
    "def plot_log_results4(results):\n",
    "    fig, ax = plt.subplots(2, 4, figsize=(7, 5), sharey=True)\n",
    "    plt.subplots_adjust(hspace=.3, wspace=.2)\n",
    "    for idx_j, (name1, name2, name3, name4, xlim, ylim) in enumerate([\n",
    "        [(f'KKMeans_pWalk', 'pWalk'), (f'KKMeans_Walk', 'Walk'),\n",
    "        (f'KWard_pWalk', 'pWalk'), (f'KWard_Walk', 'Walk'), (0, 1), (0, 1.05)],\n",
    "        [(f'KKMeans_For', 'For'), (f'KKMeans_logFor', 'logFor'),\n",
    "        (f'KWard_For', 'For'), (f'KWard_logFor', 'logFor'), (0, 1), (0, 1.05)],\n",
    "        [(f'KKMeans_Comm', 'Comm'), (f'KKMeans_logComm', 'logComm'),\n",
    "        (f'KWard_Comm', 'Comm'), (f'KWard_logComm', 'logComm'), (0, 0.6), (0, 1.05)],\n",
    "        [(f'KKMeans_Heat', 'Heat'), (f'KKMeans_logHeat', 'logHeat'),\n",
    "        (f'KWard_Heat', 'Heat'), (f'KWard_logHeat', 'logHeat'), (0, 0.83), (0, 1.05)],\n",
    "        [(f'KKMeans_NHeat', 'NHeat'), (f'KKMeans_logNHeat', 'logNHeat'),\n",
    "        (f'KWard_NHeat', 'NHeat'), (f'KWard_logNHeat', 'logNHeat'), (0, 1), (0, 1.05)],\n",
    "        [(f'KKMeans_PPR', 'PPR'), (f'KKMeans_logPPR', 'logPPR'),\n",
    "        (f'KWard_PPR', 'PPR'), (f'KWard_logPPR', 'logPPR'), (0, 1), (0, 1.05)],\n",
    "        [(f'KKMeans_ModifPPR', 'ModifPPR'), (f'KKMeans_logModifPPR', 'logModifPPR'),\n",
    "        (f'KWard_ModifPPR', 'ModifPPR'), (f'KWard_logModifPPR', 'logModifPPR'), (0, 1), (0, 1.05)],\n",
    "        [(f'KKMeans_HeatPPR', 'HeatPPR'), (f'KKMeans_logHeatPPR', 'logHeatPPR'),\n",
    "        (f'KWard_HeatPPR', 'HeatPPR'), (f'KWard_logHeatPPR', 'logHeatPPR'), (0, 1), (0, 1.05)]\n",
    "    ]):\n",
    "        try:\n",
    "            toplot = [\n",
    "                (\"KMeans, plain\", *results[name1[0]]),\n",
    "                (\"KMeans, log\", *results[name2[0]]),\n",
    "                (\"Ward, plain\", *results[name3[0]]),\n",
    "                (\"Ward, log\", *results[name4[0]]),\n",
    "            ]\n",
    "            \n",
    "            plot_results(ax[idx_j//4][idx_j%4], toplot, xlim, ylim, nolegend=True)\n",
    "            ax[idx_j//4][idx_j%4].set_title(name1[1])\n",
    "            if idx_j == 0 or idx_j == 4:\n",
    "                ax[idx_j//4][idx_j%4].set_ylabel(f'ARI')\n",
    "            if idx_j == 3:\n",
    "                ax[idx_j//4][idx_j%4].legend(bbox_to_anchor=(1,1), loc=\"upper left\")\n",
    "        except:\n",
    "            print('..')"
   ]
  },
  {
   "cell_type": "markdown",
   "metadata": {},
   "source": [
    "### **Fig. 1** Logarithmic vs. plain measures for G(100,(2)0.2,0.05)"
   ]
  },
  {
   "cell_type": "code",
   "execution_count": null,
   "metadata": {
    "scrolled": false
   },
   "outputs": [
    {
     "data": {
      "application/vnd.jupyter.widget-view+json": {
       "model_id": "a3c564df0551416b8d86bf35d8341b4a",
       "version_major": 2,
       "version_minor": 0
      },
      "text/plain": [
       "HBox(children=(IntProgress(value=0, max=2), HTML(value='')))"
      ]
     },
     "metadata": {},
     "output_type": "display_data"
    },
    {
     "data": {
      "application/vnd.jupyter.widget-view+json": {
       "model_id": "0be60a5ce6bf41ccb85baba62bda5f41",
       "version_major": 2,
       "version_minor": 0
      },
      "text/plain": [
       "HBox(children=(IntProgress(value=0, max=16), HTML(value='')))"
      ]
     },
     "metadata": {},
     "output_type": "display_data"
    },
    {
     "data": {
      "application/vnd.jupyter.widget-view+json": {
       "model_id": "ed968e9fc81548af901f08d7cbaa3b83",
       "version_major": 2,
       "version_minor": 0
      },
      "text/plain": [
       "HBox(children=(IntProgress(value=0, description='pWalk', max=200, style=ProgressStyle(description_width='initi…"
      ]
     },
     "metadata": {},
     "output_type": "display_data"
    },
    {
     "data": {
      "application/vnd.jupyter.widget-view+json": {
       "model_id": "8736b011b4c441399ac26e4a16a5c577",
       "version_major": 2,
       "version_minor": 0
      },
      "text/plain": [
       "HBox(children=(IntProgress(value=0, description='Walk', max=200, style=ProgressStyle(description_width='initia…"
      ]
     },
     "metadata": {},
     "output_type": "display_data"
    },
    {
     "data": {
      "application/vnd.jupyter.widget-view+json": {
       "model_id": "5dec6f3ea2f34f1d8f116f7ee9f1013d",
       "version_major": 2,
       "version_minor": 0
      },
      "text/plain": [
       "HBox(children=(IntProgress(value=0, description='For', max=200, style=ProgressStyle(description_width='initial…"
      ]
     },
     "metadata": {},
     "output_type": "display_data"
    },
    {
     "data": {
      "application/vnd.jupyter.widget-view+json": {
       "model_id": "e4dc0216922f411e9b3109b6f4eb3496",
       "version_major": 2,
       "version_minor": 0
      },
      "text/plain": [
       "HBox(children=(IntProgress(value=0, description='logFor', max=200, style=ProgressStyle(description_width='init…"
      ]
     },
     "metadata": {},
     "output_type": "display_data"
    },
    {
     "data": {
      "application/vnd.jupyter.widget-view+json": {
       "model_id": "a585830b433342f69c33f2a167cf39e0",
       "version_major": 2,
       "version_minor": 0
      },
      "text/plain": [
       "HBox(children=(IntProgress(value=0, description='Comm', max=200, style=ProgressStyle(description_width='initia…"
      ]
     },
     "metadata": {},
     "output_type": "display_data"
    },
    {
     "data": {
      "application/vnd.jupyter.widget-view+json": {
       "model_id": "02a3f6d168ea4b59b8c27bbefc293751",
       "version_major": 2,
       "version_minor": 0
      },
      "text/plain": [
       "HBox(children=(IntProgress(value=0, description='logComm', max=200, style=ProgressStyle(description_width='ini…"
      ]
     },
     "metadata": {},
     "output_type": "display_data"
    },
    {
     "data": {
      "application/vnd.jupyter.widget-view+json": {
       "model_id": "3c11f3d5a5ff41fe9fa18e352efc2bce",
       "version_major": 2,
       "version_minor": 0
      },
      "text/plain": [
       "HBox(children=(IntProgress(value=0, description='Heat', max=200, style=ProgressStyle(description_width='initia…"
      ]
     },
     "metadata": {},
     "output_type": "display_data"
    },
    {
     "data": {
      "application/vnd.jupyter.widget-view+json": {
       "model_id": "3085f1f20fc84b0eb73a84605c7a80a7",
       "version_major": 2,
       "version_minor": 0
      },
      "text/plain": [
       "HBox(children=(IntProgress(value=0, description='logHeat', max=200, style=ProgressStyle(description_width='ini…"
      ]
     },
     "metadata": {},
     "output_type": "display_data"
    },
    {
     "data": {
      "application/vnd.jupyter.widget-view+json": {
       "model_id": "0068fe3f9a8344f29b6ea7c24898fa56",
       "version_major": 2,
       "version_minor": 0
      },
      "text/plain": [
       "HBox(children=(IntProgress(value=0, description='NHeat', max=200, style=ProgressStyle(description_width='initi…"
      ]
     },
     "metadata": {},
     "output_type": "display_data"
    },
    {
     "data": {
      "application/vnd.jupyter.widget-view+json": {
       "model_id": "28d67b38d9774eb4a83b5e7365cf2e19",
       "version_major": 2,
       "version_minor": 0
      },
      "text/plain": [
       "HBox(children=(IntProgress(value=0, description='logNHeat', max=200, style=ProgressStyle(description_width='in…"
      ]
     },
     "metadata": {},
     "output_type": "display_data"
    }
   ],
   "source": [
    "@load_or_calc_and_save('results/2_11_ari_with_PPR2.pkl')\n",
    "def calc():\n",
    "    results = defaultdict(list)\n",
    "    graphs, info = StochasticBlockModel(100, 2, p_in=0.2, p_out=0.05).generate_graphs(200)\n",
    "    classic_plot = ParallelByGraphs(adjusted_rand_score, np.linspace(0, 1, 101), progressbar=True)\n",
    "    for clustring_method in tqdm([KKMeans, KWard]):\n",
    "        for measure_class in tqdm([pWalk_H, Walk_H, For_H, logFor_H, Comm_H, logComm_H, Heat_H, logHeat_H, NHeat_H, logNHeat_H, PPR_H, logPPR_H, ModifPPR_H, logModifPPR_H, HeatPPR_H, logHeatPPR_H]):\n",
    "            results[f\"{clustring_method.name}_{measure_class.name}\"] = \\\n",
    "                classic_plot.perform(clustring_method, measure_class, graphs, 2, n_jobs=12)\n",
    "    return results\n",
    "\n",
    "results = calc()"
   ]
  },
  {
   "cell_type": "code",
   "execution_count": null,
   "metadata": {},
   "outputs": [],
   "source": [
    "results.keys()"
   ]
  },
  {
   "cell_type": "code",
   "execution_count": null,
   "metadata": {},
   "outputs": [],
   "source": [
    "plot_log_results(results)\n",
    "# gcf().suptitle(\"Fig. 1 Logarithmic vs. plain measures for G(100,(2)0.2,0.05)\");"
   ]
  },
  {
   "cell_type": "code",
   "execution_count": null,
   "metadata": {},
   "outputs": [],
   "source": [
    "plot_log_results4(results)"
   ]
  },
  {
   "cell_type": "markdown",
   "metadata": {},
   "source": [
    "### **Fig. 2** Logarithmic vs. plain measures for G(100,(3)0.3,0.1)"
   ]
  },
  {
   "cell_type": "code",
   "execution_count": null,
   "metadata": {},
   "outputs": [],
   "source": [
    "@load_or_calc_and_save('results/2_21_ari_with_PPR.pkl')\n",
    "def calc():\n",
    "    results = defaultdict(list)\n",
    "    graphs, info = StochasticBlockModel(102, 3, p_in=0.3, p_out=0.1).generate_graphs(200)\n",
    "    classic_plot = ParallelByGraphs(adjusted_rand_score, np.linspace(0, 1, 101), progressbar=True)\n",
    "    for clustring_method in tqdm([KKMeans, KWard]):\n",
    "        for measure_class in tqdm([pWalk_H, Walk_H, For_H, logFor_H, Comm_H, logComm_H, Heat_H, logHeat_H, NHeat_H, logNHeat_H, PPR_H, logPPR_H, ModifPPR_H, logModifPPR_H, HeatPPR_H, logHeatPPR_H]):\n",
    "            results[f\"{clustring_method.name}_{measure_class.name}\"] = \\\n",
    "                classic_plot.perform(clustring_method, measure_class, graphs, 2, n_jobs=1)  # 12\n",
    "    return results\n",
    "\n",
    "results = calc()"
   ]
  },
  {
   "cell_type": "code",
   "execution_count": null,
   "metadata": {},
   "outputs": [],
   "source": [
    "plot_log_results(results)\n",
    "# gcf().suptitle('Fig. 2 Logarithmic vs. plain measures for G(100,(3)0.3,0.1)');"
   ]
  },
  {
   "cell_type": "code",
   "execution_count": null,
   "metadata": {},
   "outputs": [],
   "source": [
    "plot_log_results4(results)"
   ]
  },
  {
   "cell_type": "markdown",
   "metadata": {},
   "source": [
    "### **Fig. 3** Logarithmic vs. plain measures for G(200,(2)0.3,0.1)"
   ]
  },
  {
   "cell_type": "code",
   "execution_count": null,
   "metadata": {},
   "outputs": [],
   "source": [
    "@load_or_calc_and_save('results/2_31_ari_with_PPR.pkl')\n",
    "def calc():\n",
    "    results = defaultdict(list)\n",
    "    graphs, info = StochasticBlockModel(200, 2, p_in=0.3, p_out=0.1).generate_graphs(200)\n",
    "    classic_plot = ParallelByGraphs(adjusted_rand_score, np.linspace(0, 1, 101), progressbar=True)\n",
    "    for clustring_method in tqdm([KernelKMeansSklearn, KernelWardSklearn]):\n",
    "        for measure_class in tqdm([pWalk_H, Walk_H, For_H, logFor_H, Comm_H, logComm_H, Heat_H, logHeat_H, NHeat_H, logNHeat_H, PPR_H, logPPR_H, ModifPPR_H, logModifPPR_H, HeatPPR_H, logHeatPPR_H]):\n",
    "            results[f\"{clustring_method.name}_{measure_class.name}\"] = \\\n",
    "                classic_plot.perform(clustring_method, measure_class, graphs, 2, n_jobs=1)  # 12\n",
    "    return results\n",
    "\n",
    "results = calc()"
   ]
  },
  {
   "cell_type": "code",
   "execution_count": null,
   "metadata": {},
   "outputs": [],
   "source": [
    "plot_log_results(results)\n",
    "# gcf().suptitle('Fig. 3 Logarithmic vs. plain measures for G(200,(2)0.3,0.1)');"
   ]
  },
  {
   "cell_type": "code",
   "execution_count": null,
   "metadata": {},
   "outputs": [],
   "source": [
    "plot_log_results4(results)"
   ]
  },
  {
   "cell_type": "code",
   "execution_count": null,
   "metadata": {},
   "outputs": [],
   "source": []
  },
  {
   "cell_type": "code",
   "execution_count": null,
   "metadata": {},
   "outputs": [],
   "source": []
  }
 ],
 "metadata": {
  "kernelspec": {
   "display_name": "Python 3",
   "language": "python",
   "name": "python3"
  },
  "language_info": {
   "codemirror_mode": {
    "name": "ipython",
    "version": 3
   },
   "file_extension": ".py",
   "mimetype": "text/x-python",
   "name": "python",
   "nbconvert_exporter": "python",
   "pygments_lexer": "ipython3",
   "version": "3.7.3"
  }
 },
 "nbformat": 4,
 "nbformat_minor": 2
}
