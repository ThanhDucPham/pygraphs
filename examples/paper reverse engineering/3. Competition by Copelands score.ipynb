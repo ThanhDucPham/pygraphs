{
 "cells": [
  {
   "cell_type": "markdown",
   "metadata": {},
   "source": [
    "# Do logarithmic proximity measures outperform plain ones in graph clustering?"
   ]
  },
  {
   "cell_type": "code",
   "execution_count": 1,
   "metadata": {},
   "outputs": [],
   "source": [
    "import os\n",
    "os.environ[\"OPENBLAS_NUM_THREADS\"] = \"1\"\n",
    "import warnings\n",
    "warnings.filterwarnings(\"ignore\")\n",
    "import sys\n",
    "sys.path.append('../..')"
   ]
  },
  {
   "cell_type": "code",
   "execution_count": 2,
   "metadata": {},
   "outputs": [],
   "source": [
    "from collections import defaultdict\n",
    "from itertools import product\n",
    "import numpy as np\n",
    "import matplotlib.pyplot as plt\n",
    "%matplotlib inline\n",
    "from tqdm import tqdm_notebook as tqdm\n",
    "from sklearn.metrics import adjusted_rand_score"
   ]
  },
  {
   "cell_type": "code",
   "execution_count": 3,
   "metadata": {},
   "outputs": [],
   "source": [
    "from pygraphs.graphs.generator import StochasticBlockModel\n",
    "from pygraphs.measure import H_kernels_plus_RSP_FE\n",
    "from pygraphs.cluster.ward import Ward\n",
    "from pygraphs.scenario import ParallelByGraphs, measures_right_order\n",
    "from pygraphs.scorer import copeland\n",
    "from pygraphs.util import load_or_calc_and_save, ddict2dict"
   ]
  },
  {
   "cell_type": "markdown",
   "metadata": {},
   "source": [
    "## 3. Competition by Copeland’s score\n",
    "The competition has been performed on random graphs generated with the $G(N,(m)p_{in}, p_{out})$ model and the following parameters: $N \\in {100, 200}$, the number of classes $m \\in {2, 4}$, $p_{in} = 0.3$, $p_{out} \\in {0.1, 0.15}$. For every combination of parameters, we generated 50 graphs and for each of them we computed the best ARI’s the measure families reached. The results are presented in Table 1(a)."
   ]
  },
  {
   "cell_type": "markdown",
   "metadata": {},
   "source": [
    "### find best params and 95% percentile"
   ]
  },
  {
   "cell_type": "code",
   "execution_count": 4,
   "metadata": {},
   "outputs": [
    {
     "data": {
      "text/plain": [
       "HBox(children=(IntProgress(value=0, max=8), HTML(value='')))"
      ]
     },
     "metadata": {},
     "output_type": "display_data"
    },
    {
     "data": {
      "text/plain": [
       "HBox(children=(IntProgress(value=0, description='(100, 2, 0.1)', max=13), HTML(value='')))"
      ]
     },
     "metadata": {},
     "output_type": "display_data"
    },
    {
     "data": {
      "text/plain": [
       "HBox(children=(IntProgress(value=0, description='(100, 2, 0.15)', max=13), HTML(value='')))"
      ]
     },
     "metadata": {},
     "output_type": "display_data"
    },
    {
     "data": {
      "text/plain": [
       "HBox(children=(IntProgress(value=0, description='(100, 4, 0.1)', max=13), HTML(value='')))"
      ]
     },
     "metadata": {},
     "output_type": "display_data"
    },
    {
     "data": {
      "text/plain": [
       "HBox(children=(IntProgress(value=0, description='(100, 4, 0.15)', max=13), HTML(value='')))"
      ]
     },
     "metadata": {},
     "output_type": "display_data"
    },
    {
     "data": {
      "text/plain": [
       "HBox(children=(IntProgress(value=0, description='(200, 2, 0.1)', max=13), HTML(value='')))"
      ]
     },
     "metadata": {},
     "output_type": "display_data"
    },
    {
     "data": {
      "text/plain": [
       "HBox(children=(IntProgress(value=0, description='(200, 2, 0.15)', max=13), HTML(value='')))"
      ]
     },
     "metadata": {},
     "output_type": "display_data"
    },
    {
     "data": {
      "text/plain": [
       "HBox(children=(IntProgress(value=0, description='(200, 4, 0.1)', max=13), HTML(value='')))"
      ]
     },
     "metadata": {},
     "output_type": "display_data"
    },
    {
     "data": {
      "text/plain": [
       "HBox(children=(IntProgress(value=0, description='(200, 4, 0.15)', max=13), HTML(value='')))"
      ]
     },
     "metadata": {},
     "output_type": "display_data"
    },
    {
     "name": "stdout",
     "output_type": "stream",
     "text": [
      "\n",
      "(100, 4, 0.1)\tpWalk H \t0.00 (0.40)\t0.67 (0.32)\n",
      "(100, 4, 0.1)\tFE K    \t0.93 (0.34)\t0.80 (0.33)\n",
      "(100, 4, 0.1)\tComm H  \t0.00 (0.40)\t0.33 (0.33)\n",
      "(100, 4, 0.1)\tlogFor H\t0.53 (0.34)\t0.47 (0.34)\n",
      "(100, 4, 0.1)\tlogComm H\t0.67 (0.47)\t0.70 (0.45)\n",
      "(100, 4, 0.1)\tWalk H  \t0.53 (0.35)\t0.60 (0.34)\n",
      "(100, 4, 0.1)\tFor H   \t0.00 (0.40)\t0.87 (0.01)\n",
      "(100, 4, 0.1)\tSCT H   \t0.90 (0.33)\t0.83 (0.32)\n",
      "(100, 4, 0.1)\tHeat H  \t0.00 (0.40)\t0.90 (0.09)\n",
      "(100, 4, 0.1)\tlogHeat H\t0.27 (0.35)\t0.17 (0.34)\n",
      "(100, 4, 0.1)\tSCCT H  \t0.83 (0.40)\t0.87 (0.39)\n",
      "(100, 4, 0.1)\tSP-CT H \t0.27 (0.23)\t0.33 (0.23)\n",
      "(100, 4, 0.1)\tRSP K   \t0.97 (0.33)\t0.87 (0.29)\n",
      "(100, 2, 0.1)\tpWalk H \t0.77 (0.82)\t0.90 (0.81)\n",
      "(100, 2, 0.1)\tFE K    \t0.93 (0.84)\t0.80 (0.83)\n",
      "(100, 2, 0.1)\tComm H  \t0.33 (0.87)\t0.27 (0.84)\n",
      "(100, 2, 0.1)\tlogFor H\t0.47 (0.85)\t0.43 (0.83)\n",
      "(100, 2, 0.1)\tlogComm H\t0.57 (0.96)\t0.70 (0.95)\n",
      "(100, 2, 0.1)\tWalk H  \t0.70 (0.84)\t0.77 (0.83)\n",
      "(100, 2, 0.1)\tFor H   \t0.97 (0.45)\t0.87 (0.43)\n",
      "(100, 2, 0.1)\tSCT H   \t0.43 (0.84)\t0.67 (0.83)\n",
      "(100, 2, 0.1)\tHeat H  \t0.87 (0.80)\t0.80 (0.79)\n",
      "(100, 2, 0.1)\tlogHeat H\t0.47 (0.91)\t0.37 (0.89)\n",
      "(100, 2, 0.1)\tSCCT H  \t1.00 (0.96)\t0.70 (0.92)\n",
      "(100, 2, 0.1)\tSP-CT H \t0.03 (0.64)\t0.13 (0.62)\n",
      "(100, 2, 0.1)\tRSP K   \t0.97 (0.83)\t0.87 (0.72)\n",
      "(200, 2, 0.15)\tpWalk H \t0.83 (0.68)\t0.80 (0.67)\n",
      "(200, 2, 0.15)\tFE K    \t0.87 (0.69)\t0.90 (0.67)\n",
      "(200, 2, 0.15)\tComm H  \t0.20 (0.77)\t0.10 (0.68)\n",
      "(200, 2, 0.15)\tlogFor H\t0.23 (0.69)\t0.17 (0.69)\n",
      "(200, 2, 0.15)\tlogComm H\t0.50 (0.95)\t0.43 (0.95)\n",
      "(200, 2, 0.15)\tWalk H  \t0.57 (0.69)\t0.60 (0.67)\n",
      "(200, 2, 0.15)\tFor H   \t0.00 (0.05)\t0.07 (0.00)\n",
      "(200, 2, 0.15)\tSCT H   \t0.47 (0.69)\t0.73 (0.68)\n",
      "(200, 2, 0.15)\tHeat H  \t0.70 (0.66)\t0.63 (0.65)\n",
      "(200, 2, 0.15)\tlogHeat H\t0.23 (0.75)\t0.10 (0.69)\n",
      "(200, 2, 0.15)\tSCCT H  \t0.83 (0.84)\t0.60 (0.84)\n",
      "(200, 2, 0.15)\tSP-CT H \t0.03 (0.39)\t0.20 (0.38)\n",
      "(200, 2, 0.15)\tRSP K   \t0.97 (0.67)\t0.87 (0.58)\n",
      "(200, 2, 0.1)\tpWalk H \t0.80 (0.95)\t0.87 (0.95)\n",
      "(200, 2, 0.1)\tFE K    \t0.93 (0.95)\t0.83 (0.95)\n",
      "(200, 2, 0.1)\tComm H  \t0.23 (0.99)\t0.17 (0.98)\n",
      "(200, 2, 0.1)\tlogFor H\t0.43 (0.96)\t0.53 (0.95)\n",
      "(200, 2, 0.1)\tlogComm H\t0.47 (1.00)\t0.67 (1.00)\n",
      "(200, 2, 0.1)\tWalk H  \t0.87 (0.95)\t0.70 (0.94)\n",
      "(200, 2, 0.1)\tFor H   \t0.93 (0.77)\t0.87 (0.76)\n",
      "(200, 2, 0.1)\tSCT H   \t0.60 (0.97)\t0.67 (0.97)\n",
      "(200, 2, 0.1)\tHeat H  \t0.57 (1.00)\t0.63 (1.00)\n",
      "(200, 2, 0.1)\tlogHeat H\t0.57 (1.00)\t0.50 (1.00)\n",
      "(200, 2, 0.1)\tSCCT H  \t0.03 (0.99)\t0.07 (0.99)\n",
      "(200, 2, 0.1)\tSP-CT H \t0.00 (0.77)\t0.10 (0.69)\n",
      "(200, 2, 0.1)\tRSP K   \t0.97 (0.96)\t0.87 (0.89)\n",
      "(200, 4, 0.15)\tpWalk H \t0.00 (0.57)\t0.73 (0.17)\n",
      "(200, 4, 0.15)\tFE K    \t0.87 (0.19)\t0.67 (0.16)\n",
      "(200, 4, 0.15)\tComm H  \t0.00 (0.57)\t0.20 (0.18)\n",
      "(200, 4, 0.15)\tlogFor H\t0.17 (0.18)\t0.30 (0.17)\n",
      "(200, 4, 0.15)\tlogComm H\t0.60 (0.40)\t0.57 (0.38)\n",
      "(200, 4, 0.15)\tWalk H  \t0.70 (0.17)\t0.33 (0.17)\n",
      "(200, 4, 0.15)\tFor H   \t0.00 (0.57)\t0.33 (0.00)\n",
      "(200, 4, 0.15)\tSCT H   \t0.00 (0.32)\t0.63 (0.16)\n",
      "(200, 4, 0.15)\tHeat H  \t0.00 (0.57)\t0.70 (0.02)\n",
      "(200, 4, 0.15)\tlogHeat H\t0.07 (0.17)\t0.03 (0.16)\n",
      "(200, 4, 0.15)\tSCCT H  \t0.00 (0.32)\t0.83 (0.26)\n",
      "(200, 4, 0.15)\tSP-CT H \t0.03 (0.08)\t0.60 (0.08)\n",
      "(200, 4, 0.15)\tRSP K   \t0.97 (0.16)\t0.87 (0.13)\n",
      "(100, 4, 0.15)\tpWalk H \t0.00 (0.40)\t0.67 (0.09)\n",
      "(100, 4, 0.15)\tFE K    \t0.90 (0.10)\t0.73 (0.09)\n",
      "(100, 4, 0.15)\tComm H  \t0.00 (0.40)\t0.20 (0.10)\n",
      "(100, 4, 0.15)\tlogFor H\t0.47 (0.10)\t0.43 (0.09)\n",
      "(100, 4, 0.15)\tlogComm H\t0.63 (0.13)\t0.67 (0.13)\n",
      "(100, 4, 0.15)\tWalk H  \t0.53 (0.10)\t0.30 (0.09)\n",
      "(100, 4, 0.15)\tFor H   \t0.00 (0.40)\t0.27 (0.00)\n",
      "(100, 4, 0.15)\tSCT H   \t0.00 (0.31)\t0.90 (0.09)\n",
      "(100, 4, 0.15)\tHeat H  \t0.00 (0.40)\t0.87 (0.02)\n",
      "(100, 4, 0.15)\tlogHeat H\t0.07 (0.10)\t0.23 (0.09)\n",
      "(100, 4, 0.15)\tSCCT H  \t0.00 (0.31)\t0.70 (0.12)\n",
      "(100, 4, 0.15)\tSP-CT H \t0.07 (0.08)\t0.23 (0.08)\n",
      "(100, 4, 0.15)\tRSP K   \t0.93 (0.09)\t0.87 (0.08)\n",
      "(200, 4, 0.1)\tpWalk H \t0.83 (0.62)\t0.87 (0.61)\n",
      "(200, 4, 0.1)\tFE K    \t0.90 (0.64)\t0.80 (0.63)\n",
      "(200, 4, 0.1)\tComm H  \t0.23 (0.69)\t0.17 (0.66)\n",
      "(200, 4, 0.1)\tlogFor H\t0.37 (0.65)\t0.43 (0.64)\n",
      "(200, 4, 0.1)\tlogComm H\t0.57 (0.89)\t0.63 (0.88)\n",
      "(200, 4, 0.1)\tWalk H  \t0.60 (0.63)\t0.63 (0.62)\n",
      "(200, 4, 0.1)\tFor H   \t0.00 (0.57)\t0.90 (0.01)\n",
      "(200, 4, 0.1)\tSCT H   \t0.43 (0.62)\t0.37 (0.61)\n",
      "(200, 4, 0.1)\tHeat H  \t0.00 (0.57)\t0.63 (0.40)\n",
      "(200, 4, 0.1)\tlogHeat H\t0.30 (0.69)\t0.23 (0.65)\n",
      "(200, 4, 0.1)\tSCCT H  \t0.17 (0.76)\t0.67 (0.76)\n",
      "(200, 4, 0.1)\tSP-CT H \t0.07 (0.33)\t0.90 (0.32)\n",
      "(200, 4, 0.1)\tRSP K   \t0.97 (0.61)\t0.87 (0.48)\n",
      "(100, 2, 0.15)\tpWalk H \t0.67 (0.43)\t0.70 (0.42)\n",
      "(100, 2, 0.15)\tFE K    \t0.83 (0.46)\t0.87 (0.43)\n",
      "(100, 2, 0.15)\tComm H  \t0.27 (0.47)\t0.20 (0.44)\n",
      "(100, 2, 0.15)\tlogFor H\t0.47 (0.44)\t0.53 (0.44)\n",
      "(100, 2, 0.15)\tlogComm H\t0.70 (0.70)\t0.73 (0.68)\n",
      "(100, 2, 0.15)\tWalk H  \t0.67 (0.44)\t0.73 (0.42)\n",
      "(100, 2, 0.15)\tFor H   \t0.83 (0.01)\t0.83 (0.01)\n",
      "(100, 2, 0.15)\tSCT H   \t0.53 (0.46)\t0.90 (0.44)\n",
      "(100, 2, 0.15)\tHeat H  \t0.83 (0.16)\t0.70 (0.15)\n",
      "(100, 2, 0.15)\tlogHeat H\t0.23 (0.48)\t0.20 (0.46)\n",
      "(100, 2, 0.15)\tSCCT H  \t0.90 (0.58)\t0.93 (0.57)\n",
      "(100, 2, 0.15)\tSP-CT H \t0.03 (0.31)\t0.57 (0.27)\n",
      "(100, 2, 0.15)\tRSP K   \t0.97 (0.44)\t0.87 (0.36)\n"
     ]
    }
   ],
   "source": [
    "@load_or_calc_and_save('results/3_best_params_3_100.pkl')\n",
    "def calc():\n",
    "    # calc data to find best params\n",
    "    results = defaultdict(lambda: defaultdict(lambda: 0))\n",
    "    for column in tqdm(list(product([100, 200], [2, 4], [0.1, 0.15]))):\n",
    "        n_nodes, n_classes, p_out = column\n",
    "        graphs, info = StochasticBlockModel(n_nodes, n_classes, 0.3, p_out).generate_graphs(100)\n",
    "        classic_plot = ParallelByGraphs(adjusted_rand_score, np.linspace(0, 1, 31), progressbar=False)\n",
    "        for measure_class in tqdm(H_kernels_plus_RSP_FE, desc=str(column)):\n",
    "            results[column][measure_class.name] = classic_plot.perform(Ward, measure_class, graphs, n_classes, n_jobs=12)\n",
    "            \n",
    "    # find best params\n",
    "    best_params = defaultdict(lambda: defaultdict(lambda: 0))\n",
    "    percentile_params = defaultdict(lambda: defaultdict(lambda: 0))\n",
    "    for column, measures in results.items():\n",
    "        for measure_name, measure_results in measures.items():\n",
    "            x, y, error = measure_results\n",
    "            best_idx = np.argmax(y)\n",
    "            percentile_idx = list(y).index(np.percentile(y, 90, interpolation='lower'))\n",
    "\n",
    "            print('{}\\t{}\\t{:0.2f} ({:0.2f})\\t{:0.2f} ({:0.2f})'.format(\n",
    "                column, measure_name.ljust(8, ' '), x[best_idx], y[best_idx], x[percentile_idx], y[percentile_idx]))\n",
    "            best_params[column][measure_name] = x[best_idx]\n",
    "            percentile_params[column][measure_name] = x[percentile_idx]\n",
    "    return (ddict2dict(best_params), ddict2dict(percentile_params))\n",
    "\n",
    "best_params, percentile_params = calc()"
   ]
  },
  {
   "cell_type": "markdown",
   "metadata": {},
   "source": [
    "### calc competition for given params"
   ]
  },
  {
   "cell_type": "code",
   "execution_count": 5,
   "metadata": {
    "scrolled": false
   },
   "outputs": [
    {
     "data": {
      "text/plain": [
       "HBox(children=(IntProgress(value=0, max=8), HTML(value='')))"
      ]
     },
     "metadata": {},
     "output_type": "display_data"
    },
    {
     "data": {
      "text/plain": [
       "HBox(children=(IntProgress(value=0, description='(100, 2, 0.1)', max=200), HTML(value='')))"
      ]
     },
     "metadata": {},
     "output_type": "display_data"
    },
    {
     "name": "stdout",
     "output_type": "stream",
     "text": [
      "divide by zero encountered in double_scalars\n",
      "divide by zero encountered in double_scalars\n",
      "divide by zero encountered in double_scalars\n",
      "divide by zero encountered in double_scalars\n",
      "divide by zero encountered in double_scalars\n",
      "divide by zero encountered in double_scalars\n",
      "divide by zero encountered in double_scalars\n",
      "divide by zero encountered in double_scalars\n",
      "divide by zero encountered in double_scalars\n",
      "divide by zero encountered in double_scalars\n",
      "divide by zero encountered in double_scalars\n",
      "divide by zero encountered in double_scalars\n",
      "divide by zero encountered in double_scalars\n",
      "divide by zero encountered in double_scalars\n",
      "divide by zero encountered in double_scalars\n",
      "divide by zero encountered in double_scalars\n",
      "divide by zero encountered in double_scalars\n",
      "divide by zero encountered in double_scalars\n",
      "divide by zero encountered in double_scalars\n",
      "divide by zero encountered in double_scalars\n",
      "divide by zero encountered in double_scalars\n",
      "divide by zero encountered in double_scalars\n",
      "divide by zero encountered in double_scalars\n",
      "divide by zero encountered in double_scalars\n",
      "divide by zero encountered in double_scalars\n",
      "divide by zero encountered in double_scalars\n",
      "divide by zero encountered in double_scalars\n",
      "divide by zero encountered in double_scalars\n",
      "divide by zero encountered in double_scalars\n",
      "divide by zero encountered in double_scalars\n",
      "divide by zero encountered in double_scalars\n",
      "divide by zero encountered in double_scalars\n",
      "divide by zero encountered in double_scalars\n",
      "divide by zero encountered in double_scalars\n",
      "divide by zero encountered in double_scalars\n",
      "divide by zero encountered in double_scalars\n",
      "divide by zero encountered in double_scalars\n",
      "divide by zero encountered in double_scalars\n",
      "divide by zero encountered in double_scalars\n",
      "divide by zero encountered in double_scalars\n",
      "divide by zero encountered in double_scalars\n",
      "divide by zero encountered in double_scalars\n",
      "divide by zero encountered in double_scalars\n",
      "divide by zero encountered in double_scalars\n",
      "divide by zero encountered in double_scalars\n",
      "divide by zero encountered in double_scalars\n",
      "divide by zero encountered in double_scalars\n",
      "divide by zero encountered in double_scalars\n",
      "divide by zero encountered in double_scalars\n",
      "divide by zero encountered in double_scalars\n",
      "divide by zero encountered in double_scalars\n",
      "divide by zero encountered in double_scalars\n",
      "divide by zero encountered in double_scalars\n",
      "divide by zero encountered in double_scalars\n",
      "divide by zero encountered in double_scalars\n",
      "divide by zero encountered in double_scalars\n",
      "divide by zero encountered in double_scalars\n",
      "divide by zero encountered in double_scalars\n",
      "divide by zero encountered in double_scalars\n",
      "divide by zero encountered in double_scalars\n",
      "divide by zero encountered in double_scalars\n",
      "divide by zero encountered in double_scalars\n",
      "divide by zero encountered in double_scalars\n",
      "divide by zero encountered in double_scalars\n",
      "divide by zero encountered in double_scalars\n",
      "divide by zero encountered in double_scalars\n",
      "divide by zero encountered in double_scalars\n",
      "divide by zero encountered in double_scalars\n",
      "divide by zero encountered in double_scalars\n",
      "divide by zero encountered in double_scalars\n",
      "divide by zero encountered in double_scalars\n",
      "divide by zero encountered in double_scalars\n",
      "divide by zero encountered in double_scalars\n",
      "divide by zero encountered in double_scalars\n",
      "divide by zero encountered in double_scalars\n",
      "divide by zero encountered in double_scalars\n",
      "divide by zero encountered in double_scalars\n",
      "divide by zero encountered in double_scalars\n",
      "divide by zero encountered in double_scalars\n",
      "divide by zero encountered in double_scalars\n",
      "divide by zero encountered in double_scalars\n",
      "divide by zero encountered in double_scalars\n",
      "divide by zero encountered in double_scalars\n",
      "divide by zero encountered in double_scalars\n",
      "divide by zero encountered in double_scalars\n",
      "divide by zero encountered in double_scalars\n",
      "divide by zero encountered in double_scalars\n",
      "divide by zero encountered in double_scalars\n",
      "divide by zero encountered in double_scalars\n",
      "divide by zero encountered in double_scalars\n",
      "divide by zero encountered in double_scalars\n",
      "divide by zero encountered in double_scalars\n",
      "divide by zero encountered in double_scalars\n",
      "divide by zero encountered in double_scalars\n",
      "divide by zero encountered in double_scalars\n",
      "divide by zero encountered in double_scalars\n",
      "divide by zero encountered in double_scalars\n",
      "divide by zero encountered in double_scalars\n",
      "divide by zero encountered in double_scalars\n",
      "divide by zero encountered in double_scalars\n",
      "divide by zero encountered in double_scalars\n",
      "divide by zero encountered in double_scalars\n",
      "divide by zero encountered in double_scalars\n",
      "divide by zero encountered in double_scalars\n",
      "divide by zero encountered in double_scalars\n",
      "divide by zero encountered in double_scalars\n",
      "divide by zero encountered in double_scalars\n",
      "divide by zero encountered in double_scalars\n",
      "divide by zero encountered in double_scalars\n",
      "divide by zero encountered in double_scalars\n",
      "divide by zero encountered in double_scalars\n",
      "divide by zero encountered in double_scalars\n",
      "divide by zero encountered in double_scalars\n",
      "divide by zero encountered in double_scalars\n",
      "divide by zero encountered in double_scalars\n",
      "divide by zero encountered in double_scalars\n",
      "divide by zero encountered in double_scalars\n",
      "divide by zero encountered in double_scalars\n",
      "divide by zero encountered in double_scalars\n",
      "divide by zero encountered in double_scalars\n",
      "divide by zero encountered in double_scalars\n",
      "divide by zero encountered in double_scalars\n",
      "divide by zero encountered in double_scalars\n",
      "divide by zero encountered in double_scalars\n",
      "divide by zero encountered in double_scalars\n",
      "divide by zero encountered in double_scalars\n",
      "divide by zero encountered in double_scalars\n",
      "divide by zero encountered in double_scalars\n",
      "divide by zero encountered in double_scalars\n",
      "divide by zero encountered in double_scalars\n",
      "divide by zero encountered in double_scalars\n",
      "divide by zero encountered in double_scalars\n",
      "divide by zero encountered in double_scalars\n",
      "divide by zero encountered in double_scalars\n",
      "divide by zero encountered in double_scalars\n",
      "divide by zero encountered in double_scalars\n",
      "divide by zero encountered in double_scalars\n",
      "divide by zero encountered in double_scalars\n",
      "divide by zero encountered in double_scalars\n",
      "divide by zero encountered in double_scalars\n",
      "divide by zero encountered in double_scalars\n",
      "divide by zero encountered in double_scalars\n",
      "divide by zero encountered in double_scalars\n",
      "divide by zero encountered in double_scalars\n",
      "divide by zero encountered in double_scalars\n",
      "divide by zero encountered in double_scalars\n",
      "divide by zero encountered in double_scalars\n",
      "divide by zero encountered in double_scalars\n",
      "divide by zero encountered in double_scalars\n",
      "divide by zero encountered in double_scalars\n",
      "divide by zero encountered in double_scalars\n",
      "divide by zero encountered in double_scalars\n",
      "divide by zero encountered in double_scalars\n",
      "divide by zero encountered in double_scalars\n",
      "divide by zero encountered in double_scalars\n",
      "divide by zero encountered in double_scalars\n",
      "divide by zero encountered in double_scalars\n",
      "divide by zero encountered in double_scalars\n",
      "divide by zero encountered in double_scalars\n",
      "divide by zero encountered in double_scalars\n",
      "divide by zero encountered in double_scalars\n",
      "divide by zero encountered in double_scalars\n",
      "divide by zero encountered in double_scalars\n",
      "divide by zero encountered in double_scalars\n",
      "divide by zero encountered in double_scalars\n",
      "divide by zero encountered in double_scalars\n",
      "divide by zero encountered in double_scalars\n",
      "divide by zero encountered in double_scalars\n",
      "divide by zero encountered in double_scalars\n",
      "divide by zero encountered in double_scalars\n",
      "divide by zero encountered in double_scalars\n",
      "divide by zero encountered in double_scalars\n",
      "divide by zero encountered in double_scalars\n",
      "divide by zero encountered in double_scalars\n",
      "divide by zero encountered in double_scalars\n",
      "divide by zero encountered in double_scalars\n",
      "divide by zero encountered in double_scalars\n",
      "divide by zero encountered in double_scalars\n",
      "divide by zero encountered in double_scalars\n",
      "divide by zero encountered in double_scalars\n",
      "divide by zero encountered in double_scalars\n",
      "divide by zero encountered in double_scalars\n",
      "divide by zero encountered in double_scalars\n"
     ]
    },
    {
     "name": "stdout",
     "output_type": "stream",
     "text": [
      "divide by zero encountered in double_scalars\n",
      "divide by zero encountered in double_scalars\n",
      "divide by zero encountered in double_scalars\n",
      "divide by zero encountered in double_scalars\n",
      "divide by zero encountered in double_scalars\n",
      "divide by zero encountered in double_scalars\n",
      "divide by zero encountered in double_scalars\n",
      "divide by zero encountered in double_scalars\n",
      "divide by zero encountered in double_scalars\n",
      "divide by zero encountered in double_scalars\n",
      "divide by zero encountered in double_scalars\n",
      "divide by zero encountered in double_scalars\n",
      "divide by zero encountered in double_scalars\n",
      "divide by zero encountered in double_scalars\n",
      "divide by zero encountered in double_scalars\n",
      "divide by zero encountered in double_scalars\n"
     ]
    },
    {
     "data": {
      "text/plain": [
       "HBox(children=(IntProgress(value=0, description='(100, 2, 0.15)', max=200), HTML(value='')))"
      ]
     },
     "metadata": {},
     "output_type": "display_data"
    },
    {
     "data": {
      "text/plain": [
       "HBox(children=(IntProgress(value=0, description='(100, 4, 0.1)', max=200), HTML(value='')))"
      ]
     },
     "metadata": {},
     "output_type": "display_data"
    },
    {
     "data": {
      "text/plain": [
       "HBox(children=(IntProgress(value=0, description='(100, 4, 0.15)', max=200), HTML(value='')))"
      ]
     },
     "metadata": {},
     "output_type": "display_data"
    },
    {
     "data": {
      "text/plain": [
       "HBox(children=(IntProgress(value=0, description='(200, 2, 0.1)', max=200), HTML(value='')))"
      ]
     },
     "metadata": {},
     "output_type": "display_data"
    },
    {
     "data": {
      "text/plain": [
       "HBox(children=(IntProgress(value=0, description='(200, 2, 0.15)', max=200), HTML(value='')))"
      ]
     },
     "metadata": {},
     "output_type": "display_data"
    },
    {
     "data": {
      "text/plain": [
       "HBox(children=(IntProgress(value=0, description='(200, 4, 0.1)', max=200), HTML(value='')))"
      ]
     },
     "metadata": {},
     "output_type": "display_data"
    },
    {
     "data": {
      "text/plain": [
       "HBox(children=(IntProgress(value=0, description='(200, 4, 0.15)', max=200), HTML(value='')))"
      ]
     },
     "metadata": {},
     "output_type": "display_data"
    }
   ],
   "source": [
    "results = defaultdict(lambda: defaultdict(lambda: 0))\n",
    "for column in tqdm(list(product([100, 200], [2, 4], [0.1, 0.15]))):\n",
    "    n_nodes, n_classes, p_out = column\n",
    "    graphs, info = StochasticBlockModel(n_nodes, n_classes, 0.3, p_out).generate_graphs(200)\n",
    "    success = 0\n",
    "    for edges, nodes in tqdm(graphs, desc=str(column)):\n",
    "        try:\n",
    "            single_competition_best = {}\n",
    "            for kernel_class in H_kernels_plus_RSP_FE:\n",
    "                best_param = best_params[column][kernel_class.name]\n",
    "                kernel = kernel_class(edges)\n",
    "                param = kernel.scaler.scale(best_param)\n",
    "                K = kernel.get_K(param)\n",
    "                y_pred = Ward(n_classes).predict(K)\n",
    "                ari = adjusted_rand_score(nodes, y_pred)\n",
    "                single_competition_best[kernel_class.name] = ari\n",
    "            single_competition_score = copeland(single_competition_best.items())\n",
    "            for measure_name, delta in single_competition_score.items():\n",
    "                results[column][measure_name] += delta\n",
    "                results['sum'][measure_name] += delta\n",
    "            success += 1\n",
    "        except Exception or FloatingPointError as e:\n",
    "            print(e)\n",
    "        if success == 50:\n",
    "            break"
   ]
  },
  {
   "cell_type": "code",
   "execution_count": 6,
   "metadata": {},
   "outputs": [
    {
     "name": "stdout",
     "output_type": "stream",
     "text": [
      "pWalk H\tWalk H\tFor H\tlogFor H\tComm H\tlogComm H\tHeat H\tlogHeat H\tSCT H\tSCCT H\tRSP K\tFE K\tSP-CT H\tSP K\tCT H\n",
      "sum\t 647\t -1141\t -968\t -635\t 1952\t 2471\t 884\t 169\t 151\t 1694\t -969\t -907\t -3348\t 0\t 0\t \n",
      "(100, 2, 0.1)\t -3\t 4\t -10\t -8\t 4\t 10\t 10\t 4\t -6\t 10\t -3\t 0\t -12\t 0\t 0\t \n",
      "(200, 2, 0.15)\t -41\t -144\t -568\t 3\t 244\t 580\t 136\t 202\t -39\t 289\t -107\t -97\t -458\t 0\t 0\t \n",
      "(200, 2, 0.1)\t -106\t -221\t -546\t -83\t 297\t 333\t 332\t 332\t 69\t 238\t -1\t -102\t -542\t 0\t 0\t \n",
      "(200, 4, 0.15)\t 442\t -346\t 442\t -262\t 442\t 152\t 442\t -292\t 76\t 76\t -336\t -294\t -542\t 0\t 0\t \n",
      "(100, 4, 0.15)\t 448\t -316\t 448\t -298\t 448\t -122\t 448\t -294\t 148\t 148\t -358\t -294\t -406\t 0\t 0\t \n",
      "(100, 4, 0.1)\t 86\t -40\t 86\t -70\t 86\t 406\t 86\t -16\t -106\t 188\t -132\t -104\t -470\t 0\t 0\t \n",
      "(200, 4, 0.1)\t -138\t -98\t -260\t 50\t 246\t 600\t -260\t 166\t -42\t 458\t -124\t -4\t -594\t 0\t 0\t \n",
      "(100, 2, 0.15)\t -41\t 20\t -560\t 33\t 185\t 512\t -310\t 67\t 51\t 287\t 92\t -12\t -324\t 0\t 0\t \n"
     ]
    }
   ],
   "source": [
    "print('\\t'.join(measures_right_order))\n",
    "for column_name, column_results in results.items():\n",
    "    print('{}\\t'.format(column_name), end=\" \")\n",
    "    for measure_name in measures_right_order:\n",
    "        measure_results = column_results[measure_name]\n",
    "        print('{}\\t'.format(measure_results), end=\" \")\n",
    "    print()"
   ]
  },
  {
   "cell_type": "code",
   "execution_count": 7,
   "metadata": {},
   "outputs": [
    {
     "data": {
      "text/plain": [
       "HBox(children=(IntProgress(value=0, max=8), HTML(value='')))"
      ]
     },
     "metadata": {},
     "output_type": "display_data"
    },
    {
     "data": {
      "text/plain": [
       "HBox(children=(IntProgress(value=0, description='(100, 2, 0.1)'), HTML(value='')))"
      ]
     },
     "metadata": {},
     "output_type": "display_data"
    },
    {
     "data": {
      "text/plain": [
       "HBox(children=(IntProgress(value=0, description='(100, 2, 0.15)'), HTML(value='')))"
      ]
     },
     "metadata": {},
     "output_type": "display_data"
    },
    {
     "data": {
      "text/plain": [
       "HBox(children=(IntProgress(value=0, description='(100, 4, 0.1)'), HTML(value='')))"
      ]
     },
     "metadata": {},
     "output_type": "display_data"
    },
    {
     "data": {
      "text/plain": [
       "HBox(children=(IntProgress(value=0, description='(100, 4, 0.15)'), HTML(value='')))"
      ]
     },
     "metadata": {},
     "output_type": "display_data"
    },
    {
     "data": {
      "text/plain": [
       "HBox(children=(IntProgress(value=0, description='(200, 2, 0.1)'), HTML(value='')))"
      ]
     },
     "metadata": {},
     "output_type": "display_data"
    },
    {
     "data": {
      "text/plain": [
       "HBox(children=(IntProgress(value=0, description='(200, 2, 0.15)'), HTML(value='')))"
      ]
     },
     "metadata": {},
     "output_type": "display_data"
    },
    {
     "data": {
      "text/plain": [
       "HBox(children=(IntProgress(value=0, description='(200, 4, 0.1)'), HTML(value='')))"
      ]
     },
     "metadata": {},
     "output_type": "display_data"
    },
    {
     "data": {
      "text/plain": [
       "HBox(children=(IntProgress(value=0, description='(200, 4, 0.15)'), HTML(value='')))"
      ]
     },
     "metadata": {},
     "output_type": "display_data"
    }
   ],
   "source": [
    "results = defaultdict(lambda: defaultdict(lambda: 0))\n",
    "for column in tqdm(list(product([100, 200], [2, 4], [0.1, 0.15]))):\n",
    "    n_nodes, n_classes, p_out = column\n",
    "    graphs, info = StochasticBlockModel(n_nodes, n_classes, 0.3, p_out).generate_graphs(100)\n",
    "    success = 0\n",
    "    for edges, nodes in tqdm(graphs, desc=str(column)):\n",
    "        try:\n",
    "            single_competition_best = {}\n",
    "            for kernel_class in H_kernels_plus_RSP_FE:\n",
    "                best_param = percentile_params[column][kernel_class.name]\n",
    "                kernel = kernel_class(edges)\n",
    "                param = kernel.scaler.scale(best_param)\n",
    "                K = kernel.get_K(param)\n",
    "                y_pred = Ward(n_classes).predict(K)\n",
    "                ari = adjusted_rand_score(nodes, y_pred)\n",
    "                single_competition_best[kernel_class.name] = ari\n",
    "            single_competition_score = copeland(single_competition_best.items())\n",
    "            for measure_name, delta in single_competition_score.items():\n",
    "                results[column][measure_name] += delta\n",
    "                results['sum'][measure_name] += delta\n",
    "            success += 1\n",
    "        except Exception or FloatingPointError as e:\n",
    "            print(e)\n",
    "        if success == 50:\n",
    "            break"
   ]
  },
  {
   "cell_type": "code",
   "execution_count": 8,
   "metadata": {},
   "outputs": [
    {
     "name": "stdout",
     "output_type": "stream",
     "text": [
      "pWalk H\tWalk H\tFor H\tlogFor H\tComm H\tlogComm H\tHeat H\tlogHeat H\tSCT H\tSCCT H\tRSP K\tFE K\tSP-CT H\tSP K\tCT H\n",
      "sum\t -1\t 264\t -4363\t 444\t 1068\t 3866\t -1015\t 1055\t 84\t 2602\t -1402\t 266\t -2868\t 0\t 0\t \n",
      "(100, 2, 0.1)\t 45\t -79\t -391\t -23\t 109\t 440\t 296\t 236\t -27\t 263\t -313\t -74\t -482\t 0\t 0\t \n",
      "(200, 2, 0.15)\t -31\t -4\t -587\t 44\t 60\t 565\t 249\t 11\t -6\t 397\t -268\t 30\t -460\t 0\t 0\t \n",
      "(200, 2, 0.1)\t -62\t -84\t -495\t -126\t 198\t 398\t 386\t 391\t 52\t 295\t -338\t -30\t -585\t 0\t 0\t \n",
      "(200, 4, 0.15)\t 26\t 76\t -578\t 94\t 158\t 582\t -472\t 98\t 30\t 370\t -84\t 52\t -352\t 0\t 0\t \n",
      "(100, 4, 0.15)\t 10\t 102\t -561\t 116\t 120\t 340\t -445\t 32\t -32\t 184\t 14\t 120\t 0\t 0\t 0\t \n",
      "(100, 4, 0.1)\t 20\t 114\t -590\t 148\t 106\t 466\t -492\t 80\t 4\t 360\t -16\t 50\t -250\t 0\t 0\t \n",
      "(200, 4, 0.1)\t -10\t 20\t -599\t 134\t 168\t 574\t -215\t 148\t 36\t 438\t -280\t 38\t -452\t 0\t 0\t \n",
      "(100, 2, 0.15)\t 1\t 119\t -562\t 57\t 149\t 501\t -322\t 59\t 27\t 295\t -117\t 80\t -287\t 0\t 0\t \n"
     ]
    }
   ],
   "source": [
    "print('\\t'.join(measures_right_order))\n",
    "for column_name, column_results in results.items():\n",
    "    print('{}\\t'.format(column_name), end=\" \")\n",
    "    for measure_name in measures_right_order:\n",
    "        measure_results = column_results[measure_name]\n",
    "        print('{}\\t'.format(measure_results), end=\" \")\n",
    "    print()"
   ]
  },
  {
   "cell_type": "code",
   "execution_count": null,
   "metadata": {},
   "outputs": [],
   "source": []
  }
 ],
 "metadata": {
  "kernelspec": {
   "display_name": "Python 3",
   "language": "python",
   "name": "python3"
  },
  "language_info": {
   "codemirror_mode": {
    "name": "ipython",
    "version": 3
   },
   "file_extension": ".py",
   "mimetype": "text/x-python",
   "name": "python",
   "nbconvert_exporter": "python",
   "pygments_lexer": "ipython3",
   "version": "3.6.5"
  }
 },
 "nbformat": 4,
 "nbformat_minor": 2
}
