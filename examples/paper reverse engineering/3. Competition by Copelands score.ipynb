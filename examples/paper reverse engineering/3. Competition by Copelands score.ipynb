{
 "cells": [
  {
   "cell_type": "markdown",
   "metadata": {},
   "source": [
    "# Do logarithmic proximity measures outperform plain ones in graph clustering?"
   ]
  },
  {
   "cell_type": "code",
   "execution_count": 1,
   "metadata": {},
   "outputs": [],
   "source": [
    "import os\n",
    "os.environ[\"OPENBLAS_NUM_THREADS\"] = \"1\"\n",
    "import warnings\n",
    "warnings.filterwarnings(\"ignore\")\n",
    "import sys\n",
    "sys.path.append('../..')"
   ]
  },
  {
   "cell_type": "code",
   "execution_count": 2,
   "metadata": {},
   "outputs": [],
   "source": [
    "from collections import defaultdict\n",
    "from itertools import product\n",
    "import numpy as np\n",
    "import matplotlib.pyplot as plt\n",
    "%matplotlib inline\n",
    "from tqdm import tqdm_notebook as tqdm\n",
    "from sklearn.metrics import adjusted_rand_score"
   ]
  },
  {
   "cell_type": "code",
   "execution_count": 3,
   "metadata": {},
   "outputs": [],
   "source": [
    "from pygraphs.graphs.generator import StochasticBlockModel\n",
    "from pygraphs.measure import ALL_kernels\n",
    "from pygraphs.cluster import KernelWardSklearn\n",
    "from pygraphs.scenario import ParallelByGraphs, measures_right_order\n",
    "from pygraphs.scorer import copeland\n",
    "from pygraphs.util import load_or_calc_and_save, ddict2dict"
   ]
  },
  {
   "cell_type": "code",
   "execution_count": 4,
   "metadata": {},
   "outputs": [],
   "source": [
    "measures_right_order = [\n",
    "    'pWalk H',\n",
    "    'Walk H',\n",
    "    'For H',\n",
    "    'logFor H',\n",
    "    'Comm H',\n",
    "    'logComm H',\n",
    "    'Heat H',\n",
    "    'logHeat H',\n",
    "    'SCT H',\n",
    "    'SCCT H',\n",
    "    'RSP K',\n",
    "    'FE K',\n",
    "    'SP-CT H',\n",
    "    'NormalizedHeat R',\n",
    "    'PersonalizedPageRank R',\n",
    "    'ModifiedPersonalizedPageRank R',\n",
    "    'HeatPersonalizedPageRank R'\n",
    "]"
   ]
  },
  {
   "cell_type": "markdown",
   "metadata": {},
   "source": [
    "## 3. Competition by Copeland’s score\n",
    "The competition has been performed on random graphs generated with the $G(N,(m)p_{in}, p_{out})$ model and the following parameters: $N \\in {100, 200}$, the number of classes $m \\in {2, 4}$, $p_{in} = 0.3$, $p_{out} \\in {0.1, 0.15}$. For every combination of parameters, we generated 50 graphs and for each of them we computed the best ARI’s the measure families reached. The results are presented in Table 1(a)."
   ]
  },
  {
   "cell_type": "markdown",
   "metadata": {},
   "source": [
    "### find best params and 95% percentile"
   ]
  },
  {
   "cell_type": "code",
   "execution_count": 5,
   "metadata": {},
   "outputs": [
    {
     "data": {
      "application/vnd.jupyter.widget-view+json": {
       "model_id": "b00b0a0bd1674d7b9c9b94495f54ab68",
       "version_major": 2,
       "version_minor": 0
      },
      "text/plain": [
       "HBox(children=(IntProgress(value=0, max=8), HTML(value='')))"
      ]
     },
     "metadata": {},
     "output_type": "display_data"
    },
    {
     "data": {
      "application/vnd.jupyter.widget-view+json": {
       "model_id": "f7a5ebfe296c4e09a12b8d1680b29d0f",
       "version_major": 2,
       "version_minor": 0
      },
      "text/plain": [
       "HBox(children=(IntProgress(value=0, description='(100, 2, 0.1)', max=17, style=ProgressStyle(description_width…"
      ]
     },
     "metadata": {},
     "output_type": "display_data"
    },
    {
     "data": {
      "application/vnd.jupyter.widget-view+json": {
       "model_id": "da8f7b2c84d3424eaf6de1a50421d993",
       "version_major": 2,
       "version_minor": 0
      },
      "text/plain": [
       "HBox(children=(IntProgress(value=0, description='(100, 2, 0.15)', max=17, style=ProgressStyle(description_widt…"
      ]
     },
     "metadata": {},
     "output_type": "display_data"
    },
    {
     "data": {
      "application/vnd.jupyter.widget-view+json": {
       "model_id": "435f58e708d14d0290856e28b10ead9c",
       "version_major": 2,
       "version_minor": 0
      },
      "text/plain": [
       "HBox(children=(IntProgress(value=0, description='(100, 4, 0.1)', max=17, style=ProgressStyle(description_width…"
      ]
     },
     "metadata": {},
     "output_type": "display_data"
    },
    {
     "data": {
      "application/vnd.jupyter.widget-view+json": {
       "model_id": "659871abb59e4fd2b1881689f04d7075",
       "version_major": 2,
       "version_minor": 0
      },
      "text/plain": [
       "HBox(children=(IntProgress(value=0, description='(100, 4, 0.15)', max=17, style=ProgressStyle(description_widt…"
      ]
     },
     "metadata": {},
     "output_type": "display_data"
    },
    {
     "data": {
      "application/vnd.jupyter.widget-view+json": {
       "model_id": "7fd29a243fe84cde901e302625500a03",
       "version_major": 2,
       "version_minor": 0
      },
      "text/plain": [
       "HBox(children=(IntProgress(value=0, description='(200, 2, 0.1)', max=17, style=ProgressStyle(description_width…"
      ]
     },
     "metadata": {},
     "output_type": "display_data"
    },
    {
     "data": {
      "application/vnd.jupyter.widget-view+json": {
       "model_id": "f0b924043df64be3b006f4f243e4ea8b",
       "version_major": 2,
       "version_minor": 0
      },
      "text/plain": [
       "HBox(children=(IntProgress(value=0, description='(200, 2, 0.15)', max=17, style=ProgressStyle(description_widt…"
      ]
     },
     "metadata": {},
     "output_type": "display_data"
    },
    {
     "data": {
      "application/vnd.jupyter.widget-view+json": {
       "model_id": "7cc549dbcad64e50856084f48c3324da",
       "version_major": 2,
       "version_minor": 0
      },
      "text/plain": [
       "HBox(children=(IntProgress(value=0, description='(200, 4, 0.1)', max=17, style=ProgressStyle(description_width…"
      ]
     },
     "metadata": {},
     "output_type": "display_data"
    },
    {
     "data": {
      "application/vnd.jupyter.widget-view+json": {
       "model_id": "3e17c75744a4487298c3121ed9d7f6a2",
       "version_major": 2,
       "version_minor": 0
      },
      "text/plain": [
       "HBox(children=(IntProgress(value=0, description='(200, 4, 0.15)', max=17, style=ProgressStyle(description_widt…"
      ]
     },
     "metadata": {},
     "output_type": "display_data"
    },
    {
     "name": "stdout",
     "output_type": "stream",
     "text": [
      "\n",
      "(100, 2, 0.1)\tpWalk H \t0.73 (0.84)\t0.60 (0.82)\n",
      "(100, 2, 0.1)\tWalk H  \t0.27 (0.92)\t0.50 (0.91)\n",
      "(100, 2, 0.1)\tFor H   \t0.97 (0.64)\t0.90 (0.63)\n",
      "(100, 2, 0.1)\tlogFor H\t0.10 (0.92)\t0.13 (0.91)\n",
      "(100, 2, 0.1)\tComm H  \t0.20 (0.87)\t0.13 (0.84)\n",
      "(100, 2, 0.1)\tlogComm H\t0.20 (0.93)\t0.10 (0.92)\n",
      "(100, 2, 0.1)\tHeat H  \t0.57 (0.79)\t0.43 (0.79)\n",
      "(100, 2, 0.1)\tlogHeat H\t0.40 (0.94)\t0.27 (0.94)\n",
      "(100, 2, 0.1)\tSCT H   \t0.87 (0.93)\t0.73 (0.92)\n",
      "(100, 2, 0.1)\tSCCT H  \t0.07 (0.96)\t0.03 (0.95)\n",
      "(100, 2, 0.1)\tRSP K   \t0.80 (0.93)\t0.77 (0.92)\n",
      "(100, 2, 0.1)\tFE K    \t0.60 (0.92)\t0.67 (0.92)\n",
      "(100, 2, 0.1)\tSP-CT H \t0.03 (0.85)\t0.97 (0.85)\n",
      "(100, 2, 0.1)\tNormalizedHeat R\t0.87 (0.94)\t0.70 (0.93)\n",
      "(100, 2, 0.1)\tPersonalizedPageRank R\t0.43 (0.92)\t0.47 (0.92)\n",
      "(100, 2, 0.1)\tModifiedPersonalizedPageRank R\t0.43 (0.92)\t0.47 (0.92)\n",
      "(100, 2, 0.1)\tHeatPersonalizedPageRank R\t0.87 (0.95)\t0.80 (0.93)\n",
      "(100, 2, 0.15)\tpWalk H \t0.70 (0.45)\t0.50 (0.43)\n",
      "(100, 2, 0.15)\tWalk H  \t0.10 (0.55)\t0.03 (0.54)\n",
      "(100, 2, 0.15)\tFor H   \t0.00 (0.04)\t0.70 (0.01)\n",
      "(100, 2, 0.15)\tlogFor H\t0.07 (0.55)\t0.10 (0.54)\n",
      "(100, 2, 0.15)\tComm H  \t0.13 (0.47)\t0.07 (0.41)\n",
      "(100, 2, 0.15)\tlogComm H\t0.03 (0.55)\t0.13 (0.45)\n",
      "(100, 2, 0.15)\tHeat H  \t0.60 (0.18)\t0.73 (0.16)\n",
      "(100, 2, 0.15)\tlogHeat H\t0.27 (0.60)\t0.23 (0.59)\n",
      "(100, 2, 0.15)\tSCT H   \t0.93 (0.58)\t0.83 (0.56)\n",
      "(100, 2, 0.15)\tSCCT H  \t0.93 (0.68)\t0.77 (0.67)\n",
      "(100, 2, 0.15)\tRSP K   \t0.73 (0.59)\t0.63 (0.57)\n",
      "(100, 2, 0.15)\tFE K    \t0.60 (0.57)\t0.50 (0.56)\n",
      "(100, 2, 0.15)\tSP-CT H \t0.23 (0.48)\t0.17 (0.47)\n",
      "(100, 2, 0.15)\tNormalizedHeat R\t0.73 (0.59)\t0.63 (0.57)\n",
      "(100, 2, 0.15)\tPersonalizedPageRank R\t0.43 (0.56)\t0.23 (0.56)\n",
      "(100, 2, 0.15)\tModifiedPersonalizedPageRank R\t0.43 (0.56)\t0.23 (0.56)\n",
      "(100, 2, 0.15)\tHeatPersonalizedPageRank R\t0.87 (0.61)\t0.73 (0.57)\n",
      "(100, 4, 0.1)\tpWalk H \t0.63 (0.36)\t0.73 (0.34)\n",
      "(100, 4, 0.1)\tWalk H  \t0.03 (0.40)\t0.17 (0.39)\n",
      "(100, 4, 0.1)\tFor H   \t0.00 (0.22)\t0.93 (0.02)\n",
      "(100, 4, 0.1)\tlogFor H\t0.17 (0.43)\t0.40 (0.42)\n",
      "(100, 4, 0.1)\tComm H  \t0.20 (0.36)\t0.13 (0.34)\n",
      "(100, 4, 0.1)\tlogComm H\t0.03 (0.39)\t0.13 (0.35)\n",
      "(100, 4, 0.1)\tHeat H  \t0.00 (0.22)\t0.67 (0.10)\n",
      "(100, 4, 0.1)\tlogHeat H\t0.20 (0.43)\t0.30 (0.42)\n",
      "(100, 4, 0.1)\tSCT H   \t0.93 (0.46)\t0.87 (0.44)\n",
      "(100, 4, 0.1)\tSCCT H  \t0.87 (0.51)\t0.93 (0.50)\n",
      "(100, 4, 0.1)\tRSP K   \t0.80 (0.45)\t0.83 (0.44)\n",
      "(100, 4, 0.1)\tFE K    \t0.60 (0.44)\t0.47 (0.44)\n",
      "(100, 4, 0.1)\tSP-CT H \t0.23 (0.36)\t0.17 (0.35)\n",
      "(100, 4, 0.1)\tNormalizedHeat R\t0.40 (0.44)\t0.83 (0.43)\n",
      "(100, 4, 0.1)\tPersonalizedPageRank R\t0.20 (0.44)\t0.23 (0.43)\n",
      "(100, 4, 0.1)\tModifiedPersonalizedPageRank R\t0.20 (0.44)\t0.23 (0.43)\n",
      "(100, 4, 0.1)\tHeatPersonalizedPageRank R\t0.83 (0.46)\t0.50 (0.44)\n",
      "(100, 4, 0.15)\tpWalk H \t0.00 (0.22)\t0.53 (0.10)\n",
      "(100, 4, 0.15)\tWalk H  \t0.07 (0.12)\t0.10 (0.11)\n",
      "(100, 4, 0.15)\tFor H   \t0.00 (0.22)\t0.20 (0.00)\n",
      "(100, 4, 0.15)\tlogFor H\t0.10 (0.12)\t0.33 (0.12)\n",
      "(100, 4, 0.15)\tComm H  \t0.00 (0.22)\t0.10 (0.09)\n",
      "(100, 4, 0.15)\tlogComm H\t0.03 (0.11)\t0.13 (0.10)\n",
      "(100, 4, 0.15)\tHeat H  \t0.00 (0.22)\t0.80 (0.02)\n",
      "(100, 4, 0.15)\tlogHeat H\t0.07 (0.11)\t0.03 (0.11)\n",
      "(100, 4, 0.15)\tSCT H   \t0.90 (0.12)\t0.87 (0.12)\n",
      "(100, 4, 0.15)\tSCCT H  \t0.90 (0.15)\t0.93 (0.14)\n",
      "(100, 4, 0.15)\tRSP K   \t0.80 (0.13)\t0.67 (0.12)\n",
      "(100, 4, 0.15)\tFE K    \t0.70 (0.13)\t0.60 (0.12)\n",
      "(100, 4, 0.15)\tSP-CT H \t0.77 (0.11)\t0.80 (0.11)\n",
      "(100, 4, 0.15)\tNormalizedHeat R\t0.73 (0.12)\t0.17 (0.12)\n",
      "(100, 4, 0.15)\tPersonalizedPageRank R\t0.43 (0.12)\t0.53 (0.12)\n",
      "(100, 4, 0.15)\tModifiedPersonalizedPageRank R\t0.43 (0.12)\t0.53 (0.12)\n",
      "(100, 4, 0.15)\tHeatPersonalizedPageRank R\t0.73 (0.13)\t0.83 (0.12)\n",
      "(200, 2, 0.1)\tpWalk H \t0.83 (0.97)\t0.87 (0.96)\n",
      "(200, 2, 0.1)\tWalk H  \t0.30 (0.99)\t0.23 (0.99)\n",
      "(200, 2, 0.1)\tFor H   \t0.97 (0.90)\t0.87 (0.89)\n",
      "(200, 2, 0.1)\tlogFor H\t0.07 (1.00)\t0.03 (0.99)\n",
      "(200, 2, 0.1)\tComm H  \t0.13 (0.99)\t0.17 (0.94)\n",
      "(200, 2, 0.1)\tlogComm H\t0.13 (1.00)\t0.03 (0.99)\n",
      "(200, 2, 0.1)\tHeat H  \t0.37 (1.00)\t0.43 (1.00)\n",
      "(200, 2, 0.1)\tlogHeat H\t0.40 (1.00)\t0.43 (1.00)\n",
      "(200, 2, 0.1)\tSCT H   \t0.90 (1.00)\t0.67 (0.99)\n",
      "(200, 2, 0.1)\tSCCT H  \t0.83 (1.00)\t0.23 (1.00)\n",
      "(200, 2, 0.1)\tRSP K   \t0.90 (1.00)\t0.97 (1.00)\n",
      "(200, 2, 0.1)\tFE K    \t0.67 (1.00)\t0.60 (0.99)\n",
      "(200, 2, 0.1)\tSP-CT H \t0.93 (0.97)\t1.00 (0.97)\n",
      "(200, 2, 0.1)\tNormalizedHeat R\t0.73 (1.00)\t0.83 (1.00)\n",
      "(200, 2, 0.1)\tPersonalizedPageRank R\t0.57 (0.99)\t0.47 (0.99)\n",
      "(200, 2, 0.1)\tModifiedPersonalizedPageRank R\t0.57 (0.99)\t0.47 (0.99)\n",
      "(200, 2, 0.1)\tHeatPersonalizedPageRank R\t0.87 (1.00)\t0.77 (1.00)\n",
      "(200, 2, 0.15)\tpWalk H \t0.73 (0.71)\t0.80 (0.70)\n",
      "(200, 2, 0.15)\tWalk H  \t0.37 (0.85)\t0.47 (0.84)\n",
      "(200, 2, 0.15)\tFor H   \t0.00 (0.09)\t0.93 (0.04)\n",
      "(200, 2, 0.15)\tlogFor H\t0.10 (0.85)\t0.13 (0.85)\n",
      "(200, 2, 0.15)\tComm H  \t0.10 (0.77)\t0.13 (0.34)\n",
      "(200, 2, 0.15)\tlogComm H\t0.03 (0.86)\t0.13 (0.07)\n",
      "(200, 2, 0.15)\tHeat H  \t0.83 (0.71)\t0.43 (0.65)\n",
      "(200, 2, 0.15)\tlogHeat H\t0.20 (0.90)\t0.13 (0.89)\n",
      "(200, 2, 0.15)\tSCT H   \t0.90 (0.87)\t0.83 (0.86)\n",
      "(200, 2, 0.15)\tSCCT H  \t0.93 (0.95)\t0.90 (0.94)\n",
      "(200, 2, 0.15)\tRSP K   \t0.83 (0.87)\t0.90 (0.87)\n",
      "(200, 2, 0.15)\tFE K    \t0.70 (0.86)\t0.73 (0.85)\n",
      "(200, 2, 0.15)\tSP-CT H \t0.87 (0.76)\t0.73 (0.76)\n",
      "(200, 2, 0.15)\tNormalizedHeat R\t0.80 (0.89)\t0.77 (0.88)\n",
      "(200, 2, 0.15)\tPersonalizedPageRank R\t0.50 (0.85)\t0.57 (0.85)\n",
      "(200, 2, 0.15)\tModifiedPersonalizedPageRank R\t0.50 (0.85)\t0.57 (0.85)\n",
      "(200, 2, 0.15)\tHeatPersonalizedPageRank R\t0.87 (0.90)\t0.80 (0.88)\n",
      "(200, 4, 0.1)\tpWalk H \t0.67 (0.63)\t0.73 (0.62)\n",
      "(200, 4, 0.1)\tWalk H  \t0.20 (0.76)\t0.13 (0.75)\n",
      "(200, 4, 0.1)\tFor H   \t0.00 (0.07)\t0.83 (0.04)\n",
      "(200, 4, 0.1)\tlogFor H\t0.10 (0.78)\t0.13 (0.77)\n",
      "(200, 4, 0.1)\tComm H  \t0.13 (0.68)\t0.07 (0.61)\n",
      "(200, 4, 0.1)\tlogComm H\t0.07 (0.77)\t0.13 (0.65)\n",
      "(200, 4, 0.1)\tHeat H  \t0.43 (0.38)\t0.37 (0.36)\n",
      "(200, 4, 0.1)\tlogHeat H\t0.27 (0.81)\t0.13 (0.80)\n",
      "(200, 4, 0.1)\tSCT H   \t0.93 (0.80)\t0.87 (0.79)\n",
      "(200, 4, 0.1)\tSCCT H  \t0.80 (0.88)\t0.60 (0.88)\n",
      "(200, 4, 0.1)\tRSP K   \t0.80 (0.80)\t0.73 (0.79)\n",
      "(200, 4, 0.1)\tFE K    \t0.60 (0.78)\t0.53 (0.78)\n",
      "(200, 4, 0.1)\tSP-CT H \t0.97 (0.66)\t0.90 (0.66)\n",
      "(200, 4, 0.1)\tNormalizedHeat R\t0.83 (0.80)\t0.77 (0.79)\n",
      "(200, 4, 0.1)\tPersonalizedPageRank R\t0.50 (0.79)\t0.57 (0.78)\n",
      "(200, 4, 0.1)\tModifiedPersonalizedPageRank R\t0.50 (0.79)\t0.57 (0.78)\n",
      "(200, 4, 0.1)\tHeatPersonalizedPageRank R\t0.87 (0.83)\t0.77 (0.80)\n",
      "(200, 4, 0.15)\tpWalk H \t0.70 (0.18)\t0.50 (0.17)\n",
      "(200, 4, 0.15)\tWalk H  \t0.27 (0.26)\t0.07 (0.25)\n",
      "(200, 4, 0.15)\tFor H   \t0.00 (0.07)\t0.17 (0.00)\n",
      "(200, 4, 0.15)\tlogFor H\t0.07 (0.26)\t0.03 (0.25)\n",
      "(200, 4, 0.15)\tComm H  \t0.10 (0.19)\t0.13 (0.13)\n",
      "(200, 4, 0.15)\tlogComm H\t0.03 (0.24)\t0.13 (0.06)\n",
      "(200, 4, 0.15)\tHeat H  \t0.00 (0.07)\t0.67 (0.03)\n",
      "(200, 4, 0.15)\tlogHeat H\t0.10 (0.28)\t0.03 (0.26)\n",
      "(200, 4, 0.15)\tSCT H   \t0.90 (0.29)\t0.87 (0.27)\n",
      "(200, 4, 0.15)\tSCCT H  \t0.83 (0.40)\t0.90 (0.39)\n",
      "(200, 4, 0.15)\tRSP K   \t0.87 (0.29)\t0.57 (0.28)\n",
      "(200, 4, 0.15)\tFE K    \t0.60 (0.27)\t0.57 (0.27)\n",
      "(200, 4, 0.15)\tSP-CT H \t0.17 (0.23)\t0.30 (0.23)\n",
      "(200, 4, 0.15)\tNormalizedHeat R\t0.60 (0.27)\t0.53 (0.27)\n",
      "(200, 4, 0.15)\tPersonalizedPageRank R\t0.27 (0.27)\t0.13 (0.27)\n",
      "(200, 4, 0.15)\tModifiedPersonalizedPageRank R\t0.27 (0.27)\t0.13 (0.27)\n",
      "(200, 4, 0.15)\tHeatPersonalizedPageRank R\t0.83 (0.29)\t0.73 (0.28)\n"
     ]
    }
   ],
   "source": [
    "@load_or_calc_and_save('results/3_best_params_3_100_ward.pkl')\n",
    "def calc():\n",
    "    # calc data to find best params\n",
    "    results = defaultdict(lambda: defaultdict(lambda: 0))\n",
    "    for column in tqdm(list(product([100, 200], [2, 4], [0.1, 0.15]))):\n",
    "        n_nodes, n_classes, p_out = column\n",
    "        graphs, info = StochasticBlockModel(n_nodes, n_classes, p_in=0.3, p_out=p_out).generate_graphs(100)\n",
    "        classic_plot = ParallelByGraphs(adjusted_rand_score, np.linspace(0, 1, 31), progressbar=False)\n",
    "        for measure_class in tqdm(ALL_kernels, desc=str(column)):\n",
    "            results[column][measure_class.name] = classic_plot.perform(KernelWardSklearn, measure_class, graphs, n_classes, n_jobs=12)\n",
    "            \n",
    "    # find best params\n",
    "    best_params = defaultdict(lambda: defaultdict(lambda: 0))\n",
    "    percentile_params = defaultdict(lambda: defaultdict(lambda: 0))\n",
    "    for column, measures in results.items():\n",
    "        for measure_name, measure_results in measures.items():\n",
    "            x, y, error = measure_results\n",
    "            best_idx = np.argmax(y)\n",
    "            percentile_idx = list(y).index(np.percentile(y, 90, interpolation='lower'))\n",
    "\n",
    "            print('{}\\t{}\\t{:0.2f} ({:0.2f})\\t{:0.2f} ({:0.2f})'.format(\n",
    "                column, measure_name.ljust(8, ' '), x[best_idx], y[best_idx], x[percentile_idx], y[percentile_idx]))\n",
    "            best_params[column][measure_name] = x[best_idx]\n",
    "            percentile_params[column][measure_name] = x[percentile_idx]\n",
    "    return (ddict2dict(best_params), ddict2dict(percentile_params))\n",
    "\n",
    "best_params, percentile_params = calc()"
   ]
  },
  {
   "cell_type": "markdown",
   "metadata": {},
   "source": [
    "### calc competition for given params"
   ]
  },
  {
   "cell_type": "code",
   "execution_count": 6,
   "metadata": {
    "scrolled": false
   },
   "outputs": [
    {
     "data": {
      "application/vnd.jupyter.widget-view+json": {
       "model_id": "a09101e80dcf452cac73c01a902ce4ef",
       "version_major": 2,
       "version_minor": 0
      },
      "text/plain": [
       "HBox(children=(IntProgress(value=0, max=8), HTML(value='')))"
      ]
     },
     "metadata": {},
     "output_type": "display_data"
    },
    {
     "data": {
      "application/vnd.jupyter.widget-view+json": {
       "model_id": "598ce9138ccb4d52a424ca5446595cb2",
       "version_major": 2,
       "version_minor": 0
      },
      "text/plain": [
       "HBox(children=(IntProgress(value=0, description='(100, 2, 0.1)', max=600, style=ProgressStyle(description_widt…"
      ]
     },
     "metadata": {},
     "output_type": "display_data"
    },
    {
     "data": {
      "application/vnd.jupyter.widget-view+json": {
       "model_id": "b0b4d87f889840cfa6f02668a9fc3bee",
       "version_major": 2,
       "version_minor": 0
      },
      "text/plain": [
       "HBox(children=(IntProgress(value=0, description='(100, 2, 0.15)', max=600, style=ProgressStyle(description_wid…"
      ]
     },
     "metadata": {},
     "output_type": "display_data"
    },
    {
     "data": {
      "application/vnd.jupyter.widget-view+json": {
       "model_id": "ef00ab4b28114ecd8607653f82d4aad8",
       "version_major": 2,
       "version_minor": 0
      },
      "text/plain": [
       "HBox(children=(IntProgress(value=0, description='(100, 4, 0.1)', max=600, style=ProgressStyle(description_widt…"
      ]
     },
     "metadata": {},
     "output_type": "display_data"
    },
    {
     "data": {
      "application/vnd.jupyter.widget-view+json": {
       "model_id": "1c9a26dcfcea4f30b24c98d744a90093",
       "version_major": 2,
       "version_minor": 0
      },
      "text/plain": [
       "HBox(children=(IntProgress(value=0, description='(100, 4, 0.15)', max=600, style=ProgressStyle(description_wid…"
      ]
     },
     "metadata": {},
     "output_type": "display_data"
    },
    {
     "data": {
      "application/vnd.jupyter.widget-view+json": {
       "model_id": "499843a3c35c4dd9ad915f2de3bd71ba",
       "version_major": 2,
       "version_minor": 0
      },
      "text/plain": [
       "HBox(children=(IntProgress(value=0, description='(200, 2, 0.1)', max=600, style=ProgressStyle(description_widt…"
      ]
     },
     "metadata": {},
     "output_type": "display_data"
    },
    {
     "data": {
      "application/vnd.jupyter.widget-view+json": {
       "model_id": "046f0d05911649048f6842b6be6e72d3",
       "version_major": 2,
       "version_minor": 0
      },
      "text/plain": [
       "HBox(children=(IntProgress(value=0, description='(200, 2, 0.15)', max=600, style=ProgressStyle(description_wid…"
      ]
     },
     "metadata": {},
     "output_type": "display_data"
    },
    {
     "data": {
      "application/vnd.jupyter.widget-view+json": {
       "model_id": "227837ccab65435abf154fec46c96f55",
       "version_major": 2,
       "version_minor": 0
      },
      "text/plain": [
       "HBox(children=(IntProgress(value=0, description='(200, 4, 0.1)', max=600, style=ProgressStyle(description_widt…"
      ]
     },
     "metadata": {},
     "output_type": "display_data"
    },
    {
     "data": {
      "application/vnd.jupyter.widget-view+json": {
       "model_id": "254f3c3d91dc4ec880f061dc96318784",
       "version_major": 2,
       "version_minor": 0
      },
      "text/plain": [
       "HBox(children=(IntProgress(value=0, description='(200, 4, 0.15)', max=600, style=ProgressStyle(description_wid…"
      ]
     },
     "metadata": {},
     "output_type": "display_data"
    }
   ],
   "source": [
    "results = defaultdict(lambda: defaultdict(lambda: 0))\n",
    "for column in tqdm(list(product([100, 200], [2, 4], [0.1, 0.15]))):\n",
    "    n_nodes, n_classes, p_out = column\n",
    "    graphs, info = StochasticBlockModel(n_nodes, n_classes, p_in=0.3, p_out=p_out).generate_graphs(600)\n",
    "    success = 0\n",
    "    for edges, nodes in tqdm(graphs, desc=str(column)):\n",
    "        try:\n",
    "            single_competition_best = {}\n",
    "            for kernel_class in ALL_kernels:\n",
    "                best_param = best_params[column][kernel_class.name]\n",
    "                kernel = kernel_class(edges)\n",
    "                param = kernel.scaler.scale(best_param)\n",
    "                K = kernel.get_K(param)\n",
    "                y_pred = KernelWardSklearn(n_classes).predict(K)\n",
    "                ari = adjusted_rand_score(nodes, y_pred)\n",
    "                single_competition_best[kernel_class.name] = ari\n",
    "            single_competition_score = copeland(single_competition_best.items())\n",
    "            for measure_name, delta in single_competition_score.items():\n",
    "                results[column][measure_name] += delta\n",
    "                results['sum'][measure_name] += delta\n",
    "            success += 1\n",
    "        except Exception or FloatingPointError as e:\n",
    "            print(e)\n",
    "        if success == 200:\n",
    "            break"
   ]
  },
  {
   "cell_type": "code",
   "execution_count": 7,
   "metadata": {},
   "outputs": [
    {
     "name": "stdout",
     "output_type": "stream",
     "text": [
      "pWalk H\tWalk H\tFor H\tlogFor H\tComm H\tlogComm H\tHeat H\tlogHeat H\tSCT H\tSCCT H\tRSP K\tFE K\tSP-CT H\tNormalizedHeat R\tPersonalizedPageRank R\tModifiedPersonalizedPageRank R\tHeatPersonalizedPageRank R\n",
      "(100, 2, 0.1)\t -1870\t -148\t -2231\t 318\t -1016\t 243\t 529\t 998\t 491\t 1184\t 309\t 312\t -1536\t 556\t 381\t 381\t 1099\t \n",
      "sum\t -9561\t -1260\t -17703\t 1782\t -4456\t 279\t -6769\t 6010\t 5280\t 14648\t 4388\t 1787\t -10827\t 4146\t 2013\t 2013\t 8230\t \n",
      "(100, 2, 0.15)\t -1223\t -88\t -2906\t 400\t -819\t 97\t -2066\t 983\t 725\t 2099\t 576\t 219\t -893\t 771\t 428\t 428\t 1269\t \n",
      "(100, 4, 0.1)\t -1077\t -76\t -2520\t 516\t -795\t -20\t -2520\t 642\t 1206\t 1994\t 828\t 810\t -970\t 256\t 390\t 390\t 946\t \n",
      "(100, 4, 0.15)\t 2288\t -1106\t 2288\t -796\t 2288\t -1008\t 2288\t -892\t -464\t 176\t -608\t -912\t -1286\t -794\t -588\t -588\t -286\t \n",
      "(200, 2, 0.1)\t -1674\t 274\t -3056\t 360\t -281\t 345\t 819\t 800\t 569\t 791\t 586\t 283\t -1858\t 541\t 380\t 380\t 741\t \n",
      "(200, 2, 0.15)\t -2375\t 8\t -3174\t -78\t -1321\t 196\t -479\t 1550\t 741\t 2664\t 705\t 145\t -1830\t 1060\t 280\t 280\t 1628\t \n",
      "(200, 4, 0.1)\t -2066\t -170\t -3142\t 566\t -1526\t 152\t -2378\t 1318\t 1084\t 2844\t 1077\t 460\t -1840\t 1076\t 390\t 390\t 1765\t \n",
      "(200, 4, 0.15)\t -1564\t 46\t -2962\t 496\t -986\t 274\t -2962\t 611\t 928\t 2896\t 915\t 470\t -614\t 680\t 352\t 352\t 1068\t \n"
     ]
    }
   ],
   "source": [
    "print('\\t'.join(measures_right_order))\n",
    "for column_name, column_results in results.items():\n",
    "    print('{}\\t'.format(column_name), end=\" \")\n",
    "    for measure_name in measures_right_order:\n",
    "        measure_results = column_results[measure_name]\n",
    "        print('{}\\t'.format(measure_results), end=\" \")\n",
    "    print()"
   ]
  },
  {
   "cell_type": "code",
   "execution_count": 8,
   "metadata": {},
   "outputs": [
    {
     "data": {
      "application/vnd.jupyter.widget-view+json": {
       "model_id": "a1074f1a5a7145a6aa90ea31869be895",
       "version_major": 2,
       "version_minor": 0
      },
      "text/plain": [
       "HBox(children=(IntProgress(value=0, max=8), HTML(value='')))"
      ]
     },
     "metadata": {},
     "output_type": "display_data"
    },
    {
     "data": {
      "application/vnd.jupyter.widget-view+json": {
       "model_id": "1b475b6513b046ddb7ad7b6d512dafee",
       "version_major": 2,
       "version_minor": 0
      },
      "text/plain": [
       "HBox(children=(IntProgress(value=0, description='(100, 2, 0.1)', max=600, style=ProgressStyle(description_widt…"
      ]
     },
     "metadata": {},
     "output_type": "display_data"
    },
    {
     "data": {
      "application/vnd.jupyter.widget-view+json": {
       "model_id": "9df9177999d440e08d4aa4a9f1c9ceca",
       "version_major": 2,
       "version_minor": 0
      },
      "text/plain": [
       "HBox(children=(IntProgress(value=0, description='(100, 2, 0.15)', max=600, style=ProgressStyle(description_wid…"
      ]
     },
     "metadata": {},
     "output_type": "display_data"
    },
    {
     "data": {
      "application/vnd.jupyter.widget-view+json": {
       "model_id": "36267d25ae2549cd9963146b1ea6a1b8",
       "version_major": 2,
       "version_minor": 0
      },
      "text/plain": [
       "HBox(children=(IntProgress(value=0, description='(100, 4, 0.1)', max=600, style=ProgressStyle(description_widt…"
      ]
     },
     "metadata": {},
     "output_type": "display_data"
    },
    {
     "data": {
      "application/vnd.jupyter.widget-view+json": {
       "model_id": "787f75cd091c4a26b4b790d4f69f0533",
       "version_major": 2,
       "version_minor": 0
      },
      "text/plain": [
       "HBox(children=(IntProgress(value=0, description='(100, 4, 0.15)', max=600, style=ProgressStyle(description_wid…"
      ]
     },
     "metadata": {},
     "output_type": "display_data"
    },
    {
     "data": {
      "application/vnd.jupyter.widget-view+json": {
       "model_id": "f495fa4512744c5096b8be6849491d9a",
       "version_major": 2,
       "version_minor": 0
      },
      "text/plain": [
       "HBox(children=(IntProgress(value=0, description='(200, 2, 0.1)', max=600, style=ProgressStyle(description_widt…"
      ]
     },
     "metadata": {},
     "output_type": "display_data"
    },
    {
     "data": {
      "application/vnd.jupyter.widget-view+json": {
       "model_id": "364028872d1f44a18c5ecf649a3e2cce",
       "version_major": 2,
       "version_minor": 0
      },
      "text/plain": [
       "HBox(children=(IntProgress(value=0, description='(200, 2, 0.15)', max=600, style=ProgressStyle(description_wid…"
      ]
     },
     "metadata": {},
     "output_type": "display_data"
    },
    {
     "data": {
      "application/vnd.jupyter.widget-view+json": {
       "model_id": "5cba3e4c935040cc9ad8aaba0a02f1c9",
       "version_major": 2,
       "version_minor": 0
      },
      "text/plain": [
       "HBox(children=(IntProgress(value=0, description='(200, 4, 0.1)', max=600, style=ProgressStyle(description_widt…"
      ]
     },
     "metadata": {},
     "output_type": "display_data"
    },
    {
     "data": {
      "application/vnd.jupyter.widget-view+json": {
       "model_id": "32dc7b3fc60b469098d7d4bc7811a45f",
       "version_major": 2,
       "version_minor": 0
      },
      "text/plain": [
       "HBox(children=(IntProgress(value=0, description='(200, 4, 0.15)', max=600, style=ProgressStyle(description_wid…"
      ]
     },
     "metadata": {},
     "output_type": "display_data"
    }
   ],
   "source": [
    "results = defaultdict(lambda: defaultdict(lambda: 0))\n",
    "for column in tqdm(list(product([100, 200], [2, 4], [0.1, 0.15]))):\n",
    "    n_nodes, n_classes, p_out = column\n",
    "    graphs, info = StochasticBlockModel(n_nodes, n_classes, p_in=0.3, p_out=p_out).generate_graphs(600)\n",
    "    success = 0\n",
    "    for edges, nodes in tqdm(graphs, desc=str(column)):\n",
    "        try:\n",
    "            single_competition_best = {}\n",
    "            for kernel_class in ALL_kernels:\n",
    "                best_param = percentile_params[column][kernel_class.name]\n",
    "                kernel = kernel_class(edges)\n",
    "                param = kernel.scaler.scale(best_param)\n",
    "                K = kernel.get_K(param)\n",
    "                y_pred = KernelWardSklearn(n_classes).predict(K)\n",
    "                ari = adjusted_rand_score(nodes, y_pred)\n",
    "                single_competition_best[kernel_class.name] = ari\n",
    "            single_competition_score = copeland(single_competition_best.items())\n",
    "            for measure_name, delta in single_competition_score.items():\n",
    "                results[column][measure_name] += delta\n",
    "                results['sum'][measure_name] += delta\n",
    "            success += 1\n",
    "        except Exception or FloatingPointError as e:\n",
    "            print(e)\n",
    "        if success == 200:\n",
    "            break"
   ]
  },
  {
   "cell_type": "code",
   "execution_count": 9,
   "metadata": {
    "scrolled": true
   },
   "outputs": [
    {
     "name": "stdout",
     "output_type": "stream",
     "text": [
      "pWalk H\tWalk H\tFor H\tlogFor H\tComm H\tlogComm H\tHeat H\tlogHeat H\tSCT H\tSCCT H\tRSP K\tFE K\tSP-CT H\tNormalizedHeat R\tPersonalizedPageRank R\tModifiedPersonalizedPageRank R\tHeatPersonalizedPageRank R\n",
      "(100, 2, 0.1)\t -1911\t 240\t -2398\t 492\t -1381\t 297\t 402\t 949\t 466\t 1459\t 575\t 561\t -1590\t 458\t 281\t 281\t 819\t \n",
      "sum\t -10901\t 1816\t -23923\t 3944\t -9787\t -6280\t -10406\t 6939\t 5623\t 16726\t 6470\t 4865\t -7093\t 6367\t 4122\t 4122\t 7396\t \n",
      "(100, 2, 0.15)\t -1331\t 315\t -3033\t 511\t -1320\t -194\t -1878\t 930\t 574\t 2347\t 695\t 531\t -586\t 749\t 531\t 531\t 628\t \n",
      "(100, 4, 0.1)\t -1024\t 235\t -3128\t 594\t -788\t -326\t -2724\t 508\t 891\t 1984\t 1012\t 810\t -596\t 710\t 620\t 620\t 602\t \n",
      "(100, 4, 0.15)\t -183\t 284\t -3108\t 114\t -45\t -515\t -2568\t 521\t 648\t 1445\t 554\t 376\t 222\t 583\t 434\t 434\t 804\t \n",
      "(200, 2, 0.1)\t -1691\t 325\t -3029\t 335\t -529\t 400\t 850\t 850\t 307\t 925\t 303\t 451\t -1602\t 728\t 425\t 425\t 527\t \n",
      "(200, 2, 0.15)\t -1743\t 17\t -2914\t 422\t -2060\t -2700\t 643\t 1251\t 719\t 2843\t 900\t 468\t -1297\t 1055\t 513\t 513\t 1370\t \n",
      "(200, 4, 0.1)\t -1892\t 66\t -3167\t 624\t -2026\t -898\t -2377\t 1244\t 1064\t 2897\t 1315\t 714\t -1432\t 1204\t 676\t 676\t 1312\t \n",
      "(200, 4, 0.15)\t -1126\t 334\t -3146\t 852\t -1638\t -2344\t -2754\t 686\t 954\t 2826\t 1116\t 954\t -212\t 880\t 642\t 642\t 1334\t \n"
     ]
    }
   ],
   "source": [
    "print('\\t'.join(measures_right_order))\n",
    "for column_name, column_results in results.items():\n",
    "    print('{}\\t'.format(column_name), end=\" \")\n",
    "    for measure_name in measures_right_order:\n",
    "        measure_results = column_results[measure_name]\n",
    "        print('{}\\t'.format(measure_results), end=\" \")\n",
    "    print()"
   ]
  },
  {
   "cell_type": "code",
   "execution_count": null,
   "metadata": {},
   "outputs": [],
   "source": []
  }
 ],
 "metadata": {
  "kernelspec": {
   "display_name": "Python 3",
   "language": "python",
   "name": "python3"
  },
  "language_info": {
   "codemirror_mode": {
    "name": "ipython",
    "version": 3
   },
   "file_extension": ".py",
   "mimetype": "text/x-python",
   "name": "python",
   "nbconvert_exporter": "python",
   "pygments_lexer": "ipython3",
   "version": "3.6.7"
  }
 },
 "nbformat": 4,
 "nbformat_minor": 2
}
