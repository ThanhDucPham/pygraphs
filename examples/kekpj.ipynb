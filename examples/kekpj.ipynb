{
 "cells": [
  {
   "cell_type": "code",
   "execution_count": 64,
   "metadata": {
    "collapsed": true
   },
   "outputs": [],
   "source": [
    "import numpy as np\n",
    "import pandas as pd\n",
    "\n",
    "from graphs import datasets\n",
    "import matplotlib.pyplot as plt\n",
    "%matplotlib inline\n",
    "\n",
    "from ward import Ward"
   ]
  },
  {
   "cell_type": "code",
   "execution_count": 69,
   "metadata": {
    "collapsed": true
   },
   "outputs": [],
   "source": [
    "def RI(y_true, y_pred):\n",
    "    good, bad = 0, 0\n",
    "    for i in range(len(y_true)):\n",
    "        for j in range(len(y_true)):\n",
    "            if (y_true[i] == y_true[j]) == (y_pred[i] == y_pred[j]):\n",
    "                good += 1\n",
    "            else:\n",
    "                bad += 1\n",
    "    return good / (good + bad)"
   ]
  },
  {
   "cell_type": "code",
   "execution_count": 61,
   "metadata": {
    "collapsed": true
   },
   "outputs": [],
   "source": [
    "kekj = pd.read_csv('kekj.txt', '\\t', header=None).as_matrix()\n",
    "kekp = pd.read_csv('kekp.txt', '\\t', header=None).as_matrix()"
   ]
  },
  {
   "cell_type": "code",
   "execution_count": 70,
   "metadata": {},
   "outputs": [
    {
     "data": {
      "text/plain": [
       "0.6355555555555555"
      ]
     },
     "execution_count": 70,
     "metadata": {},
     "output_type": "execute_result"
    }
   ],
   "source": [
    "n_clusters=len(list(set(nodes)))\n",
    "y_pred = Ward().predict(kekj, n_clusters)\n",
    "RI(nodes, y_pred)"
   ]
  },
  {
   "cell_type": "code",
   "execution_count": 71,
   "metadata": {},
   "outputs": [
    {
     "data": {
      "text/plain": [
       "0.6355555555555555"
      ]
     },
     "execution_count": 71,
     "metadata": {},
     "output_type": "execute_result"
    }
   ],
   "source": [
    "n_clusters=len(list(set(nodes)))\n",
    "y_pred = Ward().predict(kekp, n_clusters)\n",
    "RI(nodes, y_pred)"
   ]
  },
  {
   "cell_type": "code",
   "execution_count": 27,
   "metadata": {},
   "outputs": [
    {
     "data": {
      "text/plain": [
       "2.2204460492503131e-15"
      ]
     },
     "execution_count": 27,
     "metadata": {},
     "output_type": "execute_result"
    }
   ],
   "source": [
    "diff = (kekj - kekp)\n",
    "np.abs(diff).max()"
   ]
  },
  {
   "cell_type": "code",
   "execution_count": 29,
   "metadata": {},
   "outputs": [
    {
     "data": {
      "text/plain": [
       "2.2009510565214214e-15"
      ]
     },
     "execution_count": 29,
     "metadata": {},
     "output_type": "execute_result"
    }
   ],
   "source": [
    "diff = (kekj - kekp) / (kekj + 0.00000000000000000000000000000000000001)\n",
    "np.abs(diff).max()"
   ]
  },
  {
   "cell_type": "code",
   "execution_count": 35,
   "metadata": {},
   "outputs": [],
   "source": [
    "def rq(D, nodes):\n",
    "    points = []\n",
    "    for i in range(D.shape[0]):\n",
    "        for j in range(i + 1, D.shape[1]):\n",
    "            points.append((D[i, j], nodes[i] == nodes[j]))\n",
    "    points = sorted(points, key=lambda x: x[0])\n",
    "    points = np.array(points)\n",
    "\n",
    "    top_step = 1 / np.sum(points[:, 1])\n",
    "    left_step = 1 / np.sum(points[:, 1] == 0)\n",
    "\n",
    "    steps = [np.zeros(2)]\n",
    "    for point in points:\n",
    "        steps.append(steps[-1] + ((0, top_step) if point[1] else (left_step, 0)))\n",
    "    return np.array(steps)"
   ]
  },
  {
   "cell_type": "code",
   "execution_count": 42,
   "metadata": {},
   "outputs": [
    {
     "data": {
      "text/plain": [
       "<matplotlib.text.Text at 0x148cf8427b8>"
      ]
     },
     "execution_count": 42,
     "metadata": {},
     "output_type": "execute_result"
    },
    {
     "data": {
      "image/png": "[encoded data removed]",
      "text/plain": [
       "<matplotlib.figure.Figure at 0x148cf67ae10>"
      ]
     },
     "metadata": {},
     "output_type": "display_data"
    }
   ],
   "source": [
    "graphs, info = datasets.polbooks\n",
    "edges, nodes = graphs[0]\n",
    "stepsj = rq(kekj, nodes)\n",
    "fig, ax = plt.subplots(1, figsize=(4, 4))\n",
    "plt.plot(stepsj[:, 0], stepsj[:, 1])\n",
    "plt.title('java')"
   ]
  },
  {
   "cell_type": "code",
   "execution_count": 43,
   "metadata": {},
   "outputs": [
    {
     "data": {
      "text/plain": [
       "<matplotlib.text.Text at 0x148d08a8a20>"
      ]
     },
     "execution_count": 43,
     "metadata": {},
     "output_type": "execute_result"
    },
    {
     "data": {
      "image/png": "[encoded data removed]",
      "text/plain": [
       "<matplotlib.figure.Figure at 0x148cf76efd0>"
      ]
     },
     "metadata": {},
     "output_type": "display_data"
    }
   ],
   "source": [
    "graphs, info = datasets.polbooks\n",
    "edges, nodes = graphs[0]\n",
    "stepsp = rq(kekp, nodes)\n",
    "fig, ax = plt.subplots(1, figsize=(4, 4))\n",
    "plt.plot(stepsp[:, 0], stepsp[:, 1])\n",
    "plt.title('python')"
   ]
  },
  {
   "cell_type": "code",
   "execution_count": 60,
   "metadata": {},
   "outputs": [
    {
     "data": {
      "text/plain": [
       "<matplotlib.legend.Legend at 0x148d2829e10>"
      ]
     },
     "execution_count": 60,
     "metadata": {},
     "output_type": "execute_result"
    },
    {
     "data": {
      "image/png": "[encoded data removed]",
      "text/plain": [
       "<matplotlib.figure.Figure at 0x148d2791390>"
      ]
     },
     "metadata": {},
     "output_type": "display_data"
    }
   ],
   "source": [
    "fig, ax = plt.subplots(1, figsize=(4, 4))\n",
    "plt.plot(stepsp[:, 0], stepsp[:, 1], label='python')\n",
    "plt.plot(stepsj[:, 0], stepsj[:, 1], '--', label='java')\n",
    "plt.title('both')\n",
    "plt.legend()"
   ]
  }
 ],
 "metadata": {
  "kernelspec": {
   "display_name": "Python 3",
   "language": "python",
   "name": "python3"
  },
  "language_info": {
   "codemirror_mode": {
    "name": "ipython",
    "version": 3
   },
   "file_extension": ".py",
   "mimetype": "text/x-python",
   "name": "python",
   "nbconvert_exporter": "python",
   "pygments_lexer": "ipython3",
   "version": "3.6.2"
  }
 },
 "nbformat": 4,
 "nbformat_minor": 2
}
