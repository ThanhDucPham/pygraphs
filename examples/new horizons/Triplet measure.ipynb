{
 "cells": [
  {
   "cell_type": "code",
   "execution_count": 1,
   "metadata": {},
   "outputs": [],
   "source": [
    "import os\n",
    "os.environ[\"OPENBLAS_NUM_THREADS\"] = \"1\"\n",
    "import warnings\n",
    "warnings.filterwarnings(\"ignore\")\n",
    "import sys\n",
    "sys.path.append('../..')"
   ]
  },
  {
   "cell_type": "code",
   "execution_count": 2,
   "metadata": {},
   "outputs": [
    {
     "name": "stderr",
     "output_type": "stream",
     "text": [
      "/usr/local/lib/python3.7/site-packages/sklearn/utils/__init__.py:4: DeprecationWarning: Using or importing the ABCs from 'collections' instead of from 'collections.abc' is deprecated, and in 3.8 it will stop working\n",
      "  from collections import Sequence\n"
     ]
    }
   ],
   "source": [
    "import numpy as np\n",
    "import matplotlib.pyplot as plt\n",
    "%matplotlib inline\n",
    "from tqdm import tqdm_notebook as tqdm\n",
    "from collections import defaultdict\n",
    "from sklearn.metrics import adjusted_rand_score\n",
    "from scipy.stats import rankdata\n",
    "import itertools"
   ]
  },
  {
   "cell_type": "code",
   "execution_count": 3,
   "metadata": {},
   "outputs": [],
   "source": [
    "from pygraphs.cluster import KernelKMeans, Ward, KernelKMeansSklearn, KernelWardSklearn\n",
    "from pygraphs.graphs.generator import StochasticBlockModel, RubanovModel\n",
    "from pygraphs.measure import *\n",
    "from pygraphs.measure.kernel import Kernel\n",
    "from pygraphs.measure import H_kernels_plus_RSP_FE_SP_CT, scaler\n",
    "from pygraphs.scenario import plot_results, d3_right_order, measures_right_order, ParallelByGraphs\n",
    "from pygraphs.scorer import rand_index"
   ]
  },
  {
   "cell_type": "code",
   "execution_count": 6,
   "metadata": {},
   "outputs": [],
   "source": [
    "all_measures = H_kernels_plus_RSP_FE + [SP_K, CT_H]\n",
    "all_distances = [\n",
    "    pWalk,\n",
    "    Walk,\n",
    "    For,\n",
    "    logFor,\n",
    "    Comm,\n",
    "    logComm,\n",
    "    Heat,\n",
    "    logHeat,\n",
    "    SCT,\n",
    "    SCCT,\n",
    "    RSP,\n",
    "    FE,\n",
    "    SPCT,\n",
    "    SP,\n",
    "    CT\n",
    "]\n",
    "optimal_params = { # (100, 2, 0.3, 0.1)\n",
    "    \"CT H\": 0.00,\n",
    "    \"SP K\": 0.00,\n",
    "    \"Comm H\": 0.36,\n",
    "    \"logComm H\": 0.54,\n",
    "    \"Heat H\": 0.74,\n",
    "    \"Walk H\": 0.76,\n",
    "    \"logHeat H\": 0.46,\n",
    "    \"SCT H\": 0.50,\n",
    "    \"logFor H\": 0.40,\n",
    "    \"RSP K\": 0.98,\n",
    "    \"For H\": 0.98,\n",
    "    \"FE K\": 0.92,\n",
    "    \"SCCT H\": 0.74,\n",
    "    \"pWalk H\": 0.80,\n",
    "    \"SP-CT H\": 0.04\n",
    "}"
   ]
  },
  {
   "cell_type": "markdown",
   "metadata": {},
   "source": [
    "# Triplet measure vs in-out AUC vs k-means ARI\n",
    "\n",
    "Эксперимент с ранговыми корреляциями триплетного скора (берем все тройки, где 2 из 3 семплов относятся к одному классу, проверяем условие d(s1, s2) < d(s1, s3), мера – доля правильных ответов) vs in-out AUC vs k-means ARI."
   ]
  },
  {
   "cell_type": "code",
   "execution_count": null,
   "metadata": {},
   "outputs": [],
   "source": [
    "graphs, _ = StochasticBlockModel(100, 2, p_in=0.3, p_out=0.1).generate_graphs(100)"
   ]
  },
  {
   "cell_type": "markdown",
   "metadata": {},
   "source": [
    "Сначала насчитаем все кернелы по заранее определенным оптимальным параметрам"
   ]
  },
  {
   "cell_type": "code",
   "execution_count": 5,
   "metadata": {},
   "outputs": [
    {
     "ename": "NameError",
     "evalue": "name 'all_measures' is not defined",
     "traceback": [
      "\u001b[0;31m---------------------------------------------------------------------------\u001b[0m",
      "\u001b[0;31mNameError\u001b[0m                                 Traceback (most recent call last)",
      "\u001b[0;32m<ipython-input-5-38aabe5e2cd4>\u001b[0m in \u001b[0;36m<module>\u001b[0;34m\u001b[0m\n\u001b[0;32m----> 1\u001b[0;31m \u001b[0;32mfor\u001b[0m \u001b[0mmeasure\u001b[0m \u001b[0;32min\u001b[0m \u001b[0mall_measures\u001b[0m\u001b[0;34m:\u001b[0m\u001b[0;34m\u001b[0m\u001b[0;34m\u001b[0m\u001b[0m\n\u001b[0m\u001b[1;32m      2\u001b[0m     \u001b[0;32mfor\u001b[0m \u001b[0mgraph\u001b[0m \u001b[0;32min\u001b[0m \u001b[0mgraphs\u001b[0m\u001b[0;34m:\u001b[0m\u001b[0;34m\u001b[0m\u001b[0;34m\u001b[0m\u001b[0m\n\u001b[1;32m      3\u001b[0m         \u001b[0mmeasure\u001b[0m\u001b[0;34m\u001b[0m\u001b[0;34m\u001b[0m\u001b[0m\n\u001b[1;32m      4\u001b[0m         \u001b[0;32mbreak\u001b[0m\u001b[0;34m\u001b[0m\u001b[0;34m\u001b[0m\u001b[0m\n\u001b[1;32m      5\u001b[0m     \u001b[0;32mbreak\u001b[0m\u001b[0;34m\u001b[0m\u001b[0;34m\u001b[0m\u001b[0m\n",
      "\u001b[0;31mNameError\u001b[0m: name 'all_measures' is not defined"
     ],
     "output_type": "error"
    }
   ],
   "source": [
    "for measure in all_measures:\n",
    "    for graph in graphs:\n",
    "        measure\n",
    "        break\n",
    "    break"
   ]
  },
  {
   "cell_type": "code",
   "execution_count": null,
   "metadata": {},
   "outputs": [],
   "source": []
  }
 ],
 "metadata": {
  "kernelspec": {
   "display_name": "Python 3",
   "language": "python",
   "name": "python3"
  },
  "language_info": {
   "codemirror_mode": {
    "name": "ipython",
    "version": 3
   },
   "file_extension": ".py",
   "mimetype": "text/x-python",
   "name": "python",
   "nbconvert_exporter": "python",
   "pygments_lexer": "ipython3",
   "version": "3.7.2"
  }
 },
 "nbformat": 4,
 "nbformat_minor": 2
}
