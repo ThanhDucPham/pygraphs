{
 "cells": [
  {
   "cell_type": "code",
   "execution_count": 1,
   "metadata": {},
   "outputs": [],
   "source": [
    "import os\n",
    "os.environ[\"OPENBLAS_NUM_THREADS\"] = \"1\"\n",
    "import warnings\n",
    "warnings.filterwarnings(\"ignore\")\n",
    "import sys\n",
    "sys.path.append('../..')"
   ]
  },
  {
   "cell_type": "code",
   "execution_count": 2,
   "metadata": {},
   "outputs": [],
   "source": [
    "import numpy as np\n",
    "import matplotlib.pyplot as plt\n",
    "%matplotlib inline\n",
    "from tqdm import tqdm_notebook as tqdm\n",
    "from collections import defaultdict\n",
    "from sklearn.metrics import adjusted_rand_score\n",
    "from scipy.stats import rankdata\n",
    "import itertools"
   ]
  },
  {
   "cell_type": "code",
   "execution_count": 3,
   "metadata": {},
   "outputs": [],
   "source": [
    "from pygraphs.cluster import KernelKMeans, Ward, KernelKMeansSklearn, KernelWardSklearn\n",
    "from pygraphs.graphs.generator import StochasticBlockModel, RubanovModel\n",
    "from pygraphs.measure import *\n",
    "from pygraphs.measure.kernel import Kernel\n",
    "from pygraphs.measure import H_kernels_plus_RSP_FE_SP_CT, scaler\n",
    "from pygraphs.scenario import plot_results, d3_right_order, measures_right_order, ParallelByGraphs\n",
    "from pygraphs.scorer import rand_index"
   ]
  },
  {
   "cell_type": "code",
   "execution_count": 4,
   "metadata": {
    "scrolled": true
   },
   "outputs": [
    {
     "data": {
      "application/vnd.jupyter.widget-view+json": {
       "model_id": "27fbbde993f849ee8c59141a27a467b1",
       "version_major": 2,
       "version_minor": 0
      },
      "text/plain": [
       "HBox(children=(IntProgress(value=0, description='logComm H'), HTML(value='')))"
      ]
     },
     "metadata": {},
     "output_type": "display_data"
    },
    {
     "name": "stderr",
     "output_type": "stream",
     "text": [
      "ERROR:root:logComm H, 0.00, graph 0: Input contains NaN, infinity or a value too large for dtype('float64').\n",
      "ERROR:root:logComm H, 37.00, graph 0: 'NoneType' object has no attribute 'log'\n",
      "ERROR:root:logComm H, 74.50, graph 0: 'NoneType' object has no attribute 'log'\n",
      "ERROR:root:logComm H, inf, graph 0: 'NoneType' object has no attribute 'log'\n",
      "ERROR:root:logComm H, 0.00, graph 1: Input contains NaN, infinity or a value too large for dtype('float64').\n",
      "ERROR:root:logComm H, 37.00, graph 1: 'NoneType' object has no attribute 'log'\n",
      "ERROR:root:logComm H, 74.50, graph 1: 'NoneType' object has no attribute 'log'\n",
      "ERROR:root:logComm H, inf, graph 1: 'NoneType' object has no attribute 'log'\n",
      "ERROR:root:logComm H, 0.00, graph 2: Input contains NaN, infinity or a value too large for dtype('float64').\n",
      "ERROR:root:logComm H, 37.00, graph 2: 'NoneType' object has no attribute 'log'\n",
      "ERROR:root:logComm H, 74.50, graph 2: 'NoneType' object has no attribute 'log'\n",
      "ERROR:root:logComm H, inf, graph 2: 'NoneType' object has no attribute 'log'\n",
      "ERROR:root:logComm H, 0.00, graph 3: Input contains NaN, infinity or a value too large for dtype('float64').\n",
      "ERROR:root:logComm H, 37.00, graph 3: 'NoneType' object has no attribute 'log'\n",
      "ERROR:root:logComm H, 74.50, graph 3: 'NoneType' object has no attribute 'log'\n",
      "ERROR:root:logComm H, inf, graph 3: 'NoneType' object has no attribute 'log'\n",
      "ERROR:root:logComm H, 0.00, graph 4: Input contains NaN, infinity or a value too large for dtype('float64').\n",
      "ERROR:root:logComm H, 37.00, graph 4: 'NoneType' object has no attribute 'log'\n",
      "ERROR:root:logComm H, 74.50, graph 4: 'NoneType' object has no attribute 'log'\n",
      "ERROR:root:logComm H, inf, graph 4: 'NoneType' object has no attribute 'log'\n",
      "ERROR:root:logComm H, 0.00, graph 5: Input contains NaN, infinity or a value too large for dtype('float64').\n",
      "ERROR:root:logComm H, 37.00, graph 5: 'NoneType' object has no attribute 'log'\n",
      "ERROR:root:logComm H, 74.50, graph 5: 'NoneType' object has no attribute 'log'\n",
      "ERROR:root:logComm H, inf, graph 5: 'NoneType' object has no attribute 'log'\n",
      "ERROR:root:logComm H, 0.00, graph 6: Input contains NaN, infinity or a value too large for dtype('float64').\n",
      "ERROR:root:logComm H, 37.00, graph 6: 'NoneType' object has no attribute 'log'\n",
      "ERROR:root:logComm H, 74.50, graph 6: 'NoneType' object has no attribute 'log'\n",
      "ERROR:root:logComm H, inf, graph 6: 'NoneType' object has no attribute 'log'\n",
      "ERROR:root:logComm H, 0.00, graph 7: Input contains NaN, infinity or a value too large for dtype('float64').\n",
      "ERROR:root:logComm H, 37.00, graph 7: 'NoneType' object has no attribute 'log'\n",
      "ERROR:root:logComm H, 74.50, graph 7: 'NoneType' object has no attribute 'log'\n",
      "ERROR:root:logComm H, inf, graph 7: 'NoneType' object has no attribute 'log'\n",
      "ERROR:root:logComm H, 0.00, graph 8: Input contains NaN, infinity or a value too large for dtype('float64').\n",
      "ERROR:root:logComm H, 37.00, graph 8: 'NoneType' object has no attribute 'log'\n",
      "ERROR:root:logComm H, 74.50, graph 8: 'NoneType' object has no attribute 'log'\n",
      "ERROR:root:logComm H, inf, graph 8: 'NoneType' object has no attribute 'log'\n",
      "ERROR:root:logComm H, 0.00, graph 9: Input contains NaN, infinity or a value too large for dtype('float64').\n",
      "ERROR:root:logComm H, 37.00, graph 9: 'NoneType' object has no attribute 'log'\n",
      "ERROR:root:logComm H, 74.50, graph 9: 'NoneType' object has no attribute 'log'\n",
      "ERROR:root:logComm H, inf, graph 9: 'NoneType' object has no attribute 'log'\n",
      "ERROR:root:logComm H, 0.00, graph 10: Input contains NaN, infinity or a value too large for dtype('float64').\n",
      "ERROR:root:logComm H, 37.00, graph 10: 'NoneType' object has no attribute 'log'\n",
      "ERROR:root:logComm H, 74.50, graph 10: 'NoneType' object has no attribute 'log'\n",
      "ERROR:root:logComm H, inf, graph 10: 'NoneType' object has no attribute 'log'\n",
      "ERROR:root:logComm H, 0.00, graph 11: Input contains NaN, infinity or a value too large for dtype('float64').\n",
      "ERROR:root:logComm H, 37.00, graph 11: 'NoneType' object has no attribute 'log'\n",
      "ERROR:root:logComm H, 74.50, graph 11: 'NoneType' object has no attribute 'log'\n",
      "ERROR:root:logComm H, inf, graph 11: 'NoneType' object has no attribute 'log'\n",
      "ERROR:root:logComm H, 0.00, graph 12: Input contains NaN, infinity or a value too large for dtype('float64').\n",
      "ERROR:root:logComm H, 37.00, graph 12: 'NoneType' object has no attribute 'log'\n",
      "ERROR:root:logComm H, 74.50, graph 12: 'NoneType' object has no attribute 'log'\n",
      "ERROR:root:logComm H, inf, graph 12: 'NoneType' object has no attribute 'log'\n",
      "ERROR:root:logComm H, 0.00, graph 13: Input contains NaN, infinity or a value too large for dtype('float64').\n",
      "ERROR:root:logComm H, 37.00, graph 13: 'NoneType' object has no attribute 'log'\n",
      "ERROR:root:logComm H, 74.50, graph 13: 'NoneType' object has no attribute 'log'\n",
      "ERROR:root:logComm H, inf, graph 13: 'NoneType' object has no attribute 'log'\n",
      "ERROR:root:logComm H, 0.00, graph 14: Input contains NaN, infinity or a value too large for dtype('float64').\n",
      "ERROR:root:logComm H, 37.00, graph 14: 'NoneType' object has no attribute 'log'\n",
      "ERROR:root:logComm H, 74.50, graph 14: 'NoneType' object has no attribute 'log'\n",
      "ERROR:root:logComm H, inf, graph 14: 'NoneType' object has no attribute 'log'\n",
      "ERROR:root:logComm H, 0.00, graph 15: Input contains NaN, infinity or a value too large for dtype('float64').\n",
      "ERROR:root:logComm H, 37.00, graph 15: 'NoneType' object has no attribute 'log'\n",
      "ERROR:root:logComm H, 74.50, graph 15: 'NoneType' object has no attribute 'log'\n",
      "ERROR:root:logComm H, inf, graph 15: 'NoneType' object has no attribute 'log'\n",
      "ERROR:root:logComm H, 0.00, graph 16: Input contains NaN, infinity or a value too large for dtype('float64').\n",
      "ERROR:root:logComm H, 37.00, graph 16: 'NoneType' object has no attribute 'log'\n",
      "ERROR:root:logComm H, 74.50, graph 16: 'NoneType' object has no attribute 'log'\n",
      "ERROR:root:logComm H, inf, graph 16: 'NoneType' object has no attribute 'log'\n",
      "ERROR:root:logComm H, 0.00, graph 17: Input contains NaN, infinity or a value too large for dtype('float64').\n",
      "ERROR:root:logComm H, 37.00, graph 17: 'NoneType' object has no attribute 'log'\n",
      "ERROR:root:logComm H, 74.50, graph 17: 'NoneType' object has no attribute 'log'\n",
      "ERROR:root:logComm H, inf, graph 17: 'NoneType' object has no attribute 'log'\n",
      "ERROR:root:logComm H, 0.00, graph 18: Input contains NaN, infinity or a value too large for dtype('float64').\n",
      "ERROR:root:logComm H, 37.00, graph 18: 'NoneType' object has no attribute 'log'\n",
      "ERROR:root:logComm H, 74.50, graph 18: 'NoneType' object has no attribute 'log'\n",
      "ERROR:root:logComm H, inf, graph 18: 'NoneType' object has no attribute 'log'\n",
      "ERROR:root:logComm H, 0.00, graph 19: Input contains NaN, infinity or a value too large for dtype('float64').\n",
      "ERROR:root:logComm H, 37.00, graph 19: 'NoneType' object has no attribute 'log'\n",
      "ERROR:root:logComm H, 74.50, graph 19: 'NoneType' object has no attribute 'log'\n",
      "ERROR:root:logComm H, inf, graph 19: 'NoneType' object has no attribute 'log'\n",
      "ERROR:root:logComm H, 0.00, graph 20: Input contains NaN, infinity or a value too large for dtype('float64').\n",
      "ERROR:root:logComm H, 37.00, graph 20: 'NoneType' object has no attribute 'log'\n",
      "ERROR:root:logComm H, 74.50, graph 20: 'NoneType' object has no attribute 'log'\n",
      "ERROR:root:logComm H, inf, graph 20: 'NoneType' object has no attribute 'log'\n",
      "ERROR:root:logComm H, 0.00, graph 21: Input contains NaN, infinity or a value too large for dtype('float64').\n",
      "ERROR:root:logComm H, 37.00, graph 21: 'NoneType' object has no attribute 'log'\n",
      "ERROR:root:logComm H, 74.50, graph 21: 'NoneType' object has no attribute 'log'\n",
      "ERROR:root:logComm H, inf, graph 21: 'NoneType' object has no attribute 'log'\n",
      "ERROR:root:logComm H, 0.00, graph 22: Input contains NaN, infinity or a value too large for dtype('float64').\n",
      "ERROR:root:logComm H, 37.00, graph 22: 'NoneType' object has no attribute 'log'\n",
      "ERROR:root:logComm H, 74.50, graph 22: 'NoneType' object has no attribute 'log'\n",
      "ERROR:root:logComm H, inf, graph 22: 'NoneType' object has no attribute 'log'\n",
      "ERROR:root:logComm H, 0.00, graph 23: Input contains NaN, infinity or a value too large for dtype('float64').\n",
      "ERROR:root:logComm H, 37.00, graph 23: 'NoneType' object has no attribute 'log'\n",
      "ERROR:root:logComm H, 74.50, graph 23: 'NoneType' object has no attribute 'log'\n"
     ]
    },
    {
     "name": "stderr",
     "output_type": "stream",
     "text": [
      "ERROR:root:logComm H, inf, graph 23: 'NoneType' object has no attribute 'log'\n",
      "ERROR:root:logComm H, 0.00, graph 24: Input contains NaN, infinity or a value too large for dtype('float64').\n",
      "ERROR:root:logComm H, 37.00, graph 24: 'NoneType' object has no attribute 'log'\n",
      "ERROR:root:logComm H, 74.50, graph 24: 'NoneType' object has no attribute 'log'\n",
      "ERROR:root:logComm H, inf, graph 24: 'NoneType' object has no attribute 'log'\n",
      "ERROR:root:logComm H, 0.00, graph 25: Input contains NaN, infinity or a value too large for dtype('float64').\n",
      "ERROR:root:logComm H, 37.00, graph 25: 'NoneType' object has no attribute 'log'\n",
      "ERROR:root:logComm H, 74.50, graph 25: 'NoneType' object has no attribute 'log'\n",
      "ERROR:root:logComm H, inf, graph 25: 'NoneType' object has no attribute 'log'\n",
      "ERROR:root:logComm H, 0.00, graph 26: Input contains NaN, infinity or a value too large for dtype('float64').\n",
      "ERROR:root:logComm H, 37.00, graph 26: 'NoneType' object has no attribute 'log'\n",
      "ERROR:root:logComm H, 74.50, graph 26: 'NoneType' object has no attribute 'log'\n",
      "ERROR:root:logComm H, inf, graph 26: 'NoneType' object has no attribute 'log'\n",
      "ERROR:root:logComm H, 0.00, graph 27: Input contains NaN, infinity or a value too large for dtype('float64').\n",
      "ERROR:root:logComm H, 37.00, graph 27: 'NoneType' object has no attribute 'log'\n",
      "ERROR:root:logComm H, 74.50, graph 27: 'NoneType' object has no attribute 'log'\n",
      "ERROR:root:logComm H, inf, graph 27: 'NoneType' object has no attribute 'log'\n",
      "ERROR:root:logComm H, 0.00, graph 28: Input contains NaN, infinity or a value too large for dtype('float64').\n",
      "ERROR:root:logComm H, 37.00, graph 28: 'NoneType' object has no attribute 'log'\n",
      "ERROR:root:logComm H, 74.50, graph 28: 'NoneType' object has no attribute 'log'\n",
      "ERROR:root:logComm H, inf, graph 28: 'NoneType' object has no attribute 'log'\n",
      "ERROR:root:logComm H, 0.00, graph 29: Input contains NaN, infinity or a value too large for dtype('float64').\n",
      "ERROR:root:logComm H, 37.00, graph 29: 'NoneType' object has no attribute 'log'\n",
      "ERROR:root:logComm H, 74.50, graph 29: 'NoneType' object has no attribute 'log'\n",
      "ERROR:root:logComm H, inf, graph 29: 'NoneType' object has no attribute 'log'\n",
      "ERROR:root:logComm H, 0.00, graph 30: Input contains NaN, infinity or a value too large for dtype('float64').\n",
      "ERROR:root:logComm H, 37.00, graph 30: 'NoneType' object has no attribute 'log'\n",
      "ERROR:root:logComm H, 74.50, graph 30: 'NoneType' object has no attribute 'log'\n",
      "ERROR:root:logComm H, inf, graph 30: 'NoneType' object has no attribute 'log'\n",
      "ERROR:root:logComm H, 0.00, graph 31: Input contains NaN, infinity or a value too large for dtype('float64').\n",
      "ERROR:root:logComm H, 37.00, graph 31: 'NoneType' object has no attribute 'log'\n",
      "ERROR:root:logComm H, 74.50, graph 31: 'NoneType' object has no attribute 'log'\n",
      "ERROR:root:logComm H, inf, graph 31: 'NoneType' object has no attribute 'log'\n",
      "ERROR:root:logComm H, 0.00, graph 32: Input contains NaN, infinity or a value too large for dtype('float64').\n",
      "ERROR:root:logComm H, 37.00, graph 32: 'NoneType' object has no attribute 'log'\n",
      "ERROR:root:logComm H, 74.50, graph 32: 'NoneType' object has no attribute 'log'\n",
      "ERROR:root:logComm H, inf, graph 32: 'NoneType' object has no attribute 'log'\n",
      "ERROR:root:logComm H, 0.00, graph 33: Input contains NaN, infinity or a value too large for dtype('float64').\n",
      "ERROR:root:logComm H, 37.00, graph 33: 'NoneType' object has no attribute 'log'\n",
      "ERROR:root:logComm H, 74.50, graph 33: 'NoneType' object has no attribute 'log'\n",
      "ERROR:root:logComm H, inf, graph 33: 'NoneType' object has no attribute 'log'\n",
      "ERROR:root:logComm H, 0.00, graph 34: Input contains NaN, infinity or a value too large for dtype('float64').\n",
      "ERROR:root:logComm H, 37.00, graph 34: 'NoneType' object has no attribute 'log'\n",
      "ERROR:root:logComm H, 74.50, graph 34: 'NoneType' object has no attribute 'log'\n",
      "ERROR:root:logComm H, inf, graph 34: 'NoneType' object has no attribute 'log'\n",
      "ERROR:root:logComm H, 0.00, graph 35: Input contains NaN, infinity or a value too large for dtype('float64').\n",
      "ERROR:root:logComm H, 37.00, graph 35: 'NoneType' object has no attribute 'log'\n",
      "ERROR:root:logComm H, 74.50, graph 35: 'NoneType' object has no attribute 'log'\n",
      "ERROR:root:logComm H, inf, graph 35: 'NoneType' object has no attribute 'log'\n",
      "ERROR:root:logComm H, 0.00, graph 36: Input contains NaN, infinity or a value too large for dtype('float64').\n",
      "ERROR:root:logComm H, 37.00, graph 36: 'NoneType' object has no attribute 'log'\n",
      "ERROR:root:logComm H, 74.50, graph 36: 'NoneType' object has no attribute 'log'\n",
      "ERROR:root:logComm H, inf, graph 36: 'NoneType' object has no attribute 'log'\n",
      "ERROR:root:logComm H, 0.00, graph 37: Input contains NaN, infinity or a value too large for dtype('float64').\n",
      "ERROR:root:logComm H, 37.00, graph 37: 'NoneType' object has no attribute 'log'\n",
      "ERROR:root:logComm H, 74.50, graph 37: 'NoneType' object has no attribute 'log'\n",
      "ERROR:root:logComm H, inf, graph 37: 'NoneType' object has no attribute 'log'\n",
      "ERROR:root:logComm H, 0.00, graph 38: Input contains NaN, infinity or a value too large for dtype('float64').\n",
      "ERROR:root:logComm H, 37.00, graph 38: 'NoneType' object has no attribute 'log'\n",
      "ERROR:root:logComm H, 74.50, graph 38: 'NoneType' object has no attribute 'log'\n",
      "ERROR:root:logComm H, inf, graph 38: 'NoneType' object has no attribute 'log'\n",
      "ERROR:root:logComm H, 0.00, graph 39: Input contains NaN, infinity or a value too large for dtype('float64').\n",
      "ERROR:root:logComm H, 37.00, graph 39: 'NoneType' object has no attribute 'log'\n",
      "ERROR:root:logComm H, 74.50, graph 39: 'NoneType' object has no attribute 'log'\n",
      "ERROR:root:logComm H, inf, graph 39: 'NoneType' object has no attribute 'log'\n",
      "ERROR:root:logComm H, 0.00, graph 40: Input contains NaN, infinity or a value too large for dtype('float64').\n",
      "ERROR:root:logComm H, 37.00, graph 40: 'NoneType' object has no attribute 'log'\n",
      "ERROR:root:logComm H, 74.50, graph 40: 'NoneType' object has no attribute 'log'\n",
      "ERROR:root:logComm H, inf, graph 40: 'NoneType' object has no attribute 'log'\n",
      "ERROR:root:logComm H, 0.00, graph 41: Input contains NaN, infinity or a value too large for dtype('float64').\n",
      "ERROR:root:logComm H, 37.00, graph 41: 'NoneType' object has no attribute 'log'\n",
      "ERROR:root:logComm H, 74.50, graph 41: 'NoneType' object has no attribute 'log'\n",
      "ERROR:root:logComm H, inf, graph 41: 'NoneType' object has no attribute 'log'\n",
      "ERROR:root:logComm H, 0.00, graph 42: Input contains NaN, infinity or a value too large for dtype('float64').\n",
      "ERROR:root:logComm H, 37.00, graph 42: 'NoneType' object has no attribute 'log'\n",
      "ERROR:root:logComm H, 74.50, graph 42: 'NoneType' object has no attribute 'log'\n",
      "ERROR:root:logComm H, inf, graph 42: 'NoneType' object has no attribute 'log'\n",
      "ERROR:root:logComm H, 0.00, graph 43: Input contains NaN, infinity or a value too large for dtype('float64').\n",
      "ERROR:root:logComm H, 37.00, graph 43: 'NoneType' object has no attribute 'log'\n",
      "ERROR:root:logComm H, 74.50, graph 43: 'NoneType' object has no attribute 'log'\n",
      "ERROR:root:logComm H, inf, graph 43: 'NoneType' object has no attribute 'log'\n",
      "ERROR:root:logComm H, 0.00, graph 44: Input contains NaN, infinity or a value too large for dtype('float64').\n",
      "ERROR:root:logComm H, 37.00, graph 44: 'NoneType' object has no attribute 'log'\n",
      "ERROR:root:logComm H, 74.50, graph 44: 'NoneType' object has no attribute 'log'\n",
      "ERROR:root:logComm H, inf, graph 44: 'NoneType' object has no attribute 'log'\n",
      "ERROR:root:logComm H, 0.00, graph 45: Input contains NaN, infinity or a value too large for dtype('float64').\n",
      "ERROR:root:logComm H, 37.00, graph 45: 'NoneType' object has no attribute 'log'\n",
      "ERROR:root:logComm H, 74.50, graph 45: 'NoneType' object has no attribute 'log'\n",
      "ERROR:root:logComm H, inf, graph 45: 'NoneType' object has no attribute 'log'\n",
      "ERROR:root:logComm H, 0.00, graph 46: Input contains NaN, infinity or a value too large for dtype('float64').\n",
      "ERROR:root:logComm H, 37.00, graph 46: 'NoneType' object has no attribute 'log'\n",
      "ERROR:root:logComm H, 74.50, graph 46: 'NoneType' object has no attribute 'log'\n",
      "ERROR:root:logComm H, inf, graph 46: 'NoneType' object has no attribute 'log'\n",
      "ERROR:root:logComm H, 0.00, graph 47: Input contains NaN, infinity or a value too large for dtype('float64').\n",
      "ERROR:root:logComm H, 37.00, graph 47: 'NoneType' object has no attribute 'log'\n"
     ]
    },
    {
     "name": "stderr",
     "output_type": "stream",
     "text": [
      "ERROR:root:logComm H, 74.50, graph 47: 'NoneType' object has no attribute 'log'\n",
      "ERROR:root:logComm H, inf, graph 47: 'NoneType' object has no attribute 'log'\n",
      "ERROR:root:logComm H, 0.00, graph 48: Input contains NaN, infinity or a value too large for dtype('float64').\n",
      "ERROR:root:logComm H, 37.00, graph 48: 'NoneType' object has no attribute 'log'\n",
      "ERROR:root:logComm H, 74.50, graph 48: 'NoneType' object has no attribute 'log'\n",
      "ERROR:root:logComm H, inf, graph 48: 'NoneType' object has no attribute 'log'\n",
      "ERROR:root:logComm H, 0.00, graph 49: Input contains NaN, infinity or a value too large for dtype('float64').\n",
      "ERROR:root:logComm H, 37.00, graph 49: 'NoneType' object has no attribute 'log'\n",
      "ERROR:root:logComm H, 74.50, graph 49: 'NoneType' object has no attribute 'log'\n",
      "ERROR:root:logComm H, inf, graph 49: 'NoneType' object has no attribute 'log'\n",
      "ERROR:root:logComm H, 0.00, graph 50: Input contains NaN, infinity or a value too large for dtype('float64').\n",
      "ERROR:root:logComm H, 37.00, graph 50: 'NoneType' object has no attribute 'log'\n",
      "ERROR:root:logComm H, 74.50, graph 50: 'NoneType' object has no attribute 'log'\n",
      "ERROR:root:logComm H, inf, graph 50: 'NoneType' object has no attribute 'log'\n",
      "ERROR:root:logComm H, 0.00, graph 51: Input contains NaN, infinity or a value too large for dtype('float64').\n",
      "ERROR:root:logComm H, 37.00, graph 51: 'NoneType' object has no attribute 'log'\n",
      "ERROR:root:logComm H, 74.50, graph 51: 'NoneType' object has no attribute 'log'\n",
      "ERROR:root:logComm H, inf, graph 51: 'NoneType' object has no attribute 'log'\n",
      "ERROR:root:logComm H, 0.00, graph 52: Input contains NaN, infinity or a value too large for dtype('float64').\n",
      "ERROR:root:logComm H, 37.00, graph 52: 'NoneType' object has no attribute 'log'\n",
      "ERROR:root:logComm H, 74.50, graph 52: 'NoneType' object has no attribute 'log'\n",
      "ERROR:root:logComm H, inf, graph 52: 'NoneType' object has no attribute 'log'\n",
      "ERROR:root:logComm H, 0.00, graph 53: Input contains NaN, infinity or a value too large for dtype('float64').\n",
      "ERROR:root:logComm H, 37.00, graph 53: 'NoneType' object has no attribute 'log'\n",
      "ERROR:root:logComm H, 74.50, graph 53: 'NoneType' object has no attribute 'log'\n",
      "ERROR:root:logComm H, inf, graph 53: 'NoneType' object has no attribute 'log'\n",
      "ERROR:root:logComm H, 0.00, graph 54: Input contains NaN, infinity or a value too large for dtype('float64').\n",
      "ERROR:root:logComm H, 37.00, graph 54: 'NoneType' object has no attribute 'log'\n",
      "ERROR:root:logComm H, 74.50, graph 54: 'NoneType' object has no attribute 'log'\n",
      "ERROR:root:logComm H, inf, graph 54: 'NoneType' object has no attribute 'log'\n",
      "ERROR:root:logComm H, 0.00, graph 55: Input contains NaN, infinity or a value too large for dtype('float64').\n",
      "ERROR:root:logComm H, 37.00, graph 55: 'NoneType' object has no attribute 'log'\n",
      "ERROR:root:logComm H, 74.50, graph 55: 'NoneType' object has no attribute 'log'\n",
      "ERROR:root:logComm H, inf, graph 55: 'NoneType' object has no attribute 'log'\n",
      "ERROR:root:logComm H, 0.00, graph 56: Input contains NaN, infinity or a value too large for dtype('float64').\n",
      "ERROR:root:logComm H, 37.00, graph 56: 'NoneType' object has no attribute 'log'\n",
      "ERROR:root:logComm H, 74.50, graph 56: 'NoneType' object has no attribute 'log'\n",
      "ERROR:root:logComm H, inf, graph 56: 'NoneType' object has no attribute 'log'\n",
      "ERROR:root:logComm H, 0.00, graph 57: Input contains NaN, infinity or a value too large for dtype('float64').\n",
      "ERROR:root:logComm H, 37.00, graph 57: 'NoneType' object has no attribute 'log'\n",
      "ERROR:root:logComm H, 74.50, graph 57: 'NoneType' object has no attribute 'log'\n",
      "ERROR:root:logComm H, inf, graph 57: 'NoneType' object has no attribute 'log'\n",
      "ERROR:root:logComm H, 0.00, graph 58: Input contains NaN, infinity or a value too large for dtype('float64').\n",
      "ERROR:root:logComm H, 37.00, graph 58: 'NoneType' object has no attribute 'log'\n",
      "ERROR:root:logComm H, 74.50, graph 58: 'NoneType' object has no attribute 'log'\n",
      "ERROR:root:logComm H, inf, graph 58: 'NoneType' object has no attribute 'log'\n",
      "ERROR:root:logComm H, 0.00, graph 59: Input contains NaN, infinity or a value too large for dtype('float64').\n",
      "ERROR:root:logComm H, 37.00, graph 59: 'NoneType' object has no attribute 'log'\n",
      "ERROR:root:logComm H, 74.50, graph 59: 'NoneType' object has no attribute 'log'\n",
      "ERROR:root:logComm H, inf, graph 59: 'NoneType' object has no attribute 'log'\n",
      "ERROR:root:logComm H, 0.00, graph 60: Input contains NaN, infinity or a value too large for dtype('float64').\n",
      "ERROR:root:logComm H, 37.00, graph 60: 'NoneType' object has no attribute 'log'\n",
      "ERROR:root:logComm H, 74.50, graph 60: 'NoneType' object has no attribute 'log'\n",
      "ERROR:root:logComm H, inf, graph 60: 'NoneType' object has no attribute 'log'\n",
      "ERROR:root:logComm H, 0.00, graph 61: Input contains NaN, infinity or a value too large for dtype('float64').\n",
      "ERROR:root:logComm H, 37.00, graph 61: 'NoneType' object has no attribute 'log'\n",
      "ERROR:root:logComm H, 74.50, graph 61: 'NoneType' object has no attribute 'log'\n",
      "ERROR:root:logComm H, inf, graph 61: 'NoneType' object has no attribute 'log'\n",
      "ERROR:root:logComm H, 0.00, graph 62: Input contains NaN, infinity or a value too large for dtype('float64').\n",
      "ERROR:root:logComm H, 37.00, graph 62: 'NoneType' object has no attribute 'log'\n",
      "ERROR:root:logComm H, 74.50, graph 62: 'NoneType' object has no attribute 'log'\n",
      "ERROR:root:logComm H, inf, graph 62: 'NoneType' object has no attribute 'log'\n",
      "ERROR:root:logComm H, 0.00, graph 63: Input contains NaN, infinity or a value too large for dtype('float64').\n",
      "ERROR:root:logComm H, 37.00, graph 63: 'NoneType' object has no attribute 'log'\n",
      "ERROR:root:logComm H, 74.50, graph 63: 'NoneType' object has no attribute 'log'\n",
      "ERROR:root:logComm H, inf, graph 63: 'NoneType' object has no attribute 'log'\n",
      "ERROR:root:logComm H, 0.00, graph 64: Input contains NaN, infinity or a value too large for dtype('float64').\n",
      "ERROR:root:logComm H, 37.00, graph 64: 'NoneType' object has no attribute 'log'\n",
      "ERROR:root:logComm H, 74.50, graph 64: 'NoneType' object has no attribute 'log'\n",
      "ERROR:root:logComm H, inf, graph 64: 'NoneType' object has no attribute 'log'\n",
      "ERROR:root:logComm H, 0.00, graph 65: Input contains NaN, infinity or a value too large for dtype('float64').\n",
      "ERROR:root:logComm H, 37.00, graph 65: 'NoneType' object has no attribute 'log'\n",
      "ERROR:root:logComm H, 74.50, graph 65: 'NoneType' object has no attribute 'log'\n",
      "ERROR:root:logComm H, inf, graph 65: 'NoneType' object has no attribute 'log'\n",
      "ERROR:root:logComm H, 0.00, graph 66: Input contains NaN, infinity or a value too large for dtype('float64').\n",
      "ERROR:root:logComm H, 37.00, graph 66: 'NoneType' object has no attribute 'log'\n",
      "ERROR:root:logComm H, 74.50, graph 66: 'NoneType' object has no attribute 'log'\n",
      "ERROR:root:logComm H, inf, graph 66: 'NoneType' object has no attribute 'log'\n",
      "ERROR:root:logComm H, 0.00, graph 67: Input contains NaN, infinity or a value too large for dtype('float64').\n",
      "ERROR:root:logComm H, 37.00, graph 67: 'NoneType' object has no attribute 'log'\n",
      "ERROR:root:logComm H, 74.50, graph 67: 'NoneType' object has no attribute 'log'\n",
      "ERROR:root:logComm H, inf, graph 67: 'NoneType' object has no attribute 'log'\n",
      "ERROR:root:logComm H, 0.00, graph 68: Input contains NaN, infinity or a value too large for dtype('float64').\n",
      "ERROR:root:logComm H, 37.00, graph 68: 'NoneType' object has no attribute 'log'\n",
      "ERROR:root:logComm H, 74.50, graph 68: 'NoneType' object has no attribute 'log'\n",
      "ERROR:root:logComm H, inf, graph 68: 'NoneType' object has no attribute 'log'\n",
      "ERROR:root:logComm H, 0.00, graph 69: Input contains NaN, infinity or a value too large for dtype('float64').\n",
      "ERROR:root:logComm H, 37.00, graph 69: 'NoneType' object has no attribute 'log'\n",
      "ERROR:root:logComm H, 74.50, graph 69: 'NoneType' object has no attribute 'log'\n",
      "ERROR:root:logComm H, inf, graph 69: 'NoneType' object has no attribute 'log'\n",
      "ERROR:root:logComm H, 0.00, graph 70: Input contains NaN, infinity or a value too large for dtype('float64').\n",
      "ERROR:root:logComm H, 37.00, graph 70: 'NoneType' object has no attribute 'log'\n",
      "ERROR:root:logComm H, 74.50, graph 70: 'NoneType' object has no attribute 'log'\n",
      "ERROR:root:logComm H, inf, graph 70: 'NoneType' object has no attribute 'log'\n",
      "ERROR:root:logComm H, 0.00, graph 71: Input contains NaN, infinity or a value too large for dtype('float64').\n"
     ]
    },
    {
     "name": "stderr",
     "output_type": "stream",
     "text": [
      "ERROR:root:logComm H, 37.00, graph 71: 'NoneType' object has no attribute 'log'\n",
      "ERROR:root:logComm H, 74.50, graph 71: 'NoneType' object has no attribute 'log'\n",
      "ERROR:root:logComm H, inf, graph 71: 'NoneType' object has no attribute 'log'\n",
      "ERROR:root:logComm H, 0.00, graph 72: Input contains NaN, infinity or a value too large for dtype('float64').\n",
      "ERROR:root:logComm H, 37.00, graph 72: 'NoneType' object has no attribute 'log'\n",
      "ERROR:root:logComm H, 74.50, graph 72: 'NoneType' object has no attribute 'log'\n",
      "ERROR:root:logComm H, inf, graph 72: 'NoneType' object has no attribute 'log'\n",
      "ERROR:root:logComm H, 0.00, graph 73: Input contains NaN, infinity or a value too large for dtype('float64').\n",
      "ERROR:root:logComm H, 37.00, graph 73: 'NoneType' object has no attribute 'log'\n",
      "ERROR:root:logComm H, 74.50, graph 73: 'NoneType' object has no attribute 'log'\n",
      "ERROR:root:logComm H, inf, graph 73: 'NoneType' object has no attribute 'log'\n",
      "ERROR:root:logComm H, 0.00, graph 74: Input contains NaN, infinity or a value too large for dtype('float64').\n",
      "ERROR:root:logComm H, 37.00, graph 74: 'NoneType' object has no attribute 'log'\n",
      "ERROR:root:logComm H, 74.50, graph 74: 'NoneType' object has no attribute 'log'\n",
      "ERROR:root:logComm H, inf, graph 74: 'NoneType' object has no attribute 'log'\n",
      "ERROR:root:logComm H, 0.00, graph 75: Input contains NaN, infinity or a value too large for dtype('float64').\n",
      "ERROR:root:logComm H, 37.00, graph 75: 'NoneType' object has no attribute 'log'\n",
      "ERROR:root:logComm H, 74.50, graph 75: 'NoneType' object has no attribute 'log'\n",
      "ERROR:root:logComm H, inf, graph 75: 'NoneType' object has no attribute 'log'\n",
      "ERROR:root:logComm H, 0.00, graph 76: Input contains NaN, infinity or a value too large for dtype('float64').\n",
      "ERROR:root:logComm H, 37.00, graph 76: 'NoneType' object has no attribute 'log'\n",
      "ERROR:root:logComm H, 74.50, graph 76: 'NoneType' object has no attribute 'log'\n",
      "ERROR:root:logComm H, inf, graph 76: 'NoneType' object has no attribute 'log'\n",
      "ERROR:root:logComm H, 0.00, graph 77: Input contains NaN, infinity or a value too large for dtype('float64').\n",
      "ERROR:root:logComm H, 37.00, graph 77: 'NoneType' object has no attribute 'log'\n",
      "ERROR:root:logComm H, 74.50, graph 77: 'NoneType' object has no attribute 'log'\n",
      "ERROR:root:logComm H, inf, graph 77: 'NoneType' object has no attribute 'log'\n",
      "ERROR:root:logComm H, 0.00, graph 78: Input contains NaN, infinity or a value too large for dtype('float64').\n",
      "ERROR:root:logComm H, 37.00, graph 78: 'NoneType' object has no attribute 'log'\n",
      "ERROR:root:logComm H, 74.50, graph 78: 'NoneType' object has no attribute 'log'\n",
      "ERROR:root:logComm H, inf, graph 78: 'NoneType' object has no attribute 'log'\n",
      "ERROR:root:logComm H, 0.00, graph 79: Input contains NaN, infinity or a value too large for dtype('float64').\n",
      "ERROR:root:logComm H, 37.00, graph 79: 'NoneType' object has no attribute 'log'\n",
      "ERROR:root:logComm H, 74.50, graph 79: 'NoneType' object has no attribute 'log'\n",
      "ERROR:root:logComm H, inf, graph 79: 'NoneType' object has no attribute 'log'\n",
      "ERROR:root:logComm H, 0.00, graph 80: Input contains NaN, infinity or a value too large for dtype('float64').\n",
      "ERROR:root:logComm H, 37.00, graph 80: 'NoneType' object has no attribute 'log'\n",
      "ERROR:root:logComm H, 74.50, graph 80: 'NoneType' object has no attribute 'log'\n",
      "ERROR:root:logComm H, inf, graph 80: 'NoneType' object has no attribute 'log'\n",
      "ERROR:root:logComm H, 0.00, graph 81: Input contains NaN, infinity or a value too large for dtype('float64').\n",
      "ERROR:root:logComm H, 37.00, graph 81: 'NoneType' object has no attribute 'log'\n",
      "ERROR:root:logComm H, 74.50, graph 81: 'NoneType' object has no attribute 'log'\n",
      "ERROR:root:logComm H, inf, graph 81: 'NoneType' object has no attribute 'log'\n",
      "ERROR:root:logComm H, 0.00, graph 82: Input contains NaN, infinity or a value too large for dtype('float64').\n",
      "ERROR:root:logComm H, 37.00, graph 82: 'NoneType' object has no attribute 'log'\n",
      "ERROR:root:logComm H, 74.50, graph 82: 'NoneType' object has no attribute 'log'\n",
      "ERROR:root:logComm H, inf, graph 82: 'NoneType' object has no attribute 'log'\n",
      "ERROR:root:logComm H, 0.00, graph 83: Input contains NaN, infinity or a value too large for dtype('float64').\n",
      "ERROR:root:logComm H, 37.00, graph 83: 'NoneType' object has no attribute 'log'\n",
      "ERROR:root:logComm H, 74.50, graph 83: 'NoneType' object has no attribute 'log'\n",
      "ERROR:root:logComm H, inf, graph 83: 'NoneType' object has no attribute 'log'\n",
      "ERROR:root:logComm H, 0.00, graph 84: Input contains NaN, infinity or a value too large for dtype('float64').\n",
      "ERROR:root:logComm H, 37.00, graph 84: 'NoneType' object has no attribute 'log'\n",
      "ERROR:root:logComm H, 74.50, graph 84: 'NoneType' object has no attribute 'log'\n",
      "ERROR:root:logComm H, inf, graph 84: 'NoneType' object has no attribute 'log'\n",
      "ERROR:root:logComm H, 0.00, graph 85: Input contains NaN, infinity or a value too large for dtype('float64').\n",
      "ERROR:root:logComm H, 37.00, graph 85: 'NoneType' object has no attribute 'log'\n",
      "ERROR:root:logComm H, 74.50, graph 85: 'NoneType' object has no attribute 'log'\n",
      "ERROR:root:logComm H, inf, graph 85: 'NoneType' object has no attribute 'log'\n",
      "ERROR:root:logComm H, 0.00, graph 86: Input contains NaN, infinity or a value too large for dtype('float64').\n",
      "ERROR:root:logComm H, 37.00, graph 86: 'NoneType' object has no attribute 'log'\n",
      "ERROR:root:logComm H, 74.50, graph 86: 'NoneType' object has no attribute 'log'\n",
      "ERROR:root:logComm H, inf, graph 86: 'NoneType' object has no attribute 'log'\n",
      "ERROR:root:logComm H, 0.00, graph 87: Input contains NaN, infinity or a value too large for dtype('float64').\n",
      "ERROR:root:logComm H, 37.00, graph 87: 'NoneType' object has no attribute 'log'\n",
      "ERROR:root:logComm H, 74.50, graph 87: 'NoneType' object has no attribute 'log'\n",
      "ERROR:root:logComm H, inf, graph 87: 'NoneType' object has no attribute 'log'\n",
      "ERROR:root:logComm H, 0.00, graph 88: Input contains NaN, infinity or a value too large for dtype('float64').\n",
      "ERROR:root:logComm H, 37.00, graph 88: 'NoneType' object has no attribute 'log'\n",
      "ERROR:root:logComm H, 74.50, graph 88: 'NoneType' object has no attribute 'log'\n",
      "ERROR:root:logComm H, inf, graph 88: 'NoneType' object has no attribute 'log'\n",
      "ERROR:root:logComm H, 0.00, graph 89: Input contains NaN, infinity or a value too large for dtype('float64').\n",
      "ERROR:root:logComm H, 37.00, graph 89: 'NoneType' object has no attribute 'log'\n",
      "ERROR:root:logComm H, 74.50, graph 89: 'NoneType' object has no attribute 'log'\n",
      "ERROR:root:logComm H, inf, graph 89: 'NoneType' object has no attribute 'log'\n",
      "ERROR:root:logComm H, 0.00, graph 90: Input contains NaN, infinity or a value too large for dtype('float64').\n",
      "ERROR:root:logComm H, 37.00, graph 90: 'NoneType' object has no attribute 'log'\n",
      "ERROR:root:logComm H, 74.50, graph 90: 'NoneType' object has no attribute 'log'\n",
      "ERROR:root:logComm H, inf, graph 90: 'NoneType' object has no attribute 'log'\n",
      "ERROR:root:logComm H, 0.00, graph 91: Input contains NaN, infinity or a value too large for dtype('float64').\n",
      "ERROR:root:logComm H, 37.00, graph 91: 'NoneType' object has no attribute 'log'\n",
      "ERROR:root:logComm H, 74.50, graph 91: 'NoneType' object has no attribute 'log'\n",
      "ERROR:root:logComm H, inf, graph 91: 'NoneType' object has no attribute 'log'\n",
      "ERROR:root:logComm H, 0.00, graph 92: Input contains NaN, infinity or a value too large for dtype('float64').\n",
      "ERROR:root:logComm H, 37.00, graph 92: 'NoneType' object has no attribute 'log'\n",
      "ERROR:root:logComm H, 74.50, graph 92: 'NoneType' object has no attribute 'log'\n",
      "ERROR:root:logComm H, inf, graph 92: 'NoneType' object has no attribute 'log'\n",
      "ERROR:root:logComm H, 0.00, graph 93: Input contains NaN, infinity or a value too large for dtype('float64').\n",
      "ERROR:root:logComm H, 37.00, graph 93: 'NoneType' object has no attribute 'log'\n",
      "ERROR:root:logComm H, 74.50, graph 93: 'NoneType' object has no attribute 'log'\n",
      "ERROR:root:logComm H, inf, graph 93: 'NoneType' object has no attribute 'log'\n",
      "ERROR:root:logComm H, 0.00, graph 94: Input contains NaN, infinity or a value too large for dtype('float64').\n",
      "ERROR:root:logComm H, 37.00, graph 94: 'NoneType' object has no attribute 'log'\n",
      "ERROR:root:logComm H, 74.50, graph 94: 'NoneType' object has no attribute 'log'\n",
      "ERROR:root:logComm H, inf, graph 94: 'NoneType' object has no attribute 'log'\n"
     ]
    },
    {
     "name": "stderr",
     "output_type": "stream",
     "text": [
      "ERROR:root:logComm H, 0.00, graph 95: Input contains NaN, infinity or a value too large for dtype('float64').\n",
      "ERROR:root:logComm H, 37.00, graph 95: 'NoneType' object has no attribute 'log'\n",
      "ERROR:root:logComm H, 74.50, graph 95: 'NoneType' object has no attribute 'log'\n",
      "ERROR:root:logComm H, inf, graph 95: 'NoneType' object has no attribute 'log'\n",
      "ERROR:root:logComm H, 0.00, graph 96: Input contains NaN, infinity or a value too large for dtype('float64').\n",
      "ERROR:root:logComm H, 37.00, graph 96: 'NoneType' object has no attribute 'log'\n",
      "ERROR:root:logComm H, 74.50, graph 96: 'NoneType' object has no attribute 'log'\n",
      "ERROR:root:logComm H, inf, graph 96: 'NoneType' object has no attribute 'log'\n",
      "ERROR:root:logComm H, 0.00, graph 97: Input contains NaN, infinity or a value too large for dtype('float64').\n",
      "ERROR:root:logComm H, 37.00, graph 97: 'NoneType' object has no attribute 'log'\n",
      "ERROR:root:logComm H, 74.50, graph 97: 'NoneType' object has no attribute 'log'\n",
      "ERROR:root:logComm H, inf, graph 97: 'NoneType' object has no attribute 'log'\n",
      "ERROR:root:logComm H, 0.00, graph 98: Input contains NaN, infinity or a value too large for dtype('float64').\n",
      "ERROR:root:logComm H, 37.00, graph 98: 'NoneType' object has no attribute 'log'\n",
      "ERROR:root:logComm H, 74.50, graph 98: 'NoneType' object has no attribute 'log'\n",
      "ERROR:root:logComm H, inf, graph 98: 'NoneType' object has no attribute 'log'\n",
      "ERROR:root:logComm H, 0.00, graph 99: Input contains NaN, infinity or a value too large for dtype('float64').\n",
      "ERROR:root:logComm H, 37.00, graph 99: 'NoneType' object has no attribute 'log'\n",
      "ERROR:root:logComm H, 74.50, graph 99: 'NoneType' object has no attribute 'log'\n",
      "ERROR:root:logComm H, inf, graph 99: 'NoneType' object has no attribute 'log'\n"
     ]
    },
    {
     "name": "stdout",
     "output_type": "stream",
     "text": [
      "\n"
     ]
    },
    {
     "data": {
      "image/png": "[encoded data removed]",
      "text/plain": [
       "<Figure size 360x216 with 1 Axes>"
      ]
     },
     "metadata": {
      "needs_background": "light"
     },
     "output_type": "display_data"
    }
   ],
   "source": [
    "fig, ax = plt.subplots(1, figsize=(5, 3))\n",
    "graphs, _ = StochasticBlockModel(100, 2, p_in=0.3, p_out=0.15).generate_graphs(100)\n",
    "classic_plot = ParallelByGraphs(rand_index, np.linspace(0, 1, 151), progressbar=True, verbose=True)\n",
    "results = classic_plot.perform(KernelKMeansSklearn, logComm_H, graphs, 2, n_jobs=1)\n",
    "plot_results(ax, [('logComm', *results)], ylim=(-0.1, 1.1))"
   ]
  },
  {
   "cell_type": "code",
   "execution_count": 5,
   "metadata": {},
   "outputs": [
    {
     "data": {
      "application/vnd.jupyter.widget-view+json": {
       "model_id": "96a209a2ca24494ba6de3702d27cd7b4",
       "version_major": 2,
       "version_minor": 0
      },
      "text/plain": [
       "HBox(children=(IntProgress(value=0, description='SCCT H'), HTML(value='')))"
      ]
     },
     "metadata": {},
     "output_type": "display_data"
    },
    {
     "name": "stdout",
     "output_type": "stream",
     "text": [
      "\n"
     ]
    },
    {
     "data": {
      "image/png": "[encoded data removed]",
      "text/plain": [
       "<Figure size 360x216 with 1 Axes>"
      ]
     },
     "metadata": {
      "needs_background": "light"
     },
     "output_type": "display_data"
    }
   ],
   "source": [
    "fig, ax = plt.subplots(1, figsize=(5, 3))\n",
    "graphs, _ = StochasticBlockModel(100, 2, p_in=0.3, p_out=0.15).generate_graphs(100)\n",
    "classic_plot = ParallelByGraphs(rand_index, np.linspace(0, 1, 151), progressbar=True, verbose=True)\n",
    "results = classic_plot.perform(KernelKMeansSklearn, SCCT_H, graphs, 2, n_jobs=1)\n",
    "plot_results(ax, [('SCCT', *results)], ylim=(-0.1, 1.1))"
   ]
  },
  {
   "cell_type": "code",
   "execution_count": 6,
   "metadata": {
    "scrolled": true
   },
   "outputs": [
    {
     "data": {
      "application/vnd.jupyter.widget-view+json": {
       "model_id": "d7dfacd87ea44de488ab81892ccb054c",
       "version_major": 2,
       "version_minor": 0
      },
      "text/plain": [
       "HBox(children=(IntProgress(value=0, description='logHeat H'), HTML(value='')))"
      ]
     },
     "metadata": {},
     "output_type": "display_data"
    },
    {
     "name": "stderr",
     "output_type": "stream",
     "text": [
      "ERROR:root:logHeat H, 0.00, graph 0: Input contains NaN, infinity or a value too large for dtype('float64').\n",
      "ERROR:root:logHeat H, inf, graph 0: cannot convert float NaN to integer\n",
      "ERROR:root:logHeat H, 0.00, graph 1: Input contains NaN, infinity or a value too large for dtype('float64').\n",
      "ERROR:root:logHeat H, inf, graph 1: cannot convert float NaN to integer\n",
      "ERROR:root:logHeat H, 0.00, graph 2: Input contains NaN, infinity or a value too large for dtype('float64').\n",
      "ERROR:root:logHeat H, inf, graph 2: cannot convert float NaN to integer\n",
      "ERROR:root:logHeat H, 0.00, graph 3: Input contains NaN, infinity or a value too large for dtype('float64').\n",
      "ERROR:root:logHeat H, inf, graph 3: cannot convert float NaN to integer\n",
      "ERROR:root:logHeat H, 0.00, graph 4: Input contains NaN, infinity or a value too large for dtype('float64').\n",
      "ERROR:root:logHeat H, inf, graph 4: cannot convert float NaN to integer\n",
      "ERROR:root:logHeat H, 0.00, graph 5: Input contains NaN, infinity or a value too large for dtype('float64').\n",
      "ERROR:root:logHeat H, inf, graph 5: cannot convert float NaN to integer\n",
      "ERROR:root:logHeat H, 0.00, graph 6: Input contains NaN, infinity or a value too large for dtype('float64').\n",
      "ERROR:root:logHeat H, inf, graph 6: cannot convert float NaN to integer\n",
      "ERROR:root:logHeat H, 0.00, graph 7: Input contains NaN, infinity or a value too large for dtype('float64').\n",
      "ERROR:root:logHeat H, inf, graph 7: cannot convert float NaN to integer\n",
      "ERROR:root:logHeat H, 0.00, graph 8: Input contains NaN, infinity or a value too large for dtype('float64').\n",
      "ERROR:root:logHeat H, inf, graph 8: cannot convert float NaN to integer\n",
      "ERROR:root:logHeat H, 0.00, graph 9: Input contains NaN, infinity or a value too large for dtype('float64').\n",
      "ERROR:root:logHeat H, inf, graph 9: cannot convert float NaN to integer\n",
      "ERROR:root:logHeat H, 0.00, graph 10: Input contains NaN, infinity or a value too large for dtype('float64').\n",
      "ERROR:root:logHeat H, inf, graph 10: cannot convert float NaN to integer\n",
      "ERROR:root:logHeat H, 0.00, graph 11: Input contains NaN, infinity or a value too large for dtype('float64').\n",
      "ERROR:root:logHeat H, inf, graph 11: cannot convert float NaN to integer\n",
      "ERROR:root:logHeat H, 0.00, graph 12: Input contains NaN, infinity or a value too large for dtype('float64').\n",
      "ERROR:root:logHeat H, inf, graph 12: cannot convert float NaN to integer\n",
      "ERROR:root:logHeat H, 0.00, graph 13: Input contains NaN, infinity or a value too large for dtype('float64').\n",
      "ERROR:root:logHeat H, inf, graph 13: cannot convert float NaN to integer\n",
      "ERROR:root:logHeat H, 0.00, graph 14: Input contains NaN, infinity or a value too large for dtype('float64').\n",
      "ERROR:root:logHeat H, inf, graph 14: cannot convert float NaN to integer\n",
      "ERROR:root:logHeat H, 0.00, graph 15: Input contains NaN, infinity or a value too large for dtype('float64').\n",
      "ERROR:root:logHeat H, inf, graph 15: cannot convert float NaN to integer\n",
      "ERROR:root:logHeat H, 0.00, graph 16: Input contains NaN, infinity or a value too large for dtype('float64').\n",
      "ERROR:root:logHeat H, inf, graph 16: cannot convert float NaN to integer\n",
      "ERROR:root:logHeat H, 0.00, graph 17: Input contains NaN, infinity or a value too large for dtype('float64').\n",
      "ERROR:root:logHeat H, inf, graph 17: cannot convert float NaN to integer\n",
      "ERROR:root:logHeat H, 0.00, graph 18: Input contains NaN, infinity or a value too large for dtype('float64').\n",
      "ERROR:root:logHeat H, inf, graph 18: cannot convert float NaN to integer\n",
      "ERROR:root:logHeat H, 0.00, graph 19: Input contains NaN, infinity or a value too large for dtype('float64').\n",
      "ERROR:root:logHeat H, inf, graph 19: cannot convert float NaN to integer\n",
      "ERROR:root:logHeat H, 0.00, graph 20: Input contains NaN, infinity or a value too large for dtype('float64').\n",
      "ERROR:root:logHeat H, inf, graph 20: cannot convert float NaN to integer\n",
      "ERROR:root:logHeat H, 0.00, graph 21: Input contains NaN, infinity or a value too large for dtype('float64').\n",
      "ERROR:root:logHeat H, inf, graph 21: cannot convert float NaN to integer\n",
      "ERROR:root:logHeat H, 0.00, graph 22: Input contains NaN, infinity or a value too large for dtype('float64').\n",
      "ERROR:root:logHeat H, inf, graph 22: cannot convert float NaN to integer\n",
      "ERROR:root:logHeat H, 0.00, graph 23: Input contains NaN, infinity or a value too large for dtype('float64').\n",
      "ERROR:root:logHeat H, inf, graph 23: cannot convert float NaN to integer\n",
      "ERROR:root:logHeat H, 0.00, graph 24: Input contains NaN, infinity or a value too large for dtype('float64').\n",
      "ERROR:root:logHeat H, inf, graph 24: cannot convert float NaN to integer\n",
      "ERROR:root:logHeat H, 0.00, graph 25: Input contains NaN, infinity or a value too large for dtype('float64').\n",
      "ERROR:root:logHeat H, inf, graph 25: cannot convert float NaN to integer\n",
      "ERROR:root:logHeat H, 0.00, graph 26: Input contains NaN, infinity or a value too large for dtype('float64').\n",
      "ERROR:root:logHeat H, inf, graph 26: cannot convert float NaN to integer\n",
      "ERROR:root:logHeat H, 0.00, graph 27: Input contains NaN, infinity or a value too large for dtype('float64').\n",
      "ERROR:root:logHeat H, inf, graph 27: cannot convert float NaN to integer\n",
      "ERROR:root:logHeat H, 0.00, graph 28: Input contains NaN, infinity or a value too large for dtype('float64').\n",
      "ERROR:root:logHeat H, inf, graph 28: cannot convert float NaN to integer\n",
      "ERROR:root:logHeat H, 0.00, graph 29: Input contains NaN, infinity or a value too large for dtype('float64').\n",
      "ERROR:root:logHeat H, inf, graph 29: cannot convert float NaN to integer\n",
      "ERROR:root:logHeat H, 0.00, graph 30: Input contains NaN, infinity or a value too large for dtype('float64').\n",
      "ERROR:root:logHeat H, inf, graph 30: cannot convert float NaN to integer\n",
      "ERROR:root:logHeat H, 0.00, graph 31: Input contains NaN, infinity or a value too large for dtype('float64').\n",
      "ERROR:root:logHeat H, inf, graph 31: cannot convert float NaN to integer\n",
      "ERROR:root:logHeat H, 0.00, graph 32: Input contains NaN, infinity or a value too large for dtype('float64').\n",
      "ERROR:root:logHeat H, inf, graph 32: cannot convert float NaN to integer\n",
      "ERROR:root:logHeat H, 0.00, graph 33: Input contains NaN, infinity or a value too large for dtype('float64').\n",
      "ERROR:root:logHeat H, inf, graph 33: cannot convert float NaN to integer\n",
      "ERROR:root:logHeat H, 0.00, graph 34: Input contains NaN, infinity or a value too large for dtype('float64').\n",
      "ERROR:root:logHeat H, inf, graph 34: cannot convert float NaN to integer\n",
      "ERROR:root:logHeat H, 0.00, graph 35: Input contains NaN, infinity or a value too large for dtype('float64').\n",
      "ERROR:root:logHeat H, inf, graph 35: cannot convert float NaN to integer\n",
      "ERROR:root:logHeat H, 0.00, graph 36: Input contains NaN, infinity or a value too large for dtype('float64').\n",
      "ERROR:root:logHeat H, inf, graph 36: cannot convert float NaN to integer\n",
      "ERROR:root:logHeat H, 0.00, graph 37: Input contains NaN, infinity or a value too large for dtype('float64').\n",
      "ERROR:root:logHeat H, inf, graph 37: cannot convert float NaN to integer\n",
      "ERROR:root:logHeat H, 0.00, graph 38: Input contains NaN, infinity or a value too large for dtype('float64').\n",
      "ERROR:root:logHeat H, inf, graph 38: cannot convert float NaN to integer\n",
      "ERROR:root:logHeat H, 0.00, graph 39: Input contains NaN, infinity or a value too large for dtype('float64').\n",
      "ERROR:root:logHeat H, inf, graph 39: cannot convert float NaN to integer\n",
      "ERROR:root:logHeat H, 0.00, graph 40: Input contains NaN, infinity or a value too large for dtype('float64').\n",
      "ERROR:root:logHeat H, inf, graph 40: cannot convert float NaN to integer\n",
      "ERROR:root:logHeat H, 0.00, graph 41: Input contains NaN, infinity or a value too large for dtype('float64').\n",
      "ERROR:root:logHeat H, inf, graph 41: cannot convert float NaN to integer\n",
      "ERROR:root:logHeat H, 0.00, graph 42: Input contains NaN, infinity or a value too large for dtype('float64').\n",
      "ERROR:root:logHeat H, inf, graph 42: cannot convert float NaN to integer\n",
      "ERROR:root:logHeat H, 0.00, graph 43: Input contains NaN, infinity or a value too large for dtype('float64').\n",
      "ERROR:root:logHeat H, inf, graph 43: cannot convert float NaN to integer\n",
      "ERROR:root:logHeat H, 0.00, graph 44: Input contains NaN, infinity or a value too large for dtype('float64').\n",
      "ERROR:root:logHeat H, inf, graph 44: cannot convert float NaN to integer\n"
     ]
    },
    {
     "name": "stderr",
     "output_type": "stream",
     "text": [
      "ERROR:root:logHeat H, 0.00, graph 45: Input contains NaN, infinity or a value too large for dtype('float64').\n",
      "ERROR:root:logHeat H, inf, graph 45: cannot convert float NaN to integer\n",
      "ERROR:root:logHeat H, 0.00, graph 46: Input contains NaN, infinity or a value too large for dtype('float64').\n",
      "ERROR:root:logHeat H, inf, graph 46: cannot convert float NaN to integer\n",
      "ERROR:root:logHeat H, 0.00, graph 47: Input contains NaN, infinity or a value too large for dtype('float64').\n",
      "ERROR:root:logHeat H, inf, graph 47: cannot convert float NaN to integer\n",
      "ERROR:root:logHeat H, 0.00, graph 48: Input contains NaN, infinity or a value too large for dtype('float64').\n",
      "ERROR:root:logHeat H, inf, graph 48: cannot convert float NaN to integer\n",
      "ERROR:root:logHeat H, 0.00, graph 49: Input contains NaN, infinity or a value too large for dtype('float64').\n",
      "ERROR:root:logHeat H, inf, graph 49: cannot convert float NaN to integer\n",
      "ERROR:root:logHeat H, 0.00, graph 50: Input contains NaN, infinity or a value too large for dtype('float64').\n",
      "ERROR:root:logHeat H, inf, graph 50: cannot convert float NaN to integer\n",
      "ERROR:root:logHeat H, 0.00, graph 51: Input contains NaN, infinity or a value too large for dtype('float64').\n",
      "ERROR:root:logHeat H, inf, graph 51: cannot convert float NaN to integer\n",
      "ERROR:root:logHeat H, 0.00, graph 52: Input contains NaN, infinity or a value too large for dtype('float64').\n",
      "ERROR:root:logHeat H, inf, graph 52: cannot convert float NaN to integer\n",
      "ERROR:root:logHeat H, 0.00, graph 53: Input contains NaN, infinity or a value too large for dtype('float64').\n",
      "ERROR:root:logHeat H, inf, graph 53: cannot convert float NaN to integer\n",
      "ERROR:root:logHeat H, 0.00, graph 54: Input contains NaN, infinity or a value too large for dtype('float64').\n",
      "ERROR:root:logHeat H, inf, graph 54: cannot convert float NaN to integer\n",
      "ERROR:root:logHeat H, 0.00, graph 55: Input contains NaN, infinity or a value too large for dtype('float64').\n",
      "ERROR:root:logHeat H, inf, graph 55: cannot convert float NaN to integer\n",
      "ERROR:root:logHeat H, 0.00, graph 56: Input contains NaN, infinity or a value too large for dtype('float64').\n",
      "ERROR:root:logHeat H, inf, graph 56: cannot convert float NaN to integer\n",
      "ERROR:root:logHeat H, 0.00, graph 57: Input contains NaN, infinity or a value too large for dtype('float64').\n",
      "ERROR:root:logHeat H, inf, graph 57: cannot convert float NaN to integer\n",
      "ERROR:root:logHeat H, 0.00, graph 58: Input contains NaN, infinity or a value too large for dtype('float64').\n",
      "ERROR:root:logHeat H, inf, graph 58: cannot convert float NaN to integer\n",
      "ERROR:root:logHeat H, 0.00, graph 59: Input contains NaN, infinity or a value too large for dtype('float64').\n",
      "ERROR:root:logHeat H, inf, graph 59: cannot convert float NaN to integer\n",
      "ERROR:root:logHeat H, 0.00, graph 60: Input contains NaN, infinity or a value too large for dtype('float64').\n",
      "ERROR:root:logHeat H, inf, graph 60: cannot convert float NaN to integer\n",
      "ERROR:root:logHeat H, 0.00, graph 61: Input contains NaN, infinity or a value too large for dtype('float64').\n",
      "ERROR:root:logHeat H, inf, graph 61: cannot convert float NaN to integer\n",
      "ERROR:root:logHeat H, 0.00, graph 62: Input contains NaN, infinity or a value too large for dtype('float64').\n",
      "ERROR:root:logHeat H, inf, graph 62: cannot convert float NaN to integer\n",
      "ERROR:root:logHeat H, 0.00, graph 63: Input contains NaN, infinity or a value too large for dtype('float64').\n",
      "ERROR:root:logHeat H, inf, graph 63: cannot convert float NaN to integer\n",
      "ERROR:root:logHeat H, 0.00, graph 64: Input contains NaN, infinity or a value too large for dtype('float64').\n",
      "ERROR:root:logHeat H, inf, graph 64: cannot convert float NaN to integer\n",
      "ERROR:root:logHeat H, 0.00, graph 65: Input contains NaN, infinity or a value too large for dtype('float64').\n",
      "ERROR:root:logHeat H, inf, graph 65: cannot convert float NaN to integer\n",
      "ERROR:root:logHeat H, 0.00, graph 66: Input contains NaN, infinity or a value too large for dtype('float64').\n",
      "ERROR:root:logHeat H, inf, graph 66: cannot convert float NaN to integer\n",
      "ERROR:root:logHeat H, 0.00, graph 67: Input contains NaN, infinity or a value too large for dtype('float64').\n",
      "ERROR:root:logHeat H, inf, graph 67: cannot convert float NaN to integer\n",
      "ERROR:root:logHeat H, 0.00, graph 68: Input contains NaN, infinity or a value too large for dtype('float64').\n",
      "ERROR:root:logHeat H, inf, graph 68: cannot convert float NaN to integer\n",
      "ERROR:root:logHeat H, 0.00, graph 69: Input contains NaN, infinity or a value too large for dtype('float64').\n",
      "ERROR:root:logHeat H, inf, graph 69: cannot convert float NaN to integer\n",
      "ERROR:root:logHeat H, 0.00, graph 70: Input contains NaN, infinity or a value too large for dtype('float64').\n",
      "ERROR:root:logHeat H, inf, graph 70: cannot convert float NaN to integer\n",
      "ERROR:root:logHeat H, 0.00, graph 71: Input contains NaN, infinity or a value too large for dtype('float64').\n",
      "ERROR:root:logHeat H, inf, graph 71: cannot convert float NaN to integer\n",
      "ERROR:root:logHeat H, 0.00, graph 72: Input contains NaN, infinity or a value too large for dtype('float64').\n",
      "ERROR:root:logHeat H, inf, graph 72: cannot convert float NaN to integer\n",
      "ERROR:root:logHeat H, 0.00, graph 73: Input contains NaN, infinity or a value too large for dtype('float64').\n",
      "ERROR:root:logHeat H, inf, graph 73: cannot convert float NaN to integer\n",
      "ERROR:root:logHeat H, 0.00, graph 74: Input contains NaN, infinity or a value too large for dtype('float64').\n",
      "ERROR:root:logHeat H, inf, graph 74: cannot convert float NaN to integer\n",
      "ERROR:root:logHeat H, 0.00, graph 75: Input contains NaN, infinity or a value too large for dtype('float64').\n",
      "ERROR:root:logHeat H, inf, graph 75: cannot convert float NaN to integer\n",
      "ERROR:root:logHeat H, 0.00, graph 76: Input contains NaN, infinity or a value too large for dtype('float64').\n",
      "ERROR:root:logHeat H, inf, graph 76: cannot convert float NaN to integer\n",
      "ERROR:root:logHeat H, 0.00, graph 77: Input contains NaN, infinity or a value too large for dtype('float64').\n",
      "ERROR:root:logHeat H, inf, graph 77: cannot convert float NaN to integer\n",
      "ERROR:root:logHeat H, 0.00, graph 78: Input contains NaN, infinity or a value too large for dtype('float64').\n",
      "ERROR:root:logHeat H, inf, graph 78: cannot convert float NaN to integer\n",
      "ERROR:root:logHeat H, 0.00, graph 79: Input contains NaN, infinity or a value too large for dtype('float64').\n",
      "ERROR:root:logHeat H, inf, graph 79: cannot convert float NaN to integer\n",
      "ERROR:root:logHeat H, 0.00, graph 80: Input contains NaN, infinity or a value too large for dtype('float64').\n",
      "ERROR:root:logHeat H, inf, graph 80: cannot convert float NaN to integer\n",
      "ERROR:root:logHeat H, 0.00, graph 81: Input contains NaN, infinity or a value too large for dtype('float64').\n",
      "ERROR:root:logHeat H, inf, graph 81: cannot convert float NaN to integer\n",
      "ERROR:root:logHeat H, 0.00, graph 82: Input contains NaN, infinity or a value too large for dtype('float64').\n",
      "ERROR:root:logHeat H, inf, graph 82: cannot convert float NaN to integer\n",
      "ERROR:root:logHeat H, 0.00, graph 83: Input contains NaN, infinity or a value too large for dtype('float64').\n",
      "ERROR:root:logHeat H, inf, graph 83: cannot convert float NaN to integer\n",
      "ERROR:root:logHeat H, 0.00, graph 84: Input contains NaN, infinity or a value too large for dtype('float64').\n",
      "ERROR:root:logHeat H, inf, graph 84: cannot convert float NaN to integer\n",
      "ERROR:root:logHeat H, 0.00, graph 85: Input contains NaN, infinity or a value too large for dtype('float64').\n",
      "ERROR:root:logHeat H, inf, graph 85: cannot convert float NaN to integer\n",
      "ERROR:root:logHeat H, 0.00, graph 86: Input contains NaN, infinity or a value too large for dtype('float64').\n",
      "ERROR:root:logHeat H, inf, graph 86: cannot convert float NaN to integer\n",
      "ERROR:root:logHeat H, 0.00, graph 87: Input contains NaN, infinity or a value too large for dtype('float64').\n",
      "ERROR:root:logHeat H, inf, graph 87: cannot convert float NaN to integer\n",
      "ERROR:root:logHeat H, 0.00, graph 88: Input contains NaN, infinity or a value too large for dtype('float64').\n",
      "ERROR:root:logHeat H, inf, graph 88: cannot convert float NaN to integer\n",
      "ERROR:root:logHeat H, 0.00, graph 89: Input contains NaN, infinity or a value too large for dtype('float64').\n",
      "ERROR:root:logHeat H, inf, graph 89: cannot convert float NaN to integer\n"
     ]
    },
    {
     "name": "stderr",
     "output_type": "stream",
     "text": [
      "ERROR:root:logHeat H, 0.00, graph 90: Input contains NaN, infinity or a value too large for dtype('float64').\n",
      "ERROR:root:logHeat H, inf, graph 90: cannot convert float NaN to integer\n",
      "ERROR:root:logHeat H, 0.00, graph 91: Input contains NaN, infinity or a value too large for dtype('float64').\n",
      "ERROR:root:logHeat H, inf, graph 91: cannot convert float NaN to integer\n",
      "ERROR:root:logHeat H, 0.00, graph 92: Input contains NaN, infinity or a value too large for dtype('float64').\n",
      "ERROR:root:logHeat H, inf, graph 92: cannot convert float NaN to integer\n",
      "ERROR:root:logHeat H, 0.00, graph 93: Input contains NaN, infinity or a value too large for dtype('float64').\n",
      "ERROR:root:logHeat H, inf, graph 93: cannot convert float NaN to integer\n",
      "ERROR:root:logHeat H, 0.00, graph 94: Input contains NaN, infinity or a value too large for dtype('float64').\n",
      "ERROR:root:logHeat H, inf, graph 94: cannot convert float NaN to integer\n",
      "ERROR:root:logHeat H, 0.00, graph 95: Input contains NaN, infinity or a value too large for dtype('float64').\n",
      "ERROR:root:logHeat H, inf, graph 95: cannot convert float NaN to integer\n",
      "ERROR:root:logHeat H, 0.00, graph 96: Input contains NaN, infinity or a value too large for dtype('float64').\n",
      "ERROR:root:logHeat H, inf, graph 96: cannot convert float NaN to integer\n",
      "ERROR:root:logHeat H, 0.00, graph 97: Input contains NaN, infinity or a value too large for dtype('float64').\n",
      "ERROR:root:logHeat H, inf, graph 97: cannot convert float NaN to integer\n",
      "ERROR:root:logHeat H, 0.00, graph 98: Input contains NaN, infinity or a value too large for dtype('float64').\n",
      "ERROR:root:logHeat H, inf, graph 98: cannot convert float NaN to integer\n",
      "ERROR:root:logHeat H, 0.00, graph 99: Input contains NaN, infinity or a value too large for dtype('float64').\n",
      "ERROR:root:logHeat H, inf, graph 99: cannot convert float NaN to integer\n"
     ]
    },
    {
     "name": "stdout",
     "output_type": "stream",
     "text": [
      "\n"
     ]
    },
    {
     "data": {
      "image/png": "[encoded data removed]",
      "text/plain": [
       "<Figure size 360x216 with 1 Axes>"
      ]
     },
     "metadata": {
      "needs_background": "light"
     },
     "output_type": "display_data"
    }
   ],
   "source": [
    "fig, ax = plt.subplots(1, figsize=(5, 3))\n",
    "graphs, _ = StochasticBlockModel(100, 2, p_in=0.3, p_out=0.15).generate_graphs(100)\n",
    "classic_plot = ParallelByGraphs(rand_index, np.linspace(0, 1, 151), progressbar=True, verbose=True)\n",
    "results = classic_plot.perform(KernelKMeansSklearn, logHeat_H, graphs, 2, n_jobs=1)\n",
    "plot_results(ax, [('logHeat', *results)], ylim=(-0.1, 1.1))"
   ]
  },
  {
   "cell_type": "code",
   "execution_count": 11,
   "metadata": {},
   "outputs": [],
   "source": [
    "class logComm_SCCT(Kernel):\n",
    "    name, default_scaler = 'logComm_SCCT', scaler.Linear\n",
    "    \n",
    "    def __init__(self, A):\n",
    "        super().__init__(A)\n",
    "        self.logComm = logComm_H(A)\n",
    "        self.logComm_param = 0.05\n",
    "        self.SCCT = SCCT_H(A)\n",
    "        self.SCCT_param = 0.74\n",
    "    \n",
    "    def get_K(self, param):\n",
    "        logComm_result = self.logComm.get_K(self.logComm_param)\n",
    "        SCCT_result = self.SCCT.get_K(self.SCCT_param)\n",
    "        return (1 - param) * logComm_result + param * SCCT_result"
   ]
  },
  {
   "cell_type": "code",
   "execution_count": 19,
   "metadata": {},
   "outputs": [
    {
     "data": {
      "application/vnd.jupyter.widget-view+json": {
       "model_id": "a0e529470f184e4a81b395d890e4750a",
       "version_major": 2,
       "version_minor": 0
      },
      "text/plain": [
       "HBox(children=(IntProgress(value=0, description='logComm_SCCT'), HTML(value='')))"
      ]
     },
     "metadata": {},
     "output_type": "display_data"
    },
    {
     "data": {
      "image/png": "[encoded data removed]",
      "text/plain": [
       "<Figure size 360x216 with 1 Axes>"
      ]
     },
     "metadata": {
      "needs_background": "light"
     },
     "output_type": "display_data"
    }
   ],
   "source": [
    "fig, ax = plt.subplots(1, figsize=(5, 3))\n",
    "graphs, _ = StochasticBlockModel(100, 2, p_in=0.3, p_out=0.15).generate_graphs(100)\n",
    "classic_plot = ParallelByGraphs(rand_index, np.linspace(0, 1, 151), progressbar=True, verbose=True)\n",
    "results = classic_plot.perform(KernelKMeansSklearn, logComm_SCCT, graphs, 2, n_jobs=1)\n",
    "plot_results(ax, [('logComm_SCCT', *results)], ylim=(0.8, 1.0))"
   ]
  },
  {
   "cell_type": "code",
   "execution_count": 20,
   "metadata": {},
   "outputs": [],
   "source": [
    "class logComm_logHeat(Kernel):\n",
    "    name, default_scaler = 'logComm_logHeat', scaler.Linear\n",
    "    \n",
    "    def __init__(self, A):\n",
    "        super().__init__(A)\n",
    "        self.logComm = logComm_H(A)\n",
    "        self.logComm_param = 0.05\n",
    "        self.logHeat = logHeat_H(A)\n",
    "        self.logHeat_param = 0.1\n",
    "    \n",
    "    def get_K(self, param):\n",
    "        logComm_result = self.logComm.get_K(self.logComm_param)\n",
    "        logHeat_result = self.logHeat.get_K(self.logHeat_param)\n",
    "        return (1 - param) * logComm_result + param * logHeat_result"
   ]
  },
  {
   "cell_type": "code",
   "execution_count": 21,
   "metadata": {},
   "outputs": [
    {
     "name": "stdout",
     "output_type": "stream",
     "text": [
      "\n"
     ]
    },
    {
     "data": {
      "application/vnd.jupyter.widget-view+json": {
       "model_id": "6e3bd5670deb4d9c95c5b61053fb3483",
       "version_major": 2,
       "version_minor": 0
      },
      "text/plain": [
       "HBox(children=(IntProgress(value=0, description='logComm_logHeat'), HTML(value='')))"
      ]
     },
     "metadata": {},
     "output_type": "display_data"
    },
    {
     "name": "stdout",
     "output_type": "stream",
     "text": [
      "\n"
     ]
    },
    {
     "data": {
      "image/png": "[encoded data removed]",
      "text/plain": [
       "<Figure size 360x216 with 1 Axes>"
      ]
     },
     "metadata": {
      "needs_background": "light"
     },
     "output_type": "display_data"
    }
   ],
   "source": [
    "fig, ax = plt.subplots(1, figsize=(5, 3))\n",
    "graphs, _ = StochasticBlockModel(100, 2, p_in=0.3, p_out=0.15).generate_graphs(100)\n",
    "classic_plot = ParallelByGraphs(rand_index, np.linspace(0, 1, 151), progressbar=True, verbose=True)\n",
    "results = classic_plot.perform(KernelKMeansSklearn, logComm_logHeat, graphs, 2, n_jobs=1)\n",
    "plot_results(ax, [('logComm_logHeat', *results)], ylim=(0.8, 1.0))"
   ]
  },
  {
   "cell_type": "code",
   "execution_count": null,
   "metadata": {},
   "outputs": [],
   "source": []
  }
 ],
 "metadata": {
  "kernelspec": {
   "display_name": "Python 3",
   "language": "python",
   "name": "python3"
  },
  "language_info": {
   "codemirror_mode": {
    "name": "ipython",
    "version": 3
   },
   "file_extension": ".py",
   "mimetype": "text/x-python",
   "name": "python",
   "nbconvert_exporter": "python",
   "pygments_lexer": "ipython3",
   "version": "3.7.2"
  }
 },
 "nbformat": 4,
 "nbformat_minor": 2
}
