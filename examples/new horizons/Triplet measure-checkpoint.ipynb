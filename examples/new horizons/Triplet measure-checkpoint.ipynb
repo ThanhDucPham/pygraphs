{
 "cells": [
  {
   "cell_type": "code",
   "execution_count": 1,
   "metadata": {},
   "outputs": [],
   "source": [
    "import os\n",
    "os.environ[\"OPENBLAS_NUM_THREADS\"] = \"1\"\n",
    "import warnings\n",
    "warnings.filterwarnings(\"ignore\")\n",
    "import sys\n",
    "sys.path.append('../..')"
   ]
  },
  {
   "cell_type": "code",
   "execution_count": 2,
   "metadata": {},
   "outputs": [
    {
     "name": "stderr",
     "output_type": "stream",
     "text": [
      "/usr/local/lib/python3.7/site-packages/sklearn/utils/__init__.py:4: DeprecationWarning: Using or importing the ABCs from 'collections' instead of from 'collections.abc' is deprecated, and in 3.8 it will stop working\n",
      "  from collections import Sequence\n"
     ]
    }
   ],
   "source": [
    "import numpy as np\n",
    "import matplotlib.pyplot as plt\n",
    "%matplotlib inline\n",
    "from tqdm import tqdm_notebook as tqdm\n",
    "from collections import defaultdict\n",
    "from sklearn.metrics import adjusted_rand_score, auc\n",
    "from scipy.stats import rankdata\n",
    "import itertools"
   ]
  },
  {
   "cell_type": "code",
   "execution_count": 3,
   "metadata": {},
   "outputs": [],
   "source": [
    "from pygraphs.cluster import KernelKMeans, Ward, KernelKMeansSklearn, KernelWardSklearn\n",
    "from pygraphs.graphs.generator import StochasticBlockModel, RubanovModel\n",
    "from pygraphs.measure import *\n",
    "from pygraphs.measure.kernel import Kernel\n",
    "from pygraphs.measure import H_kernels_plus_RSP_FE_SP_CT, scaler\n",
    "from pygraphs.scenario import plot_results, d3_right_order, measures_right_order, ParallelByGraphs\n",
    "from pygraphs.scorer import rand_index, triplet_measure, ranking\n",
    "from pygraphs.scenario import ParallelByGraphs, RejectCurve, d3_right_order, measures_right_order"
   ]
  },
  {
   "cell_type": "code",
   "execution_count": 4,
   "metadata": {},
   "outputs": [],
   "source": [
    "all_measures = H_kernels_plus_RSP_FE + [SP_K, CT_H]\n",
    "all_distances = [\n",
    "    pWalk,\n",
    "    Walk,\n",
    "    For,\n",
    "    logFor,\n",
    "    Comm,\n",
    "    logComm,\n",
    "    Heat,\n",
    "    logHeat,\n",
    "    SCT,\n",
    "    SCCT,\n",
    "    RSP,\n",
    "    FE,\n",
    "    SPCT,\n",
    "    SP,\n",
    "    CT\n",
    "]\n",
    "optimal_params = { # (100, 2, 0.3, 0.1)\n",
    "    \"CT H\": 0.00,\n",
    "    \"SP K\": 0.00,\n",
    "    \"Comm H\": 0.36,\n",
    "    \"logComm H\": 0.54,\n",
    "    \"Heat H\": 0.74,\n",
    "    \"Walk H\": 0.76,\n",
    "    \"logHeat H\": 0.46,\n",
    "    \"SCT H\": 0.50,\n",
    "    \"logFor H\": 0.40,\n",
    "    \"RSP K\": 0.98,\n",
    "    \"For H\": 0.98,\n",
    "    \"FE K\": 0.92,\n",
    "    \"SCCT H\": 0.74,\n",
    "    \"pWalk H\": 0.80,\n",
    "    \"SP-CT H\": 0.04\n",
    "}"
   ]
  },
  {
   "cell_type": "markdown",
   "metadata": {},
   "source": [
    "# Triplet measure vs in-out AUC vs k-means ARI\n",
    "\n",
    "Эксперимент с ранговыми корреляциями триплетного скора (берем все тройки, где 2 из 3 семплов относятся к одному классу, проверяем условие d(s1, s2) < d(s1, s3), мера – доля правильных ответов) vs in-out AUC vs k-means ARI."
   ]
  },
  {
   "cell_type": "code",
   "execution_count": 5,
   "metadata": {},
   "outputs": [],
   "source": [
    "graphs, _ = StochasticBlockModel(100, 2, p_in=0.3, p_out=0.1).generate_graphs(100)\n",
    "y_true = [y_true_sample for A, y_true_sample in graphs]"
   ]
  },
  {
   "cell_type": "markdown",
   "metadata": {},
   "source": [
    "Сначала насчитаем все кернелы по заранее определенным оптимальным параметрам"
   ]
  },
  {
   "cell_type": "code",
   "execution_count": 6,
   "metadata": {},
   "outputs": [
    {
     "data": {
      "application/vnd.jupyter.widget-view+json": {
       "model_id": "d0ab9d7a764644119be5c67d12ab3c8d",
       "version_major": 2,
       "version_minor": 0
      },
      "text/plain": [
       "HBox(children=(IntProgress(value=0, max=15), HTML(value='')))"
      ]
     },
     "metadata": {},
     "output_type": "display_data"
    },
    {
     "data": {
      "application/vnd.jupyter.widget-view+json": {
       "model_id": "980cadd8ca2d436ab354a515c5eebcfe",
       "version_major": 2,
       "version_minor": 0
      },
      "text/plain": [
       "HBox(children=(IntProgress(value=0, description='pWalk'), HTML(value='')))"
      ]
     },
     "metadata": {},
     "output_type": "display_data"
    },
    {
     "data": {
      "application/vnd.jupyter.widget-view+json": {
       "model_id": "71d2cf0c9e58405595105f29262a4c00",
       "version_major": 2,
       "version_minor": 0
      },
      "text/plain": [
       "HBox(children=(IntProgress(value=0, description='Walk'), HTML(value='')))"
      ]
     },
     "metadata": {},
     "output_type": "display_data"
    },
    {
     "data": {
      "application/vnd.jupyter.widget-view+json": {
       "model_id": "4367d8631662479fa0f71a943267a6a5",
       "version_major": 2,
       "version_minor": 0
      },
      "text/plain": [
       "HBox(children=(IntProgress(value=0, description='For'), HTML(value='')))"
      ]
     },
     "metadata": {},
     "output_type": "display_data"
    },
    {
     "data": {
      "application/vnd.jupyter.widget-view+json": {
       "model_id": "661000378198483a9704b784f0f38ad0",
       "version_major": 2,
       "version_minor": 0
      },
      "text/plain": [
       "HBox(children=(IntProgress(value=0, description='logFor'), HTML(value='')))"
      ]
     },
     "metadata": {},
     "output_type": "display_data"
    },
    {
     "data": {
      "application/vnd.jupyter.widget-view+json": {
       "model_id": "7cd6b2919fd24817b8538b64dfa5fc3f",
       "version_major": 2,
       "version_minor": 0
      },
      "text/plain": [
       "HBox(children=(IntProgress(value=0, description='Comm'), HTML(value='')))"
      ]
     },
     "metadata": {},
     "output_type": "display_data"
    },
    {
     "data": {
      "application/vnd.jupyter.widget-view+json": {
       "model_id": "8a14fcee83744a03b396ab3f641506aa",
       "version_major": 2,
       "version_minor": 0
      },
      "text/plain": [
       "HBox(children=(IntProgress(value=0, description='logComm'), HTML(value='')))"
      ]
     },
     "metadata": {},
     "output_type": "display_data"
    },
    {
     "data": {
      "application/vnd.jupyter.widget-view+json": {
       "model_id": "ddcc592e8175487d8e589510850dbf27",
       "version_major": 2,
       "version_minor": 0
      },
      "text/plain": [
       "HBox(children=(IntProgress(value=0, description='Heat'), HTML(value='')))"
      ]
     },
     "metadata": {},
     "output_type": "display_data"
    },
    {
     "data": {
      "application/vnd.jupyter.widget-view+json": {
       "model_id": "b097c2202cb24587af5204915c2b77b7",
       "version_major": 2,
       "version_minor": 0
      },
      "text/plain": [
       "HBox(children=(IntProgress(value=0, description='logHeat'), HTML(value='')))"
      ]
     },
     "metadata": {},
     "output_type": "display_data"
    },
    {
     "data": {
      "application/vnd.jupyter.widget-view+json": {
       "model_id": "3d0bf350537c454e8c94ddf2baa95d9c",
       "version_major": 2,
       "version_minor": 0
      },
      "text/plain": [
       "HBox(children=(IntProgress(value=0, description='SCT'), HTML(value='')))"
      ]
     },
     "metadata": {},
     "output_type": "display_data"
    },
    {
     "data": {
      "application/vnd.jupyter.widget-view+json": {
       "model_id": "12e06430d2704a659cf85b2c42de175f",
       "version_major": 2,
       "version_minor": 0
      },
      "text/plain": [
       "HBox(children=(IntProgress(value=0, description='SCCT'), HTML(value='')))"
      ]
     },
     "metadata": {},
     "output_type": "display_data"
    },
    {
     "data": {
      "application/vnd.jupyter.widget-view+json": {
       "model_id": "97716a8a8bd64f9ebc92d561de4ff92f",
       "version_major": 2,
       "version_minor": 0
      },
      "text/plain": [
       "HBox(children=(IntProgress(value=0, description='RSP'), HTML(value='')))"
      ]
     },
     "metadata": {},
     "output_type": "display_data"
    },
    {
     "data": {
      "application/vnd.jupyter.widget-view+json": {
       "model_id": "59bd0e91acd144ca807cb9ee13016e0c",
       "version_major": 2,
       "version_minor": 0
      },
      "text/plain": [
       "HBox(children=(IntProgress(value=0, description='FE'), HTML(value='')))"
      ]
     },
     "metadata": {},
     "output_type": "display_data"
    },
    {
     "data": {
      "application/vnd.jupyter.widget-view+json": {
       "model_id": "1dc590eb41ad4d31adaf55c2eda3184d",
       "version_major": 2,
       "version_minor": 0
      },
      "text/plain": [
       "HBox(children=(IntProgress(value=0, description='SP-CT'), HTML(value='')))"
      ]
     },
     "metadata": {},
     "output_type": "display_data"
    },
    {
     "data": {
      "application/vnd.jupyter.widget-view+json": {
       "model_id": "e3ce6a36123445069179b7a2d016bcc4",
       "version_major": 2,
       "version_minor": 0
      },
      "text/plain": [
       "HBox(children=(IntProgress(value=0, description='SP'), HTML(value='')))"
      ]
     },
     "metadata": {},
     "output_type": "display_data"
    },
    {
     "data": {
      "application/vnd.jupyter.widget-view+json": {
       "model_id": "609497a481364d8a87eeb7878ffd0dc9",
       "version_major": 2,
       "version_minor": 0
      },
      "text/plain": [
       "HBox(children=(IntProgress(value=0, description='CT'), HTML(value='')))"
      ]
     },
     "metadata": {},
     "output_type": "display_data"
    },
    {
     "name": "stdout",
     "output_type": "stream",
     "text": [
      "\n"
     ]
    }
   ],
   "source": [
    "K = defaultdict(list)\n",
    "D = defaultdict(list)\n",
    "for kernel, distance in tqdm(zip(all_measures, all_distances), total=len(all_measures)):\n",
    "    for A, _ in tqdm(graphs, desc=kernel.name[:-2]):\n",
    "        param = optimal_params[kernel.name]\n",
    "        K[kernel.name[:-2]].append(kernel(A).get_K(param))\n",
    "        D[kernel.name[:-2]].append(distance(A).get_D(param))"
   ]
  },
  {
   "cell_type": "markdown",
   "metadata": {},
   "source": [
    "Теперь насчитаем k-means ARI"
   ]
  },
  {
   "cell_type": "code",
   "execution_count": 7,
   "metadata": {
    "scrolled": false
   },
   "outputs": [
    {
     "data": {
      "application/vnd.jupyter.widget-view+json": {
       "model_id": "815510dd4bc74d839547dd9c30f9cbe0",
       "version_major": 2,
       "version_minor": 0
      },
      "text/plain": [
       "HBox(children=(IntProgress(value=0, max=15), HTML(value='')))"
      ]
     },
     "metadata": {},
     "output_type": "display_data"
    },
    {
     "data": {
      "application/vnd.jupyter.widget-view+json": {
       "model_id": "286126a68b7446309b2046be54007410",
       "version_major": 2,
       "version_minor": 0
      },
      "text/plain": [
       "HBox(children=(IntProgress(value=0, description='pWalk'), HTML(value='')))"
      ]
     },
     "metadata": {},
     "output_type": "display_data"
    },
    {
     "data": {
      "application/vnd.jupyter.widget-view+json": {
       "model_id": "1c75ae60a51e40d4b69968a36349182a",
       "version_major": 2,
       "version_minor": 0
      },
      "text/plain": [
       "HBox(children=(IntProgress(value=0, description='For'), HTML(value='')))"
      ]
     },
     "metadata": {},
     "output_type": "display_data"
    },
    {
     "data": {
      "application/vnd.jupyter.widget-view+json": {
       "model_id": "6a6e536198a54964817097b7730e0738",
       "version_major": 2,
       "version_minor": 0
      },
      "text/plain": [
       "HBox(children=(IntProgress(value=0, description='logFor'), HTML(value='')))"
      ]
     },
     "metadata": {},
     "output_type": "display_data"
    },
    {
     "data": {
      "application/vnd.jupyter.widget-view+json": {
       "model_id": "eeb462a0012a4aa4acf19dbe5345a6fa",
       "version_major": 2,
       "version_minor": 0
      },
      "text/plain": [
       "HBox(children=(IntProgress(value=0, description='Comm'), HTML(value='')))"
      ]
     },
     "metadata": {},
     "output_type": "display_data"
    },
    {
     "data": {
      "application/vnd.jupyter.widget-view+json": {
       "model_id": "9ee1e51a138548078d851eaec7086be8",
       "version_major": 2,
       "version_minor": 0
      },
      "text/plain": [
       "HBox(children=(IntProgress(value=0, description='logComm'), HTML(value='')))"
      ]
     },
     "metadata": {},
     "output_type": "display_data"
    },
    {
     "data": {
      "application/vnd.jupyter.widget-view+json": {
       "model_id": "60fcdea200f147e5865bda8ef6f8163b",
       "version_major": 2,
       "version_minor": 0
      },
      "text/plain": [
       "HBox(children=(IntProgress(value=0, description='Heat'), HTML(value='')))"
      ]
     },
     "metadata": {},
     "output_type": "display_data"
    },
    {
     "data": {
      "application/vnd.jupyter.widget-view+json": {
       "model_id": "56e24554d6684bff906d93360ae8fa21",
       "version_major": 2,
       "version_minor": 0
      },
      "text/plain": [
       "HBox(children=(IntProgress(value=0, description='logHeat'), HTML(value='')))"
      ]
     },
     "metadata": {},
     "output_type": "display_data"
    },
    {
     "data": {
      "application/vnd.jupyter.widget-view+json": {
       "model_id": "6f8adb61b3284764a6fbf21e141547c8",
       "version_major": 2,
       "version_minor": 0
      },
      "text/plain": [
       "HBox(children=(IntProgress(value=0, description='SCT'), HTML(value='')))"
      ]
     },
     "metadata": {},
     "output_type": "display_data"
    },
    {
     "data": {
      "application/vnd.jupyter.widget-view+json": {
       "model_id": "716f92fc1a394af19a24d4e9722951ad",
       "version_major": 2,
       "version_minor": 0
      },
      "text/plain": [
       "HBox(children=(IntProgress(value=0, description='SCCT'), HTML(value='')))"
      ]
     },
     "metadata": {},
     "output_type": "display_data"
    },
    {
     "data": {
      "application/vnd.jupyter.widget-view+json": {
       "model_id": "2c7c8a24c7394698a05694607c716021",
       "version_major": 2,
       "version_minor": 0
      },
      "text/plain": [
       "HBox(children=(IntProgress(value=0, description='RSP'), HTML(value='')))"
      ]
     },
     "metadata": {},
     "output_type": "display_data"
    },
    {
     "data": {
      "application/vnd.jupyter.widget-view+json": {
       "model_id": "37d98fbdeeb84e0d8b648f1d59ab1d3d",
       "version_major": 2,
       "version_minor": 0
      },
      "text/plain": [
       "HBox(children=(IntProgress(value=0, description='FE'), HTML(value='')))"
      ]
     },
     "metadata": {},
     "output_type": "display_data"
    },
    {
     "data": {
      "application/vnd.jupyter.widget-view+json": {
       "model_id": "a044a3f59840415bad9eb6120589eabe",
       "version_major": 2,
       "version_minor": 0
      },
      "text/plain": [
       "HBox(children=(IntProgress(value=0, description='SP-CT'), HTML(value='')))"
      ]
     },
     "metadata": {},
     "output_type": "display_data"
    },
    {
     "data": {
      "application/vnd.jupyter.widget-view+json": {
       "model_id": "64975881a4124ac4b26b638716ba724d",
       "version_major": 2,
       "version_minor": 0
      },
      "text/plain": [
       "HBox(children=(IntProgress(value=0, description='SP'), HTML(value='')))"
      ]
     },
     "metadata": {},
     "output_type": "display_data"
    },
    {
     "data": {
      "application/vnd.jupyter.widget-view+json": {
       "model_id": "666b20a86f9645e9913d28b482c0a0d0",
       "version_major": 2,
       "version_minor": 0
      },
      "text/plain": [
       "HBox(children=(IntProgress(value=0, description='CT'), HTML(value='')))"
      ]
     },
     "metadata": {},
     "output_type": "display_data"
    },
    {
     "name": "stdout",
     "output_type": "stream",
     "text": [
      "\n"
     ]
    }
   ],
   "source": [
    "kMeans_ARI = defaultdict(list)\n",
    "for kernel_name, K_k in tqdm(K.items()):\n",
    "    if kernel_name == 'Walk':\n",
    "        continue\n",
    "    for idx, K_k_g in enumerate(tqdm(K_k, desc=kernel_name)):\n",
    "        try:\n",
    "            y_pred = Ward(2).fit_predict(K_k_g)\n",
    "            ari = adjusted_rand_score(y_true[idx], y_pred)\n",
    "            kMeans_ARI[kernel_name].append(ari)\n",
    "        except ValueError as e:\n",
    "            print(kernel_name, idx)"
   ]
  },
  {
   "cell_type": "code",
   "execution_count": 8,
   "metadata": {},
   "outputs": [
    {
     "data": {
      "text/plain": [
       "[('logComm', 0.9514219071888761),\n",
       " ('SCCT', 0.9200987564628789),\n",
       " ('logHeat', 0.9031123202884812),\n",
       " ('logFor', 0.8451776912756283),\n",
       " ('SCT', 0.8421021409364977),\n",
       " ('Heat', 0.8136692652886808),\n",
       " ('FE', 0.7550376230119106),\n",
       " ('Comm', 0.6639182071293951),\n",
       " ('SP-CT', 0.6387756250890444),\n",
       " ('SP', 0.5157514997292911),\n",
       " ('CT', 0.43552820610879517),\n",
       " ('For', 0.43522626737605086),\n",
       " ('RSP', 0.0074590295865088465),\n",
       " ('pWalk', -0.004419978735051672)]"
      ]
     },
     "execution_count": 8,
     "metadata": {},
     "output_type": "execute_result"
    }
   ],
   "source": [
    "kMeans_ARI_mean = dict([(kernel_name, np.mean(scores)) for kernel_name, scores in kMeans_ARI.items()])\n",
    "sorted(kMeans_ARI_mean.items(), key=lambda x: -x[1])"
   ]
  },
  {
   "cell_type": "markdown",
   "metadata": {},
   "source": [
    "Хорошо, теперь давайте посмотрим на in-out"
   ]
  },
  {
   "cell_type": "code",
   "execution_count": 9,
   "metadata": {},
   "outputs": [
    {
     "data": {
      "application/vnd.jupyter.widget-view+json": {
       "model_id": "055f120d8d3a42dc9147461dd057c739",
       "version_major": 2,
       "version_minor": 0
      },
      "text/plain": [
       "HBox(children=(IntProgress(value=0, max=15), HTML(value='')))"
      ]
     },
     "metadata": {},
     "output_type": "display_data"
    },
    {
     "data": {
      "application/vnd.jupyter.widget-view+json": {
       "model_id": "36aa3cc5c11f4332bd01da05165c4a68",
       "version_major": 2,
       "version_minor": 0
      },
      "text/plain": [
       "HBox(children=(IntProgress(value=0, description='pWalk'), HTML(value='')))"
      ]
     },
     "metadata": {},
     "output_type": "display_data"
    },
    {
     "data": {
      "application/vnd.jupyter.widget-view+json": {
       "model_id": "e63b78975a4c481495731d6b282d1abd",
       "version_major": 2,
       "version_minor": 0
      },
      "text/plain": [
       "HBox(children=(IntProgress(value=0, description='Walk'), HTML(value='')))"
      ]
     },
     "metadata": {},
     "output_type": "display_data"
    },
    {
     "data": {
      "application/vnd.jupyter.widget-view+json": {
       "model_id": "1a5fcbd595dc417bb41b8c6f1be64bd4",
       "version_major": 2,
       "version_minor": 0
      },
      "text/plain": [
       "HBox(children=(IntProgress(value=0, description='For'), HTML(value='')))"
      ]
     },
     "metadata": {},
     "output_type": "display_data"
    },
    {
     "data": {
      "application/vnd.jupyter.widget-view+json": {
       "model_id": "ba300bca4f4e4f259f4c7cbfa3f966c8",
       "version_major": 2,
       "version_minor": 0
      },
      "text/plain": [
       "HBox(children=(IntProgress(value=0, description='logFor'), HTML(value='')))"
      ]
     },
     "metadata": {},
     "output_type": "display_data"
    },
    {
     "data": {
      "application/vnd.jupyter.widget-view+json": {
       "model_id": "20331a11b6db4c4a91a2ad78cadea35d",
       "version_major": 2,
       "version_minor": 0
      },
      "text/plain": [
       "HBox(children=(IntProgress(value=0, description='Comm'), HTML(value='')))"
      ]
     },
     "metadata": {},
     "output_type": "display_data"
    },
    {
     "data": {
      "application/vnd.jupyter.widget-view+json": {
       "model_id": "b399690b6ac948f89ee9731657ee4d98",
       "version_major": 2,
       "version_minor": 0
      },
      "text/plain": [
       "HBox(children=(IntProgress(value=0, description='logComm'), HTML(value='')))"
      ]
     },
     "metadata": {},
     "output_type": "display_data"
    },
    {
     "data": {
      "application/vnd.jupyter.widget-view+json": {
       "model_id": "a657e481de3a4666bfa6f1152593a525",
       "version_major": 2,
       "version_minor": 0
      },
      "text/plain": [
       "HBox(children=(IntProgress(value=0, description='Heat'), HTML(value='')))"
      ]
     },
     "metadata": {},
     "output_type": "display_data"
    },
    {
     "data": {
      "application/vnd.jupyter.widget-view+json": {
       "model_id": "7f3919203c9b47aa892f4b7bf0f5d747",
       "version_major": 2,
       "version_minor": 0
      },
      "text/plain": [
       "HBox(children=(IntProgress(value=0, description='logHeat'), HTML(value='')))"
      ]
     },
     "metadata": {},
     "output_type": "display_data"
    },
    {
     "data": {
      "application/vnd.jupyter.widget-view+json": {
       "model_id": "ee827349960a4d219a5ff49fd5d6ce7d",
       "version_major": 2,
       "version_minor": 0
      },
      "text/plain": [
       "HBox(children=(IntProgress(value=0, description='SCT'), HTML(value='')))"
      ]
     },
     "metadata": {},
     "output_type": "display_data"
    },
    {
     "data": {
      "application/vnd.jupyter.widget-view+json": {
       "model_id": "8cef0878bcb94ffe822644480a2d7391",
       "version_major": 2,
       "version_minor": 0
      },
      "text/plain": [
       "HBox(children=(IntProgress(value=0, description='SCCT'), HTML(value='')))"
      ]
     },
     "metadata": {},
     "output_type": "display_data"
    },
    {
     "data": {
      "application/vnd.jupyter.widget-view+json": {
       "model_id": "c64e01c5eba64800a87a1befa3b84429",
       "version_major": 2,
       "version_minor": 0
      },
      "text/plain": [
       "HBox(children=(IntProgress(value=0, description='RSP'), HTML(value='')))"
      ]
     },
     "metadata": {},
     "output_type": "display_data"
    },
    {
     "data": {
      "application/vnd.jupyter.widget-view+json": {
       "model_id": "36fabf97cc734b8c82c63eb590b3925e",
       "version_major": 2,
       "version_minor": 0
      },
      "text/plain": [
       "HBox(children=(IntProgress(value=0, description='FE'), HTML(value='')))"
      ]
     },
     "metadata": {},
     "output_type": "display_data"
    },
    {
     "data": {
      "application/vnd.jupyter.widget-view+json": {
       "model_id": "93f99bbdcd284ba099306e26bb63f965",
       "version_major": 2,
       "version_minor": 0
      },
      "text/plain": [
       "HBox(children=(IntProgress(value=0, description='SP-CT'), HTML(value='')))"
      ]
     },
     "metadata": {},
     "output_type": "display_data"
    },
    {
     "data": {
      "application/vnd.jupyter.widget-view+json": {
       "model_id": "97663abcee094f03a4f886340170b2e6",
       "version_major": 2,
       "version_minor": 0
      },
      "text/plain": [
       "HBox(children=(IntProgress(value=0, description='SP'), HTML(value='')))"
      ]
     },
     "metadata": {},
     "output_type": "display_data"
    },
    {
     "data": {
      "application/vnd.jupyter.widget-view+json": {
       "model_id": "4ef3cc80f9f2480ab4346dc474d147f9",
       "version_major": 2,
       "version_minor": 0
      },
      "text/plain": [
       "HBox(children=(IntProgress(value=0, description='CT'), HTML(value='')))"
      ]
     },
     "metadata": {},
     "output_type": "display_data"
    },
    {
     "name": "stdout",
     "output_type": "stream",
     "text": [
      "\n"
     ]
    }
   ],
   "source": [
    "rq = defaultdict(list)\n",
    "for kernel_name, D_m in tqdm(D.items()):\n",
    "    for idx, D_m_g in enumerate(tqdm(D_m, desc=kernel_name)):\n",
    "        try:\n",
    "            tpr, fpr = RejectCurve._reject_curve(D_m_g, y_true[idx], need_shuffle=True)\n",
    "            rq[kernel_name].append(auc(tpr, fpr))\n",
    "        except ValueError as e:\n",
    "            print(kernel_name, idx)"
   ]
  },
  {
   "cell_type": "code",
   "execution_count": 10,
   "metadata": {},
   "outputs": [
    {
     "data": {
      "text/plain": [
       "[('logComm', 0.9589525453061225),\n",
       " ('SCCT', 0.9294306073469387),\n",
       " ('Heat', 0.8100785534693877),\n",
       " ('Comm', 0.8094681518367348),\n",
       " ('FE', 0.8036966318367347),\n",
       " ('SCT', 0.7784046742857142),\n",
       " ('RSP', 0.7507755199999999),\n",
       " ('logFor', 0.7196901453061223),\n",
       " ('logHeat', 0.691496140408163),\n",
       " ('SP', 0.6151352244897959),\n",
       " ('SP-CT', 0.6065181289795918),\n",
       " ('CT', 0.5420663167346939),\n",
       " ('For', 0.5401605893877551),\n",
       " ('Walk', 0.49687437643214716),\n",
       " ('pWalk', 0.4967798481632652)]"
      ]
     },
     "execution_count": 10,
     "metadata": {},
     "output_type": "execute_result"
    }
   ],
   "source": [
    "rq_avg = dict([(kernel_name, np.mean(scores)) for kernel_name, scores in rq.items()])\n",
    "sorted(rq_avg.items(), key=lambda x: -x[1])"
   ]
  },
  {
   "cell_type": "markdown",
   "metadata": {},
   "source": [
    "И теперь посмотрим на триплеты"
   ]
  },
  {
   "cell_type": "code",
   "execution_count": 11,
   "metadata": {},
   "outputs": [
    {
     "data": {
      "application/vnd.jupyter.widget-view+json": {
       "model_id": "cce3901add5449d9b9ff83ab20b3a3dd",
       "version_major": 2,
       "version_minor": 0
      },
      "text/plain": [
       "HBox(children=(IntProgress(value=0, max=15), HTML(value='')))"
      ]
     },
     "metadata": {},
     "output_type": "display_data"
    },
    {
     "data": {
      "application/vnd.jupyter.widget-view+json": {
       "model_id": "f4ff8025ac074538a70ebeaab416113b",
       "version_major": 2,
       "version_minor": 0
      },
      "text/plain": [
       "HBox(children=(IntProgress(value=0, description='pWalk'), HTML(value='')))"
      ]
     },
     "metadata": {},
     "output_type": "display_data"
    },
    {
     "data": {
      "application/vnd.jupyter.widget-view+json": {
       "model_id": "12ecc351d2664d6a8796f7bb57162923",
       "version_major": 2,
       "version_minor": 0
      },
      "text/plain": [
       "HBox(children=(IntProgress(value=0, description='Walk'), HTML(value='')))"
      ]
     },
     "metadata": {},
     "output_type": "display_data"
    },
    {
     "data": {
      "application/vnd.jupyter.widget-view+json": {
       "model_id": "be86e64c0f2845f2970950661c1d6a7a",
       "version_major": 2,
       "version_minor": 0
      },
      "text/plain": [
       "HBox(children=(IntProgress(value=0, description='For'), HTML(value='')))"
      ]
     },
     "metadata": {},
     "output_type": "display_data"
    },
    {
     "data": {
      "application/vnd.jupyter.widget-view+json": {
       "model_id": "d13ef6ca84ce4d09bc4bb60b0f307979",
       "version_major": 2,
       "version_minor": 0
      },
      "text/plain": [
       "HBox(children=(IntProgress(value=0, description='logFor'), HTML(value='')))"
      ]
     },
     "metadata": {},
     "output_type": "display_data"
    },
    {
     "data": {
      "application/vnd.jupyter.widget-view+json": {
       "model_id": "d2bdc3727d2945459f05bebdf85f4db1",
       "version_major": 2,
       "version_minor": 0
      },
      "text/plain": [
       "HBox(children=(IntProgress(value=0, description='Comm'), HTML(value='')))"
      ]
     },
     "metadata": {},
     "output_type": "display_data"
    },
    {
     "data": {
      "application/vnd.jupyter.widget-view+json": {
       "model_id": "5683ce10966544ab942ef6406bc4958a",
       "version_major": 2,
       "version_minor": 0
      },
      "text/plain": [
       "HBox(children=(IntProgress(value=0, description='logComm'), HTML(value='')))"
      ]
     },
     "metadata": {},
     "output_type": "display_data"
    },
    {
     "data": {
      "application/vnd.jupyter.widget-view+json": {
       "model_id": "06256055594542b385f4f7df6cebd6aa",
       "version_major": 2,
       "version_minor": 0
      },
      "text/plain": [
       "HBox(children=(IntProgress(value=0, description='Heat'), HTML(value='')))"
      ]
     },
     "metadata": {},
     "output_type": "display_data"
    },
    {
     "data": {
      "application/vnd.jupyter.widget-view+json": {
       "model_id": "b9b5d355497d4e27a1d3edffe8384c31",
       "version_major": 2,
       "version_minor": 0
      },
      "text/plain": [
       "HBox(children=(IntProgress(value=0, description='logHeat'), HTML(value='')))"
      ]
     },
     "metadata": {},
     "output_type": "display_data"
    },
    {
     "data": {
      "application/vnd.jupyter.widget-view+json": {
       "model_id": "3d22054e89834661bfb60aadfebf8e97",
       "version_major": 2,
       "version_minor": 0
      },
      "text/plain": [
       "HBox(children=(IntProgress(value=0, description='SCT'), HTML(value='')))"
      ]
     },
     "metadata": {},
     "output_type": "display_data"
    },
    {
     "data": {
      "application/vnd.jupyter.widget-view+json": {
       "model_id": "6601d400fb824418acdf0874b10d89a8",
       "version_major": 2,
       "version_minor": 0
      },
      "text/plain": [
       "HBox(children=(IntProgress(value=0, description='SCCT'), HTML(value='')))"
      ]
     },
     "metadata": {},
     "output_type": "display_data"
    },
    {
     "data": {
      "application/vnd.jupyter.widget-view+json": {
       "model_id": "a87217e4463540f5a9e0af6fda57d151",
       "version_major": 2,
       "version_minor": 0
      },
      "text/plain": [
       "HBox(children=(IntProgress(value=0, description='RSP'), HTML(value='')))"
      ]
     },
     "metadata": {},
     "output_type": "display_data"
    },
    {
     "data": {
      "application/vnd.jupyter.widget-view+json": {
       "model_id": "faf69e947f024df8bca76fceb24dd295",
       "version_major": 2,
       "version_minor": 0
      },
      "text/plain": [
       "HBox(children=(IntProgress(value=0, description='FE'), HTML(value='')))"
      ]
     },
     "metadata": {},
     "output_type": "display_data"
    },
    {
     "data": {
      "application/vnd.jupyter.widget-view+json": {
       "model_id": "ec55c4ce876e4c3090090e4ff167a0fd",
       "version_major": 2,
       "version_minor": 0
      },
      "text/plain": [
       "HBox(children=(IntProgress(value=0, description='SP-CT'), HTML(value='')))"
      ]
     },
     "metadata": {},
     "output_type": "display_data"
    },
    {
     "data": {
      "application/vnd.jupyter.widget-view+json": {
       "model_id": "79654739c88045068b551f218828ac95",
       "version_major": 2,
       "version_minor": 0
      },
      "text/plain": [
       "HBox(children=(IntProgress(value=0, description='SP'), HTML(value='')))"
      ]
     },
     "metadata": {},
     "output_type": "display_data"
    },
    {
     "data": {
      "application/vnd.jupyter.widget-view+json": {
       "model_id": "4709f9e1df34496fbcfb583d4eded05d",
       "version_major": 2,
       "version_minor": 0
      },
      "text/plain": [
       "HBox(children=(IntProgress(value=0, description='CT'), HTML(value='')))"
      ]
     },
     "metadata": {},
     "output_type": "display_data"
    },
    {
     "name": "stdout",
     "output_type": "stream",
     "text": [
      "\n"
     ]
    }
   ],
   "source": [
    "triplet = defaultdict(list)\n",
    "for kernel_name, D_k in tqdm(D.items()):\n",
    "    for idx, D_k_g in enumerate(tqdm(D_k, desc=kernel_name)):\n",
    "        triplet[kernel_name].append(triplet_measure(y_true[idx], D_k_g))"
   ]
  },
  {
   "cell_type": "code",
   "execution_count": 12,
   "metadata": {},
   "outputs": [
    {
     "data": {
      "text/plain": [
       "[('logComm', 0.9607799591836733),\n",
       " ('SCCT', 0.9189483673469386),\n",
       " ('Heat', 0.8749344897959181),\n",
       " ('Comm', 0.8267717959183674),\n",
       " ('FE', 0.8096712653061228),\n",
       " ('SCT', 0.8086331836734695),\n",
       " ('logHeat', 0.7712059183673468),\n",
       " ('logFor', 0.7553723673469388),\n",
       " ('RSP', 0.7476312653061225),\n",
       " ('SP-CT', 0.6208564489795919),\n",
       " ('CT', 0.5614335102040816),\n",
       " ('For', 0.5590151020408163),\n",
       " ('pWalk', 0.4962149795918367),\n",
       " ('SP', 0.3031349387755102),\n",
       " ('Walk', 0.03242591836734694)]"
      ]
     },
     "execution_count": 12,
     "metadata": {},
     "output_type": "execute_result"
    }
   ],
   "source": [
    "triplet_avg = dict([(kernel_name, np.mean(scores)) for kernel_name, scores in triplet.items()])\n",
    "sorted(triplet_avg.items(), key=lambda x: -x[1])"
   ]
  },
  {
   "cell_type": "code",
   "execution_count": 13,
   "metadata": {},
   "outputs": [],
   "source": [
    "good_results = ['pWalk', 'For', 'logFor', 'Comm', 'logComm', 'Heat', 'logHeat', 'SCT', 'SCCT', 'RSP', 'FE', 'SP-CT', 'SP', 'CT']"
   ]
  },
  {
   "cell_type": "code",
   "execution_count": 14,
   "metadata": {},
   "outputs": [],
   "source": [
    "chain_kMeans_ARI = np.array(list(itertools.chain(*[kMeans_ARI[x] for x in good_results])))\n",
    "chain_rq = np.array(list(itertools.chain(*[rq[x] for x in good_results])))\n",
    "chain_triplet = np.array(list(itertools.chain(*[triplet[x] for x in good_results])))\n",
    "\n",
    "chain_of_chains = [chain_kMeans_ARI, chain_rq, chain_triplet]"
   ]
  },
  {
   "cell_type": "code",
   "execution_count": 15,
   "metadata": {},
   "outputs": [],
   "source": [
    "a = defaultdict(lambda: defaultdict(lambda: 0))\n",
    "for i1, c1 in enumerate(chain_of_chains):\n",
    "    for i2, c2 in enumerate(chain_of_chains):\n",
    "        a[i1][i2] = ranking(c1, c2)"
   ]
  },
  {
   "cell_type": "code",
   "execution_count": 16,
   "metadata": {},
   "outputs": [
    {
     "data": {
      "text/plain": [
       "[[1.0, 0.6227283658235103, 0.6904395559822807],\n",
       " [0.6227283658235103, 1.0, 0.9413330786684804],\n",
       " [0.6904395559822807, 0.9413330786684804, 1.0]]"
      ]
     },
     "execution_count": 16,
     "metadata": {},
     "output_type": "execute_result"
    }
   ],
   "source": [
    "[[a[i][j] for j in range(3)] for i in range(3)]"
   ]
  },
  {
   "cell_type": "code",
   "execution_count": 17,
   "metadata": {},
   "outputs": [
    {
     "data": {
      "image/png": "[encoded data removed]",
      "text/plain": [
       "<Figure size 432x288 with 1 Axes>"
      ]
     },
     "metadata": {},
     "output_type": "display_data"
    }
   ],
   "source": [
    "plt.imshow([[np.abs(a[i][j]) for j in range(3)] for i in range(3)], vmin=0, vmax=1)\n",
    "plt.xticks(range(3), ['Ward ARI', 'in-out AUC', 'triplets'], rotation='vertical')\n",
    "plt.yticks(range(3), ['Ward ARI', 'in-out AUC', 'triplets']);"
   ]
  },
  {
   "cell_type": "code",
   "execution_count": 18,
   "metadata": {
    "scrolled": false
   },
   "outputs": [
    {
     "data": {
      "image/png": "[encoded data removed]",
      "text/plain": [
       "<Figure size 1080x1080 with 16 Axes>"
      ]
     },
     "metadata": {},
     "output_type": "display_data"
    }
   ],
   "source": [
    "fig, ax = plt.subplots(4, 4, figsize=(15, 15))\n",
    "for idx, x in enumerate(good_results):\n",
    "    chain_of_chains = [np.array(kMeans_ARI[x]), np.array(rq[x]), np.array(triplet[x])]\n",
    "    \n",
    "    a = defaultdict(lambda: defaultdict(lambda: 0))\n",
    "    for i1, c1 in enumerate(chain_of_chains):\n",
    "        for i2, c2 in enumerate(chain_of_chains):\n",
    "            a[i1][i2] = ranking(c1, c2)\n",
    "            \n",
    "    ax[idx // 4][idx % 4].imshow([[np.abs(a[i][j]) for j in range(3)] for i in range(3)], vmin=0, vmax=1)\n",
    "    ax[idx // 4][idx % 4].set_xticks(range(3), ['Ward ARI', 'in-out AUC', 'triplets'])\n",
    "    ax[idx // 4][idx % 4].set_yticks(range(3), ['Ward ARI', 'in-out AUC', 'triplets'])\n",
    "    ax[idx // 4][idx % 4].set_title(x)\n",
    "#     plt.show()"
   ]
  },
  {
   "cell_type": "code",
   "execution_count": 19,
   "metadata": {},
   "outputs": [],
   "source": [
    "chain_kMeans_ARI_avg = np.array(list([kMeans_ARI_mean[x] for x in good_results]))\n",
    "chain_rq_avg = np.array(list([rq_avg[x] for x in good_results]))\n",
    "chain_triplet_avg = np.array(list([triplet_avg[x] for x in good_results]))\n",
    "\n",
    "chain_of_chains_avg = [chain_kMeans_ARI_avg, chain_rq_avg, chain_triplet_avg]"
   ]
  },
  {
   "cell_type": "code",
   "execution_count": 20,
   "metadata": {},
   "outputs": [],
   "source": [
    "a = defaultdict(lambda: defaultdict(lambda: 0))\n",
    "for i1, c1 in enumerate(chain_of_chains_avg):\n",
    "    for i2, c2 in enumerate(chain_of_chains_avg):\n",
    "        a[i1][i2] = ranking(c1, c2)"
   ]
  },
  {
   "cell_type": "code",
   "execution_count": 21,
   "metadata": {},
   "outputs": [
    {
     "data": {
      "text/plain": [
       "defaultdict(<function __main__.<lambda>()>,\n",
       "            {0: defaultdict(<function __main__.<lambda>.<locals>.<lambda>()>,\n",
       "                         {0: 1.0,\n",
       "                          1: 0.7274725274725276,\n",
       "                          2: 0.789010989010989}),\n",
       "             1: defaultdict(<function __main__.<lambda>.<locals>.<lambda>()>,\n",
       "                         {0: 0.7274725274725276,\n",
       "                          1: 1.0,\n",
       "                          2: 0.9384615384615385}),\n",
       "             2: defaultdict(<function __main__.<lambda>.<locals>.<lambda>()>,\n",
       "                         {0: 0.789010989010989,\n",
       "                          1: 0.9384615384615385,\n",
       "                          2: 1.0})})"
      ]
     },
     "execution_count": 21,
     "metadata": {},
     "output_type": "execute_result"
    }
   ],
   "source": [
    "a"
   ]
  },
  {
   "cell_type": "code",
   "execution_count": 22,
   "metadata": {},
   "outputs": [
    {
     "data": {
      "image/png": "[encoded data removed]",
      "text/plain": [
       "<Figure size 432x288 with 1 Axes>"
      ]
     },
     "metadata": {},
     "output_type": "display_data"
    }
   ],
   "source": [
    "plt.imshow([[np.abs(a[i][j]) for j in range(3)] for i in range(3)], vmin=0, vmax=1)\n",
    "plt.xticks(range(3), ['Ward ARI', 'in-out AUC', 'triplets'], rotation='vertical')\n",
    "plt.yticks(range(3), ['Ward ARI', 'in-out AUC', 'triplets']);"
   ]
  },
  {
   "cell_type": "code",
   "execution_count": null,
   "metadata": {},
   "outputs": [],
   "source": []
  }
 ],
 "metadata": {
  "kernelspec": {
   "display_name": "Python 3",
   "language": "python",
   "name": "python3"
  },
  "language_info": {
   "codemirror_mode": {
    "name": "ipython",
    "version": 3
   },
   "file_extension": ".py",
   "mimetype": "text/x-python",
   "name": "python",
   "nbconvert_exporter": "python",
   "pygments_lexer": "ipython3",
   "version": "3.7.2"
  }
 },
 "nbformat": 4,
 "nbformat_minor": 2
}
