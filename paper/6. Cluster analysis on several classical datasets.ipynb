{
 "cells": [
  {
   "cell_type": "markdown",
   "metadata": {},
   "source": [
    "# Do logarithmic proximity measures outperform plain ones in graph clustering?"
   ]
  },
  {
   "cell_type": "code",
   "execution_count": 1,
   "metadata": {},
   "outputs": [],
   "source": [
    "import os\n",
    "os.environ[\"OPENBLAS_NUM_THREADS\"] = \"1\""
   ]
  },
  {
   "cell_type": "code",
   "execution_count": 2,
   "metadata": {},
   "outputs": [],
   "source": [
    "import sys\n",
    "import inspect\n",
    "from collections import defaultdict\n",
    "from contextlib import contextmanager\n",
    "from itertools import combinations, product\n",
    "import pickle\n",
    "import numpy as np\n",
    "import matplotlib.pyplot as plt\n",
    "%matplotlib inline\n",
    "from tqdm import tqdm_notebook as tqdm\n",
    "from sklearn.metrics import adjusted_rand_score"
   ]
  },
  {
   "cell_type": "code",
   "execution_count": 3,
   "metadata": {},
   "outputs": [],
   "source": [
    "import warnings\n",
    "warnings.filterwarnings(\"ignore\")"
   ]
  },
  {
   "cell_type": "code",
   "execution_count": 4,
   "metadata": {},
   "outputs": [],
   "source": [
    "sys.path.append('..')\n",
    "from py_graphs.graphs.generator import StochasticBlockModel\n",
    "from py_graphs.graphs.dataset import football, polbooks, zachary, news_2cl_1, news_2cl_2, news_2cl_3, news_3cl_1, news_3cl_2, news_3cl_3\n",
    "from py_graphs.measure import *\n",
    "from py_graphs.measure import H_kernels_plus_RSP_FE\n",
    "from py_graphs.cluster.ward import Ward\n",
    "from py_graphs.colors import d3, d3_category20\n",
    "from py_graphs.scenario import *\n",
    "from py_graphs.scorer import copeland"
   ]
  },
  {
   "cell_type": "code",
   "execution_count": 5,
   "metadata": {},
   "outputs": [],
   "source": [
    "def load_or_calc_and_save(filename):\n",
    "    def my_decorator(func):\n",
    "        def wrapped():\n",
    "            if os.path.exists(filename):\n",
    "                print('File exist! Skip calculations')\n",
    "                with open(filename, 'rb') as f:\n",
    "                    result = pickle.load(f)\n",
    "            else:\n",
    "                result = func()\n",
    "                with open(filename, 'wb') as f:\n",
    "                    pickle.dump(result, f)\n",
    "            return result\n",
    "        return wrapped\n",
    "    return my_decorator"
   ]
  },
  {
   "cell_type": "code",
   "execution_count": 6,
   "metadata": {},
   "outputs": [],
   "source": [
    "def ddict2dict(d):\n",
    "    for k, v in d.items():\n",
    "        if isinstance(v, dict):\n",
    "            d[k] = ddict2dict(v)\n",
    "    return dict(d)"
   ]
  },
  {
   "cell_type": "markdown",
   "metadata": {},
   "source": [
    "## 6. Cluster analysis on several classical datasets\n",
    "\n",
    "For each dataset and each measure family, we sorted 55 values of the family parameter in the descending order of the\n",
    "corresponding ARI. ARI against the rank of the family parameter value is shown in Fig. 9."
   ]
  },
  {
   "cell_type": "code",
   "execution_count": 11,
   "metadata": {},
   "outputs": [],
   "source": [
    "measures_right_order = [\n",
    "    'pWalk H',\n",
    "    'Walk H',\n",
    "    'For H',\n",
    "    'logFor H',\n",
    "    'Comm H',\n",
    "    'logComm H',\n",
    "    'Heat H',\n",
    "    'logHeat H',\n",
    "    'SCT H',\n",
    "    'SCCT H',\n",
    "    'RSP K',\n",
    "    'FE K',    \n",
    "    'SP-CT H'\n",
    "]\n",
    "all_datasets = [\n",
    "    football,\n",
    "    polbooks,\n",
    "    # polblogs,\n",
    "    zachary,\n",
    "    news_2cl_1, news_2cl_2, news_2cl_3,\n",
    "#     news_3cl_1, news_3cl_2, news_3cl_3,\n",
    "#     news_5cl_1, news_5cl_2, news_5cl_3\n",
    "]\n"
   ]
  },
  {
   "cell_type": "code",
   "execution_count": 12,
   "metadata": {
    "scrolled": false
   },
   "outputs": [
    {
     "name": "stdout",
     "output_type": "stream",
     "text": [
      "\n",
      "\n",
      "\n",
      "\n",
      "\n",
      "\n",
      "\n",
      "\n",
      "\n"
     ]
    },
    {
     "data": {
      "application/vnd.jupyter.widget-view+json": {
       "model_id": "36336eafe14d41e89fd249348e03e74b",
       "version_major": 2,
       "version_minor": 0
      },
      "text/html": [
       "<p>Failed to display Jupyter Widget of type <code>HBox</code>.</p>\n",
       "<p>\n",
       "  If you're reading this message in the Jupyter Notebook or JupyterLab Notebook, it may mean\n",
       "  that the widgets JavaScript is still loading. If this message persists, it\n",
       "  likely means that the widgets JavaScript library is either not installed or\n",
       "  not enabled. See the <a href=\"https://ipywidgets.readthedocs.io/en/stable/user_install.html\">Jupyter\n",
       "  Widgets Documentation</a> for setup instructions.\n",
       "</p>\n",
       "<p>\n",
       "  If you're reading this message in another frontend (for example, a static\n",
       "  rendering on GitHub or <a href=\"https://nbviewer.jupyter.org/\">NBViewer</a>),\n",
       "  it may mean that your frontend doesn't currently support widgets.\n",
       "</p>\n"
      ],
      "text/plain": [
       "HBox(children=(IntProgress(value=0, description='football', max=13), HTML(value='')))"
      ]
     },
     "metadata": {},
     "output_type": "display_data"
    },
    {
     "data": {
      "application/vnd.jupyter.widget-view+json": {
       "model_id": "0de0171a0c054ad1b45aefe2ee5f2ddc",
       "version_major": 2,
       "version_minor": 0
      },
      "text/html": [
       "<p>Failed to display Jupyter Widget of type <code>HBox</code>.</p>\n",
       "<p>\n",
       "  If you're reading this message in the Jupyter Notebook or JupyterLab Notebook, it may mean\n",
       "  that the widgets JavaScript is still loading. If this message persists, it\n",
       "  likely means that the widgets JavaScript library is either not installed or\n",
       "  not enabled. See the <a href=\"https://ipywidgets.readthedocs.io/en/stable/user_install.html\">Jupyter\n",
       "  Widgets Documentation</a> for setup instructions.\n",
       "</p>\n",
       "<p>\n",
       "  If you're reading this message in another frontend (for example, a static\n",
       "  rendering on GitHub or <a href=\"https://nbviewer.jupyter.org/\">NBViewer</a>),\n",
       "  it may mean that your frontend doesn't currently support widgets.\n",
       "</p>\n"
      ],
      "text/plain": [
       "HBox(children=(IntProgress(value=0, description='zachary', max=13), HTML(value='')))"
      ]
     },
     "metadata": {},
     "output_type": "display_data"
    },
    {
     "data": {
      "application/vnd.jupyter.widget-view+json": {
       "model_id": "448dba73affc488ead8174bda135d9be",
       "version_major": 2,
       "version_minor": 0
      },
      "text/html": [
       "<p>Failed to display Jupyter Widget of type <code>HBox</code>.</p>\n",
       "<p>\n",
       "  If you're reading this message in the Jupyter Notebook or JupyterLab Notebook, it may mean\n",
       "  that the widgets JavaScript is still loading. If this message persists, it\n",
       "  likely means that the widgets JavaScript library is either not installed or\n",
       "  not enabled. See the <a href=\"https://ipywidgets.readthedocs.io/en/stable/user_install.html\">Jupyter\n",
       "  Widgets Documentation</a> for setup instructions.\n",
       "</p>\n",
       "<p>\n",
       "  If you're reading this message in another frontend (for example, a static\n",
       "  rendering on GitHub or <a href=\"https://nbviewer.jupyter.org/\">NBViewer</a>),\n",
       "  it may mean that your frontend doesn't currently support widgets.\n",
       "</p>\n"
      ],
      "text/plain": [
       "HBox(children=(IntProgress(value=0, description='polbooks', max=13), HTML(value='')))"
      ]
     },
     "metadata": {},
     "output_type": "display_data"
    },
    {
     "data": {
      "application/vnd.jupyter.widget-view+json": {
       "model_id": "e52ff6dcd8494525a8bd7becce0f3e2a",
       "version_major": 2,
       "version_minor": 0
      },
      "text/html": [
       "<p>Failed to display Jupyter Widget of type <code>HBox</code>.</p>\n",
       "<p>\n",
       "  If you're reading this message in the Jupyter Notebook or JupyterLab Notebook, it may mean\n",
       "  that the widgets JavaScript is still loading. If this message persists, it\n",
       "  likely means that the widgets JavaScript library is either not installed or\n",
       "  not enabled. See the <a href=\"https://ipywidgets.readthedocs.io/en/stable/user_install.html\">Jupyter\n",
       "  Widgets Documentation</a> for setup instructions.\n",
       "</p>\n",
       "<p>\n",
       "  If you're reading this message in another frontend (for example, a static\n",
       "  rendering on GitHub or <a href=\"https://nbviewer.jupyter.org/\">NBViewer</a>),\n",
       "  it may mean that your frontend doesn't currently support widgets.\n",
       "</p>\n"
      ],
      "text/plain": [
       "HBox(children=(IntProgress(value=0, description='news_2cl_1', max=13), HTML(value='')))"
      ]
     },
     "metadata": {},
     "output_type": "display_data"
    },
    {
     "data": {
      "application/vnd.jupyter.widget-view+json": {
       "model_id": "146d18ace0484f6fa3d19e94266c4cf0",
       "version_major": 2,
       "version_minor": 0
      },
      "text/html": [
       "<p>Failed to display Jupyter Widget of type <code>HBox</code>.</p>\n",
       "<p>\n",
       "  If you're reading this message in the Jupyter Notebook or JupyterLab Notebook, it may mean\n",
       "  that the widgets JavaScript is still loading. If this message persists, it\n",
       "  likely means that the widgets JavaScript library is either not installed or\n",
       "  not enabled. See the <a href=\"https://ipywidgets.readthedocs.io/en/stable/user_install.html\">Jupyter\n",
       "  Widgets Documentation</a> for setup instructions.\n",
       "</p>\n",
       "<p>\n",
       "  If you're reading this message in another frontend (for example, a static\n",
       "  rendering on GitHub or <a href=\"https://nbviewer.jupyter.org/\">NBViewer</a>),\n",
       "  it may mean that your frontend doesn't currently support widgets.\n",
       "</p>\n"
      ],
      "text/plain": [
       "HBox(children=(IntProgress(value=0, description='news_2cl_2', max=13), HTML(value='')))"
      ]
     },
     "metadata": {},
     "output_type": "display_data"
    },
    {
     "data": {
      "application/vnd.jupyter.widget-view+json": {
       "model_id": "7f7c2ca8c6f94277a4334708ac76d346",
       "version_major": 2,
       "version_minor": 0
      },
      "text/html": [
       "<p>Failed to display Jupyter Widget of type <code>HBox</code>.</p>\n",
       "<p>\n",
       "  If you're reading this message in the Jupyter Notebook or JupyterLab Notebook, it may mean\n",
       "  that the widgets JavaScript is still loading. If this message persists, it\n",
       "  likely means that the widgets JavaScript library is either not installed or\n",
       "  not enabled. See the <a href=\"https://ipywidgets.readthedocs.io/en/stable/user_install.html\">Jupyter\n",
       "  Widgets Documentation</a> for setup instructions.\n",
       "</p>\n",
       "<p>\n",
       "  If you're reading this message in another frontend (for example, a static\n",
       "  rendering on GitHub or <a href=\"https://nbviewer.jupyter.org/\">NBViewer</a>),\n",
       "  it may mean that your frontend doesn't currently support widgets.\n",
       "</p>\n"
      ],
      "text/plain": [
       "HBox(children=(IntProgress(value=0, description='news_2cl_3', max=13), HTML(value='')))"
      ]
     },
     "metadata": {},
     "output_type": "display_data"
    },
    {
     "name": "stdout",
     "output_type": "stream",
     "text": [
      "\n",
      "\n",
      "\n",
      "\n",
      "\n",
      "\n"
     ]
    }
   ],
   "source": [
    "def perform(classic_plot, dataset):\n",
    "    dataset_results = {}\n",
    "    graphs, info = dataset\n",
    "    for measure_class in tqdm(H_kernels_plus_RSP_FE, desc=info['name']):\n",
    "        x, y, error = classic_plot.perform(Ward, measure_class, graphs, 2, n_jobs=1)\n",
    "        _, best_y = sorted(zip(x, y), key=lambda x: -x[1])[0]\n",
    "        mean_y = np.mean(y)\n",
    "        dataset_results[measure_class.name] = (best_y, mean_y)\n",
    "    return info['name'], dataset_results\n",
    "\n",
    "\n",
    "@load_or_calc_and_save('results/6_1.pkl')\n",
    "def calc():\n",
    "    classic_plot = ParallelByGraphs(adjusted_rand_score, np.linspace(0, 1, 51), progressbar=False)\n",
    "    return dict(Parallel(n_jobs=9)(delayed(perform)(classic_plot, dataset) for dataset in all_datasets))\n",
    "\n",
    "results = calc()"
   ]
  },
  {
   "cell_type": "code",
   "execution_count": 13,
   "metadata": {},
   "outputs": [
    {
     "data": {
      "text/plain": [
       "{'football': {'Comm H': (0.14197724019447658, 0.12438597991220736),\n",
       "  'FE K': (0.12841915388744732, 0.12811841333567556),\n",
       "  'For H': (0.14107416881713133, 0.12772682230672402),\n",
       "  'Heat H': (0.14107416881713133, 0.12747759890966803),\n",
       "  'RSP K': (0.12841915388744732, 0.060206619279147625),\n",
       "  'SCCT H': (0.12841915388744732, 0.12597753726863148),\n",
       "  'SCT H': (0.12841915388744732, 0.12597753726863148),\n",
       "  'SP-CT H': (0.14666565762831613, 0.1287769284706016),\n",
       "  'Walk H': (0.1467775645582882, 0.12903942239945781),\n",
       "  'logComm H': (0.14660373425393092, 0.12940169007242025),\n",
       "  'logFor H': (0.12841915388744732, 0.12841915388744732),\n",
       "  'logHeat H': (0.12841915388744732, 0.12821124629646688),\n",
       "  'pWalk H': (0.14197724019447658, 0.13169438510514886)},\n",
       " 'news_2cl_1': {'Comm H': (0.40830925407204083, 0.02906726568347924),\n",
       "  'FE K': (0.6881211627231513, 0.529622905090953),\n",
       "  'For H': (0.40830925407204083, 0.008166185081440817),\n",
       "  'Heat H': (0.40830925407204083, 0.008166185081440817),\n",
       "  'RSP K': (0.5539244847485574, 0.47799148204195036),\n",
       "  'SCCT H': (0.8095228044996939, 0.5712502490129554),\n",
       "  'SCT H': (0.7826803528467116, 0.23216191572641218),\n",
       "  'SP-CT H': (0.6798227312559937, 0.5024455349266281),\n",
       "  'Walk H': (0.7915778476604546, 0.6728833813722948),\n",
       "  'logComm H': (0.8460144185603601, 0.5128774799842615),\n",
       "  'logFor H': (0.8185703915117134, 0.6961876644185033),\n",
       "  'logHeat H': (0.809523043792112, 0.5178142498978797),\n",
       "  'pWalk H': (0.40830925407204083, 0.02708577883057734)},\n",
       " 'news_2cl_2': {'Comm H': (0.22646662533052753, 0.014591963423570881),\n",
       "  'FE K': (0.6618601842259785, 0.5324552414496625),\n",
       "  'For H': (0.22646662533052753, 0.0045750369129562846),\n",
       "  'Heat H': (0.22646662533052753, 0.0045709964079083815),\n",
       "  'RSP K': (0.6455663664391379, 0.5157533670951439),\n",
       "  'SCCT H': (0.7119849753641504, 0.4646126890228981),\n",
       "  'SCT H': (0.6214857272179416, 0.2508836952270427),\n",
       "  'SP-CT H': (0.6294705936057192, 0.5332116241965612),\n",
       "  'Walk H': (0.6783686035769766, 0.517415896030298),\n",
       "  'logComm H': (0.7905890344040364, 0.579119493119763),\n",
       "  'logFor H': (0.6455644870572793, 0.4833698252711778),\n",
       "  'logHeat H': (0.6455644870572793, 0.3944799306486103),\n",
       "  'pWalk H': (0.22646662533052753, 0.0060098323877422555)},\n",
       " 'news_2cl_3': {'Comm H': (0.4266218208136627, 0.16712272264869862),\n",
       "  'FE K': (0.8456434087699234, 0.7989007744407771),\n",
       "  'For H': (0.10331198656137057, 0.0020909251775572835),\n",
       "  'Heat H': (0.10331198656137057, 0.0020909251775572835),\n",
       "  'RSP K': (0.8272558257572553, 0.7773189647765583),\n",
       "  'SCCT H': (0.8924944221757952, 0.8085038871692726),\n",
       "  'SCT H': (0.8272557167044813, 0.6953371556403135),\n",
       "  'SP-CT H': (0.8549130295074061, 0.8058005082639487),\n",
       "  'Walk H': (0.8181371682533269, 0.67521159896724),\n",
       "  'logComm H': (0.9020157442973985, 0.7172572942076849),\n",
       "  'logFor H': (0.8364246401710256, 0.6990238020045747),\n",
       "  'logHeat H': (0.8830234232691822, 0.5972366339444901),\n",
       "  'pWalk H': (0.4135881964258329, 0.0710561606704863)},\n",
       " 'polbooks': {'Comm H': (0.6671001164022273, 0.263197978631382),\n",
       "  'FE K': (0.6678853546131895, 0.5664318830794303),\n",
       "  'For H': (0.6362692561792804, 0.5883675575392409),\n",
       "  'Heat H': (0.7304791294095081, 0.6212737504062956),\n",
       "  'RSP K': (0.698711465345225, 0.565303063483302),\n",
       "  'SCCT H': (0.698711465345225, 0.6628865108826183),\n",
       "  'SCT H': (0.6678853546131895, 0.6182302895582324),\n",
       "  'SP-CT H': (0.6678853546131895, 0.6570855909736911),\n",
       "  'Walk H': (0.699399112826267, 0.6710276350653414),\n",
       "  'logComm H': (0.699399112826267, 0.6448715794406303),\n",
       "  'logFor H': (0.6671001164022273, 0.6671001164022272),\n",
       "  'logHeat H': (0.7304791294095081, 0.643620341871008),\n",
       "  'pWalk H': (0.6671001164022273, 0.40155376930439485)},\n",
       " 'zachary': {'Comm H': (1.0, 0.5028202745349224),\n",
       "  'FE K': (1.0, 0.9087106036203098),\n",
       "  'For H': (0.15346310547759165, 0.11655692753805448),\n",
       "  'Heat H': (1.0, 0.2514057811924102),\n",
       "  'RSP K': (1.0, 0.707354480060028),\n",
       "  'SCCT H': (1.0, 0.948896125647405),\n",
       "  'SCT H': (1.0, 0.8527883298802541),\n",
       "  'SP-CT H': (1.0, 0.9802322161605954),\n",
       "  'Walk H': (1.0, 0.9454075842562579),\n",
       "  'logComm H': (1.0, 0.9790471625587859),\n",
       "  'logFor H': (1.0, 1.0),\n",
       "  'logHeat H': (1.0, 0.9860247812576995),\n",
       "  'pWalk H': (1.0, 0.4502925900232357)}}"
      ]
     },
     "execution_count": 13,
     "metadata": {},
     "output_type": "execute_result"
    }
   ],
   "source": [
    "for result in results:\n",
    "    plt.plot()"
   ]
  },
  {
   "cell_type": "code",
   "execution_count": null,
   "metadata": {},
   "outputs": [],
   "source": []
  }
 ],
 "metadata": {
  "kernelspec": {
   "display_name": "Python 3",
   "language": "python",
   "name": "python3"
  },
  "language_info": {
   "codemirror_mode": {
    "name": "ipython",
    "version": 3
   },
   "file_extension": ".py",
   "mimetype": "text/x-python",
   "name": "python",
   "nbconvert_exporter": "python",
   "pygments_lexer": "ipython3",
   "version": "3.5.2"
  }
 },
 "nbformat": 4,
 "nbformat_minor": 2
}
